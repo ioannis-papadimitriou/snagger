{
  "nbformat": 4,
  "nbformat_minor": 0,
  "metadata": {
    "colab": {
      "name": "Cifar10.ipynb",
      "provenance": [],
      "collapsed_sections": [],
      "toc_visible": true
    },
    "kernelspec": {
      "name": "python3",
      "display_name": "Python 3"
    },
    "accelerator": "GPU"
  },
  "cells": [
    {
      "cell_type": "markdown",
      "metadata": {
        "colab_type": "text",
        "id": "DSPCom-KmApV"
      },
      "source": [
        "# CIFAR10 image classification"
      ]
    },
    {
      "cell_type": "markdown",
      "metadata": {
        "colab_type": "text",
        "id": "m7KBpffWzlxH"
      },
      "source": [
        "### Import libraries"
      ]
    },
    {
      "cell_type": "code",
      "metadata": {
        "id": "tYP5wMqlA-6W",
        "colab_type": "code",
        "outputId": "cb43df8e-0318-40dd-d154-5f4bb53686f8",
        "colab": {
          "base_uri": "https://localhost:8080/",
          "height": 105
        }
      },
      "source": [
        "from __future__ import absolute_import, division, print_function, unicode_literals\n",
        "\n",
        "try:\n",
        "  # %tensorflow_version only exists in Colab.\n",
        "  %tensorflow_version 2.x\n",
        "except Exception:\n",
        "  pass\n",
        "import tensorflow as tf\n",
        "\n",
        "import os\n",
        "from tensorflow.keras import datasets, layers, models\n",
        "from keras.datasets import cifar10\n",
        "from keras.models import Sequential, Model\n",
        "from keras.layers import Dense, Dropout, Activation, Flatten\n",
        "from keras.layers import Conv2D, MaxPooling2D, BatchNormalization\n",
        "from keras import optimizers\n",
        "import numpy as np\n",
        "from keras.layers.core import Lambda\n",
        "from keras import backend as K\n",
        "from keras import regularizers\n",
        "import matplotlib.pyplot as plt\n",
        "from sklearn import metrics\n",
        "from sklearn.externals import joblib\n",
        "from sklearn.model_selection import GridSearchCV\n",
        "from sklearn.svm import SVC\n",
        "from sklearn.decomposition import PCA"
      ],
      "execution_count": 1,
      "outputs": [
        {
          "output_type": "stream",
          "text": [
            "TensorFlow 2.x selected.\n"
          ],
          "name": "stdout"
        },
        {
          "output_type": "stream",
          "text": [
            "Using TensorFlow backend.\n",
            "/usr/local/lib/python3.6/dist-packages/sklearn/externals/joblib/__init__.py:15: DeprecationWarning: sklearn.externals.joblib is deprecated in 0.21 and will be removed in 0.23. Please import this functionality directly from joblib, which can be installed with: pip install joblib. If this warning is raised when loading pickled models, you may need to re-serialize those models with scikit-learn 0.21+.\n",
            "  warnings.warn(msg, category=DeprecationWarning)\n"
          ],
          "name": "stderr"
        }
      ]
    },
    {
      "cell_type": "markdown",
      "metadata": {
        "colab_type": "text",
        "id": "Lz2j3J6tBLhy"
      },
      "source": [
        "### Configure paths"
      ]
    },
    {
      "cell_type": "code",
      "metadata": {
        "id": "EOnNoxu9Kj6_",
        "colab_type": "code",
        "outputId": "c1f4e111-3667-406d-d1c9-af938b16a3a9",
        "colab": {
          "base_uri": "https://localhost:8080/",
          "height": 122
        }
      },
      "source": [
        "from google.colab import drive\n",
        "drive.mount('/content/drive')\n",
        "\n",
        "path = './drive/My Drive/cifar'"
      ],
      "execution_count": 2,
      "outputs": [
        {
          "output_type": "stream",
          "text": [
            "Go to this URL in a browser: https://accounts.google.com/o/oauth2/auth?client_id=947318989803-6bn6qk8qdgf4n4g3pfee6491hc0brc4i.apps.googleusercontent.com&redirect_uri=urn%3aietf%3awg%3aoauth%3a2.0%3aoob&response_type=code&scope=email%20https%3a%2f%2fwww.googleapis.com%2fauth%2fdocs.test%20https%3a%2f%2fwww.googleapis.com%2fauth%2fdrive%20https%3a%2f%2fwww.googleapis.com%2fauth%2fdrive.photos.readonly%20https%3a%2f%2fwww.googleapis.com%2fauth%2fpeopleapi.readonly\n",
            "\n",
            "Enter your authorization code:\n",
            "··········\n",
            "Mounted at /content/drive\n"
          ],
          "name": "stdout"
        }
      ]
    },
    {
      "cell_type": "markdown",
      "metadata": {
        "colab_type": "text",
        "id": "jRFxccghyMVo"
      },
      "source": [
        "### Download the CIFAR10 dataset"
      ]
    },
    {
      "cell_type": "code",
      "metadata": {
        "id": "zSOO-PRDDRXZ",
        "colab_type": "code",
        "colab": {
          "base_uri": "https://localhost:8080/",
          "height": 51
        },
        "outputId": "d47c1340-1859-4af7-c34f-3bef6be204cb"
      },
      "source": [
        "(train_images, train_labels), (test_images, test_labels) = datasets.cifar10.load_data()\n",
        "\n",
        "filename = os.path.join(path, 'classifier.sav')"
      ],
      "execution_count": 3,
      "outputs": [
        {
          "output_type": "stream",
          "text": [
            "Downloading data from https://www.cs.toronto.edu/~kriz/cifar-10-python.tar.gz\n",
            "170500096/170498071 [==============================] - 4s 0us/step\n"
          ],
          "name": "stdout"
        }
      ]
    },
    {
      "cell_type": "markdown",
      "metadata": {
        "colab_type": "text",
        "id": "WovGKtzYFCdr"
      },
      "source": [
        "### Dimensionality Reduction"
      ]
    },
    {
      "cell_type": "code",
      "metadata": {
        "id": "Lm5qwntMFaRd",
        "colab_type": "code",
        "outputId": "79934597-c8c0-4030-b1fe-dad622b28b3c",
        "colab": {
          "base_uri": "https://localhost:8080/",
          "height": 85
        }
      },
      "source": [
        "print('Training data and target sizes: \\n{}, {}'.format(train_images.shape,train_labels.shape))\n",
        "print('Test data and target sizes: \\n{}, {}'.format(test_images.shape,test_labels.shape))"
      ],
      "execution_count": 4,
      "outputs": [
        {
          "output_type": "stream",
          "text": [
            "Training data and target sizes: \n",
            "(50000, 32, 32, 3), (50000, 1)\n",
            "Test data and target sizes: \n",
            "(10000, 32, 32, 3), (10000, 1)\n"
          ],
          "name": "stdout"
        }
      ]
    },
    {
      "cell_type": "code",
      "metadata": {
        "id": "Oq7aIoyGLiHJ",
        "colab_type": "code",
        "colab": {}
      },
      "source": [
        "#Process the images to get an array\n",
        "\n",
        "X_train = []\n",
        "X_test = []\n",
        "for img in train_images:\n",
        "  img=(img.flatten())              \n",
        "  X_train.append(np.array(img))\n",
        "for img in test_images:\n",
        "  img=(img.flatten())              \n",
        "  X_test.append(np.array(img))\n",
        "X_train = np.array(X_train)\n",
        "X_test = np.array(X_test)\n",
        "y_train = np.squeeze(train_labels[:50000, :])\n",
        "y_test = np.squeeze(test_labels[:10000, :])"
      ],
      "execution_count": 0,
      "outputs": []
    },
    {
      "cell_type": "code",
      "metadata": {
        "id": "LKPFZzS-NgYc",
        "colab_type": "code",
        "outputId": "37b56319-846a-4677-89c6-2c6f529ceb04",
        "colab": {
          "base_uri": "https://localhost:8080/",
          "height": 85
        }
      },
      "source": [
        "print('Training data and target sizes: \\n{}, {}'.format(X_train.shape,y_train.shape))\n",
        "print('Test data and target sizes: \\n{}, {}'.format(X_test.shape,y_test.shape))"
      ],
      "execution_count": 0,
      "outputs": [
        {
          "output_type": "stream",
          "text": [
            "Training data and target sizes: \n",
            "(50000, 3072), (50000,)\n",
            "Test data and target sizes: \n",
            "(10000, 3072), (10000,)\n"
          ],
          "name": "stdout"
        }
      ]
    },
    {
      "cell_type": "code",
      "metadata": {
        "id": "Pa2ukTi_jBzC",
        "colab_type": "code",
        "colab": {}
      },
      "source": [
        "combined=np.vstack((X_train,X_test))"
      ],
      "execution_count": 0,
      "outputs": []
    },
    {
      "cell_type": "code",
      "metadata": {
        "id": "t69HdynDJOu7",
        "colab_type": "code",
        "outputId": "cd392a36-e50d-42cd-add8-c2cdc6002cf0",
        "colab": {
          "base_uri": "https://localhost:8080/",
          "height": 279
        }
      },
      "source": [
        "combined=np.vstack((X_train,X_test))\n",
        "pca = PCA().fit(combined)\n",
        "plt.plot(np.cumsum(pca.explained_variance_ratio_))\n",
        "plt.xlabel('number of components')\n",
        "plt.ylabel('cumulative explained variance');"
      ],
      "execution_count": 0,
      "outputs": [
        {
          "output_type": "display_data",
          "data": {
            "image/png": "[encoded data removed]",
            "text/plain": [
              "<Figure size 432x288 with 1 Axes>"
            ]
          },
          "metadata": {
            "tags": []
          }
        }
      ]
    },
    {
      "cell_type": "code",
      "metadata": {
        "id": "HVtp-KvJKysA",
        "colab_type": "code",
        "outputId": "5df0d31e-ccd8-4cb7-b75b-5d03f8ed02cf",
        "colab": {
          "base_uri": "https://localhost:8080/",
          "height": 170
        }
      },
      "source": [
        "for i in range(50,500,50):\n",
        "  print(pca.explained_variance_ratio_.cumsum()[i])"
      ],
      "execution_count": 0,
      "outputs": [
        {
          "output_type": "stream",
          "text": [
            "0.8446995262214645\n",
            "0.9017396812372269\n",
            "0.9292411425729604\n",
            "0.9460523077975068\n",
            "0.9574793091250795\n",
            "0.9656705623345976\n",
            "0.9718504736434853\n",
            "0.9766505678456937\n",
            "0.9804398483602025\n"
          ],
          "name": "stdout"
        }
      ]
    },
    {
      "cell_type": "code",
      "metadata": {
        "id": "dM5Sgt08Nm9M",
        "colab_type": "code",
        "outputId": "6fdbed54-885d-4834-e6ba-f4cbda42f2a4",
        "colab": {
          "base_uri": "https://localhost:8080/",
          "height": 85
        }
      },
      "source": [
        "pca = PCA(n_components=100)\n",
        "pca.fit(combined)\n",
        "projected = pca.transform(combined)\n",
        "print(pca.explained_variance_.shape)\n",
        "print(pca.components_.shape)\n",
        "print(combined.shape)\n",
        "print(projected.shape)"
      ],
      "execution_count": 0,
      "outputs": [
        {
          "output_type": "stream",
          "text": [
            "(100,)\n",
            "(100, 3072)\n",
            "(60000, 3072)\n",
            "(60000, 100)\n"
          ],
          "name": "stdout"
        }
      ]
    },
    {
      "cell_type": "code",
      "metadata": {
        "id": "yOzuMR8COTLw",
        "colab_type": "code",
        "outputId": "05a198d3-4e99-4e15-ad0d-300d682e307c",
        "colab": {
          "base_uri": "https://localhost:8080/",
          "height": 85
        }
      },
      "source": [
        "X_train_reduced=projected[:10000,:]# 50000\n",
        "y_train_reduced=y_train[:10000]\n",
        "X_test_reduced=projected[50000:51000,:]# 50000:60000\n",
        "y_test_reduced=y_test[:1000]\n",
        "print(X_train_reduced.shape)\n",
        "print(y_train_reduced.shape)\n",
        "print(X_test_reduced.shape)\n",
        "print(y_test_reduced.shape)"
      ],
      "execution_count": 0,
      "outputs": [
        {
          "output_type": "stream",
          "text": [
            "(10000, 100)\n",
            "(10000,)\n",
            "(1000, 100)\n",
            "(1000,)\n"
          ],
          "name": "stdout"
        }
      ]
    },
    {
      "cell_type": "code",
      "metadata": {
        "id": "AC7xkgAvIn9Y",
        "colab_type": "code",
        "colab": {}
      },
      "source": [
        "if os.path.exists(filename):\n",
        "  classifier_model = joblib.load(filename)\n",
        "  run = 'False'\n",
        "  print(\"model loaded successfully\")\n",
        "else:\n",
        "  run = 'True'"
      ],
      "execution_count": 0,
      "outputs": []
    },
    {
      "cell_type": "code",
      "metadata": {
        "id": "WWVW4Rx7GcNc",
        "colab_type": "code",
        "colab": {}
      },
      "source": [
        "param_grid = [\n",
        "  {'C': [1, 5, 10, 50], 'kernel': ['linear']},\n",
        "  {'C': [1, 5, 10, 50], 'gamma': [0.0001, 0.0005, 0.001, 0.005], 'kernel': ['rbf']},\n",
        " ]"
      ],
      "execution_count": 0,
      "outputs": []
    },
    {
      "cell_type": "code",
      "metadata": {
        "id": "T9RR6he1ICOH",
        "colab_type": "code",
        "colab": {}
      },
      "source": [
        "svc = SVC()\n",
        "grid = GridSearchCV(svc, param_grid, verbose = 3, cv = 3)\n",
        "if run == 'True':\n",
        "  grid.fit(X_train_reduced, y_train_reduced)\n",
        "  print(grid.best_params_)"
      ],
      "execution_count": 0,
      "outputs": []
    },
    {
      "cell_type": "code",
      "metadata": {
        "id": "xFUqGGzDGEOv",
        "colab_type": "code",
        "colab": {}
      },
      "source": [
        "classifier = grid.best_estimator_\n",
        "y_pred = classifier.predict(X_test)\n",
        "\n",
        "if run == 'True':\n",
        "  joblib.dump(classifier, filename)\n",
        "  print(\"Classification report for classifier %s:\\n%s\\n\"\n",
        "      % (classifier, metrics.classification_report(X_test, y_pred))\n",
        "else:\n",
        "  result = classifier.score(X_test, y_pred)\n",
        "  print(\"Classification report for classifier %s:\\n%s\\n\"\n",
        "      % (result)"
      ],
      "execution_count": 0,
      "outputs": []
    },
    {
      "cell_type": "code",
      "metadata": {
        "id": "lRHi3WE5GnJ9",
        "colab_type": "code",
        "colab": {}
      },
      "source": [
        "# Making the Confusion Matrix\n",
        "from sklearn.metrics import confusion_matrix\n",
        "cm = confusion_matrix(y_test, y_pred)\n",
        "#print(cm)\n",
        "import seaborn as sn\n",
        "df_cm = pd.DataFrame(cm, range(len(cm)), range(len(cm)))\n",
        "#ax= plt.subplot()\n",
        "#sn.heatmap(df_cm, annot=True, ax = ax)\n",
        "# labels, title and ticks\n",
        "ax.set_xlabel('Predicted labels')\n",
        "ax.set_ylabel('True labels')\n",
        "ax.set_title('Confusion Matrix')\n",
        "\n",
        "# Draw the heatmap with the mask and correct aspect ratio\n",
        "sn.heatmap(C, mask = mask, annot = True, cmap = cmap, vmax = .3, center = 0, square = True, linewidths = .5, cbar_kws = {\"shrink\": .5})\n",
        "# fix for mpl bug that cuts off top/bottom of seaborn viz\n",
        "b, t = plt.ylim() # discover the values for bottom and top\n",
        "b += 0.5 # Add 0.5 to the bottom\n",
        "t -= 0.5 # Subtract 0.5 from the top\n",
        "plt.ylim(b, t) # update the ylim(bottom, top) values\n",
        "plt.show() "
      ],
      "execution_count": 0,
      "outputs": []
    },
    {
      "cell_type": "code",
      "metadata": {
        "id": "T9wnbdu_HCh5",
        "colab_type": "code",
        "colab": {}
      },
      "source": [
        "print(classifier.best_params_)"
      ],
      "execution_count": 0,
      "outputs": []
    },
    {
      "cell_type": "markdown",
      "metadata": {
        "colab_type": "text",
        "id": "AFNa5IyvDTTF"
      },
      "source": [
        "### Dataset preparation"
      ]
    },
    {
      "cell_type": "code",
      "metadata": {
        "id": "VMWh7IB_Bxiy",
        "colab_type": "code",
        "colab": {}
      },
      "source": [
        "# augment training set\n",
        "datagen = tf.compat.v2.keras.preprocessing.image.ImageDataGenerator(rotation_range=15,\n",
        "    shear_range=0.1,\n",
        "    zoom_range=0.2,\n",
        "    horizontal_flip=True,\n",
        "    #vertical_flip = True,\n",
        "    width_shift_range=0.1,\n",
        "    height_shift_range=0.1)\n",
        "for i in range(len(train_images)):\n",
        "  augment = datagen.random_transform(x=train_images[i],seed=i)\n",
        "  train_images[i]=augment\n",
        "\n",
        "# Normalize pixel values to be between 0 and 1\n",
        "  \n",
        "train_images, test_images = train_images/255.0, test_images / 255.0"
      ],
      "execution_count": 0,
      "outputs": []
    },
    {
      "cell_type": "markdown",
      "metadata": {
        "colab_type": "text",
        "id": "7wArwCTJJlUa"
      },
      "source": [
        "### Verify the data\n",
        "\n",
        "To verify that the dataset looks correct, let's plot the first 25 images from the training set and display the class name below each image.\n"
      ]
    },
    {
      "cell_type": "code",
      "metadata": {
        "id": "RG4usdrxCENm",
        "colab_type": "code",
        "outputId": "534f26f3-04e8-4c1b-a82c-cf715b8bad44",
        "colab": {
          "base_uri": "https://localhost:8080/",
          "height": 589
        }
      },
      "source": [
        "class_names = ['airplane', 'automobile', 'bird', 'cat', 'deer',\n",
        "               'dog', 'frog', 'horse', 'ship', 'truck']\n",
        "\n",
        "plt.figure(figsize=(10,10))\n",
        "for i in range(25):\n",
        "    plt.subplot(5,5,i+1)\n",
        "    plt.xticks([])\n",
        "    plt.yticks([])\n",
        "    plt.grid(False)\n",
        "    plt.imshow(train_images[i], cmap=plt.cm.binary)\n",
        "    # The CIFAR labels are arrays, \n",
        "    # which is why we need the extra index\n",
        "    plt.xlabel(class_names[train_labels[i][0]])\n",
        "plt.show()"
      ],
      "execution_count": 0,
      "outputs": [
        {
          "output_type": "display_data",
          "data": {
            "image/png": "[encoded data removed]",
            "text/plain": [
              "<Figure size 720x720 with 25 Axes>"
            ]
          },
          "metadata": {
            "tags": []
          }
        }
      ]
    },
    {
      "cell_type": "markdown",
      "metadata": {
        "colab_type": "text",
        "id": "wxlboF-yCaet"
      },
      "source": [
        "### Build the CNN model\n"
      ]
    },
    {
      "cell_type": "code",
      "metadata": {
        "id": "HaHPDMN5CWJL",
        "colab_type": "code",
        "colab": {}
      },
      "source": [
        "# Build the network of vgg for 10 classes with massive dropout and weight decay as described in this paper: https://arxiv.org/pdf/1409.1556.pdf.\n",
        "num_classes = 10\n",
        "weight_decay = 0.0005\n",
        "x_shape = [32,32,3]\n",
        "\n",
        "model = models.Sequential()\n",
        "model.add(layers.Conv2D(64, (3, 3), activation='relu', padding='same', input_shape=x_shape,kernel_regularizer=regularizers.l2(weight_decay)))\n",
        "model.add(layers.BatchNormalization())\n",
        "model.add(layers.Dropout(0.3))\n",
        "        \n",
        "model.add(layers.Conv2D(64, (3, 3), activation='relu', padding='same',kernel_regularizer=regularizers.l2(weight_decay)))\n",
        "model.add(layers.BatchNormalization())\n",
        "        \n",
        "model.add(layers.MaxPooling2D((2, 2)))\n",
        "        \n",
        "model.add(layers.Conv2D(128, (3, 3), activation='relu', padding='same',kernel_regularizer=regularizers.l2(weight_decay)))\n",
        "model.add(layers.BatchNormalization())\n",
        "model.add(layers.Dropout(0.4))\n",
        "        \n",
        "model.add(layers.Conv2D(128, (3, 3), activation='relu', padding='same',kernel_regularizer=regularizers.l2(weight_decay)))\n",
        "model.add(layers.BatchNormalization())\n",
        "        \n",
        "model.add(layers.MaxPooling2D((2, 2)))\n",
        "\n",
        "model.add(layers.Conv2D(256, (3, 3), activation='relu', padding='same',kernel_regularizer=regularizers.l2(weight_decay)))\n",
        "model.add(tf.compat.v2.keras.layers.BatchNormalization())\n",
        "model.add(layers.Dropout(0.4))\n",
        "\n",
        "model.add(layers.Conv2D(256, (3, 3), activation='relu', padding='same',kernel_regularizer=regularizers.l2(weight_decay)))\n",
        "model.add(layers.BatchNormalization())\n",
        "model.add(layers.Dropout(0.4))\n",
        "\n",
        "model.add(layers.Conv2D(256, (3, 3), activation='relu', padding='same',kernel_regularizer=regularizers.l2(weight_decay)))\n",
        "model.add(layers.BatchNormalization())\n",
        "\n",
        "model.add(layers.MaxPooling2D((2, 2)))\n",
        "\n",
        "model.add(layers.Conv2D(512, (3, 3), activation='relu', padding='same',kernel_regularizer=regularizers.l2(weight_decay)))\n",
        "model.add(layers.BatchNormalization())\n",
        "model.add(layers.Dropout(0.4))\n",
        "\n",
        "model.add(layers.Conv2D(512, (3, 3), activation='relu', padding='same',kernel_regularizer=regularizers.l2(weight_decay)))\n",
        "model.add(layers.BatchNormalization())\n",
        "model.add(layers.Dropout(0.4))\n",
        "\n",
        "model.add(layers.Conv2D(512, (3, 3), activation='relu', padding='same',kernel_regularizer=regularizers.l2(weight_decay)))\n",
        "model.add(layers.BatchNormalization())\n",
        "\n",
        "model.add(layers.MaxPooling2D((2, 2)))\n",
        "\n",
        "model.add(layers.Conv2D(512, (3, 3), activation='relu', padding='same',kernel_regularizer=regularizers.l2(weight_decay)))\n",
        "model.add(layers.BatchNormalization())\n",
        "model.add(layers.Dropout(0.4))\n",
        "\n",
        "model.add(layers.Conv2D(512, (3, 3), activation='relu', padding='same',kernel_regularizer=regularizers.l2(weight_decay)))\n",
        "model.add(layers.BatchNormalization())\n",
        "model.add(layers.Dropout(0.4))\n",
        "\n",
        "model.add(layers.Conv2D(512, (3, 3), activation='relu', padding='same',kernel_regularizer=regularizers.l2(weight_decay)))\n",
        "model.add(layers.BatchNormalization())\n",
        "\n",
        "model.add(layers.MaxPooling2D((2, 2)))\n",
        "model.add(layers.Dropout(0.5))\n",
        "\n",
        "model.add(layers.Flatten())\n",
        "model.add(layers.Dense(512, activation='relu', kernel_regularizer=regularizers.l2(weight_decay)))\n",
        "model.add(layers.BatchNormalization())\n",
        "model.add(layers.Dropout(0.5))\n",
        "model.add(layers.Dense(10, activation='softmax'))"
      ],
      "execution_count": 0,
      "outputs": []
    },
    {
      "cell_type": "markdown",
      "metadata": {
        "colab_type": "text",
        "id": "6akSpJNuC_70"
      },
      "source": [
        "### CNN model architecture\n"
      ]
    },
    {
      "cell_type": "code",
      "metadata": {
        "id": "mrMNWG-CC5vR",
        "colab_type": "code",
        "outputId": "9876f2ee-74b3-4e52-c2bf-1986f5fb07e5",
        "colab": {
          "base_uri": "https://localhost:8080/",
          "height": 1000
        }
      },
      "source": [
        "model.summary()"
      ],
      "execution_count": 0,
      "outputs": [
        {
          "output_type": "stream",
          "text": [
            "Model: \"sequential\"\n",
            "_________________________________________________________________\n",
            "Layer (type)                 Output Shape              Param #   \n",
            "=================================================================\n",
            "conv2d (Conv2D)              (None, 32, 32, 64)        1792      \n",
            "_________________________________________________________________\n",
            "batch_normalization (BatchNo (None, 32, 32, 64)        256       \n",
            "_________________________________________________________________\n",
            "dropout (Dropout)            (None, 32, 32, 64)        0         \n",
            "_________________________________________________________________\n",
            "conv2d_1 (Conv2D)            (None, 32, 32, 64)        36928     \n",
            "_________________________________________________________________\n",
            "batch_normalization_1 (Batch (None, 32, 32, 64)        256       \n",
            "_________________________________________________________________\n",
            "max_pooling2d (MaxPooling2D) (None, 16, 16, 64)        0         \n",
            "_________________________________________________________________\n",
            "conv2d_2 (Conv2D)            (None, 16, 16, 128)       73856     \n",
            "_________________________________________________________________\n",
            "batch_normalization_2 (Batch (None, 16, 16, 128)       512       \n",
            "_________________________________________________________________\n",
            "dropout_1 (Dropout)          (None, 16, 16, 128)       0         \n",
            "_________________________________________________________________\n",
            "conv2d_3 (Conv2D)            (None, 16, 16, 128)       147584    \n",
            "_________________________________________________________________\n",
            "batch_normalization_3 (Batch (None, 16, 16, 128)       512       \n",
            "_________________________________________________________________\n",
            "max_pooling2d_1 (MaxPooling2 (None, 8, 8, 128)         0         \n",
            "_________________________________________________________________\n",
            "conv2d_4 (Conv2D)            (None, 8, 8, 256)         295168    \n",
            "_________________________________________________________________\n",
            "batch_normalization_4 (Batch (None, 8, 8, 256)         1024      \n",
            "_________________________________________________________________\n",
            "dropout_2 (Dropout)          (None, 8, 8, 256)         0         \n",
            "_________________________________________________________________\n",
            "conv2d_5 (Conv2D)            (None, 8, 8, 256)         590080    \n",
            "_________________________________________________________________\n",
            "batch_normalization_5 (Batch (None, 8, 8, 256)         1024      \n",
            "_________________________________________________________________\n",
            "dropout_3 (Dropout)          (None, 8, 8, 256)         0         \n",
            "_________________________________________________________________\n",
            "conv2d_6 (Conv2D)            (None, 8, 8, 256)         590080    \n",
            "_________________________________________________________________\n",
            "batch_normalization_6 (Batch (None, 8, 8, 256)         1024      \n",
            "_________________________________________________________________\n",
            "max_pooling2d_2 (MaxPooling2 (None, 4, 4, 256)         0         \n",
            "_________________________________________________________________\n",
            "conv2d_7 (Conv2D)            (None, 4, 4, 512)         1180160   \n",
            "_________________________________________________________________\n",
            "batch_normalization_7 (Batch (None, 4, 4, 512)         2048      \n",
            "_________________________________________________________________\n",
            "dropout_4 (Dropout)          (None, 4, 4, 512)         0         \n",
            "_________________________________________________________________\n",
            "conv2d_8 (Conv2D)            (None, 4, 4, 512)         2359808   \n",
            "_________________________________________________________________\n",
            "batch_normalization_8 (Batch (None, 4, 4, 512)         2048      \n",
            "_________________________________________________________________\n",
            "dropout_5 (Dropout)          (None, 4, 4, 512)         0         \n",
            "_________________________________________________________________\n",
            "conv2d_9 (Conv2D)            (None, 4, 4, 512)         2359808   \n",
            "_________________________________________________________________\n",
            "batch_normalization_9 (Batch (None, 4, 4, 512)         2048      \n",
            "_________________________________________________________________\n",
            "max_pooling2d_3 (MaxPooling2 (None, 2, 2, 512)         0         \n",
            "_________________________________________________________________\n",
            "conv2d_10 (Conv2D)           (None, 2, 2, 512)         2359808   \n",
            "_________________________________________________________________\n",
            "batch_normalization_10 (Batc (None, 2, 2, 512)         2048      \n",
            "_________________________________________________________________\n",
            "dropout_6 (Dropout)          (None, 2, 2, 512)         0         \n",
            "_________________________________________________________________\n",
            "conv2d_11 (Conv2D)           (None, 2, 2, 512)         2359808   \n",
            "_________________________________________________________________\n",
            "batch_normalization_11 (Batc (None, 2, 2, 512)         2048      \n",
            "_________________________________________________________________\n",
            "dropout_7 (Dropout)          (None, 2, 2, 512)         0         \n",
            "_________________________________________________________________\n",
            "conv2d_12 (Conv2D)           (None, 2, 2, 512)         2359808   \n",
            "_________________________________________________________________\n",
            "batch_normalization_12 (Batc (None, 2, 2, 512)         2048      \n",
            "_________________________________________________________________\n",
            "max_pooling2d_4 (MaxPooling2 (None, 1, 1, 512)         0         \n",
            "_________________________________________________________________\n",
            "dropout_8 (Dropout)          (None, 1, 1, 512)         0         \n",
            "_________________________________________________________________\n",
            "flatten (Flatten)            (None, 512)               0         \n",
            "_________________________________________________________________\n",
            "dense (Dense)                (None, 512)               262656    \n",
            "_________________________________________________________________\n",
            "batch_normalization_13 (Batc (None, 512)               2048      \n",
            "_________________________________________________________________\n",
            "dropout_9 (Dropout)          (None, 512)               0         \n",
            "_________________________________________________________________\n",
            "dense_1 (Dense)              (None, 10)                5130      \n",
            "=================================================================\n",
            "Total params: 15,001,418\n",
            "Trainable params: 14,991,946\n",
            "Non-trainable params: 9,472\n",
            "_________________________________________________________________\n"
          ],
          "name": "stdout"
        }
      ]
    },
    {
      "cell_type": "markdown",
      "metadata": {
        "colab_type": "text",
        "id": "oonmvCdBDewB"
      },
      "source": [
        "### Training parameters and calbacks\n"
      ]
    },
    {
      "cell_type": "code",
      "metadata": {
        "id": "3nDAFAttDmdt",
        "colab_type": "code",
        "outputId": "d60a1fe4-60d1-4935-a993-be72f9c2200f",
        "colab": {
          "base_uri": "https://localhost:8080/",
          "height": 34
        }
      },
      "source": [
        "#training parameters\n",
        "batch_size = 200\n",
        "learning_rate = 0.1\n",
        "lr_decay = 1e-6\n",
        "lr_drop = 20\n",
        "\n",
        "#optimization details\n",
        "sgd = tf.compat.v2.keras.optimizers.SGD(lr=learning_rate, decay=lr_decay, momentum=0.9, nesterov=True)\n",
        "model.compile(loss='sparse_categorical_crossentropy', optimizer=sgd,metrics=['accuracy'])\n",
        "\n",
        "if os.path.exists(os.path.join(path,'weights.hdf5')):\n",
        "  model.load_weights(os.path.join(path,'weights.hdf5'))\n",
        "  maxepochs = 150\n",
        "  print(\"weights loaded successfully\")\n",
        "elif os.path.exists(os.path.join(path,'cifar10.h5')):\n",
        "  model.load_weights(os.path.join(path,'cifar10.h5'))\n",
        "  maxepochs = 1\n",
        "  print(\"model loaded successfully\")\n",
        "else: \n",
        "  print (\"Nothing to upload\")\n",
        "  maxepochs = 150\n",
        "\n",
        "#callbacks\n",
        "checkpointer = tf.keras.callbacks.ModelCheckpoint(filepath = os.path.join(path,'weights.hdf5'), verbose = 0, save_best_only = True)\n",
        "\n",
        "def lr_scheduler(epoch):\n",
        "  return learning_rate * (0.5 ** (epoch // lr_drop))\n",
        "reduce_lr = tf.keras.callbacks.LearningRateScheduler(lr_scheduler)"
      ],
      "execution_count": 0,
      "outputs": [
        {
          "output_type": "stream",
          "text": [
            "weights loaded successfully\n"
          ],
          "name": "stdout"
        }
      ]
    },
    {
      "cell_type": "markdown",
      "metadata": {
        "colab_type": "text",
        "id": "3J9Prrb_D2wV"
      },
      "source": [
        "### Compile and train\n"
      ]
    },
    {
      "cell_type": "code",
      "metadata": {
        "id": "hjrD3_G0D61r",
        "colab_type": "code",
        "outputId": "49a42d30-fa00-4dbc-820d-45bb0b37a01e",
        "colab": {
          "base_uri": "https://localhost:8080/",
          "height": 1000
        }
      },
      "source": [
        "history = model.fit(train_images, train_labels,batch_size=batch_size, \n",
        "                            steps_per_epoch=len(train_images) // batch_size,\n",
        "                            epochs=maxepochs, validation_steps = len(test_images)// batch_size,\n",
        "                            validation_data=(test_images, test_labels),callbacks=[reduce_lr, checkpointer],verbose=2)\n",
        "\n",
        "model.save_weights(os.path.join(path,'cifar10.h5'))"
      ],
      "execution_count": 0,
      "outputs": [
        {
          "output_type": "stream",
          "text": [
            "Train on 50000 samples, validate on 10000 samples\n",
            "Epoch 1/150\n",
            "50000/50000 - 20s - loss: 2.2523 - accuracy: 0.5093 - val_loss: 2.0941 - val_accuracy: 0.5236\n",
            "Epoch 2/150\n",
            "50000/50000 - 16s - loss: 1.8411 - accuracy: 0.5994 - val_loss: 2.1522 - val_accuracy: 0.5069\n",
            "Epoch 3/150\n",
            "50000/50000 - 17s - loss: 1.6291 - accuracy: 0.6553 - val_loss: 1.5262 - val_accuracy: 0.6809\n",
            "Epoch 4/150\n",
            "50000/50000 - 16s - loss: 1.5202 - accuracy: 0.6874 - val_loss: 1.7761 - val_accuracy: 0.6250\n",
            "Epoch 5/150\n",
            "50000/50000 - 17s - loss: 1.4684 - accuracy: 0.7084 - val_loss: 1.3355 - val_accuracy: 0.7564\n",
            "Epoch 6/150\n",
            "50000/50000 - 16s - loss: 1.4510 - accuracy: 0.7212 - val_loss: 1.4588 - val_accuracy: 0.7268\n",
            "Epoch 7/150\n",
            "50000/50000 - 16s - loss: 1.4399 - accuracy: 0.7309 - val_loss: 1.4908 - val_accuracy: 0.7258\n",
            "Epoch 8/150\n",
            "50000/50000 - 16s - loss: 1.4410 - accuracy: 0.7404 - val_loss: 1.4486 - val_accuracy: 0.7395\n",
            "Epoch 9/150\n",
            "50000/50000 - 16s - loss: 1.4252 - accuracy: 0.7516 - val_loss: 1.5216 - val_accuracy: 0.7315\n",
            "Epoch 10/150\n",
            "50000/50000 - 16s - loss: 1.4415 - accuracy: 0.7552 - val_loss: 1.5316 - val_accuracy: 0.7346\n",
            "Epoch 11/150\n",
            "50000/50000 - 16s - loss: 1.4474 - accuracy: 0.7610 - val_loss: 1.5355 - val_accuracy: 0.7384\n",
            "Epoch 12/150\n",
            "50000/50000 - 16s - loss: 1.4578 - accuracy: 0.7625 - val_loss: 1.6523 - val_accuracy: 0.6964\n",
            "Epoch 13/150\n",
            "50000/50000 - 16s - loss: 1.4515 - accuracy: 0.7678 - val_loss: 1.5304 - val_accuracy: 0.7461\n",
            "Epoch 14/150\n",
            "50000/50000 - 16s - loss: 1.4625 - accuracy: 0.7720 - val_loss: 1.5625 - val_accuracy: 0.7442\n",
            "Epoch 15/150\n",
            "50000/50000 - 16s - loss: 1.4766 - accuracy: 0.7723 - val_loss: 1.6248 - val_accuracy: 0.7336\n",
            "Epoch 16/150\n",
            "50000/50000 - 16s - loss: 1.4736 - accuracy: 0.7763 - val_loss: 1.8152 - val_accuracy: 0.6958\n",
            "Epoch 17/150\n",
            "50000/50000 - 16s - loss: 1.4748 - accuracy: 0.7794 - val_loss: 1.4894 - val_accuracy: 0.7791\n",
            "Epoch 18/150\n",
            "50000/50000 - 16s - loss: 1.4807 - accuracy: 0.7817 - val_loss: 1.6793 - val_accuracy: 0.7258\n",
            "Epoch 19/150\n",
            "50000/50000 - 16s - loss: 1.4855 - accuracy: 0.7812 - val_loss: 1.5686 - val_accuracy: 0.7641\n",
            "Epoch 20/150\n",
            "50000/50000 - 16s - loss: 1.4925 - accuracy: 0.7820 - val_loss: 1.4241 - val_accuracy: 0.8038\n",
            "Epoch 21/150\n",
            "50000/50000 - 17s - loss: 1.3114 - accuracy: 0.8282 - val_loss: 1.3241 - val_accuracy: 0.8094\n",
            "Epoch 22/150\n",
            "50000/50000 - 17s - loss: 1.2047 - accuracy: 0.8414 - val_loss: 1.2027 - val_accuracy: 0.8365\n",
            "Epoch 23/150\n",
            "50000/50000 - 16s - loss: 1.1740 - accuracy: 0.8403 - val_loss: 1.2537 - val_accuracy: 0.8166\n",
            "Epoch 24/150\n",
            "50000/50000 - 16s - loss: 1.1580 - accuracy: 0.8435 - val_loss: 1.2272 - val_accuracy: 0.8288\n",
            "Epoch 25/150\n",
            "50000/50000 - 16s - loss: 1.1645 - accuracy: 0.8406 - val_loss: 1.2983 - val_accuracy: 0.8021\n",
            "Epoch 26/150\n",
            "50000/50000 - 16s - loss: 1.1682 - accuracy: 0.8431 - val_loss: 1.2235 - val_accuracy: 0.8290\n",
            "Epoch 27/150\n",
            "50000/50000 - 16s - loss: 1.1715 - accuracy: 0.8423 - val_loss: 1.2643 - val_accuracy: 0.8196\n",
            "Epoch 28/150\n",
            "50000/50000 - 16s - loss: 1.1775 - accuracy: 0.8459 - val_loss: 1.3461 - val_accuracy: 0.8014\n",
            "Epoch 29/150\n",
            "50000/50000 - 16s - loss: 1.1810 - accuracy: 0.8465 - val_loss: 1.2831 - val_accuracy: 0.8190\n",
            "Epoch 30/150\n",
            "50000/50000 - 16s - loss: 1.1905 - accuracy: 0.8460 - val_loss: 1.4061 - val_accuracy: 0.7890\n",
            "Epoch 31/150\n",
            "50000/50000 - 16s - loss: 1.1944 - accuracy: 0.8463 - val_loss: 1.3052 - val_accuracy: 0.8198\n",
            "Epoch 32/150\n",
            "50000/50000 - 16s - loss: 1.1965 - accuracy: 0.8495 - val_loss: 1.3443 - val_accuracy: 0.8129\n",
            "Epoch 33/150\n",
            "50000/50000 - 16s - loss: 1.2133 - accuracy: 0.8489 - val_loss: 1.2876 - val_accuracy: 0.8308\n",
            "Epoch 34/150\n",
            "50000/50000 - 16s - loss: 1.2169 - accuracy: 0.8480 - val_loss: 1.4882 - val_accuracy: 0.7729\n",
            "Epoch 35/150\n",
            "50000/50000 - 16s - loss: 1.2184 - accuracy: 0.8518 - val_loss: 1.3488 - val_accuracy: 0.8265\n",
            "Epoch 36/150\n",
            "50000/50000 - 16s - loss: 1.2177 - accuracy: 0.8517 - val_loss: 1.5899 - val_accuracy: 0.7497\n",
            "Epoch 37/150\n",
            "50000/50000 - 16s - loss: 1.2316 - accuracy: 0.8500 - val_loss: 1.3447 - val_accuracy: 0.8241\n",
            "Epoch 38/150\n",
            "50000/50000 - 16s - loss: 1.2240 - accuracy: 0.8532 - val_loss: 1.3109 - val_accuracy: 0.8254\n",
            "Epoch 39/150\n",
            "50000/50000 - 16s - loss: 1.2246 - accuracy: 0.8551 - val_loss: 1.4355 - val_accuracy: 0.7963\n",
            "Epoch 40/150\n",
            "50000/50000 - 16s - loss: 1.2336 - accuracy: 0.8539 - val_loss: 1.4103 - val_accuracy: 0.8128\n",
            "Epoch 41/150\n",
            "50000/50000 - 17s - loss: 1.0980 - accuracy: 0.8928 - val_loss: 1.1958 - val_accuracy: 0.8645\n",
            "Epoch 42/150\n",
            "50000/50000 - 17s - loss: 1.0119 - accuracy: 0.9093 - val_loss: 1.1941 - val_accuracy: 0.8546\n",
            "Epoch 43/150\n",
            "50000/50000 - 17s - loss: 0.9761 - accuracy: 0.9089 - val_loss: 1.1279 - val_accuracy: 0.8648\n",
            "Epoch 44/150\n",
            "50000/50000 - 16s - loss: 0.9514 - accuracy: 0.9112 - val_loss: 1.1765 - val_accuracy: 0.8532\n",
            "Epoch 45/150\n",
            "50000/50000 - 16s - loss: 0.9358 - accuracy: 0.9127 - val_loss: 1.1367 - val_accuracy: 0.8584\n",
            "Epoch 46/150\n",
            "50000/50000 - 16s - loss: 0.9376 - accuracy: 0.9077 - val_loss: 1.1698 - val_accuracy: 0.8444\n",
            "Epoch 47/150\n",
            "50000/50000 - 17s - loss: 0.9245 - accuracy: 0.9094 - val_loss: 1.1121 - val_accuracy: 0.8591\n",
            "Epoch 48/150\n",
            "50000/50000 - 17s - loss: 0.9230 - accuracy: 0.9108 - val_loss: 1.1011 - val_accuracy: 0.8656\n",
            "Epoch 49/150\n",
            "50000/50000 - 16s - loss: 0.9175 - accuracy: 0.9117 - val_loss: 1.1896 - val_accuracy: 0.8393\n",
            "Epoch 50/150\n",
            "50000/50000 - 16s - loss: 0.9275 - accuracy: 0.9086 - val_loss: 1.1970 - val_accuracy: 0.8447\n",
            "Epoch 51/150\n",
            "50000/50000 - 16s - loss: 0.9275 - accuracy: 0.9095 - val_loss: 1.1630 - val_accuracy: 0.8476\n",
            "Epoch 52/150\n",
            "50000/50000 - 16s - loss: 0.9353 - accuracy: 0.9094 - val_loss: 1.2241 - val_accuracy: 0.8363\n",
            "Epoch 53/150\n",
            "50000/50000 - 16s - loss: 0.9324 - accuracy: 0.9098 - val_loss: 1.2701 - val_accuracy: 0.8222\n",
            "Epoch 54/150\n",
            "50000/50000 - 16s - loss: 0.9302 - accuracy: 0.9120 - val_loss: 1.1712 - val_accuracy: 0.8499\n",
            "Epoch 55/150\n",
            "50000/50000 - 16s - loss: 0.9336 - accuracy: 0.9104 - val_loss: 1.1565 - val_accuracy: 0.8558\n",
            "Epoch 56/150\n",
            "50000/50000 - 16s - loss: 0.9277 - accuracy: 0.9147 - val_loss: 1.2583 - val_accuracy: 0.8330\n",
            "Epoch 57/150\n",
            "50000/50000 - 16s - loss: 0.9416 - accuracy: 0.9104 - val_loss: 1.1951 - val_accuracy: 0.8478\n",
            "Epoch 58/150\n",
            "50000/50000 - 16s - loss: 0.9362 - accuracy: 0.9127 - val_loss: 1.1986 - val_accuracy: 0.8457\n",
            "Epoch 59/150\n",
            "50000/50000 - 16s - loss: 0.9358 - accuracy: 0.9140 - val_loss: 1.1675 - val_accuracy: 0.8519\n",
            "Epoch 60/150\n",
            "50000/50000 - 16s - loss: 0.9390 - accuracy: 0.9142 - val_loss: 1.1909 - val_accuracy: 0.8512\n",
            "Epoch 61/150\n",
            "50000/50000 - 16s - loss: 0.8495 - accuracy: 0.9404 - val_loss: 1.1159 - val_accuracy: 0.8763\n",
            "Epoch 62/150\n",
            "50000/50000 - 16s - loss: 0.7865 - accuracy: 0.9539 - val_loss: 1.1195 - val_accuracy: 0.8715\n",
            "Epoch 63/150\n",
            "50000/50000 - 16s - loss: 0.7603 - accuracy: 0.9563 - val_loss: 1.1105 - val_accuracy: 0.8737\n",
            "Epoch 64/150\n",
            "50000/50000 - 16s - loss: 0.7429 - accuracy: 0.9572 - val_loss: 1.1012 - val_accuracy: 0.8711\n",
            "Epoch 65/150\n",
            "50000/50000 - 17s - loss: 0.7264 - accuracy: 0.9570 - val_loss: 1.0926 - val_accuracy: 0.8691\n",
            "Epoch 66/150\n",
            "50000/50000 - 16s - loss: 0.7105 - accuracy: 0.9581 - val_loss: 1.1499 - val_accuracy: 0.8570\n",
            "Epoch 67/150\n",
            "50000/50000 - 16s - loss: 0.7010 - accuracy: 0.9583 - val_loss: 1.0931 - val_accuracy: 0.8650\n",
            "Epoch 68/150\n",
            "50000/50000 - 17s - loss: 0.6944 - accuracy: 0.9560 - val_loss: 1.0814 - val_accuracy: 0.8644\n",
            "Epoch 69/150\n",
            "50000/50000 - 16s - loss: 0.6828 - accuracy: 0.9573 - val_loss: 1.1602 - val_accuracy: 0.8490\n",
            "Epoch 70/150\n",
            "50000/50000 - 17s - loss: 0.6775 - accuracy: 0.9554 - val_loss: 1.0616 - val_accuracy: 0.8626\n",
            "Epoch 71/150\n",
            "50000/50000 - 17s - loss: 0.6708 - accuracy: 0.9564 - val_loss: 1.0435 - val_accuracy: 0.8699\n",
            "Epoch 72/150\n",
            "50000/50000 - 17s - loss: 0.6690 - accuracy: 0.9558 - val_loss: 1.0312 - val_accuracy: 0.8674\n",
            "Epoch 73/150\n",
            "50000/50000 - 16s - loss: 0.6705 - accuracy: 0.9530 - val_loss: 1.0767 - val_accuracy: 0.8576\n",
            "Epoch 74/150\n",
            "50000/50000 - 16s - loss: 0.6654 - accuracy: 0.9535 - val_loss: 1.0433 - val_accuracy: 0.8657\n",
            "Epoch 75/150\n",
            "50000/50000 - 16s - loss: 0.6602 - accuracy: 0.9546 - val_loss: 1.1831 - val_accuracy: 0.8312\n",
            "Epoch 76/150\n",
            "50000/50000 - 17s - loss: 0.6653 - accuracy: 0.9505 - val_loss: 0.9986 - val_accuracy: 0.8734\n",
            "Epoch 77/150\n",
            "50000/50000 - 16s - loss: 0.6568 - accuracy: 0.9541 - val_loss: 1.0338 - val_accuracy: 0.8634\n",
            "Epoch 78/150\n",
            "50000/50000 - 16s - loss: 0.6557 - accuracy: 0.9531 - val_loss: 1.0690 - val_accuracy: 0.8577\n",
            "Epoch 79/150\n",
            "50000/50000 - 16s - loss: 0.6558 - accuracy: 0.9534 - val_loss: 1.0037 - val_accuracy: 0.8762\n",
            "Epoch 80/150\n",
            "50000/50000 - 16s - loss: 0.6546 - accuracy: 0.9542 - val_loss: 1.0613 - val_accuracy: 0.8617\n",
            "Epoch 81/150\n",
            "50000/50000 - 16s - loss: 0.6081 - accuracy: 0.9678 - val_loss: 1.0094 - val_accuracy: 0.8755\n",
            "Epoch 82/150\n",
            "50000/50000 - 16s - loss: 0.5692 - accuracy: 0.9772 - val_loss: 1.0002 - val_accuracy: 0.8774\n",
            "Epoch 83/150\n",
            "50000/50000 - 16s - loss: 0.5532 - accuracy: 0.9793 - val_loss: 1.0533 - val_accuracy: 0.8662\n",
            "Epoch 84/150\n",
            "50000/50000 - 16s - loss: 0.5454 - accuracy: 0.9783 - val_loss: 1.0019 - val_accuracy: 0.8775\n",
            "Epoch 85/150\n",
            "50000/50000 - 16s - loss: 0.5305 - accuracy: 0.9805 - val_loss: 1.0227 - val_accuracy: 0.8731\n",
            "Epoch 86/150\n",
            "50000/50000 - 17s - loss: 0.5220 - accuracy: 0.9795 - val_loss: 0.9802 - val_accuracy: 0.8771\n",
            "Epoch 87/150\n",
            "50000/50000 - 16s - loss: 0.5153 - accuracy: 0.9799 - val_loss: 1.0093 - val_accuracy: 0.8746\n",
            "Epoch 88/150\n",
            "50000/50000 - 17s - loss: 0.5050 - accuracy: 0.9813 - val_loss: 0.9648 - val_accuracy: 0.8848\n",
            "Epoch 89/150\n",
            "50000/50000 - 17s - loss: 0.4972 - accuracy: 0.9807 - val_loss: 0.9639 - val_accuracy: 0.8816\n",
            "Epoch 90/150\n",
            "50000/50000 - 17s - loss: 0.4933 - accuracy: 0.9798 - val_loss: 0.9569 - val_accuracy: 0.8817\n",
            "Epoch 91/150\n",
            "50000/50000 - 16s - loss: 0.4821 - accuracy: 0.9821 - val_loss: 0.9873 - val_accuracy: 0.8747\n",
            "Epoch 92/150\n",
            "50000/50000 - 16s - loss: 0.4790 - accuracy: 0.9796 - val_loss: 0.9590 - val_accuracy: 0.8782\n",
            "Epoch 93/150\n",
            "50000/50000 - 16s - loss: 0.4751 - accuracy: 0.9806 - val_loss: 0.9957 - val_accuracy: 0.8686\n",
            "Epoch 94/150\n",
            "50000/50000 - 16s - loss: 0.4696 - accuracy: 0.9796 - val_loss: 0.9739 - val_accuracy: 0.8739\n",
            "Epoch 95/150\n",
            "50000/50000 - 16s - loss: 0.4647 - accuracy: 0.9798 - val_loss: 0.9869 - val_accuracy: 0.8746\n",
            "Epoch 96/150\n",
            "50000/50000 - 16s - loss: 0.4611 - accuracy: 0.9796 - val_loss: 1.0250 - val_accuracy: 0.8636\n",
            "Epoch 97/150\n",
            "50000/50000 - 16s - loss: 0.4601 - accuracy: 0.9774 - val_loss: 1.0515 - val_accuracy: 0.8610\n",
            "Epoch 98/150\n",
            "50000/50000 - 16s - loss: 0.4543 - accuracy: 0.9784 - val_loss: 0.9723 - val_accuracy: 0.8679\n",
            "Epoch 99/150\n",
            "50000/50000 - 17s - loss: 0.4511 - accuracy: 0.9782 - val_loss: 0.9232 - val_accuracy: 0.8763\n",
            "Epoch 100/150\n",
            "50000/50000 - 17s - loss: 0.4469 - accuracy: 0.9784 - val_loss: 0.9163 - val_accuracy: 0.8780\n",
            "Epoch 101/150\n",
            "50000/50000 - 16s - loss: 0.4285 - accuracy: 0.9843 - val_loss: 0.9382 - val_accuracy: 0.8779\n",
            "Epoch 102/150\n",
            "50000/50000 - 16s - loss: 0.4118 - accuracy: 0.9883 - val_loss: 0.9265 - val_accuracy: 0.8806\n",
            "Epoch 103/150\n",
            "50000/50000 - 16s - loss: 0.4022 - accuracy: 0.9891 - val_loss: 0.9203 - val_accuracy: 0.8834\n",
            "Epoch 104/150\n",
            "50000/50000 - 16s - loss: 0.3970 - accuracy: 0.9896 - val_loss: 0.9206 - val_accuracy: 0.8824\n",
            "Epoch 105/150\n",
            "50000/50000 - 16s - loss: 0.3891 - accuracy: 0.9910 - val_loss: 0.9303 - val_accuracy: 0.8813\n",
            "Epoch 106/150\n",
            "50000/50000 - 16s - loss: 0.3844 - accuracy: 0.9912 - val_loss: 0.9204 - val_accuracy: 0.8822\n",
            "Epoch 107/150\n",
            "50000/50000 - 16s - loss: 0.3810 - accuracy: 0.9909 - val_loss: 0.9776 - val_accuracy: 0.8757\n",
            "Epoch 108/150\n",
            "50000/50000 - 17s - loss: 0.3761 - accuracy: 0.9909 - val_loss: 0.9142 - val_accuracy: 0.8839\n",
            "Epoch 109/150\n",
            "50000/50000 - 16s - loss: 0.3711 - accuracy: 0.9909 - val_loss: 0.9450 - val_accuracy: 0.8802\n",
            "Epoch 110/150\n",
            "50000/50000 - 16s - loss: 0.3690 - accuracy: 0.9909 - val_loss: 0.9327 - val_accuracy: 0.8825\n",
            "Epoch 111/150\n",
            "50000/50000 - 16s - loss: 0.3685 - accuracy: 0.9900 - val_loss: 0.9195 - val_accuracy: 0.8839\n",
            "Epoch 112/150\n",
            "50000/50000 - 16s - loss: 0.3607 - accuracy: 0.9909 - val_loss: 0.9437 - val_accuracy: 0.8796\n",
            "Epoch 113/150\n",
            "50000/50000 - 16s - loss: 0.3554 - accuracy: 0.9914 - val_loss: 0.9529 - val_accuracy: 0.8761\n",
            "Epoch 114/150\n",
            "50000/50000 - 16s - loss: 0.3542 - accuracy: 0.9909 - val_loss: 0.9725 - val_accuracy: 0.8730\n",
            "Epoch 115/150\n",
            "50000/50000 - 16s - loss: 0.3489 - accuracy: 0.9916 - val_loss: 0.9516 - val_accuracy: 0.8767\n",
            "Epoch 116/150\n",
            "50000/50000 - 16s - loss: 0.3462 - accuracy: 0.9910 - val_loss: 0.9300 - val_accuracy: 0.8782\n",
            "Epoch 117/150\n",
            "50000/50000 - 17s - loss: 0.3429 - accuracy: 0.9910 - val_loss: 0.9004 - val_accuracy: 0.8853\n",
            "Epoch 118/150\n",
            "50000/50000 - 16s - loss: 0.3403 - accuracy: 0.9910 - val_loss: 0.9619 - val_accuracy: 0.8723\n",
            "Epoch 119/150\n",
            "50000/50000 - 16s - loss: 0.3376 - accuracy: 0.9907 - val_loss: 0.9367 - val_accuracy: 0.8791\n",
            "Epoch 120/150\n",
            "50000/50000 - 16s - loss: 0.3324 - accuracy: 0.9915 - val_loss: 0.9129 - val_accuracy: 0.8824\n",
            "Epoch 121/150\n",
            "50000/50000 - 17s - loss: 0.3262 - accuracy: 0.9927 - val_loss: 0.8987 - val_accuracy: 0.8850\n",
            "Epoch 122/150\n",
            "50000/50000 - 17s - loss: 0.3216 - accuracy: 0.9936 - val_loss: 0.8913 - val_accuracy: 0.8872\n",
            "Epoch 123/150\n",
            "50000/50000 - 16s - loss: 0.3176 - accuracy: 0.9943 - val_loss: 0.9112 - val_accuracy: 0.8828\n",
            "Epoch 124/150\n",
            "50000/50000 - 17s - loss: 0.3148 - accuracy: 0.9948 - val_loss: 0.8870 - val_accuracy: 0.8856\n",
            "Epoch 125/150\n",
            "50000/50000 - 16s - loss: 0.3123 - accuracy: 0.9948 - val_loss: 0.9023 - val_accuracy: 0.8838\n",
            "Epoch 126/150\n",
            "50000/50000 - 17s - loss: 0.3085 - accuracy: 0.9952 - val_loss: 0.8857 - val_accuracy: 0.8889\n",
            "Epoch 127/150\n",
            "50000/50000 - 16s - loss: 0.3056 - accuracy: 0.9959 - val_loss: 0.8923 - val_accuracy: 0.8859\n",
            "Epoch 128/150\n",
            "50000/50000 - 16s - loss: 0.3057 - accuracy: 0.9949 - val_loss: 0.9104 - val_accuracy: 0.8857\n",
            "Epoch 129/150\n",
            "50000/50000 - 18s - loss: 0.3050 - accuracy: 0.9949 - val_loss: 0.8823 - val_accuracy: 0.8896\n",
            "Epoch 130/150\n",
            "50000/50000 - 16s - loss: 0.3004 - accuracy: 0.9954 - val_loss: 0.9140 - val_accuracy: 0.8859\n",
            "Epoch 131/150\n",
            "50000/50000 - 17s - loss: 0.3003 - accuracy: 0.9952 - val_loss: 0.8791 - val_accuracy: 0.8872\n",
            "Epoch 132/150\n",
            "50000/50000 - 16s - loss: 0.2964 - accuracy: 0.9955 - val_loss: 0.8974 - val_accuracy: 0.8858\n",
            "Epoch 133/150\n",
            "50000/50000 - 16s - loss: 0.2938 - accuracy: 0.9958 - val_loss: 0.9049 - val_accuracy: 0.8844\n",
            "Epoch 134/150\n",
            "50000/50000 - 16s - loss: 0.2923 - accuracy: 0.9956 - val_loss: 0.8894 - val_accuracy: 0.8845\n",
            "Epoch 135/150\n",
            "50000/50000 - 16s - loss: 0.2882 - accuracy: 0.9962 - val_loss: 0.8850 - val_accuracy: 0.8855\n",
            "Epoch 136/150\n",
            "50000/50000 - 16s - loss: 0.2888 - accuracy: 0.9956 - val_loss: 0.9083 - val_accuracy: 0.8827\n",
            "Epoch 137/150\n",
            "50000/50000 - 16s - loss: 0.2858 - accuracy: 0.9962 - val_loss: 0.8957 - val_accuracy: 0.8856\n",
            "Epoch 138/150\n",
            "50000/50000 - 16s - loss: 0.2839 - accuracy: 0.9961 - val_loss: 0.8919 - val_accuracy: 0.8839\n",
            "Epoch 139/150\n",
            "50000/50000 - 17s - loss: 0.2816 - accuracy: 0.9959 - val_loss: 0.8745 - val_accuracy: 0.8876\n",
            "Epoch 140/150\n",
            "50000/50000 - 16s - loss: 0.2780 - accuracy: 0.9971 - val_loss: 0.8782 - val_accuracy: 0.8874\n",
            "Epoch 141/150\n",
            "50000/50000 - 16s - loss: 0.2768 - accuracy: 0.9967 - val_loss: 0.8873 - val_accuracy: 0.8866\n",
            "Epoch 142/150\n",
            "50000/50000 - 19s - loss: 0.2755 - accuracy: 0.9970 - val_loss: 0.8743 - val_accuracy: 0.8866\n",
            "Epoch 143/150\n",
            "50000/50000 - 16s - loss: 0.2744 - accuracy: 0.9971 - val_loss: 0.8986 - val_accuracy: 0.8870\n",
            "Epoch 144/150\n",
            "50000/50000 - 16s - loss: 0.2729 - accuracy: 0.9969 - val_loss: 0.8947 - val_accuracy: 0.8861\n",
            "Epoch 145/150\n",
            "50000/50000 - 16s - loss: 0.2730 - accuracy: 0.9969 - val_loss: 0.9080 - val_accuracy: 0.8856\n",
            "Epoch 146/150\n",
            "50000/50000 - 16s - loss: 0.2704 - accuracy: 0.9973 - val_loss: 0.8782 - val_accuracy: 0.8889\n",
            "Epoch 147/150\n",
            "50000/50000 - 16s - loss: 0.2700 - accuracy: 0.9969 - val_loss: 0.8829 - val_accuracy: 0.8869\n",
            "Epoch 148/150\n",
            "50000/50000 - 16s - loss: 0.2683 - accuracy: 0.9973 - val_loss: 0.8913 - val_accuracy: 0.8856\n",
            "Epoch 149/150\n",
            "50000/50000 - 16s - loss: 0.2672 - accuracy: 0.9974 - val_loss: 0.8811 - val_accuracy: 0.8882\n",
            "Epoch 150/150\n",
            "50000/50000 - 16s - loss: 0.2668 - accuracy: 0.9971 - val_loss: 0.8782 - val_accuracy: 0.8882\n"
          ],
          "name": "stdout"
        }
      ]
    },
    {
      "cell_type": "markdown",
      "metadata": {
        "colab_type": "text",
        "id": "h6joUQqRE3R0"
      },
      "source": [
        "### Evaluation\n"
      ]
    },
    {
      "cell_type": "code",
      "metadata": {
        "id": "UssZFCNIE5dh",
        "colab_type": "code",
        "outputId": "bd95436a-7680-428d-ed21-b5c47b48e384",
        "colab": {
          "base_uri": "https://localhost:8080/",
          "height": 300
        }
      },
      "source": [
        "plt.plot(history.history['accuracy'], label='accuracy')\n",
        "plt.plot(history.history['val_accuracy'], label = 'val_accuracy')\n",
        "plt.xlabel('Epoch')\n",
        "plt.ylabel('Accuracy')\n",
        "plt.ylim([0.5, 1])\n",
        "plt.legend(loc='lower right')\n",
        "\n",
        "test_loss, test_acc = model.evaluate(test_images,  test_labels, verbose=2)"
      ],
      "execution_count": 0,
      "outputs": [
        {
          "output_type": "stream",
          "text": [
            "10000/1 - 3s - loss: 0.9069 - accuracy: 0.8882\n"
          ],
          "name": "stdout"
        },
        {
          "output_type": "display_data",
          "data": {
            "image/png": "[encoded data removed]",
            "text/plain": [
              "<Figure size 432x288 with 1 Axes>"
            ]
          },
          "metadata": {
            "tags": []
          }
        }
      ]
    },
    {
      "cell_type": "code",
      "metadata": {
        "id": "0EscEdK2E8r2",
        "colab_type": "code",
        "outputId": "b528e79e-e5eb-47ce-a8ee-0a5e28b5603a",
        "colab": {
          "base_uri": "https://localhost:8080/",
          "height": 34
        }
      },
      "source": [
        "model.load_weights(os.path.join(path,'weights.hdf5'))\n",
        "print(test_acc)"
      ],
      "execution_count": 0,
      "outputs": [
        {
          "output_type": "stream",
          "text": [
            "0.8882\n"
          ],
          "name": "stdout"
        }
      ]
    },
    {
      "cell_type": "markdown",
      "metadata": {
        "colab_type": "text",
        "id": "7fANud4ISZHB"
      },
      "source": [
        "### ANN\n"
      ]
    },
    {
      "cell_type": "code",
      "metadata": {
        "id": "N5k6pYJmVU_1",
        "colab_type": "code",
        "outputId": "20abb973-7b20-40bc-ea44-06eafe0fea2c",
        "colab": {
          "base_uri": "https://localhost:8080/",
          "height": 85
        }
      },
      "source": [
        "# Let's use the dimensionality reduced dataset\n",
        "\n",
        "X_train_ANN = projected[:50000,:]\n",
        "y_train_ANN = y_train#.reshape(-1,1)\n",
        "X_test_ANN = projected[50000:60000,:]\n",
        "y_test_ANN = y_test#.reshape(-1,1)\n",
        "print(X_train_ANN.shape)\n",
        "print(y_train_ANN.shape)\n",
        "print(X_test_ANN.shape)\n",
        "print(y_test_ANN.shape)"
      ],
      "execution_count": 0,
      "outputs": [
        {
          "output_type": "stream",
          "text": [
            "(50000, 100)\n",
            "(50000,)\n",
            "(10000, 100)\n",
            "(10000,)\n"
          ],
          "name": "stdout"
        }
      ]
    },
    {
      "cell_type": "code",
      "metadata": {
        "id": "Z9B5K7gjDuGI",
        "colab_type": "code",
        "colab": {}
      },
      "source": [
        "# Feature Scaling \n",
        "from sklearn.preprocessing import StandardScaler, MinMaxScaler\n",
        "sc = MinMaxScaler(feature_range=(0,1))\n",
        "X_train_ANN = sc.fit_transform(X_train_ANN)\n",
        "X_test_ANN = sc.transform(X_test_ANN)"
      ],
      "execution_count": 0,
      "outputs": []
    },
    {
      "cell_type": "code",
      "metadata": {
        "id": "aYycubpzDwT3",
        "colab_type": "code",
        "colab": {}
      },
      "source": [
        "num_classes = 10\n",
        "weight_decay = 0.00001\n",
        "batch_size = 200\n",
        "learning_rate = 0.05\n",
        "lr_decay = 1e-6\n",
        "lr_drop = 20"
      ],
      "execution_count": 0,
      "outputs": []
    },
    {
      "cell_type": "code",
      "metadata": {
        "id": "il0V4ejYDyht",
        "colab_type": "code",
        "colab": {}
      },
      "source": [
        "ann = models.Sequential()\n",
        "\n",
        "ann.add(layers.Dense(256, activation = 'relu', kernel_regularizer=regularizers.l2(weight_decay), input_dim = X_train_ANN.shape[1]))\n",
        "ann.add(layers.BatchNormalization())\n",
        "ann.add(layers.Dropout(0.2))\n",
        "\n",
        "ann.add(layers.Dense(512, activation = 'relu', kernel_regularizer=regularizers.l2(weight_decay)))\n",
        "ann.add(layers.BatchNormalization())\n",
        "ann.add(layers.Dropout(0.3))\n",
        "\n",
        "ann.add(layers.Dense(1024, activation = 'relu', kernel_regularizer=regularizers.l2(weight_decay)))\n",
        "ann.add(layers.BatchNormalization())\n",
        "ann.add(layers.Dropout(0.4))\n",
        "\n",
        "ann.add(layers.Dense(512, activation = 'relu', kernel_regularizer=regularizers.l2(weight_decay)))\n",
        "ann.add(layers.BatchNormalization())\n",
        "ann.add(layers.Dropout(0.3))\n",
        "\n",
        "ann.add(layers.Dense(256, activation = 'relu', kernel_regularizer=regularizers.l2(weight_decay)))\n",
        "ann.add(layers.BatchNormalization())\n",
        "ann.add(layers.Dropout(0.2))\n",
        "\n",
        "ann.add(layers.Dense(128, activation = 'relu', kernel_regularizer=regularizers.l2(weight_decay)))\n",
        "ann.add(layers.BatchNormalization())\n",
        "ann.add(layers.Dropout(0.1))\n",
        "\n",
        "ann.add(layers.Dense(64, activation = 'relu', kernel_regularizer=regularizers.l2(weight_decay)))\n",
        "ann.add(layers.BatchNormalization())\n",
        "#ann.add(layers.Dropout(0.1))\n",
        "\n",
        "ann.add(layers.Dense(32, activation = 'relu', kernel_regularizer=regularizers.l2(weight_decay)))\n",
        "ann.add(layers.BatchNormalization())\n",
        "#ann.add(layers.Dropout(0.1))\n",
        "\n",
        "ann.add(layers.Dense(16, activation = 'relu', kernel_regularizer=regularizers.l2(weight_decay)))\n",
        "\n",
        "ann.add(layers.Dense(num_classes, activation = 'softmax', name='output_layer'))"
      ],
      "execution_count": 0,
      "outputs": []
    },
    {
      "cell_type": "code",
      "metadata": {
        "id": "iVONd_V2D05O",
        "colab_type": "code",
        "colab": {}
      },
      "source": [
        "sgd = tf.compat.v2.keras.optimizers.SGD(lr=learning_rate, decay=lr_decay, momentum=0.9, nesterov=True)\n",
        "ann.compile(loss='sparse_categorical_crossentropy', optimizer=sgd,metrics=['accuracy'])"
      ],
      "execution_count": 0,
      "outputs": []
    },
    {
      "cell_type": "code",
      "metadata": {
        "id": "hXLJR2FCD2n8",
        "colab_type": "code",
        "outputId": "bd897389-8ca5-4b87-b668-4b982c5d108a",
        "colab": {
          "base_uri": "https://localhost:8080/",
          "height": 969
        }
      },
      "source": [
        "ann.summary()"
      ],
      "execution_count": 0,
      "outputs": [
        {
          "output_type": "stream",
          "text": [
            "Model: \"sequential_6\"\n",
            "_________________________________________________________________\n",
            "Layer (type)                 Output Shape              Param #   \n",
            "=================================================================\n",
            "dense_77 (Dense)             (None, 256)               25856     \n",
            "_________________________________________________________________\n",
            "batch_normalization_49 (Batc (None, 256)               1024      \n",
            "_________________________________________________________________\n",
            "dropout_57 (Dropout)         (None, 256)               0         \n",
            "_________________________________________________________________\n",
            "dense_78 (Dense)             (None, 512)               131584    \n",
            "_________________________________________________________________\n",
            "batch_normalization_50 (Batc (None, 512)               2048      \n",
            "_________________________________________________________________\n",
            "dropout_58 (Dropout)         (None, 512)               0         \n",
            "_________________________________________________________________\n",
            "dense_79 (Dense)             (None, 1024)              525312    \n",
            "_________________________________________________________________\n",
            "batch_normalization_51 (Batc (None, 1024)              4096      \n",
            "_________________________________________________________________\n",
            "dropout_59 (Dropout)         (None, 1024)              0         \n",
            "_________________________________________________________________\n",
            "dense_80 (Dense)             (None, 512)               524800    \n",
            "_________________________________________________________________\n",
            "batch_normalization_52 (Batc (None, 512)               2048      \n",
            "_________________________________________________________________\n",
            "dropout_60 (Dropout)         (None, 512)               0         \n",
            "_________________________________________________________________\n",
            "dense_81 (Dense)             (None, 256)               131328    \n",
            "_________________________________________________________________\n",
            "batch_normalization_53 (Batc (None, 256)               1024      \n",
            "_________________________________________________________________\n",
            "dropout_61 (Dropout)         (None, 256)               0         \n",
            "_________________________________________________________________\n",
            "dense_82 (Dense)             (None, 128)               32896     \n",
            "_________________________________________________________________\n",
            "batch_normalization_54 (Batc (None, 128)               512       \n",
            "_________________________________________________________________\n",
            "dropout_62 (Dropout)         (None, 128)               0         \n",
            "_________________________________________________________________\n",
            "dense_83 (Dense)             (None, 64)                8256      \n",
            "_________________________________________________________________\n",
            "batch_normalization_55 (Batc (None, 64)                256       \n",
            "_________________________________________________________________\n",
            "dense_84 (Dense)             (None, 32)                2080      \n",
            "_________________________________________________________________\n",
            "batch_normalization_56 (Batc (None, 32)                128       \n",
            "_________________________________________________________________\n",
            "dense_85 (Dense)             (None, 16)                528       \n",
            "_________________________________________________________________\n",
            "output_layer (Dense)         (None, 10)                170       \n",
            "=================================================================\n",
            "Total params: 1,393,946\n",
            "Trainable params: 1,388,378\n",
            "Non-trainable params: 5,568\n",
            "_________________________________________________________________\n"
          ],
          "name": "stdout"
        }
      ]
    },
    {
      "cell_type": "code",
      "metadata": {
        "id": "boNF9n5gIc6C",
        "colab_type": "code",
        "colab": {}
      },
      "source": [
        "def lr_scheduler(epoch):\n",
        "  return learning_rate * (0.5 ** (epoch // lr_drop))\n",
        "reduce_lr = tf.keras.callbacks.LearningRateScheduler(lr_scheduler)"
      ],
      "execution_count": 0,
      "outputs": []
    },
    {
      "cell_type": "code",
      "metadata": {
        "id": "6chqv4C9D4H7",
        "colab_type": "code",
        "outputId": "14afe45a-1630-4135-a035-fb78a63bef04",
        "colab": {
          "base_uri": "https://localhost:8080/",
          "height": 51
        }
      },
      "source": [
        "# Fitting the ANN to the Training set\n",
        "if os.path.exists(os.path.join(path,'ann_reduced.h5')):\n",
        "  ann.load_weights(os.path.join(path,'ann_reduced.h5'))\n",
        "  maxepochs = 0\n",
        "  print(\"model loaded successfully\")\n",
        "else: \n",
        "  print (\"Nothing to load\")\n",
        "  maxepochs = 100\n",
        "\n",
        "ann_history = ann.fit(X_train_ANN, y_train_ANN,batch_size = batch_size, \n",
        "                            steps_per_epoch = X_train_ANN.shape[0] // batch_size,\n",
        "                            epochs = maxepochs, validation_steps = X_test_ANN.shape[0] // batch_size,\n",
        "                            validation_data=(X_test_ANN, y_test_ANN),callbacks=[reduce_lr],verbose=2)"
      ],
      "execution_count": 0,
      "outputs": [
        {
          "output_type": "stream",
          "text": [
            "model loaded successfully\n",
            "Train on 50000 samples, validate on 10000 samples\n"
          ],
          "name": "stdout"
        }
      ]
    },
    {
      "cell_type": "code",
      "metadata": {
        "id": "dbB4lEjMGNs6",
        "colab_type": "code",
        "colab": {}
      },
      "source": [
        "ann.save_weights(os.path.join(path,'ann_reduced.h5'))"
      ],
      "execution_count": 0,
      "outputs": []
    },
    {
      "cell_type": "code",
      "metadata": {
        "id": "7wcRPSFDR7Eh",
        "colab_type": "code",
        "outputId": "b90b56a6-8af5-45bd-a8ea-21d6caecfac7",
        "colab": {
          "base_uri": "https://localhost:8080/",
          "height": 34
        }
      },
      "source": [
        "test_loss, test_acc = ann.evaluate(X_test_ANN,  y_test_ANN, verbose=2)"
      ],
      "execution_count": 0,
      "outputs": [
        {
          "output_type": "stream",
          "text": [
            "10000/1 - 2s - loss: 1.1411 - accuracy: 0.5979\n"
          ],
          "name": "stdout"
        }
      ]
    },
    {
      "cell_type": "markdown",
      "metadata": {
        "colab_type": "text",
        "id": "Xuk9N2sJSc_P"
      },
      "source": [
        "### Downsampling\n"
      ]
    },
    {
      "cell_type": "code",
      "metadata": {
        "id": "JWMR0Fl6PbtG",
        "colab_type": "code",
        "outputId": "3c1437ac-46ae-472d-851e-2e3af4d4dd56",
        "colab": {
          "base_uri": "https://localhost:8080/",
          "height": 85
        }
      },
      "source": [
        "data = np.vstack((train_images, test_images))\n",
        "labels = np.vstack((train_labels, test_labels))\n",
        "\n",
        "images = []\n",
        "for img in data:\n",
        "  img=(img.flatten())              \n",
        "  images.append(np.array(img))\n",
        "\n",
        "from sklearn.model_selection import train_test_split\n",
        "\n",
        "xTrain, xTest, yTrain, yTest = train_test_split(images, labels, test_size = 10000, random_state = 42)\n",
        "xTrain = np.array(xTrain)\n",
        "xTest = np.array(xTest)\n",
        "yTrain = np.squeeze(yTrain[:50000, :])\n",
        "yTest = np.squeeze(yTest[:10000, :])\n",
        "print(xTrain.shape)\n",
        "print(yTrain.shape)\n",
        "print(xTest.shape)\n",
        "print(yTest.shape)"
      ],
      "execution_count": 35,
      "outputs": [
        {
          "output_type": "stream",
          "text": [
            "(50000, 3072)\n",
            "(50000,)\n",
            "(10000, 3072)\n",
            "(10000,)\n"
          ],
          "name": "stdout"
        }
      ]
    },
    {
      "cell_type": "code",
      "metadata": {
        "id": "GmcpOtKNS988",
        "colab_type": "code",
        "colab": {}
      },
      "source": [
        "num_classes = 10\n",
        "weight_decay = 0.0000#1\n",
        "batch_size = 200\n",
        "learning_rate = 0.001\n",
        "lr_decay = 1e-6\n",
        "lr_drop = 20"
      ],
      "execution_count": 0,
      "outputs": []
    },
    {
      "cell_type": "code",
      "metadata": {
        "id": "XgAlZh3XS-rC",
        "colab_type": "code",
        "colab": {}
      },
      "source": [
        "from sklearn.preprocessing import StandardScaler, MinMaxScaler\n",
        "sc = MinMaxScaler(feature_range=(0,1))\n",
        "xTrain = sc.fit_transform(xTrain)\n",
        "xTest = sc.transform(xTest)"
      ],
      "execution_count": 0,
      "outputs": []
    },
    {
      "cell_type": "code",
      "metadata": {
        "id": "lUarcSdbQ0pP",
        "colab_type": "code",
        "colab": {}
      },
      "source": [
        "ds = models.Sequential()\n",
        "\n",
        "ds.add(layers.Dense(512, activation = 'relu', kernel_regularizer=regularizers.l2(weight_decay), input_dim = xTrain.shape[1]))\n",
        "ds.add(layers.BatchNormalization())\n",
        "ds.add(layers.Dropout(0.2))\n",
        "\"\"\"\n",
        "ds.add(layers.Dense(1024, activation = 'relu', kernel_regularizer=regularizers.l2(weight_decay)))\n",
        "ds.add(layers.BatchNormalization())\n",
        "ds.add(layers.Dropout(0.4))\n",
        "\n",
        "ds.add(layers.Dense(512, activation = 'relu', kernel_regularizer=regularizers.l2(weight_decay)))\n",
        "ds.add(layers.BatchNormalization())\n",
        "ds.add(layers.Dropout(0.3))\n",
        "\"\"\"\n",
        "ds.add(layers.Dense(256, activation = 'relu', kernel_regularizer=regularizers.l2(weight_decay)))\n",
        "ds.add(layers.BatchNormalization())\n",
        "ds.add(layers.Dropout(0.2))\n",
        "\n",
        "ds.add(layers.Dense(128, activation = 'relu', kernel_regularizer=regularizers.l2(weight_decay)))\n",
        "ds.add(layers.BatchNormalization())\n",
        "ds.add(layers.Dropout(0.1))\n",
        "\n",
        "ds.add(layers.Dense(64, activation = 'relu', kernel_regularizer=regularizers.l2(weight_decay), name = 'bottleneck'))\n",
        "\n",
        "ds.add(layers.Dense(num_classes, activation = 'softmax', name='output_layer'))\n",
        "\n",
        "sgd = tf.compat.v2.keras.optimizers.SGD(lr=learning_rate, decay=lr_decay, momentum=0.9, nesterov=True)\n",
        "ds.compile(loss='sparse_categorical_crossentropy', optimizer='adam',metrics=['accuracy'])\n",
        "\n",
        "\"\"\"\n",
        "ann = models.Sequential()\n",
        "\n",
        "ann.add(layers.Dense(256, activation = 'relu', kernel_regularizer=regularizers.l2(weight_decay), input_dim = X_train_ANN.shape[1]))\n",
        "ann.add(layers.BatchNormalization())\n",
        "ann.add(layers.Dropout(0.2))\n",
        "\n",
        "ann.add(layers.Dense(512, activation = 'relu', kernel_regularizer=regularizers.l2(weight_decay)))\n",
        "ann.add(layers.BatchNormalization())\n",
        "ann.add(layers.Dropout(0.3))\n",
        "\n",
        "ann.add(layers.Dense(1024, activation = 'relu', kernel_regularizer=regularizers.l2(weight_decay)))\n",
        "ann.add(layers.BatchNormalization())\n",
        "ann.add(layers.Dropout(0.4))\n",
        "\n",
        "ann.add(layers.Dense(512, activation = 'relu', kernel_regularizer=regularizers.l2(weight_decay)))\n",
        "ann.add(layers.BatchNormalization())\n",
        "ann.add(layers.Dropout(0.3))\n",
        "\n",
        "ann.add(layers.Dense(256, activation = 'relu', kernel_regularizer=regularizers.l2(weight_decay)))\n",
        "ann.add(layers.BatchNormalization())\n",
        "ann.add(layers.Dropout(0.2))\n",
        "\n",
        "ann.add(layers.Dense(128, activation = 'relu', kernel_regularizer=regularizers.l2(weight_decay)))\n",
        "ann.add(layers.BatchNormalization())\n",
        "ann.add(layers.Dropout(0.1))\n",
        "\n",
        "ann.add(layers.Dense(64, activation = 'relu', kernel_regularizer=regularizers.l2(weight_decay)))\n",
        "ann.add(layers.BatchNormalization())\n",
        "#ann.add(layers.Dropout(0.1))\n",
        "\n",
        "ann.add(layers.Dense(32, activation = 'relu', kernel_regularizer=regularizers.l2(weight_decay)))\n",
        "ann.add(layers.BatchNormalization())\n",
        "#ann.add(layers.Dropout(0.1))\n",
        "\n",
        "ann.add(layers.Dense(16, activation = 'relu', kernel_regularizer=regularizers.l2(weight_decay)))\n",
        "\n",
        "ann.add(layers.Dense(num_classes, activation = 'softmax', name='output_layer'))\n",
        "\"\"\""
      ],
      "execution_count": 0,
      "outputs": []
    },
    {
      "cell_type": "code",
      "metadata": {
        "id": "u6Mb72zuTdXd",
        "colab_type": "code",
        "outputId": "81d95bf3-a2f9-4d0d-a444-347ab7cee15a",
        "colab": {
          "base_uri": "https://localhost:8080/",
          "height": 527
        }
      },
      "source": [
        "ds.summary()"
      ],
      "execution_count": 47,
      "outputs": [
        {
          "output_type": "stream",
          "text": [
            "Model: \"sequential_9\"\n",
            "_________________________________________________________________\n",
            "Layer (type)                 Output Shape              Param #   \n",
            "=================================================================\n",
            "dense_23 (Dense)             (None, 512)               1573376   \n",
            "_________________________________________________________________\n",
            "batch_normalization_23 (Batc (None, 512)               2048      \n",
            "_________________________________________________________________\n",
            "dropout_23 (Dropout)         (None, 512)               0         \n",
            "_________________________________________________________________\n",
            "dense_24 (Dense)             (None, 256)               131328    \n",
            "_________________________________________________________________\n",
            "batch_normalization_24 (Batc (None, 256)               1024      \n",
            "_________________________________________________________________\n",
            "dropout_24 (Dropout)         (None, 256)               0         \n",
            "_________________________________________________________________\n",
            "dense_25 (Dense)             (None, 128)               32896     \n",
            "_________________________________________________________________\n",
            "batch_normalization_25 (Batc (None, 128)               512       \n",
            "_________________________________________________________________\n",
            "dropout_25 (Dropout)         (None, 128)               0         \n",
            "_________________________________________________________________\n",
            "bottleneck (Dense)           (None, 64)                8256      \n",
            "_________________________________________________________________\n",
            "output_layer (Dense)         (None, 10)                650       \n",
            "=================================================================\n",
            "Total params: 1,750,090\n",
            "Trainable params: 1,748,298\n",
            "Non-trainable params: 1,792\n",
            "_________________________________________________________________\n"
          ],
          "name": "stdout"
        }
      ]
    },
    {
      "cell_type": "code",
      "metadata": {
        "id": "zr0CAXZUTjb8",
        "colab_type": "code",
        "outputId": "3eda307c-7419-43e7-def3-12f84dd0ba55",
        "colab": {
          "base_uri": "https://localhost:8080/",
          "height": 1000
        }
      },
      "source": [
        "# Fitting the ANN to the Training set\n",
        "if os.path.exists(os.path.join(path,'ds.h5')):\n",
        "  #ds.load_weights(os.path.join(path,'ds.h5'))\n",
        "  maxepochs = 200\n",
        "  print(\"model loaded successfully\")\n",
        "else: \n",
        "  print (\"Nothing to load\")\n",
        "  maxepochs = 50\n",
        "\n",
        "ds_history = ds.fit(xTrain, yTrain,batch_size = batch_size, \n",
        "                            steps_per_epoch = xTrain.shape[0] // batch_size,\n",
        "                            epochs = maxepochs, validation_steps = xTest.shape[0] // batch_size,\n",
        "                            validation_data=(xTest, yTest),callbacks=[reduce_lr],verbose=2)"
      ],
      "execution_count": 61,
      "outputs": [
        {
          "output_type": "stream",
          "text": [
            "model loaded successfully\n",
            "Train on 50000 samples, validate on 10000 samples\n",
            "Epoch 1/200\n",
            "50000/50000 - 1s - loss: 1.1068 - accuracy: 0.6039 - val_loss: 1.6542 - val_accuracy: 0.5228\n",
            "Epoch 2/200\n",
            "50000/50000 - 1s - loss: 1.1110 - accuracy: 0.6017 - val_loss: 1.6700 - val_accuracy: 0.5004\n",
            "Epoch 3/200\n",
            "50000/50000 - 1s - loss: 1.1201 - accuracy: 0.5985 - val_loss: 1.6764 - val_accuracy: 0.5205\n",
            "Epoch 4/200\n",
            "50000/50000 - 1s - loss: 1.1139 - accuracy: 0.6022 - val_loss: 1.7859 - val_accuracy: 0.4780\n",
            "Epoch 5/200\n",
            "50000/50000 - 1s - loss: 1.1248 - accuracy: 0.5998 - val_loss: 1.6335 - val_accuracy: 0.4954\n",
            "Epoch 6/200\n",
            "50000/50000 - 1s - loss: 1.1189 - accuracy: 0.5988 - val_loss: 1.5753 - val_accuracy: 0.5229\n",
            "Epoch 7/200\n",
            "50000/50000 - 1s - loss: 1.1110 - accuracy: 0.6037 - val_loss: 1.6096 - val_accuracy: 0.5241\n",
            "Epoch 8/200\n",
            "50000/50000 - 1s - loss: 1.1100 - accuracy: 0.6035 - val_loss: 1.5875 - val_accuracy: 0.5155\n",
            "Epoch 9/200\n",
            "50000/50000 - 1s - loss: 1.1167 - accuracy: 0.6010 - val_loss: 1.6209 - val_accuracy: 0.5143\n",
            "Epoch 10/200\n",
            "50000/50000 - 1s - loss: 1.1049 - accuracy: 0.6022 - val_loss: 1.7293 - val_accuracy: 0.4970\n",
            "Epoch 11/200\n",
            "50000/50000 - 1s - loss: 1.1081 - accuracy: 0.6017 - val_loss: 1.6679 - val_accuracy: 0.5142\n",
            "Epoch 12/200\n",
            "50000/50000 - 1s - loss: 1.1084 - accuracy: 0.6046 - val_loss: 1.6493 - val_accuracy: 0.5228\n",
            "Epoch 13/200\n",
            "50000/50000 - 1s - loss: 1.1031 - accuracy: 0.6053 - val_loss: 1.5735 - val_accuracy: 0.5271\n",
            "Epoch 14/200\n",
            "50000/50000 - 1s - loss: 1.1001 - accuracy: 0.6066 - val_loss: 1.5518 - val_accuracy: 0.5371\n",
            "Epoch 15/200\n",
            "50000/50000 - 1s - loss: 1.1080 - accuracy: 0.6028 - val_loss: 1.6377 - val_accuracy: 0.5128\n",
            "Epoch 16/200\n",
            "50000/50000 - 1s - loss: 1.1146 - accuracy: 0.6024 - val_loss: 1.6819 - val_accuracy: 0.5122\n",
            "Epoch 17/200\n",
            "50000/50000 - 1s - loss: 1.0969 - accuracy: 0.6074 - val_loss: 1.6450 - val_accuracy: 0.5127\n",
            "Epoch 18/200\n",
            "50000/50000 - 1s - loss: 1.1123 - accuracy: 0.6023 - val_loss: 1.6025 - val_accuracy: 0.5288\n",
            "Epoch 19/200\n",
            "50000/50000 - 1s - loss: 1.1027 - accuracy: 0.6069 - val_loss: 1.6312 - val_accuracy: 0.5232\n",
            "Epoch 20/200\n",
            "50000/50000 - 1s - loss: 1.0999 - accuracy: 0.6067 - val_loss: 1.7434 - val_accuracy: 0.5189\n",
            "Epoch 21/200\n",
            "50000/50000 - 1s - loss: 1.0605 - accuracy: 0.6216 - val_loss: 1.6308 - val_accuracy: 0.5471\n",
            "Epoch 22/200\n",
            "50000/50000 - 1s - loss: 1.0429 - accuracy: 0.6256 - val_loss: 1.6282 - val_accuracy: 0.5452\n",
            "Epoch 23/200\n",
            "50000/50000 - 1s - loss: 1.0403 - accuracy: 0.6252 - val_loss: 1.6686 - val_accuracy: 0.5321\n",
            "Epoch 24/200\n",
            "50000/50000 - 1s - loss: 1.0353 - accuracy: 0.6311 - val_loss: 1.6223 - val_accuracy: 0.5522\n",
            "Epoch 25/200\n",
            "50000/50000 - 1s - loss: 1.0331 - accuracy: 0.6321 - val_loss: 1.5843 - val_accuracy: 0.5499\n",
            "Epoch 26/200\n",
            "50000/50000 - 1s - loss: 1.0293 - accuracy: 0.6307 - val_loss: 1.5926 - val_accuracy: 0.5537\n",
            "Epoch 27/200\n",
            "50000/50000 - 1s - loss: 1.0255 - accuracy: 0.6319 - val_loss: 1.6172 - val_accuracy: 0.5557\n",
            "Epoch 28/200\n",
            "50000/50000 - 1s - loss: 1.0226 - accuracy: 0.6326 - val_loss: 1.6221 - val_accuracy: 0.5512\n",
            "Epoch 29/200\n",
            "50000/50000 - 1s - loss: 1.0235 - accuracy: 0.6355 - val_loss: 1.6095 - val_accuracy: 0.5507\n",
            "Epoch 30/200\n",
            "50000/50000 - 1s - loss: 1.0168 - accuracy: 0.6358 - val_loss: 1.5804 - val_accuracy: 0.5536\n",
            "Epoch 31/200\n",
            "50000/50000 - 1s - loss: 1.0190 - accuracy: 0.6346 - val_loss: 1.6048 - val_accuracy: 0.5427\n",
            "Epoch 32/200\n",
            "50000/50000 - 1s - loss: 1.0118 - accuracy: 0.6365 - val_loss: 1.6152 - val_accuracy: 0.5511\n",
            "Epoch 33/200\n",
            "50000/50000 - 1s - loss: 1.0138 - accuracy: 0.6353 - val_loss: 1.5853 - val_accuracy: 0.5399\n",
            "Epoch 34/200\n",
            "50000/50000 - 1s - loss: 1.0117 - accuracy: 0.6375 - val_loss: 1.5610 - val_accuracy: 0.5533\n",
            "Epoch 35/200\n",
            "50000/50000 - 1s - loss: 1.0116 - accuracy: 0.6387 - val_loss: 1.6290 - val_accuracy: 0.5384\n",
            "Epoch 36/200\n",
            "50000/50000 - 1s - loss: 1.0081 - accuracy: 0.6409 - val_loss: 1.6268 - val_accuracy: 0.5466\n",
            "Epoch 37/200\n",
            "50000/50000 - 1s - loss: 1.0037 - accuracy: 0.6406 - val_loss: 1.6329 - val_accuracy: 0.5455\n",
            "Epoch 38/200\n",
            "50000/50000 - 1s - loss: 0.9985 - accuracy: 0.6394 - val_loss: 1.5852 - val_accuracy: 0.5503\n",
            "Epoch 39/200\n",
            "50000/50000 - 1s - loss: 1.0000 - accuracy: 0.6418 - val_loss: 1.7088 - val_accuracy: 0.5289\n",
            "Epoch 40/200\n",
            "50000/50000 - 1s - loss: 0.9987 - accuracy: 0.6416 - val_loss: 1.6392 - val_accuracy: 0.5453\n",
            "Epoch 41/200\n",
            "50000/50000 - 1s - loss: 0.9718 - accuracy: 0.6518 - val_loss: 1.5497 - val_accuracy: 0.5618\n",
            "Epoch 42/200\n",
            "50000/50000 - 1s - loss: 0.9653 - accuracy: 0.6541 - val_loss: 1.5401 - val_accuracy: 0.5597\n",
            "Epoch 43/200\n",
            "50000/50000 - 1s - loss: 0.9683 - accuracy: 0.6537 - val_loss: 1.5298 - val_accuracy: 0.5633\n",
            "Epoch 44/200\n",
            "50000/50000 - 1s - loss: 0.9678 - accuracy: 0.6531 - val_loss: 1.5488 - val_accuracy: 0.5611\n",
            "Epoch 45/200\n",
            "50000/50000 - 1s - loss: 0.9633 - accuracy: 0.6551 - val_loss: 1.5435 - val_accuracy: 0.5666\n",
            "Epoch 46/200\n",
            "50000/50000 - 1s - loss: 0.9562 - accuracy: 0.6574 - val_loss: 1.5985 - val_accuracy: 0.5590\n",
            "Epoch 47/200\n",
            "50000/50000 - 1s - loss: 0.9518 - accuracy: 0.6576 - val_loss: 1.5712 - val_accuracy: 0.5601\n",
            "Epoch 48/200\n",
            "50000/50000 - 1s - loss: 0.9604 - accuracy: 0.6535 - val_loss: 1.5846 - val_accuracy: 0.5650\n",
            "Epoch 49/200\n",
            "50000/50000 - 1s - loss: 0.9535 - accuracy: 0.6565 - val_loss: 1.5739 - val_accuracy: 0.5633\n",
            "Epoch 50/200\n",
            "50000/50000 - 1s - loss: 0.9567 - accuracy: 0.6578 - val_loss: 1.6237 - val_accuracy: 0.5613\n",
            "Epoch 51/200\n",
            "50000/50000 - 1s - loss: 0.9516 - accuracy: 0.6598 - val_loss: 1.6217 - val_accuracy: 0.5611\n",
            "Epoch 52/200\n",
            "50000/50000 - 1s - loss: 0.9564 - accuracy: 0.6564 - val_loss: 1.5790 - val_accuracy: 0.5620\n",
            "Epoch 53/200\n",
            "50000/50000 - 1s - loss: 0.9478 - accuracy: 0.6600 - val_loss: 1.5719 - val_accuracy: 0.5562\n",
            "Epoch 54/200\n",
            "50000/50000 - 1s - loss: 0.9498 - accuracy: 0.6600 - val_loss: 1.5634 - val_accuracy: 0.5614\n",
            "Epoch 55/200\n",
            "50000/50000 - 1s - loss: 0.9501 - accuracy: 0.6576 - val_loss: 1.5677 - val_accuracy: 0.5605\n",
            "Epoch 56/200\n",
            "50000/50000 - 1s - loss: 0.9452 - accuracy: 0.6596 - val_loss: 1.6119 - val_accuracy: 0.5588\n",
            "Epoch 57/200\n",
            "50000/50000 - 1s - loss: 0.9380 - accuracy: 0.6621 - val_loss: 1.6173 - val_accuracy: 0.5562\n",
            "Epoch 58/200\n",
            "50000/50000 - 1s - loss: 0.9444 - accuracy: 0.6610 - val_loss: 1.6351 - val_accuracy: 0.5576\n",
            "Epoch 59/200\n",
            "50000/50000 - 1s - loss: 0.9393 - accuracy: 0.6657 - val_loss: 1.6223 - val_accuracy: 0.5613\n",
            "Epoch 60/200\n",
            "50000/50000 - 1s - loss: 0.9411 - accuracy: 0.6627 - val_loss: 1.6107 - val_accuracy: 0.5611\n",
            "Epoch 61/200\n",
            "50000/50000 - 1s - loss: 0.9254 - accuracy: 0.6683 - val_loss: 1.5841 - val_accuracy: 0.5616\n",
            "Epoch 62/200\n",
            "50000/50000 - 1s - loss: 0.9270 - accuracy: 0.6677 - val_loss: 1.6090 - val_accuracy: 0.5658\n",
            "Epoch 63/200\n",
            "50000/50000 - 1s - loss: 0.9234 - accuracy: 0.6679 - val_loss: 1.6152 - val_accuracy: 0.5625\n",
            "Epoch 64/200\n",
            "50000/50000 - 1s - loss: 0.9227 - accuracy: 0.6685 - val_loss: 1.6058 - val_accuracy: 0.5600\n",
            "Epoch 65/200\n",
            "50000/50000 - 1s - loss: 0.9220 - accuracy: 0.6689 - val_loss: 1.6110 - val_accuracy: 0.5642\n",
            "Epoch 66/200\n",
            "50000/50000 - 1s - loss: 0.9169 - accuracy: 0.6707 - val_loss: 1.6169 - val_accuracy: 0.5669\n",
            "Epoch 67/200\n",
            "50000/50000 - 1s - loss: 0.9237 - accuracy: 0.6702 - val_loss: 1.5947 - val_accuracy: 0.5662\n",
            "Epoch 68/200\n",
            "50000/50000 - 1s - loss: 0.9200 - accuracy: 0.6713 - val_loss: 1.6057 - val_accuracy: 0.5640\n",
            "Epoch 69/200\n",
            "50000/50000 - 1s - loss: 0.9229 - accuracy: 0.6705 - val_loss: 1.5919 - val_accuracy: 0.5619\n",
            "Epoch 70/200\n",
            "50000/50000 - 1s - loss: 0.9131 - accuracy: 0.6718 - val_loss: 1.5984 - val_accuracy: 0.5661\n",
            "Epoch 71/200\n",
            "50000/50000 - 1s - loss: 0.9148 - accuracy: 0.6693 - val_loss: 1.5869 - val_accuracy: 0.5656\n",
            "Epoch 72/200\n",
            "50000/50000 - 1s - loss: 0.9209 - accuracy: 0.6708 - val_loss: 1.5911 - val_accuracy: 0.5652\n",
            "Epoch 73/200\n",
            "50000/50000 - 1s - loss: 0.9213 - accuracy: 0.6689 - val_loss: 1.5895 - val_accuracy: 0.5617\n",
            "Epoch 74/200\n",
            "50000/50000 - 1s - loss: 0.9151 - accuracy: 0.6726 - val_loss: 1.6062 - val_accuracy: 0.5635\n",
            "Epoch 75/200\n",
            "50000/50000 - 1s - loss: 0.9137 - accuracy: 0.6697 - val_loss: 1.6094 - val_accuracy: 0.5638\n",
            "Epoch 76/200\n",
            "50000/50000 - 1s - loss: 0.9130 - accuracy: 0.6724 - val_loss: 1.6088 - val_accuracy: 0.5611\n",
            "Epoch 77/200\n",
            "50000/50000 - 1s - loss: 0.9155 - accuracy: 0.6716 - val_loss: 1.6098 - val_accuracy: 0.5635\n",
            "Epoch 78/200\n",
            "50000/50000 - 1s - loss: 0.9117 - accuracy: 0.6728 - val_loss: 1.6275 - val_accuracy: 0.5665\n",
            "Epoch 79/200\n",
            "50000/50000 - 1s - loss: 0.9115 - accuracy: 0.6730 - val_loss: 1.6354 - val_accuracy: 0.5662\n",
            "Epoch 80/200\n",
            "50000/50000 - 1s - loss: 0.9136 - accuracy: 0.6727 - val_loss: 1.6539 - val_accuracy: 0.5642\n",
            "Epoch 81/200\n",
            "50000/50000 - 1s - loss: 0.9076 - accuracy: 0.6730 - val_loss: 1.6357 - val_accuracy: 0.5646\n",
            "Epoch 82/200\n",
            "50000/50000 - 1s - loss: 0.9022 - accuracy: 0.6771 - val_loss: 1.6364 - val_accuracy: 0.5633\n",
            "Epoch 83/200\n",
            "50000/50000 - 1s - loss: 0.9039 - accuracy: 0.6734 - val_loss: 1.6364 - val_accuracy: 0.5674\n",
            "Epoch 84/200\n",
            "50000/50000 - 1s - loss: 0.9056 - accuracy: 0.6745 - val_loss: 1.6258 - val_accuracy: 0.5672\n",
            "Epoch 85/200\n",
            "50000/50000 - 1s - loss: 0.8994 - accuracy: 0.6776 - val_loss: 1.6368 - val_accuracy: 0.5677\n",
            "Epoch 86/200\n",
            "50000/50000 - 1s - loss: 0.9056 - accuracy: 0.6756 - val_loss: 1.6379 - val_accuracy: 0.5671\n",
            "Epoch 87/200\n",
            "50000/50000 - 1s - loss: 0.8963 - accuracy: 0.6780 - val_loss: 1.6283 - val_accuracy: 0.5667\n",
            "Epoch 88/200\n",
            "50000/50000 - 1s - loss: 0.9056 - accuracy: 0.6736 - val_loss: 1.6431 - val_accuracy: 0.5629\n",
            "Epoch 89/200\n",
            "50000/50000 - 1s - loss: 0.9036 - accuracy: 0.6748 - val_loss: 1.6289 - val_accuracy: 0.5655\n",
            "Epoch 90/200\n",
            "50000/50000 - 1s - loss: 0.8958 - accuracy: 0.6758 - val_loss: 1.6325 - val_accuracy: 0.5687\n",
            "Epoch 91/200\n",
            "50000/50000 - 1s - loss: 0.8974 - accuracy: 0.6767 - val_loss: 1.6291 - val_accuracy: 0.5660\n",
            "Epoch 92/200\n",
            "50000/50000 - 1s - loss: 0.9043 - accuracy: 0.6766 - val_loss: 1.6159 - val_accuracy: 0.5646\n",
            "Epoch 93/200\n",
            "50000/50000 - 1s - loss: 0.8957 - accuracy: 0.6786 - val_loss: 1.6183 - val_accuracy: 0.5676\n",
            "Epoch 94/200\n",
            "50000/50000 - 1s - loss: 0.8945 - accuracy: 0.6786 - val_loss: 1.6189 - val_accuracy: 0.5646\n",
            "Epoch 95/200\n",
            "50000/50000 - 1s - loss: 0.8964 - accuracy: 0.6793 - val_loss: 1.6173 - val_accuracy: 0.5644\n",
            "Epoch 96/200\n",
            "50000/50000 - 1s - loss: 0.8946 - accuracy: 0.6788 - val_loss: 1.6091 - val_accuracy: 0.5654\n",
            "Epoch 97/200\n",
            "50000/50000 - 1s - loss: 0.9007 - accuracy: 0.6775 - val_loss: 1.6164 - val_accuracy: 0.5660\n",
            "Epoch 98/200\n",
            "50000/50000 - 1s - loss: 0.8967 - accuracy: 0.6803 - val_loss: 1.6134 - val_accuracy: 0.5675\n",
            "Epoch 99/200\n",
            "50000/50000 - 1s - loss: 0.8918 - accuracy: 0.6792 - val_loss: 1.6117 - val_accuracy: 0.5620\n",
            "Epoch 100/200\n",
            "50000/50000 - 1s - loss: 0.8964 - accuracy: 0.6782 - val_loss: 1.6062 - val_accuracy: 0.5671\n",
            "Epoch 101/200\n",
            "50000/50000 - 1s - loss: 0.8884 - accuracy: 0.6802 - val_loss: 1.6048 - val_accuracy: 0.5649\n",
            "Epoch 102/200\n",
            "50000/50000 - 1s - loss: 0.8939 - accuracy: 0.6784 - val_loss: 1.6083 - val_accuracy: 0.5672\n",
            "Epoch 103/200\n",
            "50000/50000 - 1s - loss: 0.8900 - accuracy: 0.6798 - val_loss: 1.6117 - val_accuracy: 0.5695\n",
            "Epoch 104/200\n",
            "50000/50000 - 1s - loss: 0.8942 - accuracy: 0.6775 - val_loss: 1.6070 - val_accuracy: 0.5666\n",
            "Epoch 105/200\n",
            "50000/50000 - 1s - loss: 0.8920 - accuracy: 0.6789 - val_loss: 1.6139 - val_accuracy: 0.5669\n",
            "Epoch 106/200\n",
            "50000/50000 - 1s - loss: 0.8944 - accuracy: 0.6775 - val_loss: 1.6131 - val_accuracy: 0.5656\n",
            "Epoch 107/200\n",
            "50000/50000 - 1s - loss: 0.8865 - accuracy: 0.6828 - val_loss: 1.6140 - val_accuracy: 0.5676\n",
            "Epoch 108/200\n",
            "50000/50000 - 1s - loss: 0.8854 - accuracy: 0.6835 - val_loss: 1.6173 - val_accuracy: 0.5679\n",
            "Epoch 109/200\n",
            "50000/50000 - 1s - loss: 0.8895 - accuracy: 0.6790 - val_loss: 1.6223 - val_accuracy: 0.5680\n",
            "Epoch 110/200\n",
            "50000/50000 - 1s - loss: 0.8929 - accuracy: 0.6791 - val_loss: 1.6322 - val_accuracy: 0.5688\n",
            "Epoch 111/200\n",
            "50000/50000 - 1s - loss: 0.8893 - accuracy: 0.6800 - val_loss: 1.6287 - val_accuracy: 0.5690\n",
            "Epoch 112/200\n",
            "50000/50000 - 1s - loss: 0.8832 - accuracy: 0.6822 - val_loss: 1.6280 - val_accuracy: 0.5662\n",
            "Epoch 113/200\n",
            "50000/50000 - 1s - loss: 0.8929 - accuracy: 0.6789 - val_loss: 1.6332 - val_accuracy: 0.5674\n",
            "Epoch 114/200\n",
            "50000/50000 - 1s - loss: 0.8910 - accuracy: 0.6805 - val_loss: 1.6239 - val_accuracy: 0.5676\n",
            "Epoch 115/200\n",
            "50000/50000 - 1s - loss: 0.8913 - accuracy: 0.6799 - val_loss: 1.6336 - val_accuracy: 0.5675\n",
            "Epoch 116/200\n",
            "50000/50000 - 1s - loss: 0.8849 - accuracy: 0.6869 - val_loss: 1.6343 - val_accuracy: 0.5653\n",
            "Epoch 117/200\n",
            "50000/50000 - 1s - loss: 0.8876 - accuracy: 0.6810 - val_loss: 1.6382 - val_accuracy: 0.5693\n",
            "Epoch 118/200\n",
            "50000/50000 - 1s - loss: 0.8847 - accuracy: 0.6831 - val_loss: 1.6346 - val_accuracy: 0.5675\n",
            "Epoch 119/200\n",
            "50000/50000 - 1s - loss: 0.8860 - accuracy: 0.6816 - val_loss: 1.6245 - val_accuracy: 0.5649\n",
            "Epoch 120/200\n",
            "50000/50000 - 1s - loss: 0.8876 - accuracy: 0.6834 - val_loss: 1.6234 - val_accuracy: 0.5689\n",
            "Epoch 121/200\n",
            "50000/50000 - 1s - loss: 0.8835 - accuracy: 0.6824 - val_loss: 1.6311 - val_accuracy: 0.5676\n",
            "Epoch 122/200\n",
            "50000/50000 - 1s - loss: 0.8854 - accuracy: 0.6819 - val_loss: 1.6259 - val_accuracy: 0.5672\n",
            "Epoch 123/200\n",
            "50000/50000 - 1s - loss: 0.8833 - accuracy: 0.6822 - val_loss: 1.6257 - val_accuracy: 0.5668\n",
            "Epoch 124/200\n",
            "50000/50000 - 1s - loss: 0.8839 - accuracy: 0.6823 - val_loss: 1.6261 - val_accuracy: 0.5685\n",
            "Epoch 125/200\n",
            "50000/50000 - 1s - loss: 0.8881 - accuracy: 0.6813 - val_loss: 1.6287 - val_accuracy: 0.5681\n",
            "Epoch 126/200\n",
            "50000/50000 - 1s - loss: 0.8880 - accuracy: 0.6821 - val_loss: 1.6294 - val_accuracy: 0.5687\n",
            "Epoch 127/200\n",
            "50000/50000 - 1s - loss: 0.8883 - accuracy: 0.6832 - val_loss: 1.6277 - val_accuracy: 0.5703\n",
            "Epoch 128/200\n",
            "50000/50000 - 1s - loss: 0.8876 - accuracy: 0.6829 - val_loss: 1.6277 - val_accuracy: 0.5687\n",
            "Epoch 129/200\n",
            "50000/50000 - 1s - loss: 0.8892 - accuracy: 0.6824 - val_loss: 1.6349 - val_accuracy: 0.5685\n",
            "Epoch 130/200\n",
            "50000/50000 - 1s - loss: 0.8811 - accuracy: 0.6839 - val_loss: 1.6353 - val_accuracy: 0.5673\n",
            "Epoch 131/200\n",
            "50000/50000 - 1s - loss: 0.8841 - accuracy: 0.6809 - val_loss: 1.6350 - val_accuracy: 0.5671\n",
            "Epoch 132/200\n",
            "50000/50000 - 1s - loss: 0.8832 - accuracy: 0.6817 - val_loss: 1.6377 - val_accuracy: 0.5662\n",
            "Epoch 133/200\n",
            "50000/50000 - 1s - loss: 0.8869 - accuracy: 0.6839 - val_loss: 1.6435 - val_accuracy: 0.5677\n",
            "Epoch 134/200\n",
            "50000/50000 - 1s - loss: 0.8778 - accuracy: 0.6861 - val_loss: 1.6419 - val_accuracy: 0.5684\n",
            "Epoch 135/200\n",
            "50000/50000 - 1s - loss: 0.8844 - accuracy: 0.6832 - val_loss: 1.6375 - val_accuracy: 0.5659\n",
            "Epoch 136/200\n",
            "50000/50000 - 1s - loss: 0.8830 - accuracy: 0.6812 - val_loss: 1.6388 - val_accuracy: 0.5691\n",
            "Epoch 137/200\n",
            "50000/50000 - 1s - loss: 0.8826 - accuracy: 0.6825 - val_loss: 1.6331 - val_accuracy: 0.5689\n",
            "Epoch 138/200\n",
            "50000/50000 - 1s - loss: 0.8890 - accuracy: 0.6798 - val_loss: 1.6248 - val_accuracy: 0.5696\n",
            "Epoch 139/200\n",
            "50000/50000 - 1s - loss: 0.8817 - accuracy: 0.6825 - val_loss: 1.6336 - val_accuracy: 0.5680\n",
            "Epoch 140/200\n",
            "50000/50000 - 1s - loss: 0.8810 - accuracy: 0.6818 - val_loss: 1.6385 - val_accuracy: 0.5683\n",
            "Epoch 141/200\n",
            "50000/50000 - 1s - loss: 0.8836 - accuracy: 0.6830 - val_loss: 1.6363 - val_accuracy: 0.5675\n",
            "Epoch 142/200\n",
            "50000/50000 - 1s - loss: 0.8862 - accuracy: 0.6811 - val_loss: 1.6373 - val_accuracy: 0.5681\n",
            "Epoch 143/200\n",
            "50000/50000 - 1s - loss: 0.8791 - accuracy: 0.6833 - val_loss: 1.6386 - val_accuracy: 0.5675\n",
            "Epoch 144/200\n",
            "50000/50000 - 1s - loss: 0.8843 - accuracy: 0.6834 - val_loss: 1.6367 - val_accuracy: 0.5685\n",
            "Epoch 145/200\n",
            "50000/50000 - 1s - loss: 0.8847 - accuracy: 0.6819 - val_loss: 1.6349 - val_accuracy: 0.5662\n",
            "Epoch 146/200\n",
            "50000/50000 - 1s - loss: 0.8831 - accuracy: 0.6839 - val_loss: 1.6371 - val_accuracy: 0.5671\n",
            "Epoch 147/200\n",
            "50000/50000 - 1s - loss: 0.8883 - accuracy: 0.6795 - val_loss: 1.6344 - val_accuracy: 0.5670\n",
            "Epoch 148/200\n",
            "50000/50000 - 1s - loss: 0.8849 - accuracy: 0.6815 - val_loss: 1.6346 - val_accuracy: 0.5672\n",
            "Epoch 149/200\n",
            "50000/50000 - 1s - loss: 0.8871 - accuracy: 0.6834 - val_loss: 1.6341 - val_accuracy: 0.5679\n",
            "Epoch 150/200\n",
            "50000/50000 - 1s - loss: 0.8838 - accuracy: 0.6836 - val_loss: 1.6351 - val_accuracy: 0.5682\n",
            "Epoch 151/200\n",
            "50000/50000 - 1s - loss: 0.8784 - accuracy: 0.6853 - val_loss: 1.6339 - val_accuracy: 0.5701\n",
            "Epoch 152/200\n",
            "50000/50000 - 1s - loss: 0.8833 - accuracy: 0.6836 - val_loss: 1.6319 - val_accuracy: 0.5692\n",
            "Epoch 153/200\n",
            "50000/50000 - 1s - loss: 0.8832 - accuracy: 0.6829 - val_loss: 1.6329 - val_accuracy: 0.5670\n",
            "Epoch 154/200\n",
            "50000/50000 - 1s - loss: 0.8855 - accuracy: 0.6809 - val_loss: 1.6317 - val_accuracy: 0.5689\n",
            "Epoch 155/200\n",
            "50000/50000 - 1s - loss: 0.8792 - accuracy: 0.6858 - val_loss: 1.6366 - val_accuracy: 0.5673\n",
            "Epoch 156/200\n",
            "50000/50000 - 1s - loss: 0.8773 - accuracy: 0.6843 - val_loss: 1.6439 - val_accuracy: 0.5686\n",
            "Epoch 157/200\n",
            "50000/50000 - 1s - loss: 0.8851 - accuracy: 0.6825 - val_loss: 1.6398 - val_accuracy: 0.5684\n",
            "Epoch 158/200\n",
            "50000/50000 - 1s - loss: 0.8837 - accuracy: 0.6818 - val_loss: 1.6375 - val_accuracy: 0.5682\n",
            "Epoch 159/200\n",
            "50000/50000 - 1s - loss: 0.8782 - accuracy: 0.6857 - val_loss: 1.6440 - val_accuracy: 0.5694\n",
            "Epoch 160/200\n",
            "50000/50000 - 1s - loss: 0.8840 - accuracy: 0.6830 - val_loss: 1.6367 - val_accuracy: 0.5700\n",
            "Epoch 161/200\n",
            "50000/50000 - 1s - loss: 0.8795 - accuracy: 0.6849 - val_loss: 1.6401 - val_accuracy: 0.5685\n",
            "Epoch 162/200\n",
            "50000/50000 - 1s - loss: 0.8858 - accuracy: 0.6837 - val_loss: 1.6358 - val_accuracy: 0.5677\n",
            "Epoch 163/200\n",
            "50000/50000 - 1s - loss: 0.8829 - accuracy: 0.6835 - val_loss: 1.6360 - val_accuracy: 0.5691\n",
            "Epoch 164/200\n",
            "50000/50000 - 1s - loss: 0.8804 - accuracy: 0.6833 - val_loss: 1.6388 - val_accuracy: 0.5684\n",
            "Epoch 165/200\n",
            "50000/50000 - 1s - loss: 0.8828 - accuracy: 0.6813 - val_loss: 1.6399 - val_accuracy: 0.5679\n",
            "Epoch 166/200\n",
            "50000/50000 - 1s - loss: 0.8863 - accuracy: 0.6814 - val_loss: 1.6374 - val_accuracy: 0.5677\n",
            "Epoch 167/200\n",
            "50000/50000 - 1s - loss: 0.8865 - accuracy: 0.6810 - val_loss: 1.6347 - val_accuracy: 0.5677\n",
            "Epoch 168/200\n",
            "50000/50000 - 1s - loss: 0.8790 - accuracy: 0.6829 - val_loss: 1.6374 - val_accuracy: 0.5689\n",
            "Epoch 169/200\n",
            "50000/50000 - 1s - loss: 0.8762 - accuracy: 0.6861 - val_loss: 1.6366 - val_accuracy: 0.5678\n",
            "Epoch 170/200\n",
            "50000/50000 - 1s - loss: 0.8842 - accuracy: 0.6808 - val_loss: 1.6346 - val_accuracy: 0.5676\n",
            "Epoch 171/200\n",
            "50000/50000 - 1s - loss: 0.8810 - accuracy: 0.6832 - val_loss: 1.6378 - val_accuracy: 0.5679\n",
            "Epoch 172/200\n",
            "50000/50000 - 1s - loss: 0.8873 - accuracy: 0.6842 - val_loss: 1.6369 - val_accuracy: 0.5680\n",
            "Epoch 173/200\n",
            "50000/50000 - 1s - loss: 0.8827 - accuracy: 0.6837 - val_loss: 1.6354 - val_accuracy: 0.5690\n",
            "Epoch 174/200\n",
            "50000/50000 - 1s - loss: 0.8781 - accuracy: 0.6847 - val_loss: 1.6436 - val_accuracy: 0.5687\n",
            "Epoch 175/200\n",
            "50000/50000 - 1s - loss: 0.8857 - accuracy: 0.6815 - val_loss: 1.6397 - val_accuracy: 0.5677\n",
            "Epoch 176/200\n",
            "50000/50000 - 1s - loss: 0.8804 - accuracy: 0.6854 - val_loss: 1.6368 - val_accuracy: 0.5683\n",
            "Epoch 177/200\n",
            "50000/50000 - 1s - loss: 0.8829 - accuracy: 0.6832 - val_loss: 1.6367 - val_accuracy: 0.5697\n",
            "Epoch 178/200\n",
            "50000/50000 - 1s - loss: 0.8836 - accuracy: 0.6814 - val_loss: 1.6384 - val_accuracy: 0.5688\n",
            "Epoch 179/200\n",
            "50000/50000 - 1s - loss: 0.8826 - accuracy: 0.6836 - val_loss: 1.6435 - val_accuracy: 0.5697\n",
            "Epoch 180/200\n",
            "50000/50000 - 1s - loss: 0.8827 - accuracy: 0.6831 - val_loss: 1.6435 - val_accuracy: 0.5691\n",
            "Epoch 181/200\n",
            "50000/50000 - 1s - loss: 0.8781 - accuracy: 0.6857 - val_loss: 1.6345 - val_accuracy: 0.5683\n",
            "Epoch 182/200\n",
            "50000/50000 - 1s - loss: 0.8755 - accuracy: 0.6858 - val_loss: 1.6371 - val_accuracy: 0.5687\n",
            "Epoch 183/200\n",
            "50000/50000 - 1s - loss: 0.8788 - accuracy: 0.6855 - val_loss: 1.6343 - val_accuracy: 0.5689\n",
            "Epoch 184/200\n",
            "50000/50000 - 1s - loss: 0.8808 - accuracy: 0.6829 - val_loss: 1.6371 - val_accuracy: 0.5689\n",
            "Epoch 185/200\n",
            "50000/50000 - 1s - loss: 0.8873 - accuracy: 0.6836 - val_loss: 1.6366 - val_accuracy: 0.5683\n",
            "Epoch 186/200\n",
            "50000/50000 - 1s - loss: 0.8816 - accuracy: 0.6829 - val_loss: 1.6395 - val_accuracy: 0.5683\n",
            "Epoch 187/200\n",
            "50000/50000 - 1s - loss: 0.8798 - accuracy: 0.6857 - val_loss: 1.6362 - val_accuracy: 0.5690\n",
            "Epoch 188/200\n",
            "50000/50000 - 1s - loss: 0.8873 - accuracy: 0.6809 - val_loss: 1.6395 - val_accuracy: 0.5693\n",
            "Epoch 189/200\n",
            "50000/50000 - 1s - loss: 0.8806 - accuracy: 0.6839 - val_loss: 1.6347 - val_accuracy: 0.5680\n",
            "Epoch 190/200\n",
            "50000/50000 - 1s - loss: 0.8808 - accuracy: 0.6820 - val_loss: 1.6327 - val_accuracy: 0.5686\n",
            "Epoch 191/200\n",
            "50000/50000 - 1s - loss: 0.8801 - accuracy: 0.6856 - val_loss: 1.6360 - val_accuracy: 0.5694\n",
            "Epoch 192/200\n",
            "50000/50000 - 1s - loss: 0.8816 - accuracy: 0.6824 - val_loss: 1.6402 - val_accuracy: 0.5696\n",
            "Epoch 193/200\n",
            "50000/50000 - 1s - loss: 0.8799 - accuracy: 0.6841 - val_loss: 1.6345 - val_accuracy: 0.5690\n",
            "Epoch 194/200\n",
            "50000/50000 - 1s - loss: 0.8863 - accuracy: 0.6829 - val_loss: 1.6357 - val_accuracy: 0.5698\n",
            "Epoch 195/200\n",
            "50000/50000 - 1s - loss: 0.8833 - accuracy: 0.6820 - val_loss: 1.6382 - val_accuracy: 0.5693\n",
            "Epoch 196/200\n",
            "50000/50000 - 1s - loss: 0.8794 - accuracy: 0.6866 - val_loss: 1.6431 - val_accuracy: 0.5689\n",
            "Epoch 197/200\n",
            "50000/50000 - 1s - loss: 0.8813 - accuracy: 0.6834 - val_loss: 1.6409 - val_accuracy: 0.5686\n",
            "Epoch 198/200\n",
            "50000/50000 - 1s - loss: 0.8806 - accuracy: 0.6833 - val_loss: 1.6360 - val_accuracy: 0.5683\n",
            "Epoch 199/200\n",
            "50000/50000 - 1s - loss: 0.8838 - accuracy: 0.6819 - val_loss: 1.6400 - val_accuracy: 0.5690\n",
            "Epoch 200/200\n",
            "50000/50000 - 1s - loss: 0.8781 - accuracy: 0.6841 - val_loss: 1.6351 - val_accuracy: 0.5695\n"
          ],
          "name": "stdout"
        }
      ]
    },
    {
      "cell_type": "code",
      "metadata": {
        "id": "D7iY10bvXNmN",
        "colab_type": "code",
        "colab": {}
      },
      "source": [
        "ds.save_weights(os.path.join(path,'ds.h5'))"
      ],
      "execution_count": 0,
      "outputs": []
    },
    {
      "cell_type": "code",
      "metadata": {
        "id": "e-o_zSfcY2Qw",
        "colab_type": "code",
        "colab": {
          "base_uri": "https://localhost:8080/",
          "height": 51
        },
        "outputId": "864a3b47-a9c4-4134-9168-d3cb53740acb"
      },
      "source": [
        "ds.load_weights(os.path.join(path,'ds.h5'))\n",
        "test_loss, test_acc = ds.evaluate(xTest,  yTest, verbose=2)\n",
        "test_acc"
      ],
      "execution_count": 51,
      "outputs": [
        {
          "output_type": "stream",
          "text": [
            "10000/1 - 1s - loss: 1.6452 - accuracy: 0.5691\n"
          ],
          "name": "stdout"
        },
        {
          "output_type": "execute_result",
          "data": {
            "text/plain": [
              "0.5691"
            ]
          },
          "metadata": {
            "tags": []
          },
          "execution_count": 51
        }
      ]
    },
    {
      "cell_type": "code",
      "metadata": {
        "id": "8DUrsVgHUGCV",
        "colab_type": "code",
        "outputId": "7204f289-483a-40d3-9f26-7e53bfe10999",
        "colab": {
          "base_uri": "https://localhost:8080/",
          "height": 51
        }
      },
      "source": [
        "model_feat = tf.compat.v1.keras.Model(ds.inputs,ds.get_layer('bottleneck').output)\n",
        "\n",
        "feat_train = model_feat.predict(xTrain)\n",
        "print(feat_train.shape)\n",
        "\n",
        "feat_test = model_feat.predict(xTest)\n",
        "print(feat_test.shape)"
      ],
      "execution_count": 52,
      "outputs": [
        {
          "output_type": "stream",
          "text": [
            "(50000, 64)\n",
            "(10000, 64)\n"
          ],
          "name": "stdout"
        }
      ]
    },
    {
      "cell_type": "code",
      "metadata": {
        "id": "2CslZX4ElS81",
        "colab_type": "code",
        "colab": {
          "base_uri": "https://localhost:8080/",
          "height": 136
        },
        "outputId": "20b01036-e3e5-4b11-fa4d-c89b139db1ba"
      },
      "source": [
        "import xgboost as xgb\n",
        "\n",
        "xb = xgb.XGBClassifier()\n",
        "\n",
        "xb.fit(feat_train,yTrain)"
      ],
      "execution_count": 60,
      "outputs": [
        {
          "output_type": "execute_result",
          "data": {
            "text/plain": [
              "XGBClassifier(base_score=0.5, booster='gbtree', colsample_bylevel=1,\n",
              "              colsample_bynode=1, colsample_bytree=1, gamma=0,\n",
              "              learning_rate=0.1, max_delta_step=0, max_depth=3,\n",
              "              min_child_weight=1, missing=None, n_estimators=100, n_jobs=1,\n",
              "              nthread=None, objective='multi:softprob', random_state=0,\n",
              "              reg_alpha=0, reg_lambda=1, scale_pos_weight=1, seed=None,\n",
              "              silent=None, subsample=1, verbosity=1)"
            ]
          },
          "metadata": {
            "tags": []
          },
          "execution_count": 60
        }
      ]
    },
    {
      "cell_type": "code",
      "metadata": {
        "id": "R0cfxSGqU3ti",
        "colab_type": "code",
        "colab": {
          "base_uri": "https://localhost:8080/",
          "height": 537
        },
        "outputId": "c9575687-39d7-48f4-92a3-78e51563d5ba"
      },
      "source": [
        "yxb = xb.predict(feat_test)\n",
        "import seaborn as sn\n",
        "import pandas as pd\n",
        "from sklearn.metrics import confusion_matrix\n",
        "cmxb = confusion_matrix(yTest, yxb)\n",
        "\n",
        "df_cmxb = pd.DataFrame(cmxb, range(len(cmxb)), range(len(cmxb)))\n",
        "\n",
        "# Set up the matplotlib figure\n",
        "f, ax = plt.subplots(figsize=(11, 9))\n",
        "\n",
        "# Generate a custom diverging colormap\n",
        "cmap = sn.diverging_palette(220, 10, as_cmap = True)\n",
        "\n",
        "\n",
        "# Draw the heatmap with the mask and correct aspect ratio\n",
        "sn.heatmap(df_cmxb, annot = True, cmap = cmap, vmax = .3, center = 0, square = True, linewidths = .5, cbar_kws = {\"shrink\": .5})\n",
        "# fix for mpl bug that cuts off top/bottom of seaborn viz\n",
        "b, t = plt.ylim() # discover the values for bottom and top\n",
        "b += 0.5 # Add 0.5 to the bottom\n",
        "t -= 0.5 # Subtract 0.5 from the top\n",
        "plt.ylim(b, t) # update the ylim(bottom, top) values\n",
        "plt.show() "
      ],
      "execution_count": 68,
      "outputs": [
        {
          "output_type": "display_data",
          "data": {
            "image/png": "[encoded data removed]",
            "text/plain": [
              "<Figure size 792x648 with 2 Axes>"
            ]
          },
          "metadata": {
            "tags": []
          }
        }
      ]
    },
    {
      "cell_type": "code",
      "metadata": {
        "id": "7vNUisGyWxte",
        "colab_type": "code",
        "colab": {
          "base_uri": "https://localhost:8080/",
          "height": 867
        },
        "outputId": "9005b84d-cc42-47e6-b0e4-921c7dfa94be"
      },
      "source": [
        "from sklearn.ensemble import RandomForestClassifier\n",
        "from sklearn import datasets\n",
        "from sklearn.model_selection import GridSearchCV\n",
        "\n",
        "param_grid = {\n",
        "    'criterion': ['gini'],\n",
        "    'max_depth': [100],\n",
        "    'min_samples_leaf': [10],\n",
        "    'max_features': [\"auto\"],#, \"sqrt\", \"log2\"],\n",
        "    'n_estimators': [100, 150],\n",
        "}\n",
        "\n",
        "rf = RandomForestClassifier(random_state = 42)\n",
        "CV_rf = GridSearchCV(estimator=rf, param_grid=param_grid, cv= 10, verbose = 3)\n",
        "CV_rf.fit(feat_train,yTrain)\n",
        "CV_rf.best_params_"
      ],
      "execution_count": 55,
      "outputs": [
        {
          "output_type": "stream",
          "text": [
            "Fitting 10 folds for each of 2 candidates, totalling 20 fits\n",
            "[CV] criterion=gini, max_depth=100, max_features=auto, min_samples_leaf=10, n_estimators=100 \n"
          ],
          "name": "stdout"
        },
        {
          "output_type": "stream",
          "text": [
            "[Parallel(n_jobs=1)]: Using backend SequentialBackend with 1 concurrent workers.\n"
          ],
          "name": "stderr"
        },
        {
          "output_type": "stream",
          "text": [
            "[CV]  criterion=gini, max_depth=100, max_features=auto, min_samples_leaf=10, n_estimators=100, score=0.703, total=  19.6s\n",
            "[CV] criterion=gini, max_depth=100, max_features=auto, min_samples_leaf=10, n_estimators=100 \n"
          ],
          "name": "stdout"
        },
        {
          "output_type": "stream",
          "text": [
            "[Parallel(n_jobs=1)]: Done   1 out of   1 | elapsed:   19.6s remaining:    0.0s\n"
          ],
          "name": "stderr"
        },
        {
          "output_type": "stream",
          "text": [
            "[CV]  criterion=gini, max_depth=100, max_features=auto, min_samples_leaf=10, n_estimators=100, score=0.703, total=  19.2s\n",
            "[CV] criterion=gini, max_depth=100, max_features=auto, min_samples_leaf=10, n_estimators=100 \n"
          ],
          "name": "stdout"
        },
        {
          "output_type": "stream",
          "text": [
            "[Parallel(n_jobs=1)]: Done   2 out of   2 | elapsed:   38.7s remaining:    0.0s\n"
          ],
          "name": "stderr"
        },
        {
          "output_type": "stream",
          "text": [
            "[CV]  criterion=gini, max_depth=100, max_features=auto, min_samples_leaf=10, n_estimators=100, score=0.700, total=  19.3s\n",
            "[CV] criterion=gini, max_depth=100, max_features=auto, min_samples_leaf=10, n_estimators=100 \n",
            "[CV]  criterion=gini, max_depth=100, max_features=auto, min_samples_leaf=10, n_estimators=100, score=0.705, total=  19.2s\n",
            "[CV] criterion=gini, max_depth=100, max_features=auto, min_samples_leaf=10, n_estimators=100 \n",
            "[CV]  criterion=gini, max_depth=100, max_features=auto, min_samples_leaf=10, n_estimators=100, score=0.705, total=  19.4s\n",
            "[CV] criterion=gini, max_depth=100, max_features=auto, min_samples_leaf=10, n_estimators=100 \n",
            "[CV]  criterion=gini, max_depth=100, max_features=auto, min_samples_leaf=10, n_estimators=100, score=0.694, total=  19.3s\n",
            "[CV] criterion=gini, max_depth=100, max_features=auto, min_samples_leaf=10, n_estimators=100 \n",
            "[CV]  criterion=gini, max_depth=100, max_features=auto, min_samples_leaf=10, n_estimators=100, score=0.712, total=  19.5s\n",
            "[CV] criterion=gini, max_depth=100, max_features=auto, min_samples_leaf=10, n_estimators=100 \n",
            "[CV]  criterion=gini, max_depth=100, max_features=auto, min_samples_leaf=10, n_estimators=100, score=0.703, total=  19.3s\n",
            "[CV] criterion=gini, max_depth=100, max_features=auto, min_samples_leaf=10, n_estimators=100 \n",
            "[CV]  criterion=gini, max_depth=100, max_features=auto, min_samples_leaf=10, n_estimators=100, score=0.711, total=  19.6s\n",
            "[CV] criterion=gini, max_depth=100, max_features=auto, min_samples_leaf=10, n_estimators=100 \n",
            "[CV]  criterion=gini, max_depth=100, max_features=auto, min_samples_leaf=10, n_estimators=100, score=0.697, total=  19.4s\n",
            "[CV] criterion=gini, max_depth=100, max_features=auto, min_samples_leaf=10, n_estimators=150 \n",
            "[CV]  criterion=gini, max_depth=100, max_features=auto, min_samples_leaf=10, n_estimators=150, score=0.702, total=  29.3s\n",
            "[CV] criterion=gini, max_depth=100, max_features=auto, min_samples_leaf=10, n_estimators=150 \n",
            "[CV]  criterion=gini, max_depth=100, max_features=auto, min_samples_leaf=10, n_estimators=150, score=0.703, total=  29.1s\n",
            "[CV] criterion=gini, max_depth=100, max_features=auto, min_samples_leaf=10, n_estimators=150 \n",
            "[CV]  criterion=gini, max_depth=100, max_features=auto, min_samples_leaf=10, n_estimators=150, score=0.697, total=  28.8s\n",
            "[CV] criterion=gini, max_depth=100, max_features=auto, min_samples_leaf=10, n_estimators=150 \n",
            "[CV]  criterion=gini, max_depth=100, max_features=auto, min_samples_leaf=10, n_estimators=150, score=0.708, total=  28.9s\n",
            "[CV] criterion=gini, max_depth=100, max_features=auto, min_samples_leaf=10, n_estimators=150 \n",
            "[CV]  criterion=gini, max_depth=100, max_features=auto, min_samples_leaf=10, n_estimators=150, score=0.704, total=  29.2s\n",
            "[CV] criterion=gini, max_depth=100, max_features=auto, min_samples_leaf=10, n_estimators=150 \n",
            "[CV]  criterion=gini, max_depth=100, max_features=auto, min_samples_leaf=10, n_estimators=150, score=0.695, total=  28.9s\n",
            "[CV] criterion=gini, max_depth=100, max_features=auto, min_samples_leaf=10, n_estimators=150 \n",
            "[CV]  criterion=gini, max_depth=100, max_features=auto, min_samples_leaf=10, n_estimators=150, score=0.711, total=  28.7s\n",
            "[CV] criterion=gini, max_depth=100, max_features=auto, min_samples_leaf=10, n_estimators=150 \n",
            "[CV]  criterion=gini, max_depth=100, max_features=auto, min_samples_leaf=10, n_estimators=150, score=0.704, total=  28.9s\n",
            "[CV] criterion=gini, max_depth=100, max_features=auto, min_samples_leaf=10, n_estimators=150 \n",
            "[CV]  criterion=gini, max_depth=100, max_features=auto, min_samples_leaf=10, n_estimators=150, score=0.710, total=  28.7s\n",
            "[CV] criterion=gini, max_depth=100, max_features=auto, min_samples_leaf=10, n_estimators=150 \n",
            "[CV]  criterion=gini, max_depth=100, max_features=auto, min_samples_leaf=10, n_estimators=150, score=0.699, total=  28.9s\n"
          ],
          "name": "stdout"
        },
        {
          "output_type": "stream",
          "text": [
            "[Parallel(n_jobs=1)]: Done  20 out of  20 | elapsed:  8.1min finished\n"
          ],
          "name": "stderr"
        },
        {
          "output_type": "execute_result",
          "data": {
            "text/plain": [
              "{'criterion': 'gini',\n",
              " 'max_depth': 100,\n",
              " 'max_features': 'auto',\n",
              " 'min_samples_leaf': 10,\n",
              " 'n_estimators': 150}"
            ]
          },
          "metadata": {
            "tags": []
          },
          "execution_count": 55
        }
      ]
    },
    {
      "cell_type": "code",
      "metadata": {
        "id": "tTrlAE7WXzT7",
        "colab_type": "code",
        "colab": {
          "base_uri": "https://localhost:8080/",
          "height": 34
        },
        "outputId": "346af520-38e5-4413-9047-3b3fad1412c4"
      },
      "source": [
        "y_pred = CV_rf.predict(feat_test)\n",
        "random_forest_score = metrics.accuracy_score(yTest, y_pred)\n",
        "random_forest_score"
      ],
      "execution_count": 59,
      "outputs": [
        {
          "output_type": "execute_result",
          "data": {
            "text/plain": [
              "0.5589"
            ]
          },
          "metadata": {
            "tags": []
          },
          "execution_count": 59
        }
      ]
    },
    {
      "cell_type": "code",
      "metadata": {
        "id": "Y-6tuDm6jvpo",
        "colab_type": "code",
        "colab": {
          "base_uri": "https://localhost:8080/",
          "height": 537
        },
        "outputId": "014fde38-88c4-4d17-e95a-51bd4ab0bfd9"
      },
      "source": [
        "import seaborn as sn\n",
        "import pandas as pd\n",
        "from sklearn.metrics import confusion_matrix\n",
        "cm = confusion_matrix(yTest, y_pred)\n",
        "\n",
        "df_cm = pd.DataFrame(cm, range(len(cm)), range(len(cm)))\n",
        "\n",
        "# Set up the matplotlib figure\n",
        "f, ax = plt.subplots(figsize=(11, 9))\n",
        "\n",
        "# Generate a custom diverging colormap\n",
        "cmap = sn.diverging_palette(220, 10, as_cmap = True)\n",
        "\n",
        "\n",
        "# Draw the heatmap with the mask and correct aspect ratio\n",
        "sn.heatmap(df_cm, annot = True, cmap = cmap, vmax = .3, center = 0, square = True, linewidths = .5, cbar_kws = {\"shrink\": .5})\n",
        "# fix for mpl bug that cuts off top/bottom of seaborn viz\n",
        "b, t = plt.ylim() # discover the values for bottom and top\n",
        "b += 0.5 # Add 0.5 to the bottom\n",
        "t -= 0.5 # Subtract 0.5 from the top\n",
        "plt.ylim(b, t) # update the ylim(bottom, top) values\n",
        "plt.show() "
      ],
      "execution_count": 64,
      "outputs": [
        {
          "output_type": "display_data",
          "data": {
            "image/png": "[encoded data removed]",
            "text/plain": [
              "<Figure size 792x648 with 2 Axes>"
            ]
          },
          "metadata": {
            "tags": []
          }
        }
      ]
    },
    {
      "cell_type": "code",
      "metadata": {
        "id": "Sp9100PGqFKd",
        "colab_type": "code",
        "colab": {}
      },
      "source": [
        ""
      ],
      "execution_count": 0,
      "outputs": []
    }
  ]
}