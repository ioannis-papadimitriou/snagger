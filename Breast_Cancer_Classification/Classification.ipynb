{
  "nbformat": 4,
  "nbformat_minor": 0,
  "metadata": {
    "colab": {
      "name": "TF2_0_Linear_Classification.ipynb",
      "provenance": [],
      "collapsed_sections": [],
      "toc_visible": true
    },
    "kernelspec": {
      "name": "python3",
      "display_name": "Python 3"
    },
    "accelerator": "GPU"
  },
  "cells": [
    {
      "cell_type": "code",
      "metadata": {
        "id": "DeNaBVyT4pn1",
        "colab_type": "code",
        "outputId": "f0c9f12c-d884-4872-b375-103a45d10779",
        "colab": {
          "base_uri": "https://localhost:8080/",
          "height": 119
        }
      },
      "source": [
        "try:\n",
        "  %tensorflow_version 2.x  # Colab only.\n",
        "except Exception:\n",
        "  pass\n",
        "\n",
        "import tensorflow as tf\n",
        "print(tf.__version__)"
      ],
      "execution_count": 1,
      "outputs": [
        {
          "output_type": "stream",
          "text": [
            "`%tensorflow_version` only switches the major version: `1.x` or `2.x`.\n",
            "You set: `2.x  # Colab only.`. This will be interpreted as: `2.x`.\n",
            "\n",
            "\n",
            "TensorFlow 2.x selected.\n",
            "2.0.0\n"
          ],
          "name": "stdout"
        }
      ]
    },
    {
      "cell_type": "code",
      "metadata": {
        "id": "EtMPQxpC4xD0",
        "colab_type": "code",
        "colab": {}
      },
      "source": [
        "# Load in the data\n",
        "from sklearn.datasets import load_breast_cancer"
      ],
      "execution_count": 0,
      "outputs": []
    },
    {
      "cell_type": "code",
      "metadata": {
        "id": "pwJ9LvEE5B_z",
        "colab_type": "code",
        "colab": {}
      },
      "source": [
        "# load the data\n",
        "data = load_breast_cancer()"
      ],
      "execution_count": 0,
      "outputs": []
    },
    {
      "cell_type": "code",
      "metadata": {
        "id": "wNkavJSj5EcV",
        "colab_type": "code",
        "outputId": "01805f02-6ea9-4dd3-8ef6-f7a91afaaf3d",
        "colab": {
          "base_uri": "https://localhost:8080/",
          "height": 34
        }
      },
      "source": [
        "# check the type of 'data'\n",
        "type(data)"
      ],
      "execution_count": 4,
      "outputs": [
        {
          "output_type": "execute_result",
          "data": {
            "text/plain": [
              "sklearn.utils.Bunch"
            ]
          },
          "metadata": {
            "tags": []
          },
          "execution_count": 4
        }
      ]
    },
    {
      "cell_type": "code",
      "metadata": {
        "id": "OsWYmnYR5GQq",
        "colab_type": "code",
        "outputId": "cc3ffbb4-889e-4c36-a2d6-56c73d94e7c2",
        "colab": {
          "base_uri": "https://localhost:8080/",
          "height": 34
        }
      },
      "source": [
        "# note: it is a Bunch object\n",
        "# this basically acts like a dictionary where you can treat the keys like attributes\n",
        "data.keys()"
      ],
      "execution_count": 5,
      "outputs": [
        {
          "output_type": "execute_result",
          "data": {
            "text/plain": [
              "dict_keys(['data', 'target', 'target_names', 'DESCR', 'feature_names', 'filename'])"
            ]
          },
          "metadata": {
            "tags": []
          },
          "execution_count": 5
        }
      ]
    },
    {
      "cell_type": "code",
      "metadata": {
        "id": "2AZOWl4doZvR",
        "colab_type": "code",
        "colab": {
          "base_uri": "https://localhost:8080/",
          "height": 1000
        },
        "outputId": "d66cad32-5d20-4edd-80b2-521593463264"
      },
      "source": [
        "print(data.DESCR)"
      ],
      "execution_count": 6,
      "outputs": [
        {
          "output_type": "stream",
          "text": [
            ".. _breast_cancer_dataset:\n",
            "\n",
            "Breast cancer wisconsin (diagnostic) dataset\n",
            "--------------------------------------------\n",
            "\n",
            "**Data Set Characteristics:**\n",
            "\n",
            "    :Number of Instances: 569\n",
            "\n",
            "    :Number of Attributes: 30 numeric, predictive attributes and the class\n",
            "\n",
            "    :Attribute Information:\n",
            "        - radius (mean of distances from center to points on the perimeter)\n",
            "        - texture (standard deviation of gray-scale values)\n",
            "        - perimeter\n",
            "        - area\n",
            "        - smoothness (local variation in radius lengths)\n",
            "        - compactness (perimeter^2 / area - 1.0)\n",
            "        - concavity (severity of concave portions of the contour)\n",
            "        - concave points (number of concave portions of the contour)\n",
            "        - symmetry \n",
            "        - fractal dimension (\"coastline approximation\" - 1)\n",
            "\n",
            "        The mean, standard error, and \"worst\" or largest (mean of the three\n",
            "        largest values) of these features were computed for each image,\n",
            "        resulting in 30 features.  For instance, field 3 is Mean Radius, field\n",
            "        13 is Radius SE, field 23 is Worst Radius.\n",
            "\n",
            "        - class:\n",
            "                - WDBC-Malignant\n",
            "                - WDBC-Benign\n",
            "\n",
            "    :Summary Statistics:\n",
            "\n",
            "    ===================================== ====== ======\n",
            "                                           Min    Max\n",
            "    ===================================== ====== ======\n",
            "    radius (mean):                        6.981  28.11\n",
            "    texture (mean):                       9.71   39.28\n",
            "    perimeter (mean):                     43.79  188.5\n",
            "    area (mean):                          143.5  2501.0\n",
            "    smoothness (mean):                    0.053  0.163\n",
            "    compactness (mean):                   0.019  0.345\n",
            "    concavity (mean):                     0.0    0.427\n",
            "    concave points (mean):                0.0    0.201\n",
            "    symmetry (mean):                      0.106  0.304\n",
            "    fractal dimension (mean):             0.05   0.097\n",
            "    radius (standard error):              0.112  2.873\n",
            "    texture (standard error):             0.36   4.885\n",
            "    perimeter (standard error):           0.757  21.98\n",
            "    area (standard error):                6.802  542.2\n",
            "    smoothness (standard error):          0.002  0.031\n",
            "    compactness (standard error):         0.002  0.135\n",
            "    concavity (standard error):           0.0    0.396\n",
            "    concave points (standard error):      0.0    0.053\n",
            "    symmetry (standard error):            0.008  0.079\n",
            "    fractal dimension (standard error):   0.001  0.03\n",
            "    radius (worst):                       7.93   36.04\n",
            "    texture (worst):                      12.02  49.54\n",
            "    perimeter (worst):                    50.41  251.2\n",
            "    area (worst):                         185.2  4254.0\n",
            "    smoothness (worst):                   0.071  0.223\n",
            "    compactness (worst):                  0.027  1.058\n",
            "    concavity (worst):                    0.0    1.252\n",
            "    concave points (worst):               0.0    0.291\n",
            "    symmetry (worst):                     0.156  0.664\n",
            "    fractal dimension (worst):            0.055  0.208\n",
            "    ===================================== ====== ======\n",
            "\n",
            "    :Missing Attribute Values: None\n",
            "\n",
            "    :Class Distribution: 212 - Malignant, 357 - Benign\n",
            "\n",
            "    :Creator:  Dr. William H. Wolberg, W. Nick Street, Olvi L. Mangasarian\n",
            "\n",
            "    :Donor: Nick Street\n",
            "\n",
            "    :Date: November, 1995\n",
            "\n",
            "This is a copy of UCI ML Breast Cancer Wisconsin (Diagnostic) datasets.\n",
            "https://goo.gl/U2Uwz2\n",
            "\n",
            "Features are computed from a digitized image of a fine needle\n",
            "aspirate (FNA) of a breast mass.  They describe\n",
            "characteristics of the cell nuclei present in the image.\n",
            "\n",
            "Separating plane described above was obtained using\n",
            "Multisurface Method-Tree (MSM-T) [K. P. Bennett, \"Decision Tree\n",
            "Construction Via Linear Programming.\" Proceedings of the 4th\n",
            "Midwest Artificial Intelligence and Cognitive Science Society,\n",
            "pp. 97-101, 1992], a classification method which uses linear\n",
            "programming to construct a decision tree.  Relevant features\n",
            "were selected using an exhaustive search in the space of 1-4\n",
            "features and 1-3 separating planes.\n",
            "\n",
            "The actual linear program used to obtain the separating plane\n",
            "in the 3-dimensional space is that described in:\n",
            "[K. P. Bennett and O. L. Mangasarian: \"Robust Linear\n",
            "Programming Discrimination of Two Linearly Inseparable Sets\",\n",
            "Optimization Methods and Software 1, 1992, 23-34].\n",
            "\n",
            "This database is also available through the UW CS ftp server:\n",
            "\n",
            "ftp ftp.cs.wisc.edu\n",
            "cd math-prog/cpo-dataset/machine-learn/WDBC/\n",
            "\n",
            ".. topic:: References\n",
            "\n",
            "   - W.N. Street, W.H. Wolberg and O.L. Mangasarian. Nuclear feature extraction \n",
            "     for breast tumor diagnosis. IS&T/SPIE 1993 International Symposium on \n",
            "     Electronic Imaging: Science and Technology, volume 1905, pages 861-870,\n",
            "     San Jose, CA, 1993.\n",
            "   - O.L. Mangasarian, W.N. Street and W.H. Wolberg. Breast cancer diagnosis and \n",
            "     prognosis via linear programming. Operations Research, 43(4), pages 570-577, \n",
            "     July-August 1995.\n",
            "   - W.H. Wolberg, W.N. Street, and O.L. Mangasarian. Machine learning techniques\n",
            "     to diagnose breast cancer from fine-needle aspirates. Cancer Letters 77 (1994) \n",
            "     163-171.\n"
          ],
          "name": "stdout"
        }
      ]
    },
    {
      "cell_type": "code",
      "metadata": {
        "id": "HRYJw4hN5JXD",
        "colab_type": "code",
        "outputId": "5e4ba5f5-4a05-423e-d466-c2f74d343ba1",
        "colab": {
          "base_uri": "https://localhost:8080/",
          "height": 34
        }
      },
      "source": [
        "# 'data' (the attribute) means the input data\n",
        "data.data.shape\n",
        "# it has 569 samples, 30 features"
      ],
      "execution_count": 7,
      "outputs": [
        {
          "output_type": "execute_result",
          "data": {
            "text/plain": [
              "(569, 30)"
            ]
          },
          "metadata": {
            "tags": []
          },
          "execution_count": 7
        }
      ]
    },
    {
      "cell_type": "code",
      "metadata": {
        "id": "G5OVVVge5L-h",
        "colab_type": "code",
        "outputId": "2582fd35-baa1-406f-cf0a-3238ac331fa4",
        "colab": {
          "base_uri": "https://localhost:8080/",
          "height": 459
        }
      },
      "source": [
        "# 'targets'\n",
        "data.target\n",
        "# note how the targets are just 0s and 1s\n",
        "# normally, when you have K targets, they are labeled 0..K-1"
      ],
      "execution_count": 8,
      "outputs": [
        {
          "output_type": "execute_result",
          "data": {
            "text/plain": [
              "array([0, 0, 0, 0, 0, 0, 0, 0, 0, 0, 0, 0, 0, 0, 0, 0, 0, 0, 0, 1, 1, 1,\n",
              "       0, 0, 0, 0, 0, 0, 0, 0, 0, 0, 0, 0, 0, 0, 0, 1, 0, 0, 0, 0, 0, 0,\n",
              "       0, 0, 1, 0, 1, 1, 1, 1, 1, 0, 0, 1, 0, 0, 1, 1, 1, 1, 0, 1, 0, 0,\n",
              "       1, 1, 1, 1, 0, 1, 0, 0, 1, 0, 1, 0, 0, 1, 1, 1, 0, 0, 1, 0, 0, 0,\n",
              "       1, 1, 1, 0, 1, 1, 0, 0, 1, 1, 1, 0, 0, 1, 1, 1, 1, 0, 1, 1, 0, 1,\n",
              "       1, 1, 1, 1, 1, 1, 1, 0, 0, 0, 1, 0, 0, 1, 1, 1, 0, 0, 1, 0, 1, 0,\n",
              "       0, 1, 0, 0, 1, 1, 0, 1, 1, 0, 1, 1, 1, 1, 0, 1, 1, 1, 1, 1, 1, 1,\n",
              "       1, 1, 0, 1, 1, 1, 1, 0, 0, 1, 0, 1, 1, 0, 0, 1, 1, 0, 0, 1, 1, 1,\n",
              "       1, 0, 1, 1, 0, 0, 0, 1, 0, 1, 0, 1, 1, 1, 0, 1, 1, 0, 0, 1, 0, 0,\n",
              "       0, 0, 1, 0, 0, 0, 1, 0, 1, 0, 1, 1, 0, 1, 0, 0, 0, 0, 1, 1, 0, 0,\n",
              "       1, 1, 1, 0, 1, 1, 1, 1, 1, 0, 0, 1, 1, 0, 1, 1, 0, 0, 1, 0, 1, 1,\n",
              "       1, 1, 0, 1, 1, 1, 1, 1, 0, 1, 0, 0, 0, 0, 0, 0, 0, 0, 0, 0, 0, 0,\n",
              "       0, 0, 1, 1, 1, 1, 1, 1, 0, 1, 0, 1, 1, 0, 1, 1, 0, 1, 0, 0, 1, 1,\n",
              "       1, 1, 1, 1, 1, 1, 1, 1, 1, 1, 1, 0, 1, 1, 0, 1, 0, 1, 1, 1, 1, 1,\n",
              "       1, 1, 1, 1, 1, 1, 1, 1, 1, 0, 1, 1, 1, 0, 1, 0, 1, 1, 1, 1, 0, 0,\n",
              "       0, 1, 1, 1, 1, 0, 1, 0, 1, 0, 1, 1, 1, 0, 1, 1, 1, 1, 1, 1, 1, 0,\n",
              "       0, 0, 1, 1, 1, 1, 1, 1, 1, 1, 1, 1, 1, 0, 0, 1, 0, 0, 0, 1, 0, 0,\n",
              "       1, 1, 1, 1, 1, 0, 1, 1, 1, 1, 1, 0, 1, 1, 1, 0, 1, 1, 0, 0, 1, 1,\n",
              "       1, 1, 1, 1, 0, 1, 1, 1, 1, 1, 1, 1, 0, 1, 1, 1, 1, 1, 0, 1, 1, 0,\n",
              "       1, 1, 1, 1, 1, 1, 1, 1, 1, 1, 1, 1, 0, 1, 0, 0, 1, 0, 1, 1, 1, 1,\n",
              "       1, 0, 1, 1, 0, 1, 0, 1, 1, 0, 1, 0, 1, 1, 1, 1, 1, 1, 1, 1, 0, 0,\n",
              "       1, 1, 1, 1, 1, 1, 0, 1, 1, 1, 1, 1, 1, 1, 1, 1, 1, 0, 1, 1, 1, 1,\n",
              "       1, 1, 1, 0, 1, 0, 1, 1, 0, 1, 1, 1, 1, 1, 0, 0, 1, 0, 1, 0, 1, 1,\n",
              "       1, 1, 1, 0, 1, 1, 0, 1, 0, 1, 0, 0, 1, 1, 1, 0, 1, 1, 1, 1, 1, 1,\n",
              "       1, 1, 1, 1, 1, 0, 1, 0, 0, 1, 1, 1, 1, 1, 1, 1, 1, 1, 1, 1, 1, 1,\n",
              "       1, 1, 1, 1, 1, 1, 1, 1, 1, 1, 1, 1, 0, 0, 0, 0, 0, 0, 1])"
            ]
          },
          "metadata": {
            "tags": []
          },
          "execution_count": 8
        }
      ]
    },
    {
      "cell_type": "code",
      "metadata": {
        "id": "YFXPFIiB5Osq",
        "colab_type": "code",
        "outputId": "acb1f29e-f0aa-4ba3-81ac-71dd7a51aaec",
        "colab": {
          "base_uri": "https://localhost:8080/",
          "height": 34
        }
      },
      "source": [
        "# their meaning is not lost\n",
        "data.target_names"
      ],
      "execution_count": 9,
      "outputs": [
        {
          "output_type": "execute_result",
          "data": {
            "text/plain": [
              "array(['malignant', 'benign'], dtype='<U9')"
            ]
          },
          "metadata": {
            "tags": []
          },
          "execution_count": 9
        }
      ]
    },
    {
      "cell_type": "code",
      "metadata": {
        "id": "hujO3u7j5Qm-",
        "colab_type": "code",
        "outputId": "0c533d76-5035-4800-9f3d-595b91c321a2",
        "colab": {
          "base_uri": "https://localhost:8080/",
          "height": 34
        }
      },
      "source": [
        "# there are also 569 corresponding targets\n",
        "data.target.shape"
      ],
      "execution_count": 10,
      "outputs": [
        {
          "output_type": "execute_result",
          "data": {
            "text/plain": [
              "(569,)"
            ]
          },
          "metadata": {
            "tags": []
          },
          "execution_count": 10
        }
      ]
    },
    {
      "cell_type": "code",
      "metadata": {
        "id": "q3o3h2l95SJ0",
        "colab_type": "code",
        "outputId": "0eaa224e-16fc-4e13-e369-255ffdd68fb7",
        "colab": {
          "base_uri": "https://localhost:8080/",
          "height": 187
        }
      },
      "source": [
        "# you can also determine the meaning of each feature\n",
        "data.feature_names"
      ],
      "execution_count": 11,
      "outputs": [
        {
          "output_type": "execute_result",
          "data": {
            "text/plain": [
              "array(['mean radius', 'mean texture', 'mean perimeter', 'mean area',\n",
              "       'mean smoothness', 'mean compactness', 'mean concavity',\n",
              "       'mean concave points', 'mean symmetry', 'mean fractal dimension',\n",
              "       'radius error', 'texture error', 'perimeter error', 'area error',\n",
              "       'smoothness error', 'compactness error', 'concavity error',\n",
              "       'concave points error', 'symmetry error',\n",
              "       'fractal dimension error', 'worst radius', 'worst texture',\n",
              "       'worst perimeter', 'worst area', 'worst smoothness',\n",
              "       'worst compactness', 'worst concavity', 'worst concave points',\n",
              "       'worst symmetry', 'worst fractal dimension'], dtype='<U23')"
            ]
          },
          "metadata": {
            "tags": []
          },
          "execution_count": 11
        }
      ]
    },
    {
      "cell_type": "code",
      "metadata": {
        "id": "__iUSucB5Tug",
        "colab_type": "code",
        "colab": {}
      },
      "source": [
        "# normally we would put all of our imports at the top\n",
        "# but this lets us tell a story\n",
        "from sklearn.model_selection import train_test_split\n",
        "\n",
        "\n",
        "# split the data into train and test sets\n",
        "# this lets us simulate how our model will perform in the future\n",
        "X_train, X_test, y_train, y_test = train_test_split(data.data, data.target, test_size=0.33)\n",
        "N, D = X_train.shape"
      ],
      "execution_count": 0,
      "outputs": []
    },
    {
      "cell_type": "code",
      "metadata": {
        "id": "fS7cFmYl73H3",
        "colab_type": "code",
        "colab": {}
      },
      "source": [
        "# Scale the data\n",
        "# you'll learn why scaling is needed in a later course\n",
        "from sklearn.preprocessing import StandardScaler\n",
        "\n",
        "scaler = StandardScaler()\n",
        "X_train = scaler.fit_transform(X_train)\n",
        "X_test = scaler.transform(X_test)"
      ],
      "execution_count": 0,
      "outputs": []
    },
    {
      "cell_type": "code",
      "metadata": {
        "id": "y-llhgXY5bmX",
        "colab_type": "code",
        "outputId": "2b7b5d33-757f-4f6b-dc57-ef7a9a145803",
        "colab": {
          "base_uri": "https://localhost:8080/",
          "height": 1000
        }
      },
      "source": [
        "# Now all the fun Tensorflow stuff\n",
        "# Build the model\n",
        "\n",
        "model = tf.keras.models.Sequential([\n",
        "  tf.keras.layers.Input(shape=(D,)),\n",
        "  tf.keras.layers.Dense(1, activation='sigmoid')\n",
        "])\n",
        "\n",
        "model.compile(optimizer='adam',\n",
        "              loss='binary_crossentropy',\n",
        "              metrics=['accuracy'])\n",
        "\n",
        "\n",
        "# Train the model\n",
        "r = model.fit(X_train, y_train, validation_data=(X_test, y_test), epochs=100)\n",
        "\n",
        "\n",
        "# Evaluate the model - evaluate() returns loss and accuracy\n",
        "print(\"Train score:\", model.evaluate(X_train, y_train))\n",
        "print(\"Test score:\", model.evaluate(X_test, y_test))"
      ],
      "execution_count": 14,
      "outputs": [
        {
          "output_type": "stream",
          "text": [
            "Train on 381 samples, validate on 188 samples\n",
            "Epoch 1/100\n",
            "381/381 [==============================] - 2s 4ms/sample - loss: 0.6184 - accuracy: 0.6745 - val_loss: 0.5751 - val_accuracy: 0.7447\n",
            "Epoch 2/100\n",
            "381/381 [==============================] - 0s 187us/sample - loss: 0.5621 - accuracy: 0.7297 - val_loss: 0.5197 - val_accuracy: 0.7926\n",
            "Epoch 3/100\n",
            "381/381 [==============================] - 0s 181us/sample - loss: 0.5128 - accuracy: 0.7638 - val_loss: 0.4712 - val_accuracy: 0.8245\n",
            "Epoch 4/100\n",
            "381/381 [==============================] - 0s 201us/sample - loss: 0.4687 - accuracy: 0.8031 - val_loss: 0.4303 - val_accuracy: 0.8404\n",
            "Epoch 5/100\n",
            "381/381 [==============================] - 0s 186us/sample - loss: 0.4323 - accuracy: 0.8189 - val_loss: 0.3943 - val_accuracy: 0.8457\n",
            "Epoch 6/100\n",
            "381/381 [==============================] - 0s 176us/sample - loss: 0.3991 - accuracy: 0.8373 - val_loss: 0.3647 - val_accuracy: 0.8670\n",
            "Epoch 7/100\n",
            "381/381 [==============================] - 0s 177us/sample - loss: 0.3729 - accuracy: 0.8504 - val_loss: 0.3375 - val_accuracy: 0.8830\n",
            "Epoch 8/100\n",
            "381/381 [==============================] - 0s 186us/sample - loss: 0.3472 - accuracy: 0.8609 - val_loss: 0.3160 - val_accuracy: 0.8883\n",
            "Epoch 9/100\n",
            "381/381 [==============================] - 0s 193us/sample - loss: 0.3264 - accuracy: 0.8766 - val_loss: 0.2968 - val_accuracy: 0.8936\n",
            "Epoch 10/100\n",
            "381/381 [==============================] - 0s 179us/sample - loss: 0.3084 - accuracy: 0.8845 - val_loss: 0.2795 - val_accuracy: 0.8936\n",
            "Epoch 11/100\n",
            "381/381 [==============================] - 0s 174us/sample - loss: 0.2920 - accuracy: 0.9081 - val_loss: 0.2645 - val_accuracy: 0.9149\n",
            "Epoch 12/100\n",
            "381/381 [==============================] - 0s 181us/sample - loss: 0.2782 - accuracy: 0.9186 - val_loss: 0.2511 - val_accuracy: 0.9202\n",
            "Epoch 13/100\n",
            "381/381 [==============================] - 0s 186us/sample - loss: 0.2647 - accuracy: 0.9318 - val_loss: 0.2401 - val_accuracy: 0.9202\n",
            "Epoch 14/100\n",
            "381/381 [==============================] - 0s 180us/sample - loss: 0.2537 - accuracy: 0.9370 - val_loss: 0.2299 - val_accuracy: 0.9202\n",
            "Epoch 15/100\n",
            "381/381 [==============================] - 0s 188us/sample - loss: 0.2432 - accuracy: 0.9344 - val_loss: 0.2210 - val_accuracy: 0.9149\n",
            "Epoch 16/100\n",
            "381/381 [==============================] - 0s 186us/sample - loss: 0.2338 - accuracy: 0.9344 - val_loss: 0.2129 - val_accuracy: 0.9202\n",
            "Epoch 17/100\n",
            "381/381 [==============================] - 0s 179us/sample - loss: 0.2254 - accuracy: 0.9370 - val_loss: 0.2059 - val_accuracy: 0.9309\n",
            "Epoch 18/100\n",
            "381/381 [==============================] - 0s 209us/sample - loss: 0.2177 - accuracy: 0.9370 - val_loss: 0.1994 - val_accuracy: 0.9309\n",
            "Epoch 19/100\n",
            "381/381 [==============================] - 0s 186us/sample - loss: 0.2104 - accuracy: 0.9396 - val_loss: 0.1933 - val_accuracy: 0.9362\n",
            "Epoch 20/100\n",
            "381/381 [==============================] - 0s 179us/sample - loss: 0.2040 - accuracy: 0.9423 - val_loss: 0.1873 - val_accuracy: 0.9415\n",
            "Epoch 21/100\n",
            "381/381 [==============================] - 0s 180us/sample - loss: 0.1979 - accuracy: 0.9449 - val_loss: 0.1821 - val_accuracy: 0.9415\n",
            "Epoch 22/100\n",
            "381/381 [==============================] - 0s 183us/sample - loss: 0.1922 - accuracy: 0.9475 - val_loss: 0.1777 - val_accuracy: 0.9415\n",
            "Epoch 23/100\n",
            "381/381 [==============================] - 0s 188us/sample - loss: 0.1869 - accuracy: 0.9501 - val_loss: 0.1739 - val_accuracy: 0.9468\n",
            "Epoch 24/100\n",
            "381/381 [==============================] - 0s 179us/sample - loss: 0.1821 - accuracy: 0.9501 - val_loss: 0.1697 - val_accuracy: 0.9468\n",
            "Epoch 25/100\n",
            "381/381 [==============================] - 0s 188us/sample - loss: 0.1775 - accuracy: 0.9501 - val_loss: 0.1662 - val_accuracy: 0.9468\n",
            "Epoch 26/100\n",
            "381/381 [==============================] - 0s 185us/sample - loss: 0.1733 - accuracy: 0.9501 - val_loss: 0.1630 - val_accuracy: 0.9468\n",
            "Epoch 27/100\n",
            "381/381 [==============================] - 0s 182us/sample - loss: 0.1692 - accuracy: 0.9501 - val_loss: 0.1596 - val_accuracy: 0.9468\n",
            "Epoch 28/100\n",
            "381/381 [==============================] - 0s 196us/sample - loss: 0.1653 - accuracy: 0.9501 - val_loss: 0.1567 - val_accuracy: 0.9468\n",
            "Epoch 29/100\n",
            "381/381 [==============================] - 0s 185us/sample - loss: 0.1616 - accuracy: 0.9528 - val_loss: 0.1543 - val_accuracy: 0.9468\n",
            "Epoch 30/100\n",
            "381/381 [==============================] - 0s 185us/sample - loss: 0.1583 - accuracy: 0.9554 - val_loss: 0.1518 - val_accuracy: 0.9468\n",
            "Epoch 31/100\n",
            "381/381 [==============================] - 0s 186us/sample - loss: 0.1551 - accuracy: 0.9554 - val_loss: 0.1495 - val_accuracy: 0.9468\n",
            "Epoch 32/100\n",
            "381/381 [==============================] - 0s 205us/sample - loss: 0.1520 - accuracy: 0.9554 - val_loss: 0.1474 - val_accuracy: 0.9468\n",
            "Epoch 33/100\n",
            "381/381 [==============================] - 0s 175us/sample - loss: 0.1491 - accuracy: 0.9528 - val_loss: 0.1453 - val_accuracy: 0.9521\n",
            "Epoch 34/100\n",
            "381/381 [==============================] - 0s 202us/sample - loss: 0.1463 - accuracy: 0.9554 - val_loss: 0.1436 - val_accuracy: 0.9521\n",
            "Epoch 35/100\n",
            "381/381 [==============================] - 0s 190us/sample - loss: 0.1439 - accuracy: 0.9580 - val_loss: 0.1417 - val_accuracy: 0.9521\n",
            "Epoch 36/100\n",
            "381/381 [==============================] - 0s 185us/sample - loss: 0.1414 - accuracy: 0.9606 - val_loss: 0.1397 - val_accuracy: 0.9521\n",
            "Epoch 37/100\n",
            "381/381 [==============================] - 0s 195us/sample - loss: 0.1388 - accuracy: 0.9659 - val_loss: 0.1380 - val_accuracy: 0.9521\n",
            "Epoch 38/100\n",
            "381/381 [==============================] - 0s 190us/sample - loss: 0.1367 - accuracy: 0.9659 - val_loss: 0.1367 - val_accuracy: 0.9574\n",
            "Epoch 39/100\n",
            "381/381 [==============================] - 0s 176us/sample - loss: 0.1345 - accuracy: 0.9659 - val_loss: 0.1349 - val_accuracy: 0.9574\n",
            "Epoch 40/100\n",
            "381/381 [==============================] - 0s 183us/sample - loss: 0.1324 - accuracy: 0.9659 - val_loss: 0.1336 - val_accuracy: 0.9628\n",
            "Epoch 41/100\n",
            "381/381 [==============================] - 0s 179us/sample - loss: 0.1304 - accuracy: 0.9685 - val_loss: 0.1323 - val_accuracy: 0.9628\n",
            "Epoch 42/100\n",
            "381/381 [==============================] - 0s 202us/sample - loss: 0.1285 - accuracy: 0.9685 - val_loss: 0.1311 - val_accuracy: 0.9628\n",
            "Epoch 43/100\n",
            "381/381 [==============================] - 0s 182us/sample - loss: 0.1266 - accuracy: 0.9685 - val_loss: 0.1297 - val_accuracy: 0.9628\n",
            "Epoch 44/100\n",
            "381/381 [==============================] - 0s 177us/sample - loss: 0.1249 - accuracy: 0.9685 - val_loss: 0.1287 - val_accuracy: 0.9628\n",
            "Epoch 45/100\n",
            "381/381 [==============================] - 0s 180us/sample - loss: 0.1232 - accuracy: 0.9685 - val_loss: 0.1274 - val_accuracy: 0.9628\n",
            "Epoch 46/100\n",
            "381/381 [==============================] - 0s 193us/sample - loss: 0.1217 - accuracy: 0.9685 - val_loss: 0.1263 - val_accuracy: 0.9628\n",
            "Epoch 47/100\n",
            "381/381 [==============================] - 0s 182us/sample - loss: 0.1200 - accuracy: 0.9685 - val_loss: 0.1251 - val_accuracy: 0.9628\n",
            "Epoch 48/100\n",
            "381/381 [==============================] - 0s 180us/sample - loss: 0.1185 - accuracy: 0.9685 - val_loss: 0.1242 - val_accuracy: 0.9628\n",
            "Epoch 49/100\n",
            "381/381 [==============================] - 0s 192us/sample - loss: 0.1171 - accuracy: 0.9685 - val_loss: 0.1233 - val_accuracy: 0.9628\n",
            "Epoch 50/100\n",
            "381/381 [==============================] - 0s 185us/sample - loss: 0.1157 - accuracy: 0.9685 - val_loss: 0.1225 - val_accuracy: 0.9628\n",
            "Epoch 51/100\n",
            "381/381 [==============================] - 0s 178us/sample - loss: 0.1144 - accuracy: 0.9685 - val_loss: 0.1214 - val_accuracy: 0.9628\n",
            "Epoch 52/100\n",
            "381/381 [==============================] - 0s 172us/sample - loss: 0.1130 - accuracy: 0.9685 - val_loss: 0.1206 - val_accuracy: 0.9628\n",
            "Epoch 53/100\n",
            "381/381 [==============================] - 0s 181us/sample - loss: 0.1117 - accuracy: 0.9685 - val_loss: 0.1199 - val_accuracy: 0.9628\n",
            "Epoch 54/100\n",
            "381/381 [==============================] - 0s 181us/sample - loss: 0.1106 - accuracy: 0.9685 - val_loss: 0.1190 - val_accuracy: 0.9628\n",
            "Epoch 55/100\n",
            "381/381 [==============================] - 0s 183us/sample - loss: 0.1093 - accuracy: 0.9685 - val_loss: 0.1183 - val_accuracy: 0.9628\n",
            "Epoch 56/100\n",
            "381/381 [==============================] - 0s 185us/sample - loss: 0.1082 - accuracy: 0.9685 - val_loss: 0.1176 - val_accuracy: 0.9628\n",
            "Epoch 57/100\n",
            "381/381 [==============================] - 0s 185us/sample - loss: 0.1071 - accuracy: 0.9685 - val_loss: 0.1170 - val_accuracy: 0.9628\n",
            "Epoch 58/100\n",
            "381/381 [==============================] - 0s 185us/sample - loss: 0.1060 - accuracy: 0.9685 - val_loss: 0.1163 - val_accuracy: 0.9628\n",
            "Epoch 59/100\n",
            "381/381 [==============================] - 0s 179us/sample - loss: 0.1050 - accuracy: 0.9685 - val_loss: 0.1156 - val_accuracy: 0.9628\n",
            "Epoch 60/100\n",
            "381/381 [==============================] - 0s 168us/sample - loss: 0.1040 - accuracy: 0.9685 - val_loss: 0.1149 - val_accuracy: 0.9628\n",
            "Epoch 61/100\n",
            "381/381 [==============================] - 0s 206us/sample - loss: 0.1030 - accuracy: 0.9685 - val_loss: 0.1144 - val_accuracy: 0.9628\n",
            "Epoch 62/100\n",
            "381/381 [==============================] - 0s 187us/sample - loss: 0.1021 - accuracy: 0.9685 - val_loss: 0.1138 - val_accuracy: 0.9628\n",
            "Epoch 63/100\n",
            "381/381 [==============================] - 0s 184us/sample - loss: 0.1011 - accuracy: 0.9685 - val_loss: 0.1132 - val_accuracy: 0.9681\n",
            "Epoch 64/100\n",
            "381/381 [==============================] - 0s 216us/sample - loss: 0.1002 - accuracy: 0.9685 - val_loss: 0.1127 - val_accuracy: 0.9681\n",
            "Epoch 65/100\n",
            "381/381 [==============================] - 0s 220us/sample - loss: 0.0993 - accuracy: 0.9685 - val_loss: 0.1122 - val_accuracy: 0.9681\n",
            "Epoch 66/100\n",
            "381/381 [==============================] - 0s 199us/sample - loss: 0.0985 - accuracy: 0.9685 - val_loss: 0.1116 - val_accuracy: 0.9681\n",
            "Epoch 67/100\n",
            "381/381 [==============================] - 0s 183us/sample - loss: 0.0976 - accuracy: 0.9685 - val_loss: 0.1111 - val_accuracy: 0.9681\n",
            "Epoch 68/100\n",
            "381/381 [==============================] - 0s 183us/sample - loss: 0.0968 - accuracy: 0.9685 - val_loss: 0.1106 - val_accuracy: 0.9681\n",
            "Epoch 69/100\n",
            "381/381 [==============================] - 0s 179us/sample - loss: 0.0960 - accuracy: 0.9685 - val_loss: 0.1102 - val_accuracy: 0.9681\n",
            "Epoch 70/100\n",
            "381/381 [==============================] - 0s 194us/sample - loss: 0.0953 - accuracy: 0.9685 - val_loss: 0.1097 - val_accuracy: 0.9681\n",
            "Epoch 71/100\n",
            "381/381 [==============================] - 0s 185us/sample - loss: 0.0945 - accuracy: 0.9685 - val_loss: 0.1094 - val_accuracy: 0.9681\n",
            "Epoch 72/100\n",
            "381/381 [==============================] - 0s 183us/sample - loss: 0.0938 - accuracy: 0.9685 - val_loss: 0.1090 - val_accuracy: 0.9681\n",
            "Epoch 73/100\n",
            "381/381 [==============================] - 0s 188us/sample - loss: 0.0931 - accuracy: 0.9685 - val_loss: 0.1085 - val_accuracy: 0.9681\n",
            "Epoch 74/100\n",
            "381/381 [==============================] - 0s 191us/sample - loss: 0.0923 - accuracy: 0.9685 - val_loss: 0.1081 - val_accuracy: 0.9681\n",
            "Epoch 75/100\n",
            "381/381 [==============================] - 0s 192us/sample - loss: 0.0917 - accuracy: 0.9711 - val_loss: 0.1078 - val_accuracy: 0.9681\n",
            "Epoch 76/100\n",
            "381/381 [==============================] - 0s 214us/sample - loss: 0.0910 - accuracy: 0.9738 - val_loss: 0.1074 - val_accuracy: 0.9681\n",
            "Epoch 77/100\n",
            "381/381 [==============================] - 0s 198us/sample - loss: 0.0904 - accuracy: 0.9738 - val_loss: 0.1070 - val_accuracy: 0.9681\n",
            "Epoch 78/100\n",
            "381/381 [==============================] - 0s 178us/sample - loss: 0.0897 - accuracy: 0.9738 - val_loss: 0.1067 - val_accuracy: 0.9681\n",
            "Epoch 79/100\n",
            "381/381 [==============================] - 0s 171us/sample - loss: 0.0891 - accuracy: 0.9738 - val_loss: 0.1063 - val_accuracy: 0.9681\n",
            "Epoch 80/100\n",
            "381/381 [==============================] - 0s 181us/sample - loss: 0.0885 - accuracy: 0.9738 - val_loss: 0.1060 - val_accuracy: 0.9681\n",
            "Epoch 81/100\n",
            "381/381 [==============================] - 0s 178us/sample - loss: 0.0879 - accuracy: 0.9790 - val_loss: 0.1058 - val_accuracy: 0.9681\n",
            "Epoch 82/100\n",
            "381/381 [==============================] - 0s 185us/sample - loss: 0.0873 - accuracy: 0.9790 - val_loss: 0.1054 - val_accuracy: 0.9681\n",
            "Epoch 83/100\n",
            "381/381 [==============================] - 0s 199us/sample - loss: 0.0867 - accuracy: 0.9790 - val_loss: 0.1051 - val_accuracy: 0.9681\n",
            "Epoch 84/100\n",
            "381/381 [==============================] - 0s 186us/sample - loss: 0.0861 - accuracy: 0.9790 - val_loss: 0.1049 - val_accuracy: 0.9681\n",
            "Epoch 85/100\n",
            "381/381 [==============================] - 0s 180us/sample - loss: 0.0856 - accuracy: 0.9790 - val_loss: 0.1047 - val_accuracy: 0.9681\n",
            "Epoch 86/100\n",
            "381/381 [==============================] - 0s 183us/sample - loss: 0.0851 - accuracy: 0.9790 - val_loss: 0.1044 - val_accuracy: 0.9681\n",
            "Epoch 87/100\n",
            "381/381 [==============================] - 0s 182us/sample - loss: 0.0845 - accuracy: 0.9790 - val_loss: 0.1041 - val_accuracy: 0.9681\n",
            "Epoch 88/100\n",
            "381/381 [==============================] - 0s 216us/sample - loss: 0.0840 - accuracy: 0.9790 - val_loss: 0.1038 - val_accuracy: 0.9681\n",
            "Epoch 89/100\n",
            "381/381 [==============================] - 0s 176us/sample - loss: 0.0835 - accuracy: 0.9790 - val_loss: 0.1035 - val_accuracy: 0.9681\n",
            "Epoch 90/100\n",
            "381/381 [==============================] - 0s 183us/sample - loss: 0.0830 - accuracy: 0.9790 - val_loss: 0.1032 - val_accuracy: 0.9681\n",
            "Epoch 91/100\n",
            "381/381 [==============================] - 0s 183us/sample - loss: 0.0825 - accuracy: 0.9790 - val_loss: 0.1029 - val_accuracy: 0.9681\n",
            "Epoch 92/100\n",
            "381/381 [==============================] - 0s 190us/sample - loss: 0.0819 - accuracy: 0.9790 - val_loss: 0.1028 - val_accuracy: 0.9681\n",
            "Epoch 93/100\n",
            "381/381 [==============================] - 0s 194us/sample - loss: 0.0815 - accuracy: 0.9790 - val_loss: 0.1026 - val_accuracy: 0.9734\n",
            "Epoch 94/100\n",
            "381/381 [==============================] - 0s 188us/sample - loss: 0.0811 - accuracy: 0.9790 - val_loss: 0.1025 - val_accuracy: 0.9734\n",
            "Epoch 95/100\n",
            "381/381 [==============================] - 0s 175us/sample - loss: 0.0806 - accuracy: 0.9790 - val_loss: 0.1023 - val_accuracy: 0.9734\n",
            "Epoch 96/100\n",
            "381/381 [==============================] - 0s 186us/sample - loss: 0.0802 - accuracy: 0.9790 - val_loss: 0.1019 - val_accuracy: 0.9734\n",
            "Epoch 97/100\n",
            "381/381 [==============================] - 0s 189us/sample - loss: 0.0797 - accuracy: 0.9790 - val_loss: 0.1017 - val_accuracy: 0.9734\n",
            "Epoch 98/100\n",
            "381/381 [==============================] - 0s 178us/sample - loss: 0.0792 - accuracy: 0.9790 - val_loss: 0.1016 - val_accuracy: 0.9734\n",
            "Epoch 99/100\n",
            "381/381 [==============================] - 0s 176us/sample - loss: 0.0788 - accuracy: 0.9790 - val_loss: 0.1014 - val_accuracy: 0.9734\n",
            "Epoch 100/100\n",
            "381/381 [==============================] - 0s 183us/sample - loss: 0.0784 - accuracy: 0.9790 - val_loss: 0.1011 - val_accuracy: 0.9734\n",
            "381/1 [======================================================================================================================================================================================================================================================================================================================================================================================================================================================================================================================================================================================================================================================================================================================================================================================================================================================================================================================================================================================================================================================================================================================================================================================================================================================================================================================================================================================================================================================================================================================================================================================================================================================================================================================================================================================================================================================================================================================================================================================================================================================================================================================================================================================================================================================================================================================================================================================================================================================================================================================================================================================================================================================================================================================================================================================================================================================================================================================================================================================================================================================================================================================================================================================================================================================================================================================================================================================================================================================================================================================================================================================================================================================================================================================================================================================================================================================================================================================================================================================================================================================================================================================================================================================================================================================================================================================================================================================================================================================================================================================================================================================================================================================================================================================================================================================================================================================================================================================================================================================================================================================================================================================================================================================================================================================================================================================================================================================================================================================================================================================================================================================================================================================================================================================================================================================================================================================================================================================================================================================================================================================================================================================================================================================================================================================================================================================================================================================================================================================================================================================================================================================================================================================================================================================================================================================================================================================================================================================================================================================================================================================================================================================================================================================================================================================================================================================================================================================================================================================================================================================================================================================================================================================================================================================================================================================================================================================================================================================================================================================================================================================================================================================================================================================================================================================================================================================================================================================================================================================================================================================================================================================================================================================================================================================================================================================================================================================================================================================================================================================================================================================================================================================================================================================================================================================================================================================================================================================================================================================================================================================================================================================================================================================================================================================================================================================================================================================================================================================================================================================================================================================================================================================================================================================================================================================================================================================================================================================================================================================================================================================================================================================================================================================================================================================================================================================================================================================================================================================================================================================================================================================================================================================================================================================================================================================================================================================================================================================================================================================================================================================================================================================================================================================================================================================================================================================================================================================================================================] - 0s 83us/sample - loss: 0.0761 - accuracy: 0.9790\n",
            "Train score: [0.07811567224464391, 0.9790026]\n",
            "188/1 [========================================================================================================================================================================================================================================================================================================================================================================================================================================================================================================================================================================================================================================================================================================================================================================================================================================================================================================================================================================================================================================================================================================================================================================================================================================================================================================================================================================================================================================================================================================================================================================================================================================================================================================================================================================================================================================================================================================================================================================================================================================================================================================================================================================================================================================================================================================================================================================================================================================================================================================================================================================================================================================================================================================================================================================================================================================================================================================================================================================================================================================================================================================================================================================================================================================================================================================================================================================================================================================================================================================================================================================================================================================================================================================================================================================================================================================================================================================================================================================================================================================================================================================================================================================================================================================================================================================================================================================================================================================================================================================================================================================================================================================================================================================================================================================================================================================================================================================================================================================================================================================================================================================================================================================================================================================================================================================================================================================================================================================================================================================================================================================================================================================================================================================================================================================================================================================================================] - 0s 144us/sample - loss: 0.0841 - accuracy: 0.9734\n",
            "Test score: [0.10113014233239154, 0.9734042]\n"
          ],
          "name": "stdout"
        }
      ]
    },
    {
      "cell_type": "code",
      "metadata": {
        "id": "W0fK5PQc8aJ_",
        "colab_type": "code",
        "outputId": "41290ea8-d301-4213-e29d-ecdaf17c546a",
        "colab": {
          "base_uri": "https://localhost:8080/",
          "height": 282
        }
      },
      "source": [
        "# Plot what's returned by model.fit()\n",
        "import matplotlib.pyplot as plt\n",
        "plt.plot(r.history['loss'], label='loss')\n",
        "plt.plot(r.history['val_loss'], label='val_loss')\n",
        "plt.legend()"
      ],
      "execution_count": 15,
      "outputs": [
        {
          "output_type": "execute_result",
          "data": {
            "text/plain": [
              "<matplotlib.legend.Legend at 0x7f1d30187780>"
            ]
          },
          "metadata": {
            "tags": []
          },
          "execution_count": 15
        },
        {
          "output_type": "display_data",
          "data": {
            "image/png": "[encoded data removed]",
            "text/plain": [
              "<Figure size 432x288 with 1 Axes>"
            ]
          },
          "metadata": {
            "tags": []
          }
        }
      ]
    },
    {
      "cell_type": "code",
      "metadata": {
        "id": "VBAA2UY28vJN",
        "colab_type": "code",
        "outputId": "2764b8ce-2fd7-44a8-8acf-0485c76e24db",
        "colab": {
          "base_uri": "https://localhost:8080/",
          "height": 282
        }
      },
      "source": [
        "# Plot the accuracy too\n",
        "plt.plot(r.history['accuracy'], label='acc')\n",
        "plt.plot(r.history['val_accuracy'], label='val_acc')\n",
        "plt.legend()"
      ],
      "execution_count": 16,
      "outputs": [
        {
          "output_type": "execute_result",
          "data": {
            "text/plain": [
              "<matplotlib.legend.Legend at 0x7f1d304a0a90>"
            ]
          },
          "metadata": {
            "tags": []
          },
          "execution_count": 16
        },
        {
          "output_type": "display_data",
          "data": {
            "image/png": "[encoded data removed]",
            "text/plain": [
              "<Figure size 432x288 with 1 Axes>"
            ]
          },
          "metadata": {
            "tags": []
          }
        }
      ]
    },
    {
      "cell_type": "markdown",
      "metadata": {
        "id": "GrZnHBI8NH-u",
        "colab_type": "text"
      },
      "source": [
        "# Part 2: Making Predictions\n",
        "\n",
        "This goes with the lecture \"Making Predictions\""
      ]
    },
    {
      "cell_type": "code",
      "metadata": {
        "id": "Ss1LJwIVKREf",
        "colab_type": "code",
        "outputId": "a2cfbcf5-7d11-4216-9db7-b7227b176c1c",
        "colab": {
          "base_uri": "https://localhost:8080/",
          "height": 1000
        }
      },
      "source": [
        "# Make predictions\n",
        "P = model.predict(X_test)\n",
        "print(P) # they are outputs of the sigmoid, interpreted as probabilities p(y = 1 | x)"
      ],
      "execution_count": 17,
      "outputs": [
        {
          "output_type": "stream",
          "text": [
            "[[9.9813902e-01]\n",
            " [5.1316738e-02]\n",
            " [1.0371208e-05]\n",
            " [9.8799264e-01]\n",
            " [7.4748492e-01]\n",
            " [7.7042031e-01]\n",
            " [3.5464764e-05]\n",
            " [3.1888485e-05]\n",
            " [8.9108944e-06]\n",
            " [9.9712205e-01]\n",
            " [9.9472463e-01]\n",
            " [9.9211419e-01]\n",
            " [9.6387517e-01]\n",
            " [6.3058561e-01]\n",
            " [9.9980938e-01]\n",
            " [9.9653304e-01]\n",
            " [9.9332571e-01]\n",
            " [9.7124976e-01]\n",
            " [9.5854002e-01]\n",
            " [2.3803115e-04]\n",
            " [1.0019541e-04]\n",
            " [2.5540590e-05]\n",
            " [9.9894702e-01]\n",
            " [9.5452726e-01]\n",
            " [6.1470270e-04]\n",
            " [9.9822414e-01]\n",
            " [9.6205097e-01]\n",
            " [9.8772669e-01]\n",
            " [3.5459033e-01]\n",
            " [2.4079084e-01]\n",
            " [6.7627430e-04]\n",
            " [3.1209290e-03]\n",
            " [2.5272369e-05]\n",
            " [9.6964133e-01]\n",
            " [9.9725676e-01]\n",
            " [9.9813712e-01]\n",
            " [9.5046592e-01]\n",
            " [2.7947545e-02]\n",
            " [5.4727381e-01]\n",
            " [9.9236590e-01]\n",
            " [4.6133995e-05]\n",
            " [9.5931160e-01]\n",
            " [3.5464764e-06]\n",
            " [9.9140573e-01]\n",
            " [1.1939371e-01]\n",
            " [9.9968827e-01]\n",
            " [9.8796779e-01]\n",
            " [9.4805610e-01]\n",
            " [8.7241185e-01]\n",
            " [5.2564454e-01]\n",
            " [8.9874846e-01]\n",
            " [9.9898785e-01]\n",
            " [2.8610229e-06]\n",
            " [8.1695610e-01]\n",
            " [7.8891754e-01]\n",
            " [9.5965600e-01]\n",
            " [2.9802322e-08]\n",
            " [9.9890983e-01]\n",
            " [9.2585516e-01]\n",
            " [8.7579286e-01]\n",
            " [5.6205118e-01]\n",
            " [3.4230947e-04]\n",
            " [4.6443939e-04]\n",
            " [9.9960482e-01]\n",
            " [8.6837351e-02]\n",
            " [4.0531158e-06]\n",
            " [3.6329031e-05]\n",
            " [9.8487067e-01]\n",
            " [2.0265579e-05]\n",
            " [9.9862838e-01]\n",
            " [4.5582014e-01]\n",
            " [2.3603141e-02]\n",
            " [9.9658984e-01]\n",
            " [9.9932706e-01]\n",
            " [9.9955535e-01]\n",
            " [9.9149638e-01]\n",
            " [0.0000000e+00]\n",
            " [9.9844581e-01]\n",
            " [9.9888337e-01]\n",
            " [9.9900579e-01]\n",
            " [2.6853150e-01]\n",
            " [1.3965070e-03]\n",
            " [1.7881393e-07]\n",
            " [9.9343842e-01]\n",
            " [9.9443990e-01]\n",
            " [8.6455524e-01]\n",
            " [9.9580050e-01]\n",
            " [9.9568808e-01]\n",
            " [1.5028417e-03]\n",
            " [2.3026347e-02]\n",
            " [9.9960291e-01]\n",
            " [8.3513260e-03]\n",
            " [9.6998656e-01]\n",
            " [9.6068025e-02]\n",
            " [5.8442354e-05]\n",
            " [2.3497641e-03]\n",
            " [9.9814057e-01]\n",
            " [9.2620462e-01]\n",
            " [2.9628396e-02]\n",
            " [9.9211466e-01]\n",
            " [9.8916173e-01]\n",
            " [6.5787137e-03]\n",
            " [3.9779994e-01]\n",
            " [9.9738073e-01]\n",
            " [9.9849796e-01]\n",
            " [3.9692217e-01]\n",
            " [4.9144265e-01]\n",
            " [1.5196204e-04]\n",
            " [6.2094098e-01]\n",
            " [9.9570352e-01]\n",
            " [9.5558810e-01]\n",
            " [9.8449850e-01]\n",
            " [8.1273234e-01]\n",
            " [9.7718954e-01]\n",
            " [9.5835376e-01]\n",
            " [4.1865498e-02]\n",
            " [9.2123073e-01]\n",
            " [1.1920929e-07]\n",
            " [9.9964625e-01]\n",
            " [4.1723251e-06]\n",
            " [9.9699092e-01]\n",
            " [7.3900354e-01]\n",
            " [8.7278390e-01]\n",
            " [9.9943900e-01]\n",
            " [1.0534227e-03]\n",
            " [5.9604645e-08]\n",
            " [9.9938679e-01]\n",
            " [9.8933232e-01]\n",
            " [9.7300106e-01]\n",
            " [3.8135830e-01]\n",
            " [9.9862266e-01]\n",
            " [2.2554100e-03]\n",
            " [2.9386878e-03]\n",
            " [9.9685609e-01]\n",
            " [9.9891883e-01]\n",
            " [9.9164510e-01]\n",
            " [4.9730241e-03]\n",
            " [2.9656291e-04]\n",
            " [7.0264888e-01]\n",
            " [0.0000000e+00]\n",
            " [9.8270166e-01]\n",
            " [9.9977565e-01]\n",
            " [9.9994856e-01]\n",
            " [9.6911401e-01]\n",
            " [3.1488529e-01]\n",
            " [9.9994111e-01]\n",
            " [9.9842912e-01]\n",
            " [9.8696655e-01]\n",
            " [9.9810201e-01]\n",
            " [9.9906397e-01]\n",
            " [9.5624006e-01]\n",
            " [9.2975950e-01]\n",
            " [2.6297569e-04]\n",
            " [9.6622658e-01]\n",
            " [9.9125421e-01]\n",
            " [1.3903409e-02]\n",
            " [9.8696828e-01]\n",
            " [4.0922463e-03]\n",
            " [9.9994105e-01]\n",
            " [8.3544278e-01]\n",
            " [1.9073486e-06]\n",
            " [9.8288190e-01]\n",
            " [9.9006629e-01]\n",
            " [9.9689531e-01]\n",
            " [7.9931152e-01]\n",
            " [9.9994701e-01]\n",
            " [1.0728836e-06]\n",
            " [8.6239159e-01]\n",
            " [5.0459361e-01]\n",
            " [8.9499247e-01]\n",
            " [1.3272122e-01]\n",
            " [2.6822090e-07]\n",
            " [1.1920929e-07]\n",
            " [1.1242032e-02]\n",
            " [9.8851156e-01]\n",
            " [4.4703484e-05]\n",
            " [9.4520593e-01]\n",
            " [0.0000000e+00]\n",
            " [5.9604645e-08]\n",
            " [9.9939823e-01]\n",
            " [2.3841858e-06]\n",
            " [9.9236125e-01]\n",
            " [2.9760301e-03]\n",
            " [9.9886608e-01]\n",
            " [9.9542594e-01]\n",
            " [5.1594377e-03]\n",
            " [3.4327662e-01]\n",
            " [9.8347664e-07]]\n"
          ],
          "name": "stdout"
        }
      ]
    },
    {
      "cell_type": "code",
      "metadata": {
        "id": "Tv0cN7J6KoVu",
        "colab_type": "code",
        "outputId": "ddc35bbd-ff2b-4573-aa8d-33fe81400ba3",
        "colab": {
          "base_uri": "https://localhost:8080/",
          "height": 153
        }
      },
      "source": [
        "# Round to get the actual predictions\n",
        "# Note: has to be flattened since the targets are size (N,) while the predictions are size (N,1)\n",
        "import numpy as np\n",
        "P = np.round(P).flatten()\n",
        "print(P)"
      ],
      "execution_count": 18,
      "outputs": [
        {
          "output_type": "stream",
          "text": [
            "[1. 0. 0. 1. 1. 1. 0. 0. 0. 1. 1. 1. 1. 1. 1. 1. 1. 1. 1. 0. 0. 0. 1. 1.\n",
            " 0. 1. 1. 1. 0. 0. 0. 0. 0. 1. 1. 1. 1. 0. 1. 1. 0. 1. 0. 1. 0. 1. 1. 1.\n",
            " 1. 1. 1. 1. 0. 1. 1. 1. 0. 1. 1. 1. 1. 0. 0. 1. 0. 0. 0. 1. 0. 1. 0. 0.\n",
            " 1. 1. 1. 1. 0. 1. 1. 1. 0. 0. 0. 1. 1. 1. 1. 1. 0. 0. 1. 0. 1. 0. 0. 0.\n",
            " 1. 1. 0. 1. 1. 0. 0. 1. 1. 0. 0. 0. 1. 1. 1. 1. 1. 1. 1. 0. 1. 0. 1. 0.\n",
            " 1. 1. 1. 1. 0. 0. 1. 1. 1. 0. 1. 0. 0. 1. 1. 1. 0. 0. 1. 0. 1. 1. 1. 1.\n",
            " 0. 1. 1. 1. 1. 1. 1. 1. 0. 1. 1. 0. 1. 0. 1. 1. 0. 1. 1. 1. 1. 1. 0. 1.\n",
            " 1. 1. 0. 0. 0. 0. 1. 0. 1. 0. 0. 1. 0. 1. 0. 1. 1. 0. 0. 0.]\n"
          ],
          "name": "stdout"
        }
      ]
    },
    {
      "cell_type": "code",
      "metadata": {
        "id": "yJU09XkmK4nQ",
        "colab_type": "code",
        "outputId": "1ff6cb2f-c329-4978-ee27-797cfb1ec571",
        "colab": {
          "base_uri": "https://localhost:8080/",
          "height": 88
        }
      },
      "source": [
        "# Calculate the accuracy, compare it to evaluate() output\n",
        "print(\"Manually calculated accuracy:\", np.mean(P == y_test))\n",
        "print(\"Evaluate output:\", model.evaluate(X_test, y_test))"
      ],
      "execution_count": 19,
      "outputs": [
        {
          "output_type": "stream",
          "text": [
            "Manually calculated accuracy: 0.973404255319149\n",
            "\r188/1 [========================================================================================================================================================================================================================================================================================================================================================================================================================================================================================================================================================================================================================================================================================================================================================================================================================================================================================================================================================================================================================================================================================================================================================================================================================================================================================================================================================================================================================================================================================================================================================================================================================================================================================================================================================================================================================================================================================================================================================================================================================================================================================================================================================================================================================================================================================================================================================================================================================================================================================================================================================================================================================================================================================================================================================================================================================================================================================================================================================================================================================================================================================================================================================================================================================================================================================================================================================================================================================================================================================================================================================================================================================================================================================================================================================================================================================================================================================================================================================================================================================================================================================================================================================================================================================================================================================================================================================================================================================================================================================================================================================================================================================================================================================================================================================================================================================================================================================================================================================================================================================================================================================================================================================================================================================================================================================================================================================================================================================================================================================================================================================================================================================================================================================================================================================================================================================================================================] - 0s 86us/sample - loss: 0.0841 - accuracy: 0.9734\n",
            "Evaluate output: [0.10113014233239154, 0.9734042]\n"
          ],
          "name": "stdout"
        }
      ]
    },
    {
      "cell_type": "markdown",
      "metadata": {
        "id": "iogYs0uGNS4l",
        "colab_type": "text"
      },
      "source": [
        "# Part 3: Saving and Loading a Model\n",
        "\n",
        "This goes with the lecture \"Saving and Loading a Model\""
      ]
    },
    {
      "cell_type": "code",
      "metadata": {
        "id": "L1uHxJ2SNXan",
        "colab_type": "code",
        "colab": {}
      },
      "source": [
        "# Let's now save our model to a file\n",
        "model.save('linearclassifier.h5')"
      ],
      "execution_count": 0,
      "outputs": []
    },
    {
      "cell_type": "code",
      "metadata": {
        "id": "F6PHmjb0OFBf",
        "colab_type": "code",
        "outputId": "60ce5f1b-0c94-4438-9281-c73dddab5bfd",
        "colab": {
          "base_uri": "https://localhost:8080/",
          "height": 68
        }
      },
      "source": [
        "# Check that the model file exists\n",
        "!ls -lh "
      ],
      "execution_count": 21,
      "outputs": [
        {
          "output_type": "stream",
          "text": [
            "total 24K\n",
            "-rw-r--r-- 1 root root  19K Dec 12 12:15 linearclassifier.h5\n",
            "drwxr-xr-x 1 root root 4.0K Dec  6 16:53 sample_data\n"
          ],
          "name": "stdout"
        }
      ]
    },
    {
      "cell_type": "code",
      "metadata": {
        "id": "FgFBrBveNoOR",
        "colab_type": "code",
        "outputId": "c421007c-18ee-425c-a1c9-db8066a2d1c3",
        "colab": {
          "base_uri": "https://localhost:8080/",
          "height": 88
        }
      },
      "source": [
        "# Let's load the model and confirm that it still works\n",
        "# Note: there is a bug in Keras where load/save only works if you DON'T use the Input() layer explicitly\n",
        "# So, make sure you define the model with ONLY Dense(1, input_shape=(D,))\n",
        "# At least, until the bug is fixed\n",
        "# https://github.com/keras-team/keras/issues/10417\n",
        "model = tf.keras.models.load_model('linearclassifier.h5')\n",
        "print(model.layers)\n",
        "model.evaluate(X_test, y_test)"
      ],
      "execution_count": 22,
      "outputs": [
        {
          "output_type": "stream",
          "text": [
            "[<tensorflow.python.keras.layers.core.Dense object at 0x7f1ce08ab0b8>]\n",
            "\r188/1 [========================================================================================================================================================================================================================================================================================================================================================================================================================================================================================================================================================================================================================================================================================================================================================================================================================================================================================================================================================================================================================================================================================================================================================================================================================================================================================================================================================================================================================================================================================================================================================================================================================================================================================================================================================================================================================================================================================================================================================================================================================================================================================================================================================================================================================================================================================================================================================================================================================================================================================================================================================================================================================================================================================================================================================================================================================================================================================================================================================================================================================================================================================================================================================================================================================================================================================================================================================================================================================================================================================================================================================================================================================================================================================================================================================================================================================================================================================================================================================================================================================================================================================================================================================================================================================================================================================================================================================================================================================================================================================================================================================================================================================================================================================================================================================================================================================================================================================================================================================================================================================================================================================================================================================================================================================================================================================================================================================================================================================================================================================================================================================================================================================================================================================================================================================================================================================================================================] - 0s 483us/sample - loss: 0.0841 - accuracy: 0.9734\n"
          ],
          "name": "stdout"
        },
        {
          "output_type": "execute_result",
          "data": {
            "text/plain": [
              "[0.10113014233239154, 0.9734042]"
            ]
          },
          "metadata": {
            "tags": []
          },
          "execution_count": 22
        }
      ]
    },
    {
      "cell_type": "code",
      "metadata": {
        "id": "_8rGQI-Rpo2T",
        "colab_type": "code",
        "colab": {}
      },
      "source": [
        "\n",
        "# Download the file - requires Chrome (at this point)\n",
        "from google.colab import files\n",
        "files.download('linearclassifier.h5')"
      ],
      "execution_count": 0,
      "outputs": []
    },
    {
      "cell_type": "code",
      "metadata": {
        "id": "oTJNKJW7CU2b",
        "colab_type": "code",
        "colab": {}
      },
      "source": [
        ""
      ],
      "execution_count": 0,
      "outputs": []
    }
  ]
}