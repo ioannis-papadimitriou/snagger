{
  "nbformat": 4,
  "nbformat_minor": 0,
  "metadata": {
    "colab": {
      "name": "BTC_Returns.ipynb",
      "provenance": [],
      "collapsed_sections": [],
      "toc_visible": true
    },
    "kernelspec": {
      "name": "python3",
      "display_name": "Python 3"
    },
    "accelerator": "GPU"
  },
  "cells": [
    {
      "cell_type": "code",
      "metadata": {
        "id": "JkljvqYBN0Fa",
        "colab_type": "code",
        "outputId": "4e0db00c-f175-4067-ed83-b6468e8dc6dc",
        "colab": {
          "base_uri": "https://localhost:8080/",
          "height": 102
        }
      },
      "source": [
        "try:\n",
        "  %tensorflow_version 2.x  # Colab only.\n",
        "except Exception:\n",
        "  pass\n",
        "\n",
        "import tensorflow as tf\n",
        "from tensorflow.keras.layers import Input, LSTM, GRU, SimpleRNN, Dense, GlobalMaxPool1D\n",
        "from tensorflow.keras.models import Model\n",
        "from tensorflow.keras.optimizers import SGD, Adam\n",
        "\n",
        "import numpy as np\n",
        "import pandas as pd\n",
        "import matplotlib.pyplot as plt\n",
        "from sklearn.preprocessing import StandardScaler"
      ],
      "execution_count": 2,
      "outputs": [
        {
          "output_type": "stream",
          "text": [
            "`%tensorflow_version` only switches the major version: `1.x` or `2.x`.\n",
            "You set: `2.x  # Colab only.`. This will be interpreted as: `2.x`.\n",
            "\n",
            "\n",
            "TensorFlow is already loaded. Please restart the runtime to change versions.\n"
          ],
          "name": "stdout"
        }
      ]
    },
    {
      "cell_type": "code",
      "metadata": {
        "id": "DhvsuKhcNq7t",
        "colab_type": "code",
        "colab": {
          "base_uri": "https://localhost:8080/",
          "height": 34
        },
        "outputId": "f1c2d081-0c47-4f54-a256-14ccfec0bbe1"
      },
      "source": [
        "!pip install wget\n",
        "\n",
        "path = './drive/My Drive/Stock_price/data/btc_1h'\n",
        "\n",
        "import numpy as np\n",
        "import pandas as pd\n",
        "import wget\n",
        "\n",
        "# pull some data\n",
        "url = 'http://www.cryptodatadownload.com/cdd/Coinbase_BTCUSD_1h.csv'\n",
        "table = wget.download(url)\n",
        "\n",
        "df = pd.read_csv('Coinbase_BTCUSD_1h.csv', header = 1, index_col = 'Date')\n",
        "df = df.reindex(index = df.index[::-1])\n",
        "df = df.drop(columns = ['Symbol', 'Volume BTC'])"
      ],
      "execution_count": 3,
      "outputs": [
        {
          "output_type": "stream",
          "text": [
            "Requirement already satisfied: wget in /usr/local/lib/python3.6/dist-packages (3.2)\n"
          ],
          "name": "stdout"
        }
      ]
    },
    {
      "cell_type": "code",
      "metadata": {
        "id": "vWSPFdncODH9",
        "colab_type": "code",
        "outputId": "e8df08b9-18a2-4c30-f72c-40373d321a5d",
        "colab": {
          "base_uri": "https://localhost:8080/",
          "height": 235
        }
      },
      "source": [
        "df.head()"
      ],
      "execution_count": 4,
      "outputs": [
        {
          "output_type": "execute_result",
          "data": {
            "text/html": [
              "<div>\n",
              "<style scoped>\n",
              "    .dataframe tbody tr th:only-of-type {\n",
              "        vertical-align: middle;\n",
              "    }\n",
              "\n",
              "    .dataframe tbody tr th {\n",
              "        vertical-align: top;\n",
              "    }\n",
              "\n",
              "    .dataframe thead th {\n",
              "        text-align: right;\n",
              "    }\n",
              "</style>\n",
              "<table border=\"1\" class=\"dataframe\">\n",
              "  <thead>\n",
              "    <tr style=\"text-align: right;\">\n",
              "      <th></th>\n",
              "      <th>Open</th>\n",
              "      <th>High</th>\n",
              "      <th>Low</th>\n",
              "      <th>Close</th>\n",
              "      <th>Volume USD</th>\n",
              "    </tr>\n",
              "    <tr>\n",
              "      <th>Date</th>\n",
              "      <th></th>\n",
              "      <th></th>\n",
              "      <th></th>\n",
              "      <th></th>\n",
              "      <th></th>\n",
              "    </tr>\n",
              "  </thead>\n",
              "  <tbody>\n",
              "    <tr>\n",
              "      <th>2017-07-01 11-AM</th>\n",
              "      <td>2505.56</td>\n",
              "      <td>2513.38</td>\n",
              "      <td>2495.12</td>\n",
              "      <td>2509.17</td>\n",
              "      <td>287000.32</td>\n",
              "    </tr>\n",
              "    <tr>\n",
              "      <th>2017-07-01 12-PM</th>\n",
              "      <td>2509.17</td>\n",
              "      <td>2512.87</td>\n",
              "      <td>2484.99</td>\n",
              "      <td>2488.43</td>\n",
              "      <td>393142.50</td>\n",
              "    </tr>\n",
              "    <tr>\n",
              "      <th>2017-07-01 01-PM</th>\n",
              "      <td>2488.43</td>\n",
              "      <td>2488.43</td>\n",
              "      <td>2454.40</td>\n",
              "      <td>2454.43</td>\n",
              "      <td>693254.01</td>\n",
              "    </tr>\n",
              "    <tr>\n",
              "      <th>2017-07-01 02-PM</th>\n",
              "      <td>2454.43</td>\n",
              "      <td>2473.93</td>\n",
              "      <td>2450.83</td>\n",
              "      <td>2459.35</td>\n",
              "      <td>712864.80</td>\n",
              "    </tr>\n",
              "    <tr>\n",
              "      <th>2017-07-01 03-PM</th>\n",
              "      <td>2459.35</td>\n",
              "      <td>2475.00</td>\n",
              "      <td>2450.00</td>\n",
              "      <td>2467.83</td>\n",
              "      <td>682105.41</td>\n",
              "    </tr>\n",
              "  </tbody>\n",
              "</table>\n",
              "</div>"
            ],
            "text/plain": [
              "                     Open     High      Low    Close  Volume USD\n",
              "Date                                                            \n",
              "2017-07-01 11-AM  2505.56  2513.38  2495.12  2509.17   287000.32\n",
              "2017-07-01 12-PM  2509.17  2512.87  2484.99  2488.43   393142.50\n",
              "2017-07-01 01-PM  2488.43  2488.43  2454.40  2454.43   693254.01\n",
              "2017-07-01 02-PM  2454.43  2473.93  2450.83  2459.35   712864.80\n",
              "2017-07-01 03-PM  2459.35  2475.00  2450.00  2467.83   682105.41"
            ]
          },
          "metadata": {
            "tags": []
          },
          "execution_count": 4
        }
      ]
    },
    {
      "cell_type": "code",
      "metadata": {
        "id": "NLmweO2o-wgS",
        "colab_type": "code",
        "outputId": "60e1ef75-5b3f-41db-f9a3-505f0f525eae",
        "colab": {
          "base_uri": "https://localhost:8080/",
          "height": 235
        }
      },
      "source": [
        "df.tail()"
      ],
      "execution_count": 5,
      "outputs": [
        {
          "output_type": "execute_result",
          "data": {
            "text/html": [
              "<div>\n",
              "<style scoped>\n",
              "    .dataframe tbody tr th:only-of-type {\n",
              "        vertical-align: middle;\n",
              "    }\n",
              "\n",
              "    .dataframe tbody tr th {\n",
              "        vertical-align: top;\n",
              "    }\n",
              "\n",
              "    .dataframe thead th {\n",
              "        text-align: right;\n",
              "    }\n",
              "</style>\n",
              "<table border=\"1\" class=\"dataframe\">\n",
              "  <thead>\n",
              "    <tr style=\"text-align: right;\">\n",
              "      <th></th>\n",
              "      <th>Open</th>\n",
              "      <th>High</th>\n",
              "      <th>Low</th>\n",
              "      <th>Close</th>\n",
              "      <th>Volume USD</th>\n",
              "    </tr>\n",
              "    <tr>\n",
              "      <th>Date</th>\n",
              "      <th></th>\n",
              "      <th></th>\n",
              "      <th></th>\n",
              "      <th></th>\n",
              "      <th></th>\n",
              "    </tr>\n",
              "  </thead>\n",
              "  <tbody>\n",
              "    <tr>\n",
              "      <th>2019-12-10 10-PM</th>\n",
              "      <td>7220.69</td>\n",
              "      <td>7250.00</td>\n",
              "      <td>7220.68</td>\n",
              "      <td>7237.18</td>\n",
              "      <td>1304465.68</td>\n",
              "    </tr>\n",
              "    <tr>\n",
              "      <th>2019-12-10 11-PM</th>\n",
              "      <td>7237.18</td>\n",
              "      <td>7249.66</td>\n",
              "      <td>7219.25</td>\n",
              "      <td>7219.37</td>\n",
              "      <td>1407447.50</td>\n",
              "    </tr>\n",
              "    <tr>\n",
              "      <th>2019-12-11 12-AM</th>\n",
              "      <td>7219.37</td>\n",
              "      <td>7241.20</td>\n",
              "      <td>7215.14</td>\n",
              "      <td>7230.04</td>\n",
              "      <td>1165826.61</td>\n",
              "    </tr>\n",
              "    <tr>\n",
              "      <th>2019-12-11 01-AM</th>\n",
              "      <td>7230.04</td>\n",
              "      <td>7263.31</td>\n",
              "      <td>7225.28</td>\n",
              "      <td>7263.03</td>\n",
              "      <td>1827764.49</td>\n",
              "    </tr>\n",
              "    <tr>\n",
              "      <th>2019-12-11 02-AM</th>\n",
              "      <td>7263.03</td>\n",
              "      <td>7263.28</td>\n",
              "      <td>7245.03</td>\n",
              "      <td>7245.03</td>\n",
              "      <td>152839.00</td>\n",
              "    </tr>\n",
              "  </tbody>\n",
              "</table>\n",
              "</div>"
            ],
            "text/plain": [
              "                     Open     High      Low    Close  Volume USD\n",
              "Date                                                            \n",
              "2019-12-10 10-PM  7220.69  7250.00  7220.68  7237.18  1304465.68\n",
              "2019-12-10 11-PM  7237.18  7249.66  7219.25  7219.37  1407447.50\n",
              "2019-12-11 12-AM  7219.37  7241.20  7215.14  7230.04  1165826.61\n",
              "2019-12-11 01-AM  7230.04  7263.31  7225.28  7263.03  1827764.49\n",
              "2019-12-11 02-AM  7263.03  7263.28  7245.03  7245.03   152839.00"
            ]
          },
          "metadata": {
            "tags": []
          },
          "execution_count": 5
        }
      ]
    },
    {
      "cell_type": "markdown",
      "metadata": {
        "id": "nn_wy_WJGHuk",
        "colab_type": "text"
      },
      "source": [
        "## Autoregressive Model"
      ]
    },
    {
      "cell_type": "code",
      "metadata": {
        "id": "qczc-TUNO0th",
        "colab_type": "code",
        "colab": {}
      },
      "source": [
        "# Start by doing the WRONG thing - trying to predict the price itself\n",
        "series = df['Close'].values.reshape(-1, 1)"
      ],
      "execution_count": 0,
      "outputs": []
    },
    {
      "cell_type": "code",
      "metadata": {
        "id": "X6lJwsOgPVaB",
        "colab_type": "code",
        "colab": {}
      },
      "source": [
        "# Normalize the data\n",
        "# Note: I didn't think about where the true boundary is, this is just approx.\n",
        "scaler = StandardScaler()\n",
        "scaler.fit(series[:len(series) // 2])\n",
        "series = scaler.transform(series).flatten()"
      ],
      "execution_count": 0,
      "outputs": []
    },
    {
      "cell_type": "code",
      "metadata": {
        "id": "3j6Jk2pkPTjE",
        "colab_type": "code",
        "outputId": "a8eb0633-6632-43c5-db1f-a36c47e9cfae",
        "colab": {
          "base_uri": "https://localhost:8080/",
          "height": 34
        }
      },
      "source": [
        "### build the dataset\n",
        "# let's see if we can use T past values to predict the next value\n",
        "T = 10\n",
        "D = 1\n",
        "X = []\n",
        "Y = []\n",
        "for t in range(len(series) - T):\n",
        "  x = series[t:t+T]\n",
        "  X.append(x)\n",
        "  y = series[t+T]\n",
        "  Y.append(y)\n",
        "\n",
        "X = np.array(X).reshape(-1, T, 1) # Now the data should be N x T x D\n",
        "Y = np.array(Y)\n",
        "N = len(X)\n",
        "print(\"X.shape\", X.shape, \"Y.shape\", Y.shape)"
      ],
      "execution_count": 8,
      "outputs": [
        {
          "output_type": "stream",
          "text": [
            "X.shape (21414, 10, 1) Y.shape (21414,)\n"
          ],
          "name": "stdout"
        }
      ]
    },
    {
      "cell_type": "code",
      "metadata": {
        "id": "R5uMLXonPEnZ",
        "colab_type": "code",
        "outputId": "5b19accb-d6d9-496d-ef99-32c281622ec3",
        "colab": {
          "base_uri": "https://localhost:8080/",
          "height": 1000
        }
      },
      "source": [
        "### try autoregressive RNN model\n",
        "i = Input(shape=(T, 1))\n",
        "x = LSTM(5)(i)\n",
        "x = Dense(1)(x)\n",
        "model = Model(i, x)\n",
        "model.compile(\n",
        "  loss='mse',\n",
        "  optimizer=Adam(lr=0.1),\n",
        ")\n",
        "\n",
        "# train the RNN\n",
        "r = model.fit(\n",
        "  X[:-N//2], Y[:-N//2],\n",
        "  epochs=80,\n",
        "  validation_data=(X[-N//2:], Y[-N//2:]),\n",
        ")"
      ],
      "execution_count": 9,
      "outputs": [
        {
          "output_type": "stream",
          "text": [
            "Train on 10707 samples, validate on 10707 samples\n",
            "Epoch 1/80\n",
            "10707/10707 [==============================] - 5s 463us/sample - loss: 0.0145 - val_loss: 5.7321e-04\n",
            "Epoch 2/80\n",
            "10707/10707 [==============================] - 2s 186us/sample - loss: 0.0022 - val_loss: 5.8187e-04\n",
            "Epoch 3/80\n",
            "10707/10707 [==============================] - 2s 181us/sample - loss: 0.0018 - val_loss: 0.0013\n",
            "Epoch 4/80\n",
            "10707/10707 [==============================] - 2s 183us/sample - loss: 0.0017 - val_loss: 9.5466e-04\n",
            "Epoch 5/80\n",
            "10707/10707 [==============================] - 2s 185us/sample - loss: 0.0023 - val_loss: 0.0014\n",
            "Epoch 6/80\n",
            "10707/10707 [==============================] - 2s 187us/sample - loss: 0.0021 - val_loss: 5.2535e-04\n",
            "Epoch 7/80\n",
            "10707/10707 [==============================] - 2s 189us/sample - loss: 0.0019 - val_loss: 6.6265e-04\n",
            "Epoch 8/80\n",
            "10707/10707 [==============================] - 2s 191us/sample - loss: 0.0018 - val_loss: 6.1045e-04\n",
            "Epoch 9/80\n",
            "10707/10707 [==============================] - 2s 190us/sample - loss: 0.0024 - val_loss: 4.1299e-04\n",
            "Epoch 10/80\n",
            "10707/10707 [==============================] - 2s 190us/sample - loss: 0.0017 - val_loss: 9.8139e-04\n",
            "Epoch 11/80\n",
            "10707/10707 [==============================] - 2s 189us/sample - loss: 0.0017 - val_loss: 4.0841e-04\n",
            "Epoch 12/80\n",
            "10707/10707 [==============================] - 2s 188us/sample - loss: 0.0016 - val_loss: 5.8504e-04\n",
            "Epoch 13/80\n",
            "10707/10707 [==============================] - 2s 191us/sample - loss: 0.0019 - val_loss: 4.6033e-04\n",
            "Epoch 14/80\n",
            "10707/10707 [==============================] - 2s 183us/sample - loss: 0.0018 - val_loss: 4.3956e-04\n",
            "Epoch 15/80\n",
            "10707/10707 [==============================] - 2s 180us/sample - loss: 0.0016 - val_loss: 6.6030e-04\n",
            "Epoch 16/80\n",
            "10707/10707 [==============================] - 2s 187us/sample - loss: 0.0017 - val_loss: 0.0010\n",
            "Epoch 17/80\n",
            "10707/10707 [==============================] - 2s 184us/sample - loss: 0.0018 - val_loss: 5.3488e-04\n",
            "Epoch 18/80\n",
            "10707/10707 [==============================] - 2s 183us/sample - loss: 0.0036 - val_loss: 6.8125e-04\n",
            "Epoch 19/80\n",
            "10707/10707 [==============================] - 2s 188us/sample - loss: 0.0016 - val_loss: 4.2237e-04\n",
            "Epoch 20/80\n",
            "10707/10707 [==============================] - 2s 186us/sample - loss: 0.0016 - val_loss: 5.2111e-04\n",
            "Epoch 21/80\n",
            "10707/10707 [==============================] - 2s 186us/sample - loss: 0.0015 - val_loss: 3.6409e-04\n",
            "Epoch 22/80\n",
            "10707/10707 [==============================] - 2s 187us/sample - loss: 0.0023 - val_loss: 4.1541e-04\n",
            "Epoch 23/80\n",
            "10707/10707 [==============================] - 2s 192us/sample - loss: 0.0016 - val_loss: 6.0940e-04\n",
            "Epoch 24/80\n",
            "10707/10707 [==============================] - 2s 185us/sample - loss: 0.0019 - val_loss: 7.6319e-04\n",
            "Epoch 25/80\n",
            "10707/10707 [==============================] - 2s 189us/sample - loss: 0.0016 - val_loss: 3.5266e-04\n",
            "Epoch 26/80\n",
            "10707/10707 [==============================] - 2s 189us/sample - loss: 0.0018 - val_loss: 3.8499e-04\n",
            "Epoch 27/80\n",
            "10707/10707 [==============================] - 2s 186us/sample - loss: 0.0014 - val_loss: 5.4824e-04\n",
            "Epoch 28/80\n",
            "10707/10707 [==============================] - 2s 188us/sample - loss: 0.0018 - val_loss: 0.0011\n",
            "Epoch 29/80\n",
            "10707/10707 [==============================] - 2s 185us/sample - loss: 0.0018 - val_loss: 3.5663e-04\n",
            "Epoch 30/80\n",
            "10707/10707 [==============================] - 2s 186us/sample - loss: 0.0017 - val_loss: 3.5863e-04\n",
            "Epoch 31/80\n",
            "10707/10707 [==============================] - 2s 185us/sample - loss: 0.0016 - val_loss: 5.5429e-04\n",
            "Epoch 32/80\n",
            "10707/10707 [==============================] - 2s 187us/sample - loss: 0.0016 - val_loss: 7.4499e-04\n",
            "Epoch 33/80\n",
            "10707/10707 [==============================] - 2s 187us/sample - loss: 0.0016 - val_loss: 4.2007e-04\n",
            "Epoch 34/80\n",
            "10707/10707 [==============================] - 2s 186us/sample - loss: 0.2801 - val_loss: 0.3100\n",
            "Epoch 35/80\n",
            "10707/10707 [==============================] - 2s 192us/sample - loss: 0.2898 - val_loss: 0.2713\n",
            "Epoch 36/80\n",
            "10707/10707 [==============================] - 2s 186us/sample - loss: 0.2741 - val_loss: 0.2453\n",
            "Epoch 37/80\n",
            "10707/10707 [==============================] - 2s 181us/sample - loss: 0.0207 - val_loss: 8.5221e-04\n",
            "Epoch 38/80\n",
            "10707/10707 [==============================] - 2s 183us/sample - loss: 0.0017 - val_loss: 7.7093e-04\n",
            "Epoch 39/80\n",
            "10707/10707 [==============================] - 2s 188us/sample - loss: 0.0015 - val_loss: 7.1802e-04\n",
            "Epoch 40/80\n",
            "10707/10707 [==============================] - 2s 186us/sample - loss: 0.0016 - val_loss: 4.7712e-04\n",
            "Epoch 41/80\n",
            "10707/10707 [==============================] - 2s 188us/sample - loss: 0.0016 - val_loss: 6.3502e-04\n",
            "Epoch 42/80\n",
            "10707/10707 [==============================] - 2s 185us/sample - loss: 0.0015 - val_loss: 0.0011\n",
            "Epoch 43/80\n",
            "10707/10707 [==============================] - 2s 186us/sample - loss: 0.0016 - val_loss: 8.8395e-04\n",
            "Epoch 44/80\n",
            "10707/10707 [==============================] - 2s 186us/sample - loss: 0.0015 - val_loss: 4.7044e-04\n",
            "Epoch 45/80\n",
            "10707/10707 [==============================] - 2s 181us/sample - loss: 0.0017 - val_loss: 4.7289e-04\n",
            "Epoch 46/80\n",
            "10707/10707 [==============================] - 2s 187us/sample - loss: 0.0017 - val_loss: 4.7499e-04\n",
            "Epoch 47/80\n",
            "10707/10707 [==============================] - 2s 191us/sample - loss: 0.0018 - val_loss: 6.0626e-04\n",
            "Epoch 48/80\n",
            "10707/10707 [==============================] - 2s 194us/sample - loss: 0.0016 - val_loss: 4.1832e-04\n",
            "Epoch 49/80\n",
            "10707/10707 [==============================] - 2s 198us/sample - loss: 0.0017 - val_loss: 3.8974e-04\n",
            "Epoch 50/80\n",
            "10707/10707 [==============================] - 2s 200us/sample - loss: 0.0015 - val_loss: 6.9608e-04\n",
            "Epoch 51/80\n",
            "10707/10707 [==============================] - 2s 196us/sample - loss: 0.0017 - val_loss: 3.7794e-04\n",
            "Epoch 52/80\n",
            "10707/10707 [==============================] - 2s 194us/sample - loss: 0.0017 - val_loss: 4.5026e-04\n",
            "Epoch 53/80\n",
            "10707/10707 [==============================] - 2s 187us/sample - loss: 0.0119 - val_loss: 0.0018\n",
            "Epoch 54/80\n",
            "10707/10707 [==============================] - 2s 182us/sample - loss: 0.0030 - val_loss: 0.0011\n",
            "Epoch 55/80\n",
            "10707/10707 [==============================] - 2s 183us/sample - loss: 0.0027 - val_loss: 7.6109e-04\n",
            "Epoch 56/80\n",
            "10707/10707 [==============================] - 2s 188us/sample - loss: 0.0021 - val_loss: 0.0018\n",
            "Epoch 57/80\n",
            "10707/10707 [==============================] - 2s 187us/sample - loss: 0.0023 - val_loss: 0.0010\n",
            "Epoch 58/80\n",
            "10707/10707 [==============================] - 2s 182us/sample - loss: 0.0019 - val_loss: 0.0011\n",
            "Epoch 59/80\n",
            "10707/10707 [==============================] - 2s 191us/sample - loss: 0.0021 - val_loss: 7.9052e-04\n",
            "Epoch 60/80\n",
            "10707/10707 [==============================] - 2s 188us/sample - loss: 0.0020 - val_loss: 9.0707e-04\n",
            "Epoch 61/80\n",
            "10707/10707 [==============================] - 2s 186us/sample - loss: 0.0021 - val_loss: 8.3938e-04\n",
            "Epoch 62/80\n",
            "10707/10707 [==============================] - 2s 184us/sample - loss: 0.0020 - val_loss: 6.4126e-04\n",
            "Epoch 63/80\n",
            "10707/10707 [==============================] - 2s 186us/sample - loss: 0.0019 - val_loss: 0.0032\n",
            "Epoch 64/80\n",
            "10707/10707 [==============================] - 2s 185us/sample - loss: 0.0024 - val_loss: 9.1139e-04\n",
            "Epoch 65/80\n",
            "10707/10707 [==============================] - 2s 190us/sample - loss: 0.0020 - val_loss: 0.0011\n",
            "Epoch 66/80\n",
            "10707/10707 [==============================] - 2s 187us/sample - loss: 0.0018 - val_loss: 0.0016\n",
            "Epoch 67/80\n",
            "10707/10707 [==============================] - 2s 184us/sample - loss: 0.0019 - val_loss: 5.9986e-04\n",
            "Epoch 68/80\n",
            "10707/10707 [==============================] - 2s 185us/sample - loss: 0.0020 - val_loss: 6.6180e-04\n",
            "Epoch 69/80\n",
            "10707/10707 [==============================] - 2s 188us/sample - loss: 0.0020 - val_loss: 5.3483e-04\n",
            "Epoch 70/80\n",
            "10707/10707 [==============================] - 2s 186us/sample - loss: 0.0019 - val_loss: 0.0015\n",
            "Epoch 71/80\n",
            "10707/10707 [==============================] - 2s 186us/sample - loss: 0.0018 - val_loss: 0.0015\n",
            "Epoch 72/80\n",
            "10707/10707 [==============================] - 2s 185us/sample - loss: 0.0017 - val_loss: 5.0900e-04\n",
            "Epoch 73/80\n",
            "10707/10707 [==============================] - 2s 183us/sample - loss: 0.0019 - val_loss: 8.0891e-04\n",
            "Epoch 74/80\n",
            "10707/10707 [==============================] - 2s 185us/sample - loss: 0.0018 - val_loss: 0.0012\n",
            "Epoch 75/80\n",
            "10707/10707 [==============================] - 2s 189us/sample - loss: 0.0018 - val_loss: 0.0015\n",
            "Epoch 76/80\n",
            "10707/10707 [==============================] - 2s 185us/sample - loss: 0.0019 - val_loss: 0.0016\n",
            "Epoch 77/80\n",
            "10707/10707 [==============================] - 2s 184us/sample - loss: 0.0018 - val_loss: 8.7146e-04\n",
            "Epoch 78/80\n",
            "10707/10707 [==============================] - 2s 185us/sample - loss: 0.0017 - val_loss: 5.7402e-04\n",
            "Epoch 79/80\n",
            "10707/10707 [==============================] - 2s 191us/sample - loss: 0.0017 - val_loss: 9.3338e-04\n",
            "Epoch 80/80\n",
            "10707/10707 [==============================] - 2s 192us/sample - loss: 0.0017 - val_loss: 0.0015\n"
          ],
          "name": "stdout"
        }
      ]
    },
    {
      "cell_type": "code",
      "metadata": {
        "id": "gNKGakDwP6I8",
        "colab_type": "code",
        "outputId": "4d64a81b-0724-46c2-9769-9f929dc417c0",
        "colab": {
          "base_uri": "https://localhost:8080/",
          "height": 282
        }
      },
      "source": [
        "# Plot loss per iteration\n",
        "import matplotlib.pyplot as plt\n",
        "plt.plot(r.history['loss'], label='loss')\n",
        "plt.plot(r.history['val_loss'], label='val_loss')\n",
        "plt.legend()"
      ],
      "execution_count": 10,
      "outputs": [
        {
          "output_type": "execute_result",
          "data": {
            "text/plain": [
              "<matplotlib.legend.Legend at 0x7fdd24f9dba8>"
            ]
          },
          "metadata": {
            "tags": []
          },
          "execution_count": 10
        },
        {
          "output_type": "display_data",
          "data": {
            "image/png": "[encoded data removed]",
            "text/plain": [
              "<Figure size 432x288 with 1 Axes>"
            ]
          },
          "metadata": {
            "tags": []
          }
        }
      ]
    },
    {
      "cell_type": "code",
      "metadata": {
        "id": "SnonG_CKP-W2",
        "colab_type": "code",
        "outputId": "f7c3fdd8-000c-4d0d-fefb-94c7b24eadb2",
        "colab": {
          "base_uri": "https://localhost:8080/",
          "height": 282
        }
      },
      "source": [
        "# One-step forecast using true targets\n",
        "outputs = model.predict(X)\n",
        "print(outputs.shape)\n",
        "predictions = outputs[:,0]\n",
        "\n",
        "plt.plot(Y, label='targets')\n",
        "plt.plot(predictions, label='predictions')\n",
        "plt.legend()\n",
        "plt.show()"
      ],
      "execution_count": 11,
      "outputs": [
        {
          "output_type": "stream",
          "text": [
            "(21414, 1)\n"
          ],
          "name": "stdout"
        },
        {
          "output_type": "display_data",
          "data": {
            "image/png": "[encoded data removed]",
            "text/plain": [
              "<Figure size 432x288 with 1 Axes>"
            ]
          },
          "metadata": {
            "tags": []
          }
        }
      ]
    },
    {
      "cell_type": "markdown",
      "metadata": {
        "id": "tiKnLA2bHQEi",
        "colab_type": "text"
      },
      "source": [
        "Congratulations, you're a billionaire."
      ]
    },
    {
      "cell_type": "code",
      "metadata": {
        "id": "_lQrWPlHQJw_",
        "colab_type": "code",
        "outputId": "e7958b8b-ee1a-4cb9-a85c-3764b04f5709",
        "colab": {
          "base_uri": "https://localhost:8080/",
          "height": 286
        }
      },
      "source": [
        "# Multi-step forecast\n",
        "validation_target = Y[-N//2:]\n",
        "validation_predictions = []\n",
        "\n",
        "# last train input\n",
        "last_x = X[-N//2] # 1-D array of length T\n",
        "\n",
        "while len(validation_predictions) < len(validation_target):\n",
        "  p = model.predict(last_x.reshape(1, T, 1))[0,0] # 1x1 array -> scalar\n",
        "  \n",
        "  # update the predictions list\n",
        "  validation_predictions.append(p)\n",
        "  \n",
        "  # make the new input\n",
        "  last_x = np.roll(last_x, -1)\n",
        "  last_x[-1] = p\n",
        "\n",
        "plt.plot(validation_target, label='forecast target')\n",
        "plt.plot(validation_predictions, label='forecast prediction')\n",
        "plt.legend()"
      ],
      "execution_count": 12,
      "outputs": [
        {
          "output_type": "execute_result",
          "data": {
            "text/plain": [
              "<matplotlib.legend.Legend at 0x7fdc588c4e10>"
            ]
          },
          "metadata": {
            "tags": []
          },
          "execution_count": 12
        },
        {
          "output_type": "display_data",
          "data": {
            "image/png": "[encoded data removed]",
            "text/plain": [
              "<Figure size 432x288 with 1 Axes>"
            ]
          },
          "metadata": {
            "tags": []
          }
        }
      ]
    },
    {
      "cell_type": "markdown",
      "metadata": {
        "id": "LiUnI9XWGiDP",
        "colab_type": "text"
      },
      "source": [
        "## Returns"
      ]
    },
    {
      "cell_type": "code",
      "metadata": {
        "id": "HyqtntC7OGu0",
        "colab_type": "code",
        "colab": {}
      },
      "source": [
        "# calculate returns by first shifting the data\n",
        "df['PrevClose'] = df['Close'].shift(1) # move everything up 1\n",
        "\n",
        "# so now it's like\n",
        "# close / prev close\n",
        "# x[2] x[1]\n",
        "# x[3] x[2]\n",
        "# x[4] x[3]\n",
        "# ...\n",
        "# x[t] x[t-1]"
      ],
      "execution_count": 0,
      "outputs": []
    },
    {
      "cell_type": "code",
      "metadata": {
        "id": "K4HG4nDUOPHK",
        "colab_type": "code",
        "outputId": "176e8a18-fcbc-47b1-ba8c-b5a8b309cb91",
        "colab": {
          "base_uri": "https://localhost:8080/",
          "height": 235
        }
      },
      "source": [
        "df.head()"
      ],
      "execution_count": 5,
      "outputs": [
        {
          "output_type": "execute_result",
          "data": {
            "text/html": [
              "<div>\n",
              "<style scoped>\n",
              "    .dataframe tbody tr th:only-of-type {\n",
              "        vertical-align: middle;\n",
              "    }\n",
              "\n",
              "    .dataframe tbody tr th {\n",
              "        vertical-align: top;\n",
              "    }\n",
              "\n",
              "    .dataframe thead th {\n",
              "        text-align: right;\n",
              "    }\n",
              "</style>\n",
              "<table border=\"1\" class=\"dataframe\">\n",
              "  <thead>\n",
              "    <tr style=\"text-align: right;\">\n",
              "      <th></th>\n",
              "      <th>Open</th>\n",
              "      <th>High</th>\n",
              "      <th>Low</th>\n",
              "      <th>Close</th>\n",
              "      <th>Volume USD</th>\n",
              "      <th>PrevClose</th>\n",
              "    </tr>\n",
              "    <tr>\n",
              "      <th>Date</th>\n",
              "      <th></th>\n",
              "      <th></th>\n",
              "      <th></th>\n",
              "      <th></th>\n",
              "      <th></th>\n",
              "      <th></th>\n",
              "    </tr>\n",
              "  </thead>\n",
              "  <tbody>\n",
              "    <tr>\n",
              "      <th>2017-07-01 11-AM</th>\n",
              "      <td>2505.56</td>\n",
              "      <td>2513.38</td>\n",
              "      <td>2495.12</td>\n",
              "      <td>2509.17</td>\n",
              "      <td>287000.32</td>\n",
              "      <td>NaN</td>\n",
              "    </tr>\n",
              "    <tr>\n",
              "      <th>2017-07-01 12-PM</th>\n",
              "      <td>2509.17</td>\n",
              "      <td>2512.87</td>\n",
              "      <td>2484.99</td>\n",
              "      <td>2488.43</td>\n",
              "      <td>393142.50</td>\n",
              "      <td>2509.17</td>\n",
              "    </tr>\n",
              "    <tr>\n",
              "      <th>2017-07-01 01-PM</th>\n",
              "      <td>2488.43</td>\n",
              "      <td>2488.43</td>\n",
              "      <td>2454.40</td>\n",
              "      <td>2454.43</td>\n",
              "      <td>693254.01</td>\n",
              "      <td>2488.43</td>\n",
              "    </tr>\n",
              "    <tr>\n",
              "      <th>2017-07-01 02-PM</th>\n",
              "      <td>2454.43</td>\n",
              "      <td>2473.93</td>\n",
              "      <td>2450.83</td>\n",
              "      <td>2459.35</td>\n",
              "      <td>712864.80</td>\n",
              "      <td>2454.43</td>\n",
              "    </tr>\n",
              "    <tr>\n",
              "      <th>2017-07-01 03-PM</th>\n",
              "      <td>2459.35</td>\n",
              "      <td>2475.00</td>\n",
              "      <td>2450.00</td>\n",
              "      <td>2467.83</td>\n",
              "      <td>682105.41</td>\n",
              "      <td>2459.35</td>\n",
              "    </tr>\n",
              "  </tbody>\n",
              "</table>\n",
              "</div>"
            ],
            "text/plain": [
              "                     Open     High      Low    Close  Volume USD  PrevClose\n",
              "Date                                                                       \n",
              "2017-07-01 11-AM  2505.56  2513.38  2495.12  2509.17   287000.32        NaN\n",
              "2017-07-01 12-PM  2509.17  2512.87  2484.99  2488.43   393142.50    2509.17\n",
              "2017-07-01 01-PM  2488.43  2488.43  2454.40  2454.43   693254.01    2488.43\n",
              "2017-07-01 02-PM  2454.43  2473.93  2450.83  2459.35   712864.80    2454.43\n",
              "2017-07-01 03-PM  2459.35  2475.00  2450.00  2467.83   682105.41    2459.35"
            ]
          },
          "metadata": {
            "tags": []
          },
          "execution_count": 5
        }
      ]
    },
    {
      "cell_type": "code",
      "metadata": {
        "id": "8NozObuNORn4",
        "colab_type": "code",
        "colab": {}
      },
      "source": [
        "# then the return is\n",
        "# (x[t] - x[t-1]) / x[t-1]\n",
        "df['Return'] = (df['Close'] - df['PrevClose']) / df['PrevClose']"
      ],
      "execution_count": 0,
      "outputs": []
    },
    {
      "cell_type": "code",
      "metadata": {
        "id": "1o0ynO0aOVWu",
        "colab_type": "code",
        "outputId": "bbf27104-000d-479f-8365-4aac82cda437",
        "colab": {
          "base_uri": "https://localhost:8080/",
          "height": 235
        }
      },
      "source": [
        "df.head()"
      ],
      "execution_count": 7,
      "outputs": [
        {
          "output_type": "execute_result",
          "data": {
            "text/html": [
              "<div>\n",
              "<style scoped>\n",
              "    .dataframe tbody tr th:only-of-type {\n",
              "        vertical-align: middle;\n",
              "    }\n",
              "\n",
              "    .dataframe tbody tr th {\n",
              "        vertical-align: top;\n",
              "    }\n",
              "\n",
              "    .dataframe thead th {\n",
              "        text-align: right;\n",
              "    }\n",
              "</style>\n",
              "<table border=\"1\" class=\"dataframe\">\n",
              "  <thead>\n",
              "    <tr style=\"text-align: right;\">\n",
              "      <th></th>\n",
              "      <th>Open</th>\n",
              "      <th>High</th>\n",
              "      <th>Low</th>\n",
              "      <th>Close</th>\n",
              "      <th>Volume USD</th>\n",
              "      <th>PrevClose</th>\n",
              "      <th>Return</th>\n",
              "    </tr>\n",
              "    <tr>\n",
              "      <th>Date</th>\n",
              "      <th></th>\n",
              "      <th></th>\n",
              "      <th></th>\n",
              "      <th></th>\n",
              "      <th></th>\n",
              "      <th></th>\n",
              "      <th></th>\n",
              "    </tr>\n",
              "  </thead>\n",
              "  <tbody>\n",
              "    <tr>\n",
              "      <th>2017-07-01 11-AM</th>\n",
              "      <td>2505.56</td>\n",
              "      <td>2513.38</td>\n",
              "      <td>2495.12</td>\n",
              "      <td>2509.17</td>\n",
              "      <td>287000.32</td>\n",
              "      <td>NaN</td>\n",
              "      <td>NaN</td>\n",
              "    </tr>\n",
              "    <tr>\n",
              "      <th>2017-07-01 12-PM</th>\n",
              "      <td>2509.17</td>\n",
              "      <td>2512.87</td>\n",
              "      <td>2484.99</td>\n",
              "      <td>2488.43</td>\n",
              "      <td>393142.50</td>\n",
              "      <td>2509.17</td>\n",
              "      <td>-0.008266</td>\n",
              "    </tr>\n",
              "    <tr>\n",
              "      <th>2017-07-01 01-PM</th>\n",
              "      <td>2488.43</td>\n",
              "      <td>2488.43</td>\n",
              "      <td>2454.40</td>\n",
              "      <td>2454.43</td>\n",
              "      <td>693254.01</td>\n",
              "      <td>2488.43</td>\n",
              "      <td>-0.013663</td>\n",
              "    </tr>\n",
              "    <tr>\n",
              "      <th>2017-07-01 02-PM</th>\n",
              "      <td>2454.43</td>\n",
              "      <td>2473.93</td>\n",
              "      <td>2450.83</td>\n",
              "      <td>2459.35</td>\n",
              "      <td>712864.80</td>\n",
              "      <td>2454.43</td>\n",
              "      <td>0.002005</td>\n",
              "    </tr>\n",
              "    <tr>\n",
              "      <th>2017-07-01 03-PM</th>\n",
              "      <td>2459.35</td>\n",
              "      <td>2475.00</td>\n",
              "      <td>2450.00</td>\n",
              "      <td>2467.83</td>\n",
              "      <td>682105.41</td>\n",
              "      <td>2459.35</td>\n",
              "      <td>0.003448</td>\n",
              "    </tr>\n",
              "  </tbody>\n",
              "</table>\n",
              "</div>"
            ],
            "text/plain": [
              "                     Open     High      Low  ...  Volume USD  PrevClose    Return\n",
              "Date                                         ...                                 \n",
              "2017-07-01 11-AM  2505.56  2513.38  2495.12  ...   287000.32        NaN       NaN\n",
              "2017-07-01 12-PM  2509.17  2512.87  2484.99  ...   393142.50    2509.17 -0.008266\n",
              "2017-07-01 01-PM  2488.43  2488.43  2454.40  ...   693254.01    2488.43 -0.013663\n",
              "2017-07-01 02-PM  2454.43  2473.93  2450.83  ...   712864.80    2454.43  0.002005\n",
              "2017-07-01 03-PM  2459.35  2475.00  2450.00  ...   682105.41    2459.35  0.003448\n",
              "\n",
              "[5 rows x 7 columns]"
            ]
          },
          "metadata": {
            "tags": []
          },
          "execution_count": 7
        }
      ]
    },
    {
      "cell_type": "code",
      "metadata": {
        "id": "2caEww0GXddl",
        "colab_type": "code",
        "outputId": "936c8ae5-9e61-4d09-c4ff-f042edb329d8",
        "colab": {
          "base_uri": "https://localhost:8080/",
          "height": 282
        }
      },
      "source": [
        "# Now let's try an LSTM to predict returns\n",
        "df['Return'].hist()"
      ],
      "execution_count": 8,
      "outputs": [
        {
          "output_type": "execute_result",
          "data": {
            "text/plain": [
              "<matplotlib.axes._subplots.AxesSubplot at 0x7f29df1959e8>"
            ]
          },
          "metadata": {
            "tags": []
          },
          "execution_count": 8
        },
        {
          "output_type": "display_data",
          "data": {
            "image/png": "[encoded data removed]",
            "text/plain": [
              "<Figure size 432x288 with 1 Axes>"
            ]
          },
          "metadata": {
            "tags": []
          }
        }
      ]
    },
    {
      "cell_type": "code",
      "metadata": {
        "id": "t0xUTZvFXoHc",
        "colab_type": "code",
        "colab": {}
      },
      "source": [
        "series = df['Return'].values[1:].reshape(-1, 1)\n",
        "\n",
        "# Normalize the data\n",
        "# Note: I didn't think about where the true boundary is, this is just approx.\n",
        "scaler = StandardScaler()\n",
        "scaler.fit(series[:len(series) // 2])\n",
        "series = scaler.transform(series).flatten()"
      ],
      "execution_count": 0,
      "outputs": []
    },
    {
      "cell_type": "code",
      "metadata": {
        "id": "PLNwOWOWX1m9",
        "colab_type": "code",
        "outputId": "3f24ae82-ec3a-4081-e0cf-aaa90b17135c",
        "colab": {
          "base_uri": "https://localhost:8080/",
          "height": 34
        }
      },
      "source": [
        "### build the dataset\n",
        "# let's see if we can use T past values to predict the next value\n",
        "T = 10\n",
        "D = 1\n",
        "X = []\n",
        "Y = []\n",
        "for t in range(len(series) - T):\n",
        "  x = series[t:t+T]\n",
        "  X.append(x)\n",
        "  y = series[t+T]\n",
        "  Y.append(y)\n",
        "\n",
        "X = np.array(X).reshape(-1, T, 1) # Now the data should be N x T x D\n",
        "Y = np.array(Y)\n",
        "N = len(X)\n",
        "print(\"X.shape\", X.shape, \"Y.shape\", Y.shape)"
      ],
      "execution_count": 10,
      "outputs": [
        {
          "output_type": "stream",
          "text": [
            "X.shape (21413, 10, 1) Y.shape (21413,)\n"
          ],
          "name": "stdout"
        }
      ]
    },
    {
      "cell_type": "code",
      "metadata": {
        "id": "F_fhQMaOYAxR",
        "colab_type": "code",
        "outputId": "fc925f01-0f54-41eb-b9b8-11097f4d5fb0",
        "colab": {
          "base_uri": "https://localhost:8080/",
          "height": 1000
        }
      },
      "source": [
        "### try autoregressive RNN model\n",
        "i = Input(shape=(T, 1))\n",
        "x = LSTM(5)(i)\n",
        "x = Dense(1)(x)\n",
        "model = Model(i, x)\n",
        "model.compile(\n",
        "  loss='mse',\n",
        "  optimizer=Adam(lr=0.01),\n",
        ")\n",
        "\n",
        "# train the RNN\n",
        "r = model.fit(\n",
        "  X[:-N//2], Y[:-N//2],\n",
        "  epochs=40,\n",
        "  validation_data=(X[-N//2:], Y[-N//2:]),\n",
        ")"
      ],
      "execution_count": 12,
      "outputs": [
        {
          "output_type": "stream",
          "text": [
            "Train on 10706 samples, validate on 10707 samples\n",
            "Epoch 1/40\n",
            "10706/10706 [==============================] - 4s 365us/sample - loss: 1.0024 - val_loss: 0.4674\n",
            "Epoch 2/40\n",
            "10706/10706 [==============================] - 2s 187us/sample - loss: 0.9966 - val_loss: 0.4720\n",
            "Epoch 3/40\n",
            "10706/10706 [==============================] - 2s 192us/sample - loss: 0.9945 - val_loss: 0.4671\n",
            "Epoch 4/40\n",
            "10706/10706 [==============================] - 2s 192us/sample - loss: 0.9927 - val_loss: 0.4665\n",
            "Epoch 5/40\n",
            "10706/10706 [==============================] - 2s 193us/sample - loss: 0.9890 - val_loss: 0.4668\n",
            "Epoch 6/40\n",
            "10706/10706 [==============================] - 2s 192us/sample - loss: 0.9869 - val_loss: 0.4687\n",
            "Epoch 7/40\n",
            "10706/10706 [==============================] - 2s 191us/sample - loss: 0.9840 - val_loss: 0.4676\n",
            "Epoch 8/40\n",
            "10706/10706 [==============================] - 2s 194us/sample - loss: 0.9809 - val_loss: 0.4686\n",
            "Epoch 9/40\n",
            "10706/10706 [==============================] - 2s 187us/sample - loss: 0.9812 - val_loss: 0.4684\n",
            "Epoch 10/40\n",
            "10706/10706 [==============================] - 2s 191us/sample - loss: 0.9770 - val_loss: 0.4743\n",
            "Epoch 11/40\n",
            "10706/10706 [==============================] - 2s 190us/sample - loss: 0.9717 - val_loss: 0.4723\n",
            "Epoch 12/40\n",
            "10706/10706 [==============================] - 2s 193us/sample - loss: 0.9707 - val_loss: 0.4749\n",
            "Epoch 13/40\n",
            "10706/10706 [==============================] - 2s 199us/sample - loss: 0.9697 - val_loss: 0.4707\n",
            "Epoch 14/40\n",
            "10706/10706 [==============================] - 2s 193us/sample - loss: 0.9678 - val_loss: 0.4737\n",
            "Epoch 15/40\n",
            "10706/10706 [==============================] - 2s 195us/sample - loss: 0.9630 - val_loss: 0.4780\n",
            "Epoch 16/40\n",
            "10706/10706 [==============================] - 2s 191us/sample - loss: 0.9631 - val_loss: 0.4725\n",
            "Epoch 17/40\n",
            "10706/10706 [==============================] - 2s 195us/sample - loss: 0.9585 - val_loss: 0.4743\n",
            "Epoch 18/40\n",
            "10706/10706 [==============================] - 2s 189us/sample - loss: 0.9669 - val_loss: 0.4756\n",
            "Epoch 19/40\n",
            "10706/10706 [==============================] - 2s 195us/sample - loss: 0.9636 - val_loss: 0.4699\n",
            "Epoch 20/40\n",
            "10706/10706 [==============================] - 2s 190us/sample - loss: 0.9566 - val_loss: 0.4724\n",
            "Epoch 21/40\n",
            "10706/10706 [==============================] - 2s 188us/sample - loss: 0.9693 - val_loss: 0.4785\n",
            "Epoch 22/40\n",
            "10706/10706 [==============================] - 2s 191us/sample - loss: 0.9559 - val_loss: 0.4729\n",
            "Epoch 23/40\n",
            "10706/10706 [==============================] - 2s 186us/sample - loss: 0.9533 - val_loss: 0.4770\n",
            "Epoch 24/40\n",
            "10706/10706 [==============================] - 2s 190us/sample - loss: 0.9572 - val_loss: 0.4708\n",
            "Epoch 25/40\n",
            "10706/10706 [==============================] - 2s 189us/sample - loss: 0.9537 - val_loss: 0.4708\n",
            "Epoch 26/40\n",
            "10706/10706 [==============================] - 2s 195us/sample - loss: 0.9501 - val_loss: 0.4719\n",
            "Epoch 27/40\n",
            "10706/10706 [==============================] - 2s 190us/sample - loss: 0.9521 - val_loss: 0.4740\n",
            "Epoch 28/40\n",
            "10706/10706 [==============================] - 2s 196us/sample - loss: 0.9484 - val_loss: 0.4771\n",
            "Epoch 29/40\n",
            "10706/10706 [==============================] - 2s 193us/sample - loss: 0.9465 - val_loss: 0.4701\n",
            "Epoch 30/40\n",
            "10706/10706 [==============================] - 2s 188us/sample - loss: 0.9498 - val_loss: 0.4756\n",
            "Epoch 31/40\n",
            "10706/10706 [==============================] - 2s 189us/sample - loss: 0.9477 - val_loss: 0.4949\n",
            "Epoch 32/40\n",
            "10706/10706 [==============================] - 2s 190us/sample - loss: 0.9496 - val_loss: 0.4731\n",
            "Epoch 33/40\n",
            "10706/10706 [==============================] - 2s 187us/sample - loss: 0.9422 - val_loss: 0.4760\n",
            "Epoch 34/40\n",
            "10706/10706 [==============================] - 2s 191us/sample - loss: 0.9422 - val_loss: 0.4797\n",
            "Epoch 35/40\n",
            "10706/10706 [==============================] - 2s 190us/sample - loss: 0.9441 - val_loss: 0.4925\n",
            "Epoch 36/40\n",
            "10706/10706 [==============================] - 2s 189us/sample - loss: 0.9397 - val_loss: 0.4827\n",
            "Epoch 37/40\n",
            "10706/10706 [==============================] - 2s 191us/sample - loss: 0.9422 - val_loss: 0.4750\n",
            "Epoch 38/40\n",
            "10706/10706 [==============================] - 2s 189us/sample - loss: 0.9378 - val_loss: 0.4876\n",
            "Epoch 39/40\n",
            "10706/10706 [==============================] - 2s 192us/sample - loss: 0.9373 - val_loss: 0.4752\n",
            "Epoch 40/40\n",
            "10706/10706 [==============================] - 2s 189us/sample - loss: 0.9359 - val_loss: 0.4818\n"
          ],
          "name": "stdout"
        }
      ]
    },
    {
      "cell_type": "code",
      "metadata": {
        "id": "-RulDED_YFAQ",
        "colab_type": "code",
        "outputId": "e9fc57ed-dbc3-408a-ae5d-6c82e714e61e",
        "colab": {
          "base_uri": "https://localhost:8080/",
          "height": 282
        }
      },
      "source": [
        "# Plot loss per iteration\n",
        "import matplotlib.pyplot as plt\n",
        "plt.plot(r.history['loss'], label='loss')\n",
        "plt.plot(r.history['val_loss'], label='val_loss')\n",
        "plt.legend()"
      ],
      "execution_count": 13,
      "outputs": [
        {
          "output_type": "execute_result",
          "data": {
            "text/plain": [
              "<matplotlib.legend.Legend at 0x7f29550e5ba8>"
            ]
          },
          "metadata": {
            "tags": []
          },
          "execution_count": 13
        },
        {
          "output_type": "display_data",
          "data": {
            "image/png": "[encoded data removed]",
            "text/plain": [
              "<Figure size 432x288 with 1 Axes>"
            ]
          },
          "metadata": {
            "tags": []
          }
        }
      ]
    },
    {
      "cell_type": "code",
      "metadata": {
        "id": "euWSVgj2YFXA",
        "colab_type": "code",
        "outputId": "d5d69b3f-b8a2-4979-f5f6-1d5ecc2c5c65",
        "colab": {
          "base_uri": "https://localhost:8080/",
          "height": 282
        }
      },
      "source": [
        "# One-step forecast using true targets\n",
        "outputs = model.predict(X)\n",
        "print(outputs.shape)\n",
        "predictions = outputs[:,0]\n",
        "\n",
        "plt.plot(Y, label='targets')\n",
        "plt.plot(predictions, label='predictions')\n",
        "plt.legend()\n",
        "plt.show()"
      ],
      "execution_count": 14,
      "outputs": [
        {
          "output_type": "stream",
          "text": [
            "(21413, 1)\n"
          ],
          "name": "stdout"
        },
        {
          "output_type": "display_data",
          "data": {
            "image/png": "[encoded data removed]",
            "text/plain": [
              "<Figure size 432x288 with 1 Axes>"
            ]
          },
          "metadata": {
            "tags": []
          }
        }
      ]
    },
    {
      "cell_type": "code",
      "metadata": {
        "id": "Vqu6ScQrYIWV",
        "colab_type": "code",
        "outputId": "f9679dd7-f0e2-408b-93fa-411c4def98c6",
        "colab": {
          "base_uri": "https://localhost:8080/",
          "height": 282
        }
      },
      "source": [
        "# Multi-step forecast\n",
        "validation_target = Y[-N//2:]\n",
        "validation_predictions = []\n",
        "\n",
        "# last train input\n",
        "last_x = X[-N//2] # 1-D array of length T\n",
        "\n",
        "while len(validation_predictions) < len(validation_target):\n",
        "  p = model.predict(last_x.reshape(1, T, 1))[0,0] # 1x1 array -> scalar\n",
        "  \n",
        "  # update the predictions list\n",
        "  validation_predictions.append(p)\n",
        "  \n",
        "  # make the new input\n",
        "  last_x = np.roll(last_x, -1)\n",
        "  last_x[-1] = p\n",
        "\n",
        "plt.plot(validation_target, label='forecast target')\n",
        "plt.plot(validation_predictions, label='forecast prediction')\n",
        "plt.legend()"
      ],
      "execution_count": 15,
      "outputs": [
        {
          "output_type": "execute_result",
          "data": {
            "text/plain": [
              "<matplotlib.legend.Legend at 0x7f28a48a36a0>"
            ]
          },
          "metadata": {
            "tags": []
          },
          "execution_count": 15
        },
        {
          "output_type": "display_data",
          "data": {
            "image/png": "[encoded data removed]",
            "text/plain": [
              "<Figure size 432x288 with 1 Axes>"
            ]
          },
          "metadata": {
            "tags": []
          }
        }
      ]
    },
    {
      "cell_type": "markdown",
      "metadata": {
        "id": "8gVj5ESBMXom",
        "colab_type": "text"
      },
      "source": [
        "## Classification"
      ]
    },
    {
      "cell_type": "code",
      "metadata": {
        "id": "VwgGvQsDOZ5T",
        "colab_type": "code",
        "colab": {}
      },
      "source": [
        "# Now turn the full data into numpy arrays\n",
        "\n",
        "# Not yet in the final \"X\" format!\n",
        "input_data = df[['Open', 'High', 'Low', 'Close', 'Volume USD']].values\n",
        "targets = df['Return'].values"
      ],
      "execution_count": 0,
      "outputs": []
    },
    {
      "cell_type": "code",
      "metadata": {
        "id": "-sdYhd7mObwI",
        "colab_type": "code",
        "colab": {}
      },
      "source": [
        "# Now make the actual data which will go into the neural network\n",
        "T = 10 # the number of time steps to look at to make a prediction for the next day\n",
        "D = input_data.shape[1]\n",
        "N = len(input_data) - T # (e.g. if T=10 and you have 11 data points then you'd only have 1 sample)"
      ],
      "execution_count": 0,
      "outputs": []
    },
    {
      "cell_type": "code",
      "metadata": {
        "id": "79CkMlgHOejZ",
        "colab_type": "code",
        "colab": {}
      },
      "source": [
        "# normalize the inputs\n",
        "Ntrain = len(input_data) * 2 // 3\n",
        "scaler = StandardScaler()\n",
        "scaler.fit(input_data[:Ntrain + T - 1])\n",
        "input_data = scaler.transform(input_data)"
      ],
      "execution_count": 0,
      "outputs": []
    },
    {
      "cell_type": "code",
      "metadata": {
        "id": "bfQcj1gpOme2",
        "colab_type": "code",
        "colab": {}
      },
      "source": [
        "# Setup X_train and Y_train\n",
        "X_train = np.zeros((Ntrain, T, D))\n",
        "Y_train = np.zeros(Ntrain)\n",
        "\n",
        "for t in range(Ntrain):\n",
        "  X_train[t, :, :] = input_data[t:t+T]\n",
        "  Y_train[t] = (targets[t+T] > 0)"
      ],
      "execution_count": 0,
      "outputs": []
    },
    {
      "cell_type": "code",
      "metadata": {
        "id": "HhUo6COMOsZi",
        "colab_type": "code",
        "colab": {}
      },
      "source": [
        "# Setup X_test and Y_test\n",
        "X_test = np.zeros((N - Ntrain, T, D))\n",
        "Y_test = np.zeros(N - Ntrain)\n",
        "\n",
        "for u in range(N - Ntrain):\n",
        "  # u counts from 0...(N - Ntrain)\n",
        "  # t counts from Ntrain...N\n",
        "  t = u + Ntrain\n",
        "  X_test[u, :, :] = input_data[t:t+T]\n",
        "  Y_test[u] = (targets[t+T] > 0)"
      ],
      "execution_count": 0,
      "outputs": []
    },
    {
      "cell_type": "code",
      "metadata": {
        "id": "7tBDk_1FRUFt",
        "colab_type": "code",
        "colab": {}
      },
      "source": [
        "# make the RNN\n",
        "i = Input(shape=(T, D))\n",
        "x = LSTM(50)(i)\n",
        "x = Dense(1, activation='sigmoid')(x)\n",
        "model = Model(i, x)\n",
        "model.compile(\n",
        "  loss='binary_crossentropy',\n",
        "  optimizer=Adam(lr=0.001),\n",
        "  metrics=['accuracy'],\n",
        ")"
      ],
      "execution_count": 0,
      "outputs": []
    },
    {
      "cell_type": "code",
      "metadata": {
        "id": "IQqNykvGRXGz",
        "colab_type": "code",
        "outputId": "7bf575ed-2fe2-4508-cd1f-e39f0bd7e0b3",
        "colab": {
          "base_uri": "https://localhost:8080/",
          "height": 1000
        }
      },
      "source": [
        "# train the RNN\n",
        "r = model.fit(\n",
        "  X_train, Y_train,\n",
        "  batch_size=32,\n",
        "  epochs=50,\n",
        "  validation_data=(X_test, Y_test),\n",
        ")"
      ],
      "execution_count": 23,
      "outputs": [
        {
          "output_type": "stream",
          "text": [
            "Train on 14282 samples, validate on 7132 samples\n",
            "Epoch 1/50\n",
            "14282/14282 [==============================] - 3s 179us/sample - loss: 0.6919 - accuracy: 0.5179 - val_loss: 0.6932 - val_accuracy: 0.5129\n",
            "Epoch 2/50\n",
            "14282/14282 [==============================] - 3s 181us/sample - loss: 0.6920 - accuracy: 0.5167 - val_loss: 0.6942 - val_accuracy: 0.5049\n",
            "Epoch 3/50\n",
            "14282/14282 [==============================] - 2s 173us/sample - loss: 0.6918 - accuracy: 0.5152 - val_loss: 0.6942 - val_accuracy: 0.5039\n",
            "Epoch 4/50\n",
            "14282/14282 [==============================] - 3s 180us/sample - loss: 0.6919 - accuracy: 0.5153 - val_loss: 0.6933 - val_accuracy: 0.5130\n",
            "Epoch 5/50\n",
            "14282/14282 [==============================] - 3s 182us/sample - loss: 0.6916 - accuracy: 0.5165 - val_loss: 0.6937 - val_accuracy: 0.5100\n",
            "Epoch 6/50\n",
            "14282/14282 [==============================] - 3s 186us/sample - loss: 0.6911 - accuracy: 0.5181 - val_loss: 0.6939 - val_accuracy: 0.5149\n",
            "Epoch 7/50\n",
            "14282/14282 [==============================] - 3s 175us/sample - loss: 0.6911 - accuracy: 0.5174 - val_loss: 0.6940 - val_accuracy: 0.5195\n",
            "Epoch 8/50\n",
            "14282/14282 [==============================] - 3s 180us/sample - loss: 0.6908 - accuracy: 0.5205 - val_loss: 0.6942 - val_accuracy: 0.5102\n",
            "Epoch 9/50\n",
            "14282/14282 [==============================] - 2s 174us/sample - loss: 0.6902 - accuracy: 0.5238 - val_loss: 0.6950 - val_accuracy: 0.5125\n",
            "Epoch 10/50\n",
            "14282/14282 [==============================] - 3s 176us/sample - loss: 0.6900 - accuracy: 0.5221 - val_loss: 0.6945 - val_accuracy: 0.5114\n",
            "Epoch 11/50\n",
            "14282/14282 [==============================] - 3s 176us/sample - loss: 0.6899 - accuracy: 0.5246 - val_loss: 0.6959 - val_accuracy: 0.5128\n",
            "Epoch 12/50\n",
            "14282/14282 [==============================] - 3s 178us/sample - loss: 0.6893 - accuracy: 0.5248 - val_loss: 0.6956 - val_accuracy: 0.5036\n",
            "Epoch 13/50\n",
            "14282/14282 [==============================] - 3s 177us/sample - loss: 0.6890 - accuracy: 0.5237 - val_loss: 0.6972 - val_accuracy: 0.5143\n",
            "Epoch 14/50\n",
            "14282/14282 [==============================] - 3s 177us/sample - loss: 0.6883 - accuracy: 0.5245 - val_loss: 0.6978 - val_accuracy: 0.5102\n",
            "Epoch 15/50\n",
            "14282/14282 [==============================] - 3s 176us/sample - loss: 0.6880 - accuracy: 0.5243 - val_loss: 0.6981 - val_accuracy: 0.5105\n",
            "Epoch 16/50\n",
            "14282/14282 [==============================] - 3s 179us/sample - loss: 0.6871 - accuracy: 0.5281 - val_loss: 0.6985 - val_accuracy: 0.5135\n",
            "Epoch 17/50\n",
            "14282/14282 [==============================] - 3s 176us/sample - loss: 0.6865 - accuracy: 0.5279 - val_loss: 0.6978 - val_accuracy: 0.5147\n",
            "Epoch 18/50\n",
            "14282/14282 [==============================] - 3s 178us/sample - loss: 0.6862 - accuracy: 0.5259 - val_loss: 0.7008 - val_accuracy: 0.5088\n",
            "Epoch 19/50\n",
            "14282/14282 [==============================] - 3s 177us/sample - loss: 0.6855 - accuracy: 0.5314 - val_loss: 0.7011 - val_accuracy: 0.5066\n",
            "Epoch 20/50\n",
            "14282/14282 [==============================] - 3s 181us/sample - loss: 0.6847 - accuracy: 0.5326 - val_loss: 0.7013 - val_accuracy: 0.5095\n",
            "Epoch 21/50\n",
            "14282/14282 [==============================] - 3s 177us/sample - loss: 0.6840 - accuracy: 0.5315 - val_loss: 0.7027 - val_accuracy: 0.5076\n",
            "Epoch 22/50\n",
            "14282/14282 [==============================] - 3s 179us/sample - loss: 0.6837 - accuracy: 0.5326 - val_loss: 0.7030 - val_accuracy: 0.5081\n",
            "Epoch 23/50\n",
            "14282/14282 [==============================] - 3s 179us/sample - loss: 0.6822 - accuracy: 0.5347 - val_loss: 0.7036 - val_accuracy: 0.5125\n",
            "Epoch 24/50\n",
            "14282/14282 [==============================] - 3s 180us/sample - loss: 0.6814 - accuracy: 0.5378 - val_loss: 0.7051 - val_accuracy: 0.5063\n",
            "Epoch 25/50\n",
            "14282/14282 [==============================] - 3s 177us/sample - loss: 0.6807 - accuracy: 0.5358 - val_loss: 0.7075 - val_accuracy: 0.5091\n",
            "Epoch 26/50\n",
            "14282/14282 [==============================] - 3s 175us/sample - loss: 0.6796 - accuracy: 0.5379 - val_loss: 0.7070 - val_accuracy: 0.5123\n",
            "Epoch 27/50\n",
            "14282/14282 [==============================] - 3s 178us/sample - loss: 0.6783 - accuracy: 0.5388 - val_loss: 0.7101 - val_accuracy: 0.5182\n",
            "Epoch 28/50\n",
            "14282/14282 [==============================] - 3s 178us/sample - loss: 0.6780 - accuracy: 0.5340 - val_loss: 0.7128 - val_accuracy: 0.5086\n",
            "Epoch 29/50\n",
            "14282/14282 [==============================] - 3s 176us/sample - loss: 0.6764 - accuracy: 0.5349 - val_loss: 0.7112 - val_accuracy: 0.5081\n",
            "Epoch 30/50\n",
            "14282/14282 [==============================] - 3s 178us/sample - loss: 0.6760 - accuracy: 0.5415 - val_loss: 0.7126 - val_accuracy: 0.5160\n",
            "Epoch 31/50\n",
            "14282/14282 [==============================] - 2s 174us/sample - loss: 0.6748 - accuracy: 0.5418 - val_loss: 0.7140 - val_accuracy: 0.5102\n",
            "Epoch 32/50\n",
            "14282/14282 [==============================] - 3s 176us/sample - loss: 0.6735 - accuracy: 0.5432 - val_loss: 0.7175 - val_accuracy: 0.5156\n",
            "Epoch 33/50\n",
            "14282/14282 [==============================] - 3s 177us/sample - loss: 0.6722 - accuracy: 0.5402 - val_loss: 0.7152 - val_accuracy: 0.5125\n",
            "Epoch 34/50\n",
            "14282/14282 [==============================] - 3s 176us/sample - loss: 0.6713 - accuracy: 0.5419 - val_loss: 0.7210 - val_accuracy: 0.5139\n",
            "Epoch 35/50\n",
            "14282/14282 [==============================] - 3s 175us/sample - loss: 0.6703 - accuracy: 0.5434 - val_loss: 0.7202 - val_accuracy: 0.5147\n",
            "Epoch 36/50\n",
            "14282/14282 [==============================] - 3s 177us/sample - loss: 0.6695 - accuracy: 0.5412 - val_loss: 0.7249 - val_accuracy: 0.5146\n",
            "Epoch 37/50\n",
            "14282/14282 [==============================] - 3s 176us/sample - loss: 0.6680 - accuracy: 0.5492 - val_loss: 0.7324 - val_accuracy: 0.5136\n",
            "Epoch 38/50\n",
            "14282/14282 [==============================] - 3s 177us/sample - loss: 0.6666 - accuracy: 0.5514 - val_loss: 0.7288 - val_accuracy: 0.5135\n",
            "Epoch 39/50\n",
            "14282/14282 [==============================] - 3s 180us/sample - loss: 0.6651 - accuracy: 0.5528 - val_loss: 0.7289 - val_accuracy: 0.5191\n",
            "Epoch 40/50\n",
            "14282/14282 [==============================] - 3s 178us/sample - loss: 0.6638 - accuracy: 0.5498 - val_loss: 0.7328 - val_accuracy: 0.5129\n",
            "Epoch 41/50\n",
            "14282/14282 [==============================] - 3s 178us/sample - loss: 0.6632 - accuracy: 0.5543 - val_loss: 0.7318 - val_accuracy: 0.5206\n",
            "Epoch 42/50\n",
            "14282/14282 [==============================] - 3s 180us/sample - loss: 0.6623 - accuracy: 0.5475 - val_loss: 0.7371 - val_accuracy: 0.5154\n",
            "Epoch 43/50\n",
            "14282/14282 [==============================] - 2s 175us/sample - loss: 0.6600 - accuracy: 0.5582 - val_loss: 0.7406 - val_accuracy: 0.5133\n",
            "Epoch 44/50\n",
            "14282/14282 [==============================] - 3s 175us/sample - loss: 0.6598 - accuracy: 0.5613 - val_loss: 0.7466 - val_accuracy: 0.5165\n",
            "Epoch 45/50\n",
            "14282/14282 [==============================] - 2s 175us/sample - loss: 0.6581 - accuracy: 0.5524 - val_loss: 0.7507 - val_accuracy: 0.5172\n",
            "Epoch 46/50\n",
            "14282/14282 [==============================] - 3s 176us/sample - loss: 0.6562 - accuracy: 0.5556 - val_loss: 0.7596 - val_accuracy: 0.5150\n",
            "Epoch 47/50\n",
            "14282/14282 [==============================] - 2s 174us/sample - loss: 0.6555 - accuracy: 0.5568 - val_loss: 0.7450 - val_accuracy: 0.5147\n",
            "Epoch 48/50\n",
            "14282/14282 [==============================] - 3s 176us/sample - loss: 0.6533 - accuracy: 0.5622 - val_loss: 0.7637 - val_accuracy: 0.5122\n",
            "Epoch 49/50\n",
            "14282/14282 [==============================] - 3s 176us/sample - loss: 0.6530 - accuracy: 0.5594 - val_loss: 0.7634 - val_accuracy: 0.5179\n",
            "Epoch 50/50\n",
            "14282/14282 [==============================] - 2s 173us/sample - loss: 0.6518 - accuracy: 0.5644 - val_loss: 0.7596 - val_accuracy: 0.5208\n"
          ],
          "name": "stdout"
        }
      ]
    },
    {
      "cell_type": "code",
      "metadata": {
        "id": "erq--mqRRgfR",
        "colab_type": "code",
        "outputId": "59475fa5-cff0-45a8-e8ee-b9c4622212f7",
        "colab": {
          "base_uri": "https://localhost:8080/",
          "height": 265
        }
      },
      "source": [
        "# plot the loss\n",
        "plt.plot(r.history['loss'], label='loss')\n",
        "plt.plot(r.history['val_loss'], label='val_loss')\n",
        "plt.legend()\n",
        "plt.show()"
      ],
      "execution_count": 24,
      "outputs": [
        {
          "output_type": "display_data",
          "data": {
            "image/png": "[encoded data removed]",
            "text/plain": [
              "<Figure size 432x288 with 1 Axes>"
            ]
          },
          "metadata": {
            "tags": []
          }
        }
      ]
    },
    {
      "cell_type": "code",
      "metadata": {
        "id": "D9ZzosDMRjBU",
        "colab_type": "code",
        "outputId": "152d61ce-12e0-4d5a-9150-f53825a11777",
        "colab": {
          "base_uri": "https://localhost:8080/",
          "height": 265
        }
      },
      "source": [
        "# Plot accuracy per iteration\n",
        "plt.plot(r.history['accuracy'], label='accuracy')\n",
        "plt.plot(r.history['val_accuracy'], label='val_accuracy')\n",
        "plt.legend()\n",
        "plt.show()"
      ],
      "execution_count": 25,
      "outputs": [
        {
          "output_type": "display_data",
          "data": {
            "image/png": "[encoded data removed]",
            "text/plain": [
              "<Figure size 432x288 with 1 Axes>"
            ]
          },
          "metadata": {
            "tags": []
          }
        }
      ]
    },
    {
      "cell_type": "markdown",
      "metadata": {
        "id": "5XQvKRLOQaCV",
        "colab_type": "text"
      },
      "source": [
        "Clearly overfitting and not better than random."
      ]
    },
    {
      "cell_type": "code",
      "metadata": {
        "id": "35vcuHbVQgtw",
        "colab_type": "code",
        "colab": {}
      },
      "source": [
        ""
      ],
      "execution_count": 0,
      "outputs": []
    }
  ]
}