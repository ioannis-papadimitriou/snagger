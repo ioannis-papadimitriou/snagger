{
 "cells": [
  {
   "cell_type": "code",
   "execution_count": 1,
   "metadata": {},
   "outputs": [],
   "source": [
    "# Importing the libraries\n",
    "import numpy as np\n",
    "import matplotlib.pyplot as plt\n",
    "import pandas as pd"
   ]
  },
  {
   "cell_type": "code",
   "execution_count": 2,
   "metadata": {},
   "outputs": [],
   "source": [
    "# Importing the dataset\n",
    "dataset = pd.read_csv('Churn_Modelling.csv')\n",
    "X = dataset.iloc[:, 3:13].values\n",
    "y = dataset.iloc[:, 13].values"
   ]
  },
  {
   "cell_type": "code",
   "execution_count": 3,
   "metadata": {},
   "outputs": [
    {
     "name": "stderr",
     "output_type": "stream",
     "text": [
      "/home/reaper/anaconda3/envs/dl/lib/python3.7/site-packages/sklearn/preprocessing/_encoders.py:415: FutureWarning: The handling of integer data will change in version 0.22. Currently, the categories are determined based on the range [0, max(values)], while in the future they will be determined based on the unique values.\n",
      "If you want the future behaviour and silence this warning, you can specify \"categories='auto'\".\n",
      "In case you used a LabelEncoder before this OneHotEncoder to convert the categories to integers, then you can now use the OneHotEncoder directly.\n",
      "  warnings.warn(msg, FutureWarning)\n",
      "/home/reaper/anaconda3/envs/dl/lib/python3.7/site-packages/sklearn/preprocessing/_encoders.py:451: DeprecationWarning: The 'categorical_features' keyword is deprecated in version 0.20 and will be removed in 0.22. You can use the ColumnTransformer instead.\n",
      "  \"use the ColumnTransformer instead.\", DeprecationWarning)\n"
     ]
    }
   ],
   "source": [
    "# Encoding categorical data\n",
    "#print(X)\n",
    "from sklearn.preprocessing import LabelEncoder, OneHotEncoder\n",
    "labelencoder_X_1 = LabelEncoder()\n",
    "X[:, 1] = labelencoder_X_1.fit_transform(X[:, 1])\n",
    "#print(X)\n",
    "labelencoder_X_2 = LabelEncoder()\n",
    "X[:, 2] = labelencoder_X_2.fit_transform(X[:, 2])\n",
    "#print(X)\n",
    "onehotencoder = OneHotEncoder(categorical_features = [1])\n",
    "X = onehotencoder.fit_transform(X).toarray()\n",
    "#print(X)\n",
    "X = X[:, 1:] #get rid of one column to avoid dummy variable trap\n",
    "#print(X)"
   ]
  },
  {
   "cell_type": "code",
   "execution_count": 4,
   "metadata": {},
   "outputs": [],
   "source": [
    "# Splitting the dataset into the Training set and Test set\n",
    "from sklearn.model_selection import train_test_split\n",
    "X_train, X_test, y_train, y_test = train_test_split(X, y, test_size = 0.2, random_state = 0)"
   ]
  },
  {
   "cell_type": "code",
   "execution_count": 5,
   "metadata": {},
   "outputs": [],
   "source": [
    "# Feature Scaling (compulsory for ANN)\n",
    "from sklearn.preprocessing import StandardScaler\n",
    "sc = StandardScaler()\n",
    "X_train = sc.fit_transform(X_train)\n",
    "X_test = sc.transform(X_test)"
   ]
  },
  {
   "cell_type": "code",
   "execution_count": 6,
   "metadata": {},
   "outputs": [
    {
     "name": "stderr",
     "output_type": "stream",
     "text": [
      "Using TensorFlow backend.\n",
      "/home/reaper/anaconda3/envs/dl/lib/python3.7/site-packages/tensorflow/python/framework/dtypes.py:516: FutureWarning: Passing (type, 1) or '1type' as a synonym of type is deprecated; in a future version of numpy, it will be understood as (type, (1,)) / '(1,)type'.\n",
      "  _np_qint8 = np.dtype([(\"qint8\", np.int8, 1)])\n",
      "/home/reaper/anaconda3/envs/dl/lib/python3.7/site-packages/tensorflow/python/framework/dtypes.py:517: FutureWarning: Passing (type, 1) or '1type' as a synonym of type is deprecated; in a future version of numpy, it will be understood as (type, (1,)) / '(1,)type'.\n",
      "  _np_quint8 = np.dtype([(\"quint8\", np.uint8, 1)])\n",
      "/home/reaper/anaconda3/envs/dl/lib/python3.7/site-packages/tensorflow/python/framework/dtypes.py:518: FutureWarning: Passing (type, 1) or '1type' as a synonym of type is deprecated; in a future version of numpy, it will be understood as (type, (1,)) / '(1,)type'.\n",
      "  _np_qint16 = np.dtype([(\"qint16\", np.int16, 1)])\n",
      "/home/reaper/anaconda3/envs/dl/lib/python3.7/site-packages/tensorflow/python/framework/dtypes.py:519: FutureWarning: Passing (type, 1) or '1type' as a synonym of type is deprecated; in a future version of numpy, it will be understood as (type, (1,)) / '(1,)type'.\n",
      "  _np_quint16 = np.dtype([(\"quint16\", np.uint16, 1)])\n",
      "/home/reaper/anaconda3/envs/dl/lib/python3.7/site-packages/tensorflow/python/framework/dtypes.py:520: FutureWarning: Passing (type, 1) or '1type' as a synonym of type is deprecated; in a future version of numpy, it will be understood as (type, (1,)) / '(1,)type'.\n",
      "  _np_qint32 = np.dtype([(\"qint32\", np.int32, 1)])\n",
      "/home/reaper/anaconda3/envs/dl/lib/python3.7/site-packages/tensorflow/python/framework/dtypes.py:525: FutureWarning: Passing (type, 1) or '1type' as a synonym of type is deprecated; in a future version of numpy, it will be understood as (type, (1,)) / '(1,)type'.\n",
      "  np_resource = np.dtype([(\"resource\", np.ubyte, 1)])\n",
      "/home/reaper/anaconda3/envs/dl/lib/python3.7/site-packages/tensorboard/compat/tensorflow_stub/dtypes.py:541: FutureWarning: Passing (type, 1) or '1type' as a synonym of type is deprecated; in a future version of numpy, it will be understood as (type, (1,)) / '(1,)type'.\n",
      "  _np_qint8 = np.dtype([(\"qint8\", np.int8, 1)])\n",
      "/home/reaper/anaconda3/envs/dl/lib/python3.7/site-packages/tensorboard/compat/tensorflow_stub/dtypes.py:542: FutureWarning: Passing (type, 1) or '1type' as a synonym of type is deprecated; in a future version of numpy, it will be understood as (type, (1,)) / '(1,)type'.\n",
      "  _np_quint8 = np.dtype([(\"quint8\", np.uint8, 1)])\n",
      "/home/reaper/anaconda3/envs/dl/lib/python3.7/site-packages/tensorboard/compat/tensorflow_stub/dtypes.py:543: FutureWarning: Passing (type, 1) or '1type' as a synonym of type is deprecated; in a future version of numpy, it will be understood as (type, (1,)) / '(1,)type'.\n",
      "  _np_qint16 = np.dtype([(\"qint16\", np.int16, 1)])\n",
      "/home/reaper/anaconda3/envs/dl/lib/python3.7/site-packages/tensorboard/compat/tensorflow_stub/dtypes.py:544: FutureWarning: Passing (type, 1) or '1type' as a synonym of type is deprecated; in a future version of numpy, it will be understood as (type, (1,)) / '(1,)type'.\n",
      "  _np_quint16 = np.dtype([(\"quint16\", np.uint16, 1)])\n",
      "/home/reaper/anaconda3/envs/dl/lib/python3.7/site-packages/tensorboard/compat/tensorflow_stub/dtypes.py:545: FutureWarning: Passing (type, 1) or '1type' as a synonym of type is deprecated; in a future version of numpy, it will be understood as (type, (1,)) / '(1,)type'.\n",
      "  _np_qint32 = np.dtype([(\"qint32\", np.int32, 1)])\n",
      "/home/reaper/anaconda3/envs/dl/lib/python3.7/site-packages/tensorboard/compat/tensorflow_stub/dtypes.py:550: FutureWarning: Passing (type, 1) or '1type' as a synonym of type is deprecated; in a future version of numpy, it will be understood as (type, (1,)) / '(1,)type'.\n",
      "  np_resource = np.dtype([(\"resource\", np.ubyte, 1)])\n"
     ]
    }
   ],
   "source": [
    "# Part 2 - Now let's make the ANN!\n",
    "\n",
    "# Importing the Keras libraries and packages\n",
    "import keras\n",
    "from keras.models import Sequential\n",
    "from keras.layers import Dense"
   ]
  },
  {
   "cell_type": "code",
   "execution_count": 7,
   "metadata": {},
   "outputs": [
    {
     "name": "stdout",
     "output_type": "stream",
     "text": [
      "WARNING:tensorflow:From /home/reaper/anaconda3/envs/dl/lib/python3.7/site-packages/keras/backend/tensorflow_backend.py:74: The name tf.get_default_graph is deprecated. Please use tf.compat.v1.get_default_graph instead.\n",
      "\n",
      "WARNING:tensorflow:From /home/reaper/anaconda3/envs/dl/lib/python3.7/site-packages/keras/backend/tensorflow_backend.py:517: The name tf.placeholder is deprecated. Please use tf.compat.v1.placeholder instead.\n",
      "\n",
      "WARNING:tensorflow:From /home/reaper/anaconda3/envs/dl/lib/python3.7/site-packages/keras/backend/tensorflow_backend.py:4138: The name tf.random_uniform is deprecated. Please use tf.random.uniform instead.\n",
      "\n",
      "WARNING:tensorflow:From /home/reaper/anaconda3/envs/dl/lib/python3.7/site-packages/keras/optimizers.py:790: The name tf.train.Optimizer is deprecated. Please use tf.compat.v1.train.Optimizer instead.\n",
      "\n",
      "WARNING:tensorflow:From /home/reaper/anaconda3/envs/dl/lib/python3.7/site-packages/keras/backend/tensorflow_backend.py:3376: The name tf.log is deprecated. Please use tf.math.log instead.\n",
      "\n"
     ]
    },
    {
     "name": "stderr",
     "output_type": "stream",
     "text": [
      "/home/reaper/anaconda3/envs/dl/lib/python3.7/site-packages/ipykernel_launcher.py:5: UserWarning: Update your `Dense` call to the Keras 2 API: `Dense(activation=\"relu\", input_dim=11, units=10, kernel_initializer=\"uniform\")`\n",
      "  \"\"\"\n",
      "/home/reaper/anaconda3/envs/dl/lib/python3.7/site-packages/ipykernel_launcher.py:9: UserWarning: Update your `Dense` call to the Keras 2 API: `Dense(activation=\"relu\", units=8, kernel_initializer=\"uniform\")`\n",
      "  if __name__ == '__main__':\n",
      "/home/reaper/anaconda3/envs/dl/lib/python3.7/site-packages/ipykernel_launcher.py:13: UserWarning: Update your `Dense` call to the Keras 2 API: `Dense(activation=\"relu\", units=6, kernel_initializer=\"uniform\")`\n",
      "  del sys.path[0]\n",
      "/home/reaper/anaconda3/envs/dl/lib/python3.7/site-packages/ipykernel_launcher.py:16: UserWarning: Update your `Dense` call to the Keras 2 API: `Dense(activation=\"sigmoid\", units=1, kernel_initializer=\"uniform\")`\n",
      "  app.launch_new_instance()\n"
     ]
    },
    {
     "name": "stdout",
     "output_type": "stream",
     "text": [
      "WARNING:tensorflow:From /home/reaper/anaconda3/envs/dl/lib/python3.7/site-packages/tensorflow/python/ops/nn_impl.py:180: add_dispatch_support.<locals>.wrapper (from tensorflow.python.ops.array_ops) is deprecated and will be removed in a future version.\n",
      "Instructions for updating:\n",
      "Use tf.where in 2.0, which has the same broadcast rule as np.where\n",
      "WARNING:tensorflow:From /home/reaper/anaconda3/envs/dl/lib/python3.7/site-packages/keras/backend/tensorflow_backend.py:986: The name tf.assign_add is deprecated. Please use tf.compat.v1.assign_add instead.\n",
      "\n",
      "Epoch 1/100\n",
      "8000/8000 [==============================] - 9s 1ms/step - loss: 0.4735 - acc: 0.7954\n",
      "Epoch 2/100\n",
      "8000/8000 [==============================] - 11s 1ms/step - loss: 0.4268 - acc: 0.7960\n",
      "Epoch 3/100\n",
      "8000/8000 [==============================] - 10s 1ms/step - loss: 0.4213 - acc: 0.8085\n",
      "Epoch 4/100\n",
      "8000/8000 [==============================] - 9s 1ms/step - loss: 0.4178 - acc: 0.8267\n",
      "Epoch 5/100\n",
      "8000/8000 [==============================] - 10s 1ms/step - loss: 0.4156 - acc: 0.8292\n",
      "Epoch 6/100\n",
      "8000/8000 [==============================] - 10s 1ms/step - loss: 0.4134 - acc: 0.8305\n",
      "Epoch 7/100\n",
      "8000/8000 [==============================] - 10s 1ms/step - loss: 0.4121 - acc: 0.8311\n",
      "Epoch 8/100\n",
      "8000/8000 [==============================] - 10s 1ms/step - loss: 0.4121 - acc: 0.8327\n",
      "Epoch 9/100\n",
      "8000/8000 [==============================] - 9s 1ms/step - loss: 0.4104 - acc: 0.8330\n",
      "Epoch 10/100\n",
      "8000/8000 [==============================] - 12s 1ms/step - loss: 0.4092 - acc: 0.8332\n",
      "Epoch 11/100\n",
      "8000/8000 [==============================] - 9s 1ms/step - loss: 0.4085 - acc: 0.8342\n",
      "Epoch 12/100\n",
      "8000/8000 [==============================] - 9s 1ms/step - loss: 0.4078 - acc: 0.8354\n",
      "Epoch 13/100\n",
      "8000/8000 [==============================] - 10s 1ms/step - loss: 0.4073 - acc: 0.8340\n",
      "Epoch 14/100\n",
      "8000/8000 [==============================] - 7s 846us/step - loss: 0.4062 - acc: 0.8342\n",
      "Epoch 15/100\n",
      "8000/8000 [==============================] - 6s 757us/step - loss: 0.4060 - acc: 0.8360\n",
      "Epoch 16/100\n",
      "8000/8000 [==============================] - 3s 412us/step - loss: 0.4056 - acc: 0.8337\n",
      "Epoch 17/100\n",
      "8000/8000 [==============================] - 3s 437us/step - loss: 0.4054 - acc: 0.8342\n",
      "Epoch 18/100\n",
      "8000/8000 [==============================] - 4s 449us/step - loss: 0.4048 - acc: 0.8349\n",
      "Epoch 19/100\n",
      "8000/8000 [==============================] - 4s 448us/step - loss: 0.4041 - acc: 0.8336\n",
      "Epoch 20/100\n",
      "8000/8000 [==============================] - 4s 485us/step - loss: 0.4043 - acc: 0.8354\n",
      "Epoch 21/100\n",
      "8000/8000 [==============================] - 3s 431us/step - loss: 0.4041 - acc: 0.8344\n",
      "Epoch 22/100\n",
      "8000/8000 [==============================] - 3s 431us/step - loss: 0.4037 - acc: 0.8346\n",
      "Epoch 23/100\n",
      "8000/8000 [==============================] - 3s 421us/step - loss: 0.4040 - acc: 0.8354\n",
      "Epoch 24/100\n",
      "8000/8000 [==============================] - 5s 613us/step - loss: 0.4034 - acc: 0.8342\n",
      "Epoch 25/100\n",
      "8000/8000 [==============================] - 7s 872us/step - loss: 0.4032 - acc: 0.8334\n",
      "Epoch 26/100\n",
      "8000/8000 [==============================] - 11s 1ms/step - loss: 0.4030 - acc: 0.8336\n",
      "Epoch 27/100\n",
      "8000/8000 [==============================] - 10s 1ms/step - loss: 0.4024 - acc: 0.8344\n",
      "Epoch 28/100\n",
      "8000/8000 [==============================] - 11s 1ms/step - loss: 0.4029 - acc: 0.8347\n",
      "Epoch 29/100\n",
      "8000/8000 [==============================] - 12s 1ms/step - loss: 0.4028 - acc: 0.8345\n",
      "Epoch 30/100\n",
      "8000/8000 [==============================] - 12s 1ms/step - loss: 0.4023 - acc: 0.8352\n",
      "Epoch 31/100\n",
      "8000/8000 [==============================] - 7s 886us/step - loss: 0.4020 - acc: 0.8352\n",
      "Epoch 32/100\n",
      "8000/8000 [==============================] - 6s 694us/step - loss: 0.4022 - acc: 0.8351\n",
      "Epoch 33/100\n",
      "8000/8000 [==============================] - 8s 989us/step - loss: 0.4024 - acc: 0.8350\n",
      "Epoch 34/100\n",
      "8000/8000 [==============================] - 10s 1ms/step - loss: 0.4021 - acc: 0.8355\n",
      "Epoch 35/100\n",
      "8000/8000 [==============================] - 9s 1ms/step - loss: 0.4011 - acc: 0.8346\n",
      "Epoch 36/100\n",
      "8000/8000 [==============================] - 10s 1ms/step - loss: 0.4017 - acc: 0.8366\n",
      "Epoch 37/100\n",
      "8000/8000 [==============================] - 11s 1ms/step - loss: 0.4014 - acc: 0.8344\n",
      "Epoch 38/100\n",
      "8000/8000 [==============================] - 12s 2ms/step - loss: 0.4013 - acc: 0.8359\n",
      "Epoch 39/100\n",
      "8000/8000 [==============================] - 7s 919us/step - loss: 0.4008 - acc: 0.8327\n",
      "Epoch 40/100\n",
      "8000/8000 [==============================] - 6s 696us/step - loss: 0.4011 - acc: 0.8357\n",
      "Epoch 41/100\n",
      "8000/8000 [==============================] - 5s 642us/step - loss: 0.4006 - acc: 0.8342\n",
      "Epoch 42/100\n",
      "8000/8000 [==============================] - 5s 621us/step - loss: 0.4005 - acc: 0.8347\n",
      "Epoch 43/100\n",
      "8000/8000 [==============================] - 5s 665us/step - loss: 0.4008 - acc: 0.8352\n",
      "Epoch 44/100\n",
      "8000/8000 [==============================] - 4s 560us/step - loss: 0.4004 - acc: 0.8347\n",
      "Epoch 45/100\n",
      "8000/8000 [==============================] - 8s 1ms/step - loss: 0.4000 - acc: 0.8357\n",
      "Epoch 46/100\n",
      "8000/8000 [==============================] - 9s 1ms/step - loss: 0.3997 - acc: 0.8351\n",
      "Epoch 47/100\n",
      "8000/8000 [==============================] - 11s 1ms/step - loss: 0.3997 - acc: 0.8347\n",
      "Epoch 48/100\n",
      "8000/8000 [==============================] - 11s 1ms/step - loss: 0.3993 - acc: 0.8362\n",
      "Epoch 49/100\n",
      "8000/8000 [==============================] - 7s 880us/step - loss: 0.3993 - acc: 0.8364\n",
      "Epoch 50/100\n",
      "8000/8000 [==============================] - 4s 521us/step - loss: 0.3994 - acc: 0.8330\n",
      "Epoch 51/100\n",
      "8000/8000 [==============================] - 4s 448us/step - loss: 0.3990 - acc: 0.8356\n",
      "Epoch 52/100\n",
      "8000/8000 [==============================] - 4s 473us/step - loss: 0.3986 - acc: 0.8335\n",
      "Epoch 53/100\n",
      "8000/8000 [==============================] - 4s 457us/step - loss: 0.3978 - acc: 0.8351\n",
      "Epoch 54/100\n",
      "8000/8000 [==============================] - 5s 598us/step - loss: 0.3972 - acc: 0.8357\n",
      "Epoch 55/100\n",
      "8000/8000 [==============================] - 4s 547us/step - loss: 0.3958 - acc: 0.8359\n",
      "Epoch 56/100\n",
      "8000/8000 [==============================] - 5s 597us/step - loss: 0.3928 - acc: 0.8366\n",
      "Epoch 57/100\n",
      "8000/8000 [==============================] - 4s 536us/step - loss: 0.3876 - acc: 0.8395\n",
      "Epoch 58/100\n",
      "8000/8000 [==============================] - 4s 535us/step - loss: 0.3807 - acc: 0.8405\n",
      "Epoch 59/100\n",
      "8000/8000 [==============================] - 6s 718us/step - loss: 0.3736 - acc: 0.8474\n",
      "Epoch 60/100\n",
      "8000/8000 [==============================] - 12s 1ms/step - loss: 0.3668 - acc: 0.8510\n",
      "Epoch 61/100\n",
      "8000/8000 [==============================] - 12s 1ms/step - loss: 0.3578 - acc: 0.8544\n",
      "Epoch 62/100\n",
      "8000/8000 [==============================] - 7s 840us/step - loss: 0.3503 - acc: 0.8559\n",
      "Epoch 63/100\n",
      "8000/8000 [==============================] - 6s 762us/step - loss: 0.3480 - acc: 0.8581\n",
      "Epoch 64/100\n",
      "8000/8000 [==============================] - 6s 793us/step - loss: 0.3461 - acc: 0.8610\n",
      "Epoch 65/100\n",
      "8000/8000 [==============================] - 12s 2ms/step - loss: 0.3458 - acc: 0.8607\n",
      "Epoch 66/100\n",
      "8000/8000 [==============================] - 11s 1ms/step - loss: 0.3446 - acc: 0.8617\n",
      "Epoch 67/100\n",
      "8000/8000 [==============================] - 7s 896us/step - loss: 0.3440 - acc: 0.8622\n",
      "Epoch 68/100\n",
      "8000/8000 [==============================] - 6s 708us/step - loss: 0.3430 - acc: 0.8619\n",
      "Epoch 69/100\n",
      "8000/8000 [==============================] - 14s 2ms/step - loss: 0.3428 - acc: 0.8624\n",
      "Epoch 70/100\n",
      "8000/8000 [==============================] - 15s 2ms/step - loss: 0.3430 - acc: 0.8631\n",
      "Epoch 71/100\n",
      "8000/8000 [==============================] - 12s 2ms/step - loss: 0.3429 - acc: 0.8625\n",
      "Epoch 72/100\n",
      "8000/8000 [==============================] - 4s 550us/step - loss: 0.3423 - acc: 0.8627\n",
      "Epoch 73/100\n",
      "8000/8000 [==============================] - 13s 2ms/step - loss: 0.3409 - acc: 0.8632\n",
      "Epoch 74/100\n",
      "8000/8000 [==============================] - 3s 430us/step - loss: 0.3409 - acc: 0.8636\n",
      "Epoch 75/100\n",
      "8000/8000 [==============================] - 10s 1ms/step - loss: 0.3415 - acc: 0.8636: 3s - loss:\n",
      "Epoch 76/100\n",
      "8000/8000 [==============================] - 3s 422us/step - loss: 0.3402 - acc: 0.8651\n",
      "Epoch 77/100\n",
      "8000/8000 [==============================] - 8s 1ms/step - loss: 0.3402 - acc: 0.8622\n",
      "Epoch 78/100\n",
      "8000/8000 [==============================] - 7s 814us/step - loss: 0.3395 - acc: 0.8627\n",
      "Epoch 79/100\n",
      "8000/8000 [==============================] - 10s 1ms/step - loss: 0.3387 - acc: 0.8629\n",
      "Epoch 80/100\n",
      "8000/8000 [==============================] - 15s 2ms/step - loss: 0.3390 - acc: 0.8634\n",
      "Epoch 81/100\n",
      "8000/8000 [==============================] - 15s 2ms/step - loss: 0.3373 - acc: 0.8627\n",
      "Epoch 82/100\n",
      "8000/8000 [==============================] - 6s 781us/step - loss: 0.3374 - acc: 0.8636\n",
      "Epoch 83/100\n",
      "8000/8000 [==============================] - 4s 446us/step - loss: 0.3366 - acc: 0.8637\n",
      "Epoch 84/100\n",
      "8000/8000 [==============================] - 4s 535us/step - loss: 0.3366 - acc: 0.8636\n",
      "Epoch 85/100\n",
      "8000/8000 [==============================] - 4s 535us/step - loss: 0.3364 - acc: 0.8660\n",
      "Epoch 86/100\n",
      "8000/8000 [==============================] - 7s 882us/step - loss: 0.3363 - acc: 0.8632\n",
      "Epoch 87/100\n",
      "8000/8000 [==============================] - 5s 684us/step - loss: 0.3357 - acc: 0.8646\n",
      "Epoch 88/100\n",
      "8000/8000 [==============================] - 4s 527us/step - loss: 0.3358 - acc: 0.8624\n",
      "Epoch 89/100\n",
      "8000/8000 [==============================] - 15s 2ms/step - loss: 0.3363 - acc: 0.8657\n",
      "Epoch 90/100\n",
      "8000/8000 [==============================] - 15s 2ms/step - loss: 0.3358 - acc: 0.8632\n",
      "Epoch 91/100\n",
      "8000/8000 [==============================] - 7s 903us/step - loss: 0.3362 - acc: 0.8640\n",
      "Epoch 92/100\n",
      "8000/8000 [==============================] - 4s 530us/step - loss: 0.3361 - acc: 0.8659\n",
      "Epoch 93/100\n",
      "8000/8000 [==============================] - 9s 1ms/step - loss: 0.3350 - acc: 0.8661\n",
      "Epoch 94/100\n",
      "8000/8000 [==============================] - 8s 1ms/step - loss: 0.3356 - acc: 0.8640\n",
      "Epoch 95/100\n",
      "8000/8000 [==============================] - 12s 1ms/step - loss: 0.3355 - acc: 0.8651\n",
      "Epoch 96/100\n",
      "8000/8000 [==============================] - 10s 1ms/step - loss: 0.3353 - acc: 0.8610\n",
      "Epoch 97/100\n",
      "8000/8000 [==============================] - 4s 517us/step - loss: 0.3351 - acc: 0.8642\n",
      "Epoch 98/100\n",
      "8000/8000 [==============================] - 7s 888us/step - loss: 0.3355 - acc: 0.8640\n",
      "Epoch 99/100\n",
      "8000/8000 [==============================] - 7s 843us/step - loss: 0.3345 - acc: 0.8649\n",
      "Epoch 100/100\n",
      "8000/8000 [==============================] - 6s 700us/step - loss: 0.3346 - acc: 0.8634\n"
     ]
    },
    {
     "data": {
      "text/plain": [
       "<keras.callbacks.History at 0x7f2e6bdf5350>"
      ]
     },
     "execution_count": 7,
     "metadata": {},
     "output_type": "execute_result"
    }
   ],
   "source": [
    "# Initialising the ANN\n",
    "classifier = Sequential()\n",
    "\n",
    "# Adding the input layer and the first hidden layer\n",
    "classifier.add(Dense(output_dim = 10, init = 'uniform', activation = 'relu', input_dim = 11))\n",
    "# output_nod number of nodes of the hidden layer - tip: average of the number of nodes in the input layer and the output layer\n",
    "\n",
    "# Adding the second hidden layer\n",
    "classifier.add(Dense(output_dim = 8, init = 'uniform', activation = 'relu'))\n",
    "# now input_dim is not needed\n",
    "\n",
    "# Adding the third hidden layer\n",
    "classifier.add(Dense(output_dim = 6, init = 'uniform', activation = 'relu'))\n",
    "\n",
    "# Adding the output layer\n",
    "classifier.add(Dense(output_dim = 1, init = 'uniform', activation = 'sigmoid'))\n",
    "\n",
    "# Compiling the ANN\n",
    "classifier.compile(optimizer = 'adam', loss = 'binary_crossentropy', metrics = ['accuracy'])\n",
    "\n",
    "# Fitting the ANN to the Training set\n",
    "classifier.fit(X_train, y_train, batch_size = 10, epochs = 100)"
   ]
  },
  {
   "cell_type": "code",
   "execution_count": 8,
   "metadata": {},
   "outputs": [],
   "source": [
    "# Part 3 - Making the predictions and evaluating the model\n",
    "\n",
    "# Predicting the Test set results\n",
    "y_pred = classifier.predict(X_test)\n",
    "y_pred = (y_pred > 0.5)"
   ]
  },
  {
   "cell_type": "code",
   "execution_count": 10,
   "metadata": {},
   "outputs": [
    {
     "name": "stdout",
     "output_type": "stream",
     "text": [
      "[[1519   76]\n",
      " [ 194  211]]\n"
     ]
    },
    {
     "data": {
      "text/plain": [
       "Text(0.5, 1, 'Confusion Matrix')"
      ]
     },
     "execution_count": 10,
     "metadata": {},
     "output_type": "execute_result"
    },
    {
     "data": {
      "image/png": "[encoded data removed]",
      "text/plain": [
       "<Figure size 432x288 with 2 Axes>"
      ]
     },
     "metadata": {
      "needs_background": "light"
     },
     "output_type": "display_data"
    }
   ],
   "source": [
    "# Making the Confusion Matrix\n",
    "import seaborn as sn\n",
    "from sklearn.metrics import confusion_matrix\n",
    "cm = confusion_matrix(y_test, y_pred)\n",
    "df_cm = pd.DataFrame(cm, range(2), range(2))\n",
    "ax= plt.subplot()\n",
    "sn.heatmap(df_cm, annot=True, ax = ax); #annot=True to annotate cells\n",
    "print(cm)\n",
    "# labels, title and ticks\n",
    "ax.set_xlabel('Predicted labels')\n",
    "ax.set_ylabel('True labels')\n",
    "ax.set_title('Confusion Matrix')"
   ]
  }
 ],
 "metadata": {
  "kernelspec": {
   "display_name": "Python 3",
   "language": "python",
   "name": "python3"
  },
  "language_info": {
   "codemirror_mode": {
    "name": "ipython",
    "version": 3
   },
   "file_extension": ".py",
   "mimetype": "text/x-python",
   "name": "python",
   "nbconvert_exporter": "python",
   "pygments_lexer": "ipython3",
   "version": "3.7.4"
  }
 },
 "nbformat": 4,
 "nbformat_minor": 4
}
