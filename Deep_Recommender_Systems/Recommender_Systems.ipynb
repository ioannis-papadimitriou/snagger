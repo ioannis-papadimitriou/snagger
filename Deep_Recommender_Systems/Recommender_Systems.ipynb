{
  "nbformat": 4,
  "nbformat_minor": 0,
  "metadata": {
    "colab": {
      "name": "Recommender_Systems.ipynb",
      "provenance": []
    },
    "kernelspec": {
      "name": "python3",
      "display_name": "Python 3"
    },
    "accelerator": "GPU"
  },
  "cells": [
    {
      "cell_type": "code",
      "metadata": {
        "id": "RZFTFusEcsec",
        "colab_type": "code",
        "outputId": "2ec705ff-f05e-4464-a33a-df8bbf5f071c",
        "colab": {
          "base_uri": "https://localhost:8080/",
          "height": 102
        }
      },
      "source": [
        "try:\n",
        "  %tensorflow_version 2.x  # Colab only.\n",
        "except Exception:\n",
        "  pass\n",
        "\n",
        "import tensorflow as tf\n",
        "from tensorflow.keras.layers import Input, Dense, Embedding, Flatten, Concatenate\n",
        "from tensorflow.keras.models import Model\n",
        "from tensorflow.keras.optimizers import SGD, Adam\n",
        "from sklearn.utils import shuffle\n",
        "import numpy as np\n",
        "import pandas as pd\n",
        "import matplotlib.pyplot as plt\n",
        "import sys, os"
      ],
      "execution_count": 1,
      "outputs": [
        {
          "output_type": "stream",
          "text": [
            "`%tensorflow_version` only switches the major version: `1.x` or `2.x`.\n",
            "You set: `2.x  # Colab only.`. This will be interpreted as: `2.x`.\n",
            "\n",
            "\n",
            "TensorFlow 2.x selected.\n"
          ],
          "name": "stdout"
        }
      ]
    },
    {
      "cell_type": "code",
      "metadata": {
        "id": "izKJg9lLiKVS",
        "colab_type": "code",
        "colab": {
          "base_uri": "https://localhost:8080/",
          "height": 204
        },
        "outputId": "d49439fd-df56-4c21-c966-053fb31b38c8"
      },
      "source": [
        "!wget -nc http://files.grouplens.org/datasets/movielens/ml-25m.zip"
      ],
      "execution_count": 4,
      "outputs": [
        {
          "output_type": "stream",
          "text": [
            "--2019-12-14 22:32:36--  http://files.grouplens.org/datasets/movielens/ml-25m.zip\n",
            "Resolving files.grouplens.org (files.grouplens.org)... 128.101.65.152\n",
            "Connecting to files.grouplens.org (files.grouplens.org)|128.101.65.152|:80... connected.\n",
            "HTTP request sent, awaiting response... 200 OK\n",
            "Length: 261978986 (250M) [application/zip]\n",
            "Saving to: ‘ml-25m.zip’\n",
            "\n",
            "ml-25m.zip          100%[===================>] 249.84M  14.3MB/s    in 19s     \n",
            "\n",
            "2019-12-14 22:32:56 (13.0 MB/s) - ‘ml-25m.zip’ saved [261978986/261978986]\n",
            "\n"
          ],
          "name": "stdout"
        }
      ]
    },
    {
      "cell_type": "code",
      "metadata": {
        "id": "53SoGVNBiUuc",
        "colab_type": "code",
        "colab": {
          "base_uri": "https://localhost:8080/",
          "height": 170
        },
        "outputId": "42ed2da1-cec6-4657-f5d0-20aad01c1504"
      },
      "source": [
        "!unzip -n ml-25m.zip"
      ],
      "execution_count": 5,
      "outputs": [
        {
          "output_type": "stream",
          "text": [
            "Archive:  ml-25m.zip\n",
            "   creating: ml-25m/\n",
            "  inflating: ml-25m/tags.csv         \n",
            "  inflating: ml-25m/links.csv        \n",
            "  inflating: ml-25m/README.txt       \n",
            "  inflating: ml-25m/ratings.csv      \n",
            "  inflating: ml-25m/genome-tags.csv  \n",
            "  inflating: ml-25m/genome-scores.csv  \n",
            "  inflating: ml-25m/movies.csv       \n"
          ],
          "name": "stdout"
        }
      ]
    },
    {
      "cell_type": "code",
      "metadata": {
        "id": "pzl0HdRni7QF",
        "colab_type": "code",
        "colab": {
          "base_uri": "https://localhost:8080/",
          "height": 34
        },
        "outputId": "91fd076c-9999-4f48-bf42-fd98730196e5"
      },
      "source": [
        "!ls"
      ],
      "execution_count": 6,
      "outputs": [
        {
          "output_type": "stream",
          "text": [
            "ml-25m\tml-25m.zip  sample_data\n"
          ],
          "name": "stdout"
        }
      ]
    },
    {
      "cell_type": "code",
      "metadata": {
        "id": "kUnrkiFFi9oc",
        "colab_type": "code",
        "colab": {}
      },
      "source": [
        "df = pd.read_csv('ml-25m/ratings.csv')"
      ],
      "execution_count": 0,
      "outputs": []
    },
    {
      "cell_type": "code",
      "metadata": {
        "id": "iXmlaxZUjKHL",
        "colab_type": "code",
        "colab": {
          "base_uri": "https://localhost:8080/",
          "height": 204
        },
        "outputId": "245dc17f-cadc-4f80-8010-9e8dffaa8d7e"
      },
      "source": [
        "df.head()"
      ],
      "execution_count": 8,
      "outputs": [
        {
          "output_type": "execute_result",
          "data": {
            "text/html": [
              "<div>\n",
              "<style scoped>\n",
              "    .dataframe tbody tr th:only-of-type {\n",
              "        vertical-align: middle;\n",
              "    }\n",
              "\n",
              "    .dataframe tbody tr th {\n",
              "        vertical-align: top;\n",
              "    }\n",
              "\n",
              "    .dataframe thead th {\n",
              "        text-align: right;\n",
              "    }\n",
              "</style>\n",
              "<table border=\"1\" class=\"dataframe\">\n",
              "  <thead>\n",
              "    <tr style=\"text-align: right;\">\n",
              "      <th></th>\n",
              "      <th>userId</th>\n",
              "      <th>movieId</th>\n",
              "      <th>rating</th>\n",
              "      <th>timestamp</th>\n",
              "    </tr>\n",
              "  </thead>\n",
              "  <tbody>\n",
              "    <tr>\n",
              "      <th>0</th>\n",
              "      <td>1</td>\n",
              "      <td>296</td>\n",
              "      <td>5.0</td>\n",
              "      <td>1147880044</td>\n",
              "    </tr>\n",
              "    <tr>\n",
              "      <th>1</th>\n",
              "      <td>1</td>\n",
              "      <td>306</td>\n",
              "      <td>3.5</td>\n",
              "      <td>1147868817</td>\n",
              "    </tr>\n",
              "    <tr>\n",
              "      <th>2</th>\n",
              "      <td>1</td>\n",
              "      <td>307</td>\n",
              "      <td>5.0</td>\n",
              "      <td>1147868828</td>\n",
              "    </tr>\n",
              "    <tr>\n",
              "      <th>3</th>\n",
              "      <td>1</td>\n",
              "      <td>665</td>\n",
              "      <td>5.0</td>\n",
              "      <td>1147878820</td>\n",
              "    </tr>\n",
              "    <tr>\n",
              "      <th>4</th>\n",
              "      <td>1</td>\n",
              "      <td>899</td>\n",
              "      <td>3.5</td>\n",
              "      <td>1147868510</td>\n",
              "    </tr>\n",
              "  </tbody>\n",
              "</table>\n",
              "</div>"
            ],
            "text/plain": [
              "   userId  movieId  rating   timestamp\n",
              "0       1      296     5.0  1147880044\n",
              "1       1      306     3.5  1147868817\n",
              "2       1      307     5.0  1147868828\n",
              "3       1      665     5.0  1147878820\n",
              "4       1      899     3.5  1147868510"
            ]
          },
          "metadata": {
            "tags": []
          },
          "execution_count": 8
        }
      ]
    },
    {
      "cell_type": "code",
      "metadata": {
        "id": "df0PdHOrjMfa",
        "colab_type": "code",
        "colab": {
          "base_uri": "https://localhost:8080/",
          "height": 204
        },
        "outputId": "b054a272-3d67-4431-9f24-23d1132dc30d"
      },
      "source": [
        "#userID not numbered\n",
        "df.userId = pd.Categorical(df.userId)\n",
        "df['new_user_id'] = df.userId.cat.codes\n",
        "df.head()"
      ],
      "execution_count": 11,
      "outputs": [
        {
          "output_type": "execute_result",
          "data": {
            "text/html": [
              "<div>\n",
              "<style scoped>\n",
              "    .dataframe tbody tr th:only-of-type {\n",
              "        vertical-align: middle;\n",
              "    }\n",
              "\n",
              "    .dataframe tbody tr th {\n",
              "        vertical-align: top;\n",
              "    }\n",
              "\n",
              "    .dataframe thead th {\n",
              "        text-align: right;\n",
              "    }\n",
              "</style>\n",
              "<table border=\"1\" class=\"dataframe\">\n",
              "  <thead>\n",
              "    <tr style=\"text-align: right;\">\n",
              "      <th></th>\n",
              "      <th>userId</th>\n",
              "      <th>movieId</th>\n",
              "      <th>rating</th>\n",
              "      <th>timestamp</th>\n",
              "      <th>new_user_id</th>\n",
              "    </tr>\n",
              "  </thead>\n",
              "  <tbody>\n",
              "    <tr>\n",
              "      <th>0</th>\n",
              "      <td>1</td>\n",
              "      <td>296</td>\n",
              "      <td>5.0</td>\n",
              "      <td>1147880044</td>\n",
              "      <td>0</td>\n",
              "    </tr>\n",
              "    <tr>\n",
              "      <th>1</th>\n",
              "      <td>1</td>\n",
              "      <td>306</td>\n",
              "      <td>3.5</td>\n",
              "      <td>1147868817</td>\n",
              "      <td>0</td>\n",
              "    </tr>\n",
              "    <tr>\n",
              "      <th>2</th>\n",
              "      <td>1</td>\n",
              "      <td>307</td>\n",
              "      <td>5.0</td>\n",
              "      <td>1147868828</td>\n",
              "      <td>0</td>\n",
              "    </tr>\n",
              "    <tr>\n",
              "      <th>3</th>\n",
              "      <td>1</td>\n",
              "      <td>665</td>\n",
              "      <td>5.0</td>\n",
              "      <td>1147878820</td>\n",
              "      <td>0</td>\n",
              "    </tr>\n",
              "    <tr>\n",
              "      <th>4</th>\n",
              "      <td>1</td>\n",
              "      <td>899</td>\n",
              "      <td>3.5</td>\n",
              "      <td>1147868510</td>\n",
              "      <td>0</td>\n",
              "    </tr>\n",
              "  </tbody>\n",
              "</table>\n",
              "</div>"
            ],
            "text/plain": [
              "  userId  movieId  rating   timestamp  new_user_id\n",
              "0      1      296     5.0  1147880044            0\n",
              "1      1      306     3.5  1147868817            0\n",
              "2      1      307     5.0  1147868828            0\n",
              "3      1      665     5.0  1147878820            0\n",
              "4      1      899     3.5  1147868510            0"
            ]
          },
          "metadata": {
            "tags": []
          },
          "execution_count": 11
        }
      ]
    },
    {
      "cell_type": "code",
      "metadata": {
        "id": "OdAG5ol4jtXr",
        "colab_type": "code",
        "colab": {
          "base_uri": "https://localhost:8080/",
          "height": 204
        },
        "outputId": "d9783129-259a-4020-a9c7-6fbfd86d1ec8"
      },
      "source": [
        "df.movieId = pd.Categorical(df.movieId)\n",
        "df['new_movie_id'] = df.movieId.cat.codes\n",
        "df.tail()"
      ],
      "execution_count": 15,
      "outputs": [
        {
          "output_type": "execute_result",
          "data": {
            "text/html": [
              "<div>\n",
              "<style scoped>\n",
              "    .dataframe tbody tr th:only-of-type {\n",
              "        vertical-align: middle;\n",
              "    }\n",
              "\n",
              "    .dataframe tbody tr th {\n",
              "        vertical-align: top;\n",
              "    }\n",
              "\n",
              "    .dataframe thead th {\n",
              "        text-align: right;\n",
              "    }\n",
              "</style>\n",
              "<table border=\"1\" class=\"dataframe\">\n",
              "  <thead>\n",
              "    <tr style=\"text-align: right;\">\n",
              "      <th></th>\n",
              "      <th>userId</th>\n",
              "      <th>movieId</th>\n",
              "      <th>rating</th>\n",
              "      <th>timestamp</th>\n",
              "      <th>new_user_id</th>\n",
              "      <th>new_movie_id</th>\n",
              "    </tr>\n",
              "  </thead>\n",
              "  <tbody>\n",
              "    <tr>\n",
              "      <th>25000090</th>\n",
              "      <td>162541</td>\n",
              "      <td>50872</td>\n",
              "      <td>4.5</td>\n",
              "      <td>1240953372</td>\n",
              "      <td>162540</td>\n",
              "      <td>11359</td>\n",
              "    </tr>\n",
              "    <tr>\n",
              "      <th>25000091</th>\n",
              "      <td>162541</td>\n",
              "      <td>55768</td>\n",
              "      <td>2.5</td>\n",
              "      <td>1240951998</td>\n",
              "      <td>162540</td>\n",
              "      <td>11925</td>\n",
              "    </tr>\n",
              "    <tr>\n",
              "      <th>25000092</th>\n",
              "      <td>162541</td>\n",
              "      <td>56176</td>\n",
              "      <td>2.0</td>\n",
              "      <td>1240950697</td>\n",
              "      <td>162540</td>\n",
              "      <td>11972</td>\n",
              "    </tr>\n",
              "    <tr>\n",
              "      <th>25000093</th>\n",
              "      <td>162541</td>\n",
              "      <td>58559</td>\n",
              "      <td>4.0</td>\n",
              "      <td>1240953434</td>\n",
              "      <td>162540</td>\n",
              "      <td>12216</td>\n",
              "    </tr>\n",
              "    <tr>\n",
              "      <th>25000094</th>\n",
              "      <td>162541</td>\n",
              "      <td>63876</td>\n",
              "      <td>5.0</td>\n",
              "      <td>1240952515</td>\n",
              "      <td>162540</td>\n",
              "      <td>12819</td>\n",
              "    </tr>\n",
              "  </tbody>\n",
              "</table>\n",
              "</div>"
            ],
            "text/plain": [
              "          userId movieId  rating   timestamp  new_user_id  new_movie_id\n",
              "25000090  162541   50872     4.5  1240953372       162540         11359\n",
              "25000091  162541   55768     2.5  1240951998       162540         11925\n",
              "25000092  162541   56176     2.0  1240950697       162540         11972\n",
              "25000093  162541   58559     4.0  1240953434       162540         12216\n",
              "25000094  162541   63876     5.0  1240952515       162540         12819"
            ]
          },
          "metadata": {
            "tags": []
          },
          "execution_count": 15
        }
      ]
    },
    {
      "cell_type": "code",
      "metadata": {
        "id": "Q_-gO2gIkBlL",
        "colab_type": "code",
        "colab": {
          "base_uri": "https://localhost:8080/",
          "height": 34
        },
        "outputId": "27e8fd77-9f3b-403b-fffa-d1e0b6e02240"
      },
      "source": [
        "user_ids = df['new_user_id'].values\n",
        "movie_ids = df['new_movie_id'].values\n",
        "ratings = df['rating'].values\n",
        "\n",
        "N = len(set(user_ids))\n",
        "M = len(set(movie_ids))\n",
        "\n",
        "#Embedding dim\n",
        "K = 10\n",
        "\n",
        "print(N, M, K)"
      ],
      "execution_count": 18,
      "outputs": [
        {
          "output_type": "stream",
          "text": [
            "162541 59047 10\n"
          ],
          "name": "stdout"
        }
      ]
    },
    {
      "cell_type": "code",
      "metadata": {
        "id": "g6UDlcvqknKU",
        "colab_type": "code",
        "colab": {}
      },
      "source": [
        "# Make the network\n",
        "\n",
        "# since we will concat user and movie ids, we need the functional, and not sequential API\n",
        "\n",
        "# user input\n",
        "u = Input(shape = (1,))\n",
        "# movie input\n",
        "m = Input(shape = (1,))\n",
        "# user embedding\n",
        "u_emb = Embedding(N, K)(u)\n",
        "# movie embedding\n",
        "m_emb = Embedding(M, K)(m)\n",
        "# Flatten embeddings\n",
        "u_emb = Flatten()(u_emb)\n",
        "m_emb = Flatten()(m_emb)\n",
        "# Concatenate user-movie embeddings into a feature vector\n",
        "x = Concatenate()([u_emb,m_emb])\n",
        "# from now on, it's just a regular ANN\n",
        "x = Dense(1024, activation = 'relu')(x)\n",
        "# output layer\n",
        "x = Dense(1)(x)"
      ],
      "execution_count": 0,
      "outputs": []
    },
    {
      "cell_type": "code",
      "metadata": {
        "id": "p3A2Jr5fmCnh",
        "colab_type": "code",
        "colab": {}
      },
      "source": [
        "# Compile\n",
        "\n",
        "model = Model(inputs = [u, m], outputs = x)\n",
        "model.compile(loss = 'mse', opimizer = SGD(lr = .08, momentum = .9))"
      ],
      "execution_count": 0,
      "outputs": []
    },
    {
      "cell_type": "code",
      "metadata": {
        "id": "e8ZhdIYhmkO5",
        "colab_type": "code",
        "colab": {}
      },
      "source": [
        "# split the data\n",
        "user_ids, movie_ids, ratings = shuffle(user_ids, movie_ids, ratings)\n",
        "Ntrain = int(.8*len(ratings))\n",
        "\n",
        "train_user = user_ids[:Ntrain]\n",
        "train_movie = movie_ids[:Ntrain]\n",
        "train_ratings = ratings[:Ntrain]\n",
        "\n",
        "test_user = user_ids[Ntrain:]\n",
        "test_movie = movie_ids[Ntrain:]\n",
        "test_ratings = ratings[Ntrain:]\n",
        "\n",
        "# center the ratings\n",
        "avg_rating = train_ratings.mean()\n",
        "# reduce by the mean\n",
        "train_ratings = train_ratings - avg_rating\n",
        "test_ratings = test_ratings - avg_rating"
      ],
      "execution_count": 0,
      "outputs": []
    },
    {
      "cell_type": "code",
      "metadata": {
        "id": "Nmmv41WnnK49",
        "colab_type": "code",
        "colab": {
          "base_uri": "https://localhost:8080/",
          "height": 51
        },
        "outputId": "2b127312-cc92-453f-96ab-ca40cc3104f0"
      },
      "source": [
        "#tf.keras.models.load_model('model.h5')\n",
        "\n",
        "history = model.fit([train_user, train_movie], train_ratings,\n",
        "                    epochs = 1,\n",
        "                    batch_size = 1024,\n",
        "                    validation_data = ([test_user, test_movie], test_ratings))"
      ],
      "execution_count": 36,
      "outputs": [
        {
          "output_type": "stream",
          "text": [
            "Train on 20000076 samples, validate on 5000019 samples\n",
            "20000076/20000076 [==============================] - 257s 13us/sample - loss: 0.6275 - val_loss: 0.6600\n"
          ],
          "name": "stdout"
        }
      ]
    },
    {
      "cell_type": "code",
      "metadata": {
        "id": "EbFLRmgkx5FQ",
        "colab_type": "code",
        "colab": {}
      },
      "source": [
        "tf.keras.models.save_model(model, 'model.h5')"
      ],
      "execution_count": 0,
      "outputs": []
    },
    {
      "cell_type": "code",
      "metadata": {
        "id": "G_W2RKDqqHcr",
        "colab_type": "code",
        "colab": {
          "base_uri": "https://localhost:8080/",
          "height": 34
        },
        "outputId": "93b9e14b-0c78-41cb-bc0c-b12ee3cdf443"
      },
      "source": [
        "RMSE = np.sqrt(.66)\n",
        "RMSE"
      ],
      "execution_count": 38,
      "outputs": [
        {
          "output_type": "execute_result",
          "data": {
            "text/plain": [
              "0.812403840463596"
            ]
          },
          "metadata": {
            "tags": []
          },
          "execution_count": 38
        }
      ]
    },
    {
      "cell_type": "markdown",
      "metadata": {
        "id": "G3Y6dk13qGwo",
        "colab_type": "text"
      },
      "source": [
        "Not bad according to \n",
        "https://datascience.stackexchange.com/questions/29740/benchmark-result-for-movielens-dataset :\n",
        "RMSE = .8 - .81"
      ]
    }
  ]
}