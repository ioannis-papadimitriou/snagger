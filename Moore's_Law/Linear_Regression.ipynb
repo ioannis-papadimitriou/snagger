{
  "nbformat": 4,
  "nbformat_minor": 0,
  "metadata": {
    "colab": {
      "name": "TF2.0 Linear Regression.ipynb",
      "provenance": [],
      "collapsed_sections": []
    },
    "kernelspec": {
      "name": "python3",
      "display_name": "Python 3"
    }
  },
  "cells": [
    {
      "cell_type": "code",
      "metadata": {
        "id": "0qJR2zUf9OI_",
        "colab_type": "code",
        "outputId": "0d9324c6-ce11-4b8c-c06e-57f7c38416db",
        "colab": {
          "base_uri": "https://localhost:8080/",
          "height": 34
        }
      },
      "source": [
        "# Install TensorFlow\n",
        "# !pip install -q tensorflow-gpu==2.0.0-beta1\n",
        "\n",
        "try:\n",
        "  %tensorflow_version 2.x  # Colab only.\n",
        "except Exception:\n",
        "  pass\n",
        "\n",
        "import tensorflow as tf\n",
        "print(tf.__version__)"
      ],
      "execution_count": 0,
      "outputs": [
        {
          "output_type": "stream",
          "text": [
            "2.0.0-beta1\n"
          ],
          "name": "stdout"
        }
      ]
    },
    {
      "cell_type": "code",
      "metadata": {
        "id": "4Xxa6cWIDsax",
        "colab_type": "code",
        "colab": {}
      },
      "source": [
        "# Other imports\n",
        "import pandas as pd\n",
        "import numpy as np\n",
        "import matplotlib.pyplot as plt"
      ],
      "execution_count": 0,
      "outputs": []
    },
    {
      "cell_type": "code",
      "metadata": {
        "id": "Mrrg06xiAhXN",
        "colab_type": "code",
        "outputId": "800d2330-4723-44ae-9ec7-18fa16a293bf",
        "colab": {
          "base_uri": "https://localhost:8080/",
          "height": 204
        }
      },
      "source": [
        "# Get the data\n",
        "!wget https://raw.githubusercontent.com/lazyprogrammer/machine_learning_examples/master/tf2.0/moore.csv"
      ],
      "execution_count": 0,
      "outputs": [
        {
          "output_type": "stream",
          "text": [
            "--2019-07-04 19:03:56--  https://raw.githubusercontent.com/lazyprogrammer/machine_learning_examples/master/tf2.0/moore.csv\n",
            "Resolving raw.githubusercontent.com (raw.githubusercontent.com)... 151.101.0.133, 151.101.64.133, 151.101.128.133, ...\n",
            "Connecting to raw.githubusercontent.com (raw.githubusercontent.com)|151.101.0.133|:443... connected.\n",
            "HTTP request sent, awaiting response... 200 OK\n",
            "Length: 2302 (2.2K) [text/plain]\n",
            "Saving to: ‘moore.csv.1’\n",
            "\n",
            "\rmoore.csv.1           0%[                    ]       0  --.-KB/s               \rmoore.csv.1         100%[===================>]   2.25K  --.-KB/s    in 0s      \n",
            "\n",
            "2019-07-04 19:03:56 (32.6 MB/s) - ‘moore.csv.1’ saved [2302/2302]\n",
            "\n"
          ],
          "name": "stdout"
        }
      ]
    },
    {
      "cell_type": "code",
      "metadata": {
        "id": "313wFjffDnZp",
        "colab_type": "code",
        "colab": {}
      },
      "source": [
        "# Load in the data\n",
        "data = pd.read_csv('moore.csv', header=None).values\n",
        "X = data[:,0].reshape(-1, 1) # make it a 2-D array of size N x D where D = 1\n",
        "Y = data[:,1]"
      ],
      "execution_count": 0,
      "outputs": []
    },
    {
      "cell_type": "code",
      "metadata": {
        "id": "Qea_ckSTEstM",
        "colab_type": "code",
        "outputId": "acc33723-4cc3-4281-82e4-bec06cd9be5b",
        "colab": {
          "base_uri": "https://localhost:8080/",
          "height": 293
        }
      },
      "source": [
        "# Plot the data - it is exponential!\n",
        "plt.scatter(X, Y)"
      ],
      "execution_count": 0,
      "outputs": [
        {
          "output_type": "execute_result",
          "data": {
            "text/plain": [
              "<matplotlib.collections.PathCollection at 0x7f3ddbbb35c0>"
            ]
          },
          "metadata": {
            "tags": []
          },
          "execution_count": 18
        },
        {
          "output_type": "display_data",
          "data": {
            "image/png": "[encoded data removed]",
            "text/plain": [
              "<Figure size 432x288 with 1 Axes>"
            ]
          },
          "metadata": {
            "tags": []
          }
        }
      ]
    },
    {
      "cell_type": "code",
      "metadata": {
        "id": "Mi_fFmqyE4Tx",
        "colab_type": "code",
        "outputId": "efb8e3d8-d77c-4646-a4c8-acd446ce62f7",
        "colab": {
          "base_uri": "https://localhost:8080/",
          "height": 286
        }
      },
      "source": [
        "# Since we want a linear model, let's take the log\n",
        "Y = np.log(Y)\n",
        "plt.scatter(X, Y)\n",
        "# that's better"
      ],
      "execution_count": 0,
      "outputs": [
        {
          "output_type": "execute_result",
          "data": {
            "text/plain": [
              "<matplotlib.collections.PathCollection at 0x7f3dd32ee3c8>"
            ]
          },
          "metadata": {
            "tags": []
          },
          "execution_count": 19
        },
        {
          "output_type": "display_data",
          "data": {
            "image/png": "[encoded data removed]",
            "text/plain": [
              "<Figure size 432x288 with 1 Axes>"
            ]
          },
          "metadata": {
            "tags": []
          }
        }
      ]
    },
    {
      "cell_type": "code",
      "metadata": {
        "id": "H7Dh7kAhFY9r",
        "colab_type": "code",
        "colab": {}
      },
      "source": [
        "# Let's also center the X data so the values are not too large\n",
        "# We could scale it too but then we'd have to reverse the transformation later\n",
        "X = X - X.mean()\n"
      ],
      "execution_count": 0,
      "outputs": []
    },
    {
      "cell_type": "code",
      "metadata": {
        "id": "DJgpK0wZD77X",
        "colab_type": "code",
        "outputId": "5dccc154-e273-4f41-849e-2f5294252823",
        "colab": {
          "base_uri": "https://localhost:8080/",
          "height": 1000
        }
      },
      "source": [
        "# Now create our Tensorflow model\n",
        "model = tf.keras.models.Sequential([\n",
        "  tf.keras.layers.Input(shape=(1,)),\n",
        "  tf.keras.layers.Dense(1)\n",
        "])\n",
        "\n",
        "model.compile(optimizer=tf.keras.optimizers.SGD(0.001, 0.9), loss='mse')\n",
        "# model.compile(optimizer='adam', loss='mse')\n",
        "\n",
        "\n",
        "# learning rate scheduler\n",
        "def schedule(epoch, lr):\n",
        "  if epoch >= 50:\n",
        "    return 0.0001\n",
        "  return 0.001\n",
        " \n",
        "\n",
        "scheduler = tf.keras.callbacks.LearningRateScheduler(schedule)\n",
        "\n",
        "\n",
        "# Train the model\n",
        "r = model.fit(X, Y, epochs=200, callbacks=[scheduler])"
      ],
      "execution_count": 0,
      "outputs": [
        {
          "output_type": "stream",
          "text": [
            "Train on 162 samples\n",
            "Epoch 1/200\n",
            "162/162 [==============================] - 0s 280us/sample - loss: 336.3322\n",
            "Epoch 2/200\n",
            "162/162 [==============================] - 0s 79us/sample - loss: 350.6791\n",
            "Epoch 3/200\n",
            "162/162 [==============================] - 0s 70us/sample - loss: 347.5378\n",
            "Epoch 4/200\n",
            "162/162 [==============================] - 0s 64us/sample - loss: 430.0697\n",
            "Epoch 5/200\n",
            "162/162 [==============================] - 0s 78us/sample - loss: 361.5304\n",
            "Epoch 6/200\n",
            "162/162 [==============================] - 0s 87us/sample - loss: 281.2462\n",
            "Epoch 7/200\n",
            "162/162 [==============================] - 0s 86us/sample - loss: 232.0352\n",
            "Epoch 8/200\n",
            "162/162 [==============================] - 0s 86us/sample - loss: 112.2649\n",
            "Epoch 9/200\n",
            "162/162 [==============================] - 0s 89us/sample - loss: 56.0596\n",
            "Epoch 10/200\n",
            "162/162 [==============================] - 0s 72us/sample - loss: 42.0156\n",
            "Epoch 11/200\n",
            "162/162 [==============================] - 0s 71us/sample - loss: 33.6686\n",
            "Epoch 12/200\n",
            "162/162 [==============================] - 0s 81us/sample - loss: 25.4876\n",
            "Epoch 13/200\n",
            "162/162 [==============================] - 0s 75us/sample - loss: 14.0424\n",
            "Epoch 14/200\n",
            "162/162 [==============================] - 0s 71us/sample - loss: 10.6371\n",
            "Epoch 15/200\n",
            "162/162 [==============================] - 0s 141us/sample - loss: 8.1138\n",
            "Epoch 16/200\n",
            "162/162 [==============================] - 0s 89us/sample - loss: 6.3258\n",
            "Epoch 17/200\n",
            "162/162 [==============================] - 0s 87us/sample - loss: 7.0546\n",
            "Epoch 18/200\n",
            "162/162 [==============================] - 0s 116us/sample - loss: 6.9945\n",
            "Epoch 19/200\n",
            "162/162 [==============================] - 0s 76us/sample - loss: 5.0077\n",
            "Epoch 20/200\n",
            "162/162 [==============================] - 0s 68us/sample - loss: 2.9826\n",
            "Epoch 21/200\n",
            "162/162 [==============================] - 0s 85us/sample - loss: 2.1135\n",
            "Epoch 22/200\n",
            "162/162 [==============================] - 0s 78us/sample - loss: 1.6566\n",
            "Epoch 23/200\n",
            "162/162 [==============================] - 0s 85us/sample - loss: 2.2409\n",
            "Epoch 24/200\n",
            "162/162 [==============================] - 0s 81us/sample - loss: 1.5952\n",
            "Epoch 25/200\n",
            "162/162 [==============================] - 0s 79us/sample - loss: 1.2282\n",
            "Epoch 26/200\n",
            "162/162 [==============================] - 0s 76us/sample - loss: 1.4041\n",
            "Epoch 27/200\n",
            "162/162 [==============================] - 0s 73us/sample - loss: 1.2718\n",
            "Epoch 28/200\n",
            "162/162 [==============================] - 0s 122us/sample - loss: 1.2706\n",
            "Epoch 29/200\n",
            "162/162 [==============================] - 0s 78us/sample - loss: 1.0365\n",
            "Epoch 30/200\n",
            "162/162 [==============================] - 0s 73us/sample - loss: 1.2544\n",
            "Epoch 31/200\n",
            "162/162 [==============================] - 0s 90us/sample - loss: 1.3065\n",
            "Epoch 32/200\n",
            "162/162 [==============================] - 0s 70us/sample - loss: 1.2109\n",
            "Epoch 33/200\n",
            "162/162 [==============================] - 0s 69us/sample - loss: 1.1171\n",
            "Epoch 34/200\n",
            "162/162 [==============================] - 0s 73us/sample - loss: 1.2247\n",
            "Epoch 35/200\n",
            "162/162 [==============================] - 0s 70us/sample - loss: 1.6501\n",
            "Epoch 36/200\n",
            "162/162 [==============================] - 0s 73us/sample - loss: 1.4374\n",
            "Epoch 37/200\n",
            "162/162 [==============================] - 0s 81us/sample - loss: 1.3660\n",
            "Epoch 38/200\n",
            "162/162 [==============================] - 0s 69us/sample - loss: 1.2150\n",
            "Epoch 39/200\n",
            "162/162 [==============================] - 0s 64us/sample - loss: 1.2707\n",
            "Epoch 40/200\n",
            "162/162 [==============================] - 0s 106us/sample - loss: 1.1103\n",
            "Epoch 41/200\n",
            "162/162 [==============================] - 0s 68us/sample - loss: 1.0131\n",
            "Epoch 42/200\n",
            "162/162 [==============================] - 0s 67us/sample - loss: 0.9172\n",
            "Epoch 43/200\n",
            "162/162 [==============================] - 0s 63us/sample - loss: 0.8968\n",
            "Epoch 44/200\n",
            "162/162 [==============================] - 0s 69us/sample - loss: 1.0680\n",
            "Epoch 45/200\n",
            "162/162 [==============================] - 0s 63us/sample - loss: 1.1620\n",
            "Epoch 46/200\n",
            "162/162 [==============================] - 0s 60us/sample - loss: 0.9146\n",
            "Epoch 47/200\n",
            "162/162 [==============================] - 0s 65us/sample - loss: 1.2011\n",
            "Epoch 48/200\n",
            "162/162 [==============================] - 0s 67us/sample - loss: 0.9922\n",
            "Epoch 49/200\n",
            "162/162 [==============================] - 0s 81us/sample - loss: 1.0305\n",
            "Epoch 50/200\n",
            "162/162 [==============================] - 0s 83us/sample - loss: 0.9327\n",
            "Epoch 51/200\n",
            "162/162 [==============================] - 0s 71us/sample - loss: 0.8951\n",
            "Epoch 52/200\n",
            "162/162 [==============================] - 0s 74us/sample - loss: 1.0159\n",
            "Epoch 53/200\n",
            "162/162 [==============================] - 0s 67us/sample - loss: 0.9206\n",
            "Epoch 54/200\n",
            "162/162 [==============================] - 0s 66us/sample - loss: 0.8821\n",
            "Epoch 55/200\n",
            "162/162 [==============================] - 0s 65us/sample - loss: 0.8829\n",
            "Epoch 56/200\n",
            "162/162 [==============================] - 0s 67us/sample - loss: 0.8717\n",
            "Epoch 57/200\n",
            "162/162 [==============================] - 0s 106us/sample - loss: 0.8711\n",
            "Epoch 58/200\n",
            "162/162 [==============================] - 0s 66us/sample - loss: 0.8821\n",
            "Epoch 59/200\n",
            "162/162 [==============================] - 0s 64us/sample - loss: 0.8845\n",
            "Epoch 60/200\n",
            "162/162 [==============================] - 0s 67us/sample - loss: 0.8713\n",
            "Epoch 61/200\n",
            "162/162 [==============================] - 0s 66us/sample - loss: 0.9098\n",
            "Epoch 62/200\n",
            "162/162 [==============================] - 0s 65us/sample - loss: 0.9218\n",
            "Epoch 63/200\n",
            "162/162 [==============================] - 0s 62us/sample - loss: 0.8821\n",
            "Epoch 64/200\n",
            "162/162 [==============================] - 0s 78us/sample - loss: 0.8938\n",
            "Epoch 65/200\n",
            "162/162 [==============================] - 0s 68us/sample - loss: 0.8847\n",
            "Epoch 66/200\n",
            "162/162 [==============================] - 0s 71us/sample - loss: 0.8793\n",
            "Epoch 67/200\n",
            "162/162 [==============================] - 0s 78us/sample - loss: 0.8966\n",
            "Epoch 68/200\n",
            "162/162 [==============================] - 0s 94us/sample - loss: 0.9117\n",
            "Epoch 69/200\n",
            "162/162 [==============================] - 0s 60us/sample - loss: 0.8807\n",
            "Epoch 70/200\n",
            "162/162 [==============================] - 0s 59us/sample - loss: 0.8934\n",
            "Epoch 71/200\n",
            "162/162 [==============================] - 0s 63us/sample - loss: 0.9180\n",
            "Epoch 72/200\n",
            "162/162 [==============================] - 0s 61us/sample - loss: 0.8786\n",
            "Epoch 73/200\n",
            "162/162 [==============================] - 0s 63us/sample - loss: 0.8722\n",
            "Epoch 74/200\n",
            "162/162 [==============================] - 0s 62us/sample - loss: 0.8763\n",
            "Epoch 75/200\n",
            "162/162 [==============================] - 0s 63us/sample - loss: 0.8714\n",
            "Epoch 76/200\n",
            "162/162 [==============================] - 0s 61us/sample - loss: 0.8713\n",
            "Epoch 77/200\n",
            "162/162 [==============================] - 0s 61us/sample - loss: 0.8715\n",
            "Epoch 78/200\n",
            "162/162 [==============================] - 0s 60us/sample - loss: 0.8712\n",
            "Epoch 79/200\n",
            "162/162 [==============================] - 0s 71us/sample - loss: 0.8707\n",
            "Epoch 80/200\n",
            "162/162 [==============================] - 0s 67us/sample - loss: 0.8774\n",
            "Epoch 81/200\n",
            "162/162 [==============================] - 0s 85us/sample - loss: 0.8893\n",
            "Epoch 82/200\n",
            "162/162 [==============================] - 0s 66us/sample - loss: 0.8748\n",
            "Epoch 83/200\n",
            "162/162 [==============================] - 0s 95us/sample - loss: 0.8714\n",
            "Epoch 84/200\n",
            "162/162 [==============================] - 0s 71us/sample - loss: 0.8781\n",
            "Epoch 85/200\n",
            "162/162 [==============================] - 0s 64us/sample - loss: 0.8736\n",
            "Epoch 86/200\n",
            "162/162 [==============================] - 0s 73us/sample - loss: 0.8734\n",
            "Epoch 87/200\n",
            "162/162 [==============================] - 0s 67us/sample - loss: 0.8711\n",
            "Epoch 88/200\n",
            "162/162 [==============================] - 0s 63us/sample - loss: 0.8725\n",
            "Epoch 89/200\n",
            "162/162 [==============================] - 0s 91us/sample - loss: 0.8725\n",
            "Epoch 90/200\n",
            "162/162 [==============================] - 0s 55us/sample - loss: 0.8855\n",
            "Epoch 91/200\n",
            "162/162 [==============================] - 0s 80us/sample - loss: 0.8822\n",
            "Epoch 92/200\n",
            "162/162 [==============================] - 0s 72us/sample - loss: 0.8720\n",
            "Epoch 93/200\n",
            "162/162 [==============================] - 0s 87us/sample - loss: 0.8725\n",
            "Epoch 94/200\n",
            "162/162 [==============================] - 0s 87us/sample - loss: 0.8728\n",
            "Epoch 95/200\n",
            "162/162 [==============================] - 0s 129us/sample - loss: 0.8716\n",
            "Epoch 96/200\n",
            "162/162 [==============================] - 0s 114us/sample - loss: 0.8717\n",
            "Epoch 97/200\n",
            "162/162 [==============================] - 0s 91us/sample - loss: 0.8724\n",
            "Epoch 98/200\n",
            "162/162 [==============================] - 0s 101us/sample - loss: 0.8718\n",
            "Epoch 99/200\n",
            "162/162 [==============================] - 0s 85us/sample - loss: 0.8788\n",
            "Epoch 100/200\n",
            "162/162 [==============================] - 0s 85us/sample - loss: 0.8692\n",
            "Epoch 101/200\n",
            "162/162 [==============================] - 0s 72us/sample - loss: 0.8766\n",
            "Epoch 102/200\n",
            "162/162 [==============================] - 0s 96us/sample - loss: 0.8833\n",
            "Epoch 103/200\n",
            "162/162 [==============================] - 0s 73us/sample - loss: 0.8834\n",
            "Epoch 104/200\n",
            "162/162 [==============================] - 0s 62us/sample - loss: 0.8734\n",
            "Epoch 105/200\n",
            "162/162 [==============================] - 0s 68us/sample - loss: 0.8682\n",
            "Epoch 106/200\n",
            "162/162 [==============================] - 0s 93us/sample - loss: 0.8770\n",
            "Epoch 107/200\n",
            "162/162 [==============================] - 0s 87us/sample - loss: 0.8735\n",
            "Epoch 108/200\n",
            "162/162 [==============================] - 0s 75us/sample - loss: 0.8708\n",
            "Epoch 109/200\n",
            "162/162 [==============================] - 0s 88us/sample - loss: 0.8720\n",
            "Epoch 110/200\n",
            "162/162 [==============================] - 0s 97us/sample - loss: 0.8768\n",
            "Epoch 111/200\n",
            "162/162 [==============================] - 0s 69us/sample - loss: 0.8738\n",
            "Epoch 112/200\n",
            "162/162 [==============================] - 0s 77us/sample - loss: 0.8740\n",
            "Epoch 113/200\n",
            "162/162 [==============================] - 0s 101us/sample - loss: 0.8909\n",
            "Epoch 114/200\n",
            "162/162 [==============================] - 0s 78us/sample - loss: 0.8834\n",
            "Epoch 115/200\n",
            "162/162 [==============================] - 0s 81us/sample - loss: 0.8731\n",
            "Epoch 116/200\n",
            "162/162 [==============================] - 0s 63us/sample - loss: 0.8848\n",
            "Epoch 117/200\n",
            "162/162 [==============================] - 0s 63us/sample - loss: 0.8857\n",
            "Epoch 118/200\n",
            "162/162 [==============================] - 0s 60us/sample - loss: 0.8706\n",
            "Epoch 119/200\n",
            "162/162 [==============================] - 0s 89us/sample - loss: 0.8742\n",
            "Epoch 120/200\n",
            "162/162 [==============================] - 0s 69us/sample - loss: 0.8709\n",
            "Epoch 121/200\n",
            "162/162 [==============================] - 0s 84us/sample - loss: 0.8705\n",
            "Epoch 122/200\n",
            "162/162 [==============================] - 0s 90us/sample - loss: 0.8760\n",
            "Epoch 123/200\n",
            "162/162 [==============================] - 0s 78us/sample - loss: 0.8907\n",
            "Epoch 124/200\n",
            "162/162 [==============================] - 0s 69us/sample - loss: 0.8791\n",
            "Epoch 125/200\n",
            "162/162 [==============================] - 0s 73us/sample - loss: 0.8733\n",
            "Epoch 126/200\n",
            "162/162 [==============================] - 0s 80us/sample - loss: 0.8775\n",
            "Epoch 127/200\n",
            "162/162 [==============================] - 0s 84us/sample - loss: 0.8692\n",
            "Epoch 128/200\n",
            "162/162 [==============================] - 0s 75us/sample - loss: 0.8716\n",
            "Epoch 129/200\n",
            "162/162 [==============================] - 0s 88us/sample - loss: 0.8853\n",
            "Epoch 130/200\n",
            "162/162 [==============================] - 0s 101us/sample - loss: 0.8698\n",
            "Epoch 131/200\n",
            "162/162 [==============================] - 0s 62us/sample - loss: 0.9122\n",
            "Epoch 132/200\n",
            "162/162 [==============================] - 0s 61us/sample - loss: 0.9688\n",
            "Epoch 133/200\n",
            "162/162 [==============================] - 0s 67us/sample - loss: 0.9641\n",
            "Epoch 134/200\n",
            "162/162 [==============================] - 0s 90us/sample - loss: 0.8962\n",
            "Epoch 135/200\n",
            "162/162 [==============================] - 0s 77us/sample - loss: 0.8837\n",
            "Epoch 136/200\n",
            "162/162 [==============================] - 0s 66us/sample - loss: 0.8756\n",
            "Epoch 137/200\n",
            "162/162 [==============================] - 0s 65us/sample - loss: 0.8722\n",
            "Epoch 138/200\n",
            "162/162 [==============================] - 0s 67us/sample - loss: 0.8792\n",
            "Epoch 139/200\n",
            "162/162 [==============================] - 0s 59us/sample - loss: 0.8803\n",
            "Epoch 140/200\n",
            "162/162 [==============================] - 0s 88us/sample - loss: 0.8715\n",
            "Epoch 141/200\n",
            "162/162 [==============================] - 0s 67us/sample - loss: 0.8706\n",
            "Epoch 142/200\n",
            "162/162 [==============================] - 0s 86us/sample - loss: 0.8712\n",
            "Epoch 143/200\n",
            "162/162 [==============================] - 0s 74us/sample - loss: 0.8707\n",
            "Epoch 144/200\n",
            "162/162 [==============================] - 0s 128us/sample - loss: 0.8903\n",
            "Epoch 145/200\n",
            "162/162 [==============================] - 0s 124us/sample - loss: 0.8858\n",
            "Epoch 146/200\n",
            "162/162 [==============================] - 0s 70us/sample - loss: 0.8763\n",
            "Epoch 147/200\n",
            "162/162 [==============================] - 0s 48us/sample - loss: 0.8944\n",
            "Epoch 148/200\n",
            "162/162 [==============================] - 0s 60us/sample - loss: 0.8795\n",
            "Epoch 149/200\n",
            "162/162 [==============================] - 0s 54us/sample - loss: 0.8687\n",
            "Epoch 150/200\n",
            "162/162 [==============================] - 0s 94us/sample - loss: 0.8753\n",
            "Epoch 151/200\n",
            "162/162 [==============================] - 0s 85us/sample - loss: 0.8791\n",
            "Epoch 152/200\n",
            "162/162 [==============================] - 0s 130us/sample - loss: 0.8731\n",
            "Epoch 153/200\n",
            "162/162 [==============================] - 0s 96us/sample - loss: 0.8700\n",
            "Epoch 154/200\n",
            "162/162 [==============================] - 0s 109us/sample - loss: 0.8783\n",
            "Epoch 155/200\n",
            "162/162 [==============================] - 0s 74us/sample - loss: 0.8769\n",
            "Epoch 156/200\n",
            "162/162 [==============================] - 0s 76us/sample - loss: 0.8711\n",
            "Epoch 157/200\n",
            "162/162 [==============================] - 0s 77us/sample - loss: 0.8707\n",
            "Epoch 158/200\n",
            "162/162 [==============================] - 0s 74us/sample - loss: 0.8715\n",
            "Epoch 159/200\n",
            "162/162 [==============================] - 0s 68us/sample - loss: 0.8779\n",
            "Epoch 160/200\n",
            "162/162 [==============================] - 0s 68us/sample - loss: 0.8808\n",
            "Epoch 161/200\n",
            "162/162 [==============================] - 0s 89us/sample - loss: 0.8754\n",
            "Epoch 162/200\n",
            "162/162 [==============================] - 0s 61us/sample - loss: 0.8771\n",
            "Epoch 163/200\n",
            "162/162 [==============================] - 0s 65us/sample - loss: 0.8706\n",
            "Epoch 164/200\n",
            "162/162 [==============================] - 0s 68us/sample - loss: 0.8704\n",
            "Epoch 165/200\n",
            "162/162 [==============================] - 0s 93us/sample - loss: 0.8708\n",
            "Epoch 166/200\n",
            "162/162 [==============================] - 0s 86us/sample - loss: 0.8800\n",
            "Epoch 167/200\n",
            "162/162 [==============================] - 0s 73us/sample - loss: 0.8901\n",
            "Epoch 168/200\n",
            "162/162 [==============================] - 0s 79us/sample - loss: 0.8957\n",
            "Epoch 169/200\n",
            "162/162 [==============================] - 0s 80us/sample - loss: 0.8812\n",
            "Epoch 170/200\n",
            "162/162 [==============================] - 0s 98us/sample - loss: 0.8793\n",
            "Epoch 171/200\n",
            "162/162 [==============================] - 0s 87us/sample - loss: 0.8765\n",
            "Epoch 172/200\n",
            "162/162 [==============================] - 0s 64us/sample - loss: 0.8696\n",
            "Epoch 173/200\n",
            "162/162 [==============================] - 0s 58us/sample - loss: 0.8981\n",
            "Epoch 174/200\n",
            "162/162 [==============================] - 0s 63us/sample - loss: 0.9002\n",
            "Epoch 175/200\n",
            "162/162 [==============================] - 0s 84us/sample - loss: 0.9668\n",
            "Epoch 176/200\n",
            "162/162 [==============================] - 0s 62us/sample - loss: 0.9110\n",
            "Epoch 177/200\n",
            "162/162 [==============================] - 0s 67us/sample - loss: 0.9066\n",
            "Epoch 178/200\n",
            "162/162 [==============================] - 0s 64us/sample - loss: 0.8856\n",
            "Epoch 179/200\n",
            "162/162 [==============================] - 0s 64us/sample - loss: 0.8719\n",
            "Epoch 180/200\n",
            "162/162 [==============================] - 0s 106us/sample - loss: 0.8847\n",
            "Epoch 181/200\n",
            "162/162 [==============================] - 0s 76us/sample - loss: 0.8737\n",
            "Epoch 182/200\n",
            "162/162 [==============================] - 0s 71us/sample - loss: 0.8717\n",
            "Epoch 183/200\n",
            "162/162 [==============================] - 0s 79us/sample - loss: 0.8749\n",
            "Epoch 184/200\n",
            "162/162 [==============================] - 0s 70us/sample - loss: 0.8712\n",
            "Epoch 185/200\n",
            "162/162 [==============================] - 0s 111us/sample - loss: 0.8711\n",
            "Epoch 186/200\n",
            "162/162 [==============================] - 0s 75us/sample - loss: 0.8734\n",
            "Epoch 187/200\n",
            "162/162 [==============================] - 0s 67us/sample - loss: 0.8866\n",
            "Epoch 188/200\n",
            "162/162 [==============================] - 0s 63us/sample - loss: 0.8916\n",
            "Epoch 189/200\n",
            "162/162 [==============================] - 0s 68us/sample - loss: 0.8660\n",
            "Epoch 190/200\n",
            "162/162 [==============================] - 0s 75us/sample - loss: 0.8744\n",
            "Epoch 191/200\n",
            "162/162 [==============================] - 0s 65us/sample - loss: 0.9342\n",
            "Epoch 192/200\n",
            "162/162 [==============================] - 0s 59us/sample - loss: 0.9366\n",
            "Epoch 193/200\n",
            "162/162 [==============================] - 0s 108us/sample - loss: 0.8762\n",
            "Epoch 194/200\n",
            "162/162 [==============================] - 0s 97us/sample - loss: 0.9173\n",
            "Epoch 195/200\n",
            "162/162 [==============================] - 0s 129us/sample - loss: 0.8791\n",
            "Epoch 196/200\n",
            "162/162 [==============================] - 0s 73us/sample - loss: 0.8738\n",
            "Epoch 197/200\n",
            "162/162 [==============================] - 0s 74us/sample - loss: 0.8894\n",
            "Epoch 198/200\n",
            "162/162 [==============================] - 0s 99us/sample - loss: 0.8813\n",
            "Epoch 199/200\n",
            "162/162 [==============================] - 0s 62us/sample - loss: 0.8719\n",
            "Epoch 200/200\n",
            "162/162 [==============================] - 0s 77us/sample - loss: 0.8720\n"
          ],
          "name": "stdout"
        }
      ]
    },
    {
      "cell_type": "code",
      "metadata": {
        "id": "uIgHp7lCEKcb",
        "colab_type": "code",
        "outputId": "21e391dd-258a-4a23-eb8c-d41d2774587b",
        "colab": {
          "base_uri": "https://localhost:8080/",
          "height": 286
        }
      },
      "source": [
        "# Plot the loss\n",
        "plt.plot(r.history['loss'], label='loss')"
      ],
      "execution_count": 0,
      "outputs": [
        {
          "output_type": "execute_result",
          "data": {
            "text/plain": [
              "[<matplotlib.lines.Line2D at 0x7f3dd30ac5f8>]"
            ]
          },
          "metadata": {
            "tags": []
          },
          "execution_count": 22
        },
        {
          "output_type": "display_data",
          "data": {
            "image/png": "[encoded data removed]",
            "text/plain": [
              "<Figure size 432x288 with 1 Axes>"
            ]
          },
          "metadata": {
            "tags": []
          }
        }
      ]
    },
    {
      "cell_type": "code",
      "metadata": {
        "id": "gsxUvJvAF7nV",
        "colab_type": "code",
        "outputId": "a17463de-e120-46c3-a34b-64dd115d513a",
        "colab": {
          "base_uri": "https://localhost:8080/",
          "height": 51
        }
      },
      "source": [
        "# Get the slope of the line\n",
        "# The slope of the line is related to the doubling rate of transistor count\n",
        "print(model.layers) # Note: there is only 1 layer, the \"Input\" layer doesn't count\n",
        "print(model.layers[0].get_weights())"
      ],
      "execution_count": 0,
      "outputs": [
        {
          "output_type": "stream",
          "text": [
            "[<tensorflow.python.keras.layers.core.Dense object at 0x7f3dd32fe9e8>]\n",
            "[array([[0.34312603]], dtype=float32), array([17.750872], dtype=float32)]\n"
          ],
          "name": "stdout"
        }
      ]
    },
    {
      "cell_type": "code",
      "metadata": {
        "id": "hEF-LTNhLCfu",
        "colab_type": "code",
        "colab": {}
      },
      "source": [
        "# The slope of the line is:\n",
        "a = model.layers[0].get_weights()[0][0,0]"
      ],
      "execution_count": 0,
      "outputs": []
    },
    {
      "cell_type": "markdown",
      "metadata": {
        "id": "5LptW8OvGT7q",
        "colab_type": "text"
      },
      "source": [
        "Our original model for exponential growth is:\n",
        "\n",
        "$$ C = A_0 r^t $$\n",
        "\n",
        "Where $ C $ is transistor the count and $ t $ is the year.\n",
        "\n",
        "$ r $ is the rate of growth. For example, when $ t $ goes from 1 to 2, $ C $ increases by a factor of $ r $. When $ t $ goes from 2 to 3, $ C $ increases by a factor of $ r $ again.\n",
        "\n",
        "When we take the log of both sides, we get:\n",
        "\n",
        "$$ \\log C = \\log r * t + \\log A_0 $$\n",
        "\n",
        "This is our linear equation:\n",
        "\n",
        "$$ \\hat{y} = ax + b $$\n",
        "\n",
        "Where:\n",
        "\n",
        "$$ \\hat{y} = \\log C $$\n",
        "$$ a = \\log r $$\n",
        "$$ x = t $$\n",
        "$$ b = \\log A_0 $$\n",
        "\n",
        "We are interested in $ r $, because that's the rate of growth. Given our regression weights, we know that:\n",
        "\n",
        "$$ a = 0.34188038 $$\n",
        "\n",
        "so that:\n",
        "\n",
        "$$ r = e^{0.34188038} = 1.4076 $$\n",
        "\n",
        "To find the time it takes for transistor count to double, we simply need to find the amount of time it takes for $ C $ to increase to $ 2C $.\n",
        "\n",
        "Let's call the original starting time $ t $, to correspond with the initial transistor count $ C $.\n",
        "\n",
        "Let's call the end time $ t' $, to correspond with the final transistor count $ 2C $.\n",
        "\n",
        "Then we also have:\n",
        "\n",
        "$$ 2C = A_0 r ^ {t'} $$\n",
        "\n",
        "Combine this with our original equation:\n",
        "\n",
        "$$ C = A_0 r^t $$\n",
        "\n",
        "We get (by dividing the 2 equations):\n",
        "\n",
        "$$ 2C/C = (A_0 r ^ {t'}) / A_0 r^t $$\n",
        "\n",
        "Which simplifies to:\n",
        "\n",
        "$$ 2 = r^{(t' - t)} $$\n",
        "\n",
        "Solve for $ t' - t $:\n",
        "\n",
        "$$ t' - t = \\frac{\\log 2}{\\log r} = \\frac{\\log2}{a}$$\n",
        "\n",
        "\n",
        "Important note! We haven't specified what the starting time $ t $ actually is, and we don't have to since we just proved that this holds for any $ t $."
      ]
    },
    {
      "cell_type": "code",
      "metadata": {
        "id": "9hmqGOfuK36y",
        "colab_type": "code",
        "outputId": "3e24e851-64b6-400d-d36b-99cbcca481cd",
        "colab": {
          "base_uri": "https://localhost:8080/",
          "height": 34
        }
      },
      "source": [
        "print(\"Time to double:\", np.log(2) / a)"
      ],
      "execution_count": 0,
      "outputs": [
        {
          "output_type": "stream",
          "text": [
            "Time to double: 2.020095015910628\n"
          ],
          "name": "stdout"
        }
      ]
    },
    {
      "cell_type": "code",
      "metadata": {
        "id": "_8j_jNQQLjzM",
        "colab_type": "code",
        "outputId": "c97db708-ca05-42fb-cd92-1456c6b89ead",
        "colab": {
          "base_uri": "https://localhost:8080/",
          "height": 51
        }
      },
      "source": [
        "# If you know the analytical solution\n",
        "X = np.array(X).flatten()\n",
        "Y = np.array(Y)\n",
        "denominator = X.dot(X) - X.mean() * X.sum()\n",
        "a = ( X.dot(Y) - Y.mean()*X.sum() ) / denominator\n",
        "b = ( Y.mean() * X.dot(X) - X.mean() * X.dot(Y) ) / denominator\n",
        "print(a, b)\n",
        "print(\"Time to double:\", np.log(2) / a)"
      ],
      "execution_count": 0,
      "outputs": [
        {
          "output_type": "stream",
          "text": [
            "0.341682487387313 17.764939393631764\n",
            "Time to double: 2.0286295205239204\n"
          ],
          "name": "stdout"
        }
      ]
    },
    {
      "cell_type": "markdown",
      "metadata": {
        "id": "KUl6gdjYUUOX",
        "colab_type": "text"
      },
      "source": [
        "# Part 2: Making Predictions\n",
        "\n",
        "This goes with the lecture \"Making Predictions\""
      ]
    },
    {
      "cell_type": "code",
      "metadata": {
        "id": "vgDaWaNsURIX",
        "colab_type": "code",
        "outputId": "a98b6144-1322-44c5-a31d-17f24ca4edb2",
        "colab": {
          "base_uri": "https://localhost:8080/",
          "height": 286
        }
      },
      "source": [
        "# Make sure the line fits our data\n",
        "Yhat = model.predict(X).flatten()\n",
        "plt.scatter(X, Y)\n",
        "plt.plot(X, Yhat)"
      ],
      "execution_count": 0,
      "outputs": [
        {
          "output_type": "execute_result",
          "data": {
            "text/plain": [
              "[<matplotlib.lines.Line2D at 0x7f3dcf819d68>]"
            ]
          },
          "metadata": {
            "tags": []
          },
          "execution_count": 29
        },
        {
          "output_type": "display_data",
          "data": {
            "image/png": "[encoded data removed]",
            "text/plain": [
              "<Figure size 432x288 with 1 Axes>"
            ]
          },
          "metadata": {
            "tags": []
          }
        }
      ]
    },
    {
      "cell_type": "code",
      "metadata": {
        "id": "PRdHtM6yaPo2",
        "colab_type": "code",
        "outputId": "e4e18618-8e44-44a9-af89-cfe1fd41410d",
        "colab": {
          "base_uri": "https://localhost:8080/",
          "height": 34
        }
      },
      "source": [
        "# Manual calculation\n",
        "\n",
        "# Get the weights\n",
        "w, b = model.layers[0].get_weights()\n",
        "\n",
        "# Reshape X because we flattened it again earlier\n",
        "X = X.reshape(-1, 1)\n",
        "\n",
        "# (N x 1) x (1 x 1) + (1) --> (N x 1)\n",
        "Yhat2 = (X.dot(w) + b).flatten()\n",
        "\n",
        "# Don't use == for floating points\n",
        "np.allclose(Yhat, Yhat2)"
      ],
      "execution_count": 0,
      "outputs": [
        {
          "output_type": "execute_result",
          "data": {
            "text/plain": [
              "True"
            ]
          },
          "metadata": {
            "tags": []
          },
          "execution_count": 30
        }
      ]
    }
  ]
}