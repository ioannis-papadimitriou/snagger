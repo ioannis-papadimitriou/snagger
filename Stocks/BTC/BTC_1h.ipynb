{
  "nbformat": 4,
  "nbformat_minor": 0,
  "metadata": {
    "kernelspec": {
      "name": "python3",
      "display_name": "Python 3"
    },
    "language_info": {
      "codemirror_mode": {
        "name": "ipython",
        "version": 3
      },
      "file_extension": ".py",
      "mimetype": "text/x-python",
      "name": "python",
      "nbconvert_exporter": "python",
      "pygments_lexer": "ipython3",
      "version": "3.7.3"
    },
    "colab": {
      "name": "BTC_1d.ipynb",
      "provenance": [],
      "collapsed_sections": [],
      "toc_visible": true
    },
    "accelerator": "GPU"
  },
  "cells": [
    {
      "cell_type": "code",
      "metadata": {
        "id": "t16EIeta_Csf",
        "colab_type": "code",
        "colab": {
          "base_uri": "https://localhost:8080/",
          "height": 63
        },
        "outputId": "7e65d9c9-0d9d-49ea-835a-02b29c598b0d"
      },
      "source": [
        "from __future__ import absolute_import, division, print_function, unicode_literals\n",
        "import tensorflow as tf\n",
        "tf.enable_eager_execution()\n",
        "tf.random.set_random_seed(13)"
      ],
      "execution_count": 1,
      "outputs": [
        {
          "output_type": "display_data",
          "data": {
            "text/html": [
              "<p style=\"color: red;\">\n",
              "The default version of TensorFlow in Colab will soon switch to TensorFlow 2.x.<br>\n",
              "We recommend you <a href=\"https://www.tensorflow.org/guide/migrate\" target=\"_blank\">upgrade</a> now \n",
              "or ensure your notebook will continue to use TensorFlow 1.x via the <code>%tensorflow_version 1.x</code> magic:\n",
              "<a href=\"https://colab.research.google.com/notebooks/tensorflow_version.ipynb\" target=\"_blank\">more info</a>.</p>\n"
            ],
            "text/plain": [
              "<IPython.core.display.HTML object>"
            ]
          },
          "metadata": {
            "tags": []
          }
        }
      ]
    },
    {
      "cell_type": "code",
      "metadata": {
        "id": "kwc6p3QF_Csk",
        "colab_type": "code",
        "colab": {
          "base_uri": "https://localhost:8080/",
          "height": 34
        },
        "outputId": "db8bc119-623a-458f-e560-769b5e7063b2"
      },
      "source": [
        "from google.colab import drive\n",
        "drive.mount('/content/drive')"
      ],
      "execution_count": 2,
      "outputs": [
        {
          "output_type": "stream",
          "text": [
            "Drive already mounted at /content/drive; to attempt to forcibly remount, call drive.mount(\"/content/drive\", force_remount=True).\n"
          ],
          "name": "stdout"
        }
      ]
    },
    {
      "cell_type": "code",
      "metadata": {
        "id": "9aQnbe5q_Cso",
        "colab_type": "code",
        "colab": {
          "base_uri": "https://localhost:8080/",
          "height": 34
        },
        "outputId": "ddef6222-8a94-4430-890f-b1c82acffb15"
      },
      "source": [
        "# Importing the libraries\n",
        "import numpy as np\n",
        "import matplotlib.pyplot as plt\n",
        "plt.style.use('fivethirtyeight')\n",
        "import pandas as pd\n",
        "from sklearn.preprocessing import MinMaxScaler\n",
        "\n",
        "from keras.models import Sequential\n",
        "from keras.layers import Dense, LSTM, Dropout, GRU\n",
        "from keras.optimizers import SGD\n",
        "from keras import regularizers\n",
        "import math\n",
        "from sklearn.metrics import mean_squared_error\n",
        "import os"
      ],
      "execution_count": 3,
      "outputs": [
        {
          "output_type": "stream",
          "text": [
            "Using TensorFlow backend.\n"
          ],
          "name": "stderr"
        }
      ]
    },
    {
      "cell_type": "code",
      "metadata": {
        "id": "5RLtMeJh_5YL",
        "colab_type": "code",
        "outputId": "280b0ab9-37cf-4973-ca2c-a5c7d1c06065",
        "colab": {
          "base_uri": "https://localhost:8080/",
          "height": 34
        }
      },
      "source": [
        "!pip install wget\n",
        "\n",
        "path = './drive/My Drive/Stock_price/data/btc_1d'\n",
        "\n",
        "import numpy as np\n",
        "import pandas as pd\n",
        "import wget\n",
        "\n",
        "# pull some data\n",
        "url = 'http://www.cryptodatadownload.com/cdd/Coinbase_BTCUSD_1h.csv'\n",
        "table = wget.download(url)"
      ],
      "execution_count": 4,
      "outputs": [
        {
          "output_type": "stream",
          "text": [
            "Requirement already satisfied: wget in /usr/local/lib/python3.6/dist-packages (3.2)\n"
          ],
          "name": "stdout"
        }
      ]
    },
    {
      "cell_type": "code",
      "metadata": {
        "id": "BZ5psjwo9esj",
        "colab_type": "code",
        "colab": {}
      },
      "source": [
        "data = pd.read_csv('Coinbase_BTCUSD_1h.csv', header = 1, index_col = 'Date')\n",
        "data = data.reindex(index = data.index[::-1])\n",
        "!rm Coinbase_BTCUSD_1h.csv"
      ],
      "execution_count": 0,
      "outputs": []
    },
    {
      "cell_type": "code",
      "metadata": {
        "id": "DPLfBMjM9jUM",
        "colab_type": "code",
        "outputId": "dc6d87f7-6612-487c-e385-cd0051bb3f5e",
        "colab": {
          "base_uri": "https://localhost:8080/",
          "height": 450
        }
      },
      "source": [
        "data"
      ],
      "execution_count": 6,
      "outputs": [
        {
          "output_type": "execute_result",
          "data": {
            "text/html": [
              "<div>\n",
              "<style scoped>\n",
              "    .dataframe tbody tr th:only-of-type {\n",
              "        vertical-align: middle;\n",
              "    }\n",
              "\n",
              "    .dataframe tbody tr th {\n",
              "        vertical-align: top;\n",
              "    }\n",
              "\n",
              "    .dataframe thead th {\n",
              "        text-align: right;\n",
              "    }\n",
              "</style>\n",
              "<table border=\"1\" class=\"dataframe\">\n",
              "  <thead>\n",
              "    <tr style=\"text-align: right;\">\n",
              "      <th></th>\n",
              "      <th>Symbol</th>\n",
              "      <th>Open</th>\n",
              "      <th>High</th>\n",
              "      <th>Low</th>\n",
              "      <th>Close</th>\n",
              "      <th>Volume BTC</th>\n",
              "      <th>Volume USD</th>\n",
              "    </tr>\n",
              "    <tr>\n",
              "      <th>Date</th>\n",
              "      <th></th>\n",
              "      <th></th>\n",
              "      <th></th>\n",
              "      <th></th>\n",
              "      <th></th>\n",
              "      <th></th>\n",
              "      <th></th>\n",
              "    </tr>\n",
              "  </thead>\n",
              "  <tbody>\n",
              "    <tr>\n",
              "      <th>2017-07-01 11-AM</th>\n",
              "      <td>BTCUSD</td>\n",
              "      <td>2505.56</td>\n",
              "      <td>2513.38</td>\n",
              "      <td>2495.12</td>\n",
              "      <td>2509.17</td>\n",
              "      <td>114.60</td>\n",
              "      <td>287000.32</td>\n",
              "    </tr>\n",
              "    <tr>\n",
              "      <th>2017-07-01 12-PM</th>\n",
              "      <td>BTCUSD</td>\n",
              "      <td>2509.17</td>\n",
              "      <td>2512.87</td>\n",
              "      <td>2484.99</td>\n",
              "      <td>2488.43</td>\n",
              "      <td>157.36</td>\n",
              "      <td>393142.50</td>\n",
              "    </tr>\n",
              "    <tr>\n",
              "      <th>2017-07-01 01-PM</th>\n",
              "      <td>BTCUSD</td>\n",
              "      <td>2488.43</td>\n",
              "      <td>2488.43</td>\n",
              "      <td>2454.40</td>\n",
              "      <td>2454.43</td>\n",
              "      <td>280.28</td>\n",
              "      <td>693254.01</td>\n",
              "    </tr>\n",
              "    <tr>\n",
              "      <th>2017-07-01 02-PM</th>\n",
              "      <td>BTCUSD</td>\n",
              "      <td>2454.43</td>\n",
              "      <td>2473.93</td>\n",
              "      <td>2450.83</td>\n",
              "      <td>2459.35</td>\n",
              "      <td>289.42</td>\n",
              "      <td>712864.80</td>\n",
              "    </tr>\n",
              "    <tr>\n",
              "      <th>2017-07-01 03-PM</th>\n",
              "      <td>BTCUSD</td>\n",
              "      <td>2459.35</td>\n",
              "      <td>2475.00</td>\n",
              "      <td>2450.00</td>\n",
              "      <td>2467.83</td>\n",
              "      <td>276.82</td>\n",
              "      <td>682105.41</td>\n",
              "    </tr>\n",
              "    <tr>\n",
              "      <th>...</th>\n",
              "      <td>...</td>\n",
              "      <td>...</td>\n",
              "      <td>...</td>\n",
              "      <td>...</td>\n",
              "      <td>...</td>\n",
              "      <td>...</td>\n",
              "      <td>...</td>\n",
              "    </tr>\n",
              "    <tr>\n",
              "      <th>2019-11-28 03-PM</th>\n",
              "      <td>BTCUSD</td>\n",
              "      <td>7464.11</td>\n",
              "      <td>7647.85</td>\n",
              "      <td>7460.70</td>\n",
              "      <td>7621.76</td>\n",
              "      <td>1252.14</td>\n",
              "      <td>9493665.21</td>\n",
              "    </tr>\n",
              "    <tr>\n",
              "      <th>2019-11-28 04-PM</th>\n",
              "      <td>BTCUSD</td>\n",
              "      <td>7621.76</td>\n",
              "      <td>7624.00</td>\n",
              "      <td>7545.81</td>\n",
              "      <td>7616.27</td>\n",
              "      <td>1046.33</td>\n",
              "      <td>7925769.91</td>\n",
              "    </tr>\n",
              "    <tr>\n",
              "      <th>2019-11-28 05-PM</th>\n",
              "      <td>BTCUSD</td>\n",
              "      <td>7616.27</td>\n",
              "      <td>7627.15</td>\n",
              "      <td>7580.41</td>\n",
              "      <td>7590.09</td>\n",
              "      <td>321.86</td>\n",
              "      <td>2445797.90</td>\n",
              "    </tr>\n",
              "    <tr>\n",
              "      <th>2019-11-28 06-PM</th>\n",
              "      <td>BTCUSD</td>\n",
              "      <td>7590.09</td>\n",
              "      <td>7643.15</td>\n",
              "      <td>7583.38</td>\n",
              "      <td>7598.79</td>\n",
              "      <td>342.03</td>\n",
              "      <td>2605679.96</td>\n",
              "    </tr>\n",
              "    <tr>\n",
              "      <th>2019-11-28 07-PM</th>\n",
              "      <td>BTCUSD</td>\n",
              "      <td>7598.79</td>\n",
              "      <td>7628.25</td>\n",
              "      <td>7592.79</td>\n",
              "      <td>7626.92</td>\n",
              "      <td>90.09</td>\n",
              "      <td>685900.76</td>\n",
              "    </tr>\n",
              "  </tbody>\n",
              "</table>\n",
              "<p>21129 rows × 7 columns</p>\n",
              "</div>"
            ],
            "text/plain": [
              "                  Symbol     Open     High  ...    Close  Volume BTC  Volume USD\n",
              "Date                                        ...                                 \n",
              "2017-07-01 11-AM  BTCUSD  2505.56  2513.38  ...  2509.17      114.60   287000.32\n",
              "2017-07-01 12-PM  BTCUSD  2509.17  2512.87  ...  2488.43      157.36   393142.50\n",
              "2017-07-01 01-PM  BTCUSD  2488.43  2488.43  ...  2454.43      280.28   693254.01\n",
              "2017-07-01 02-PM  BTCUSD  2454.43  2473.93  ...  2459.35      289.42   712864.80\n",
              "2017-07-01 03-PM  BTCUSD  2459.35  2475.00  ...  2467.83      276.82   682105.41\n",
              "...                  ...      ...      ...  ...      ...         ...         ...\n",
              "2019-11-28 03-PM  BTCUSD  7464.11  7647.85  ...  7621.76     1252.14  9493665.21\n",
              "2019-11-28 04-PM  BTCUSD  7621.76  7624.00  ...  7616.27     1046.33  7925769.91\n",
              "2019-11-28 05-PM  BTCUSD  7616.27  7627.15  ...  7590.09      321.86  2445797.90\n",
              "2019-11-28 06-PM  BTCUSD  7590.09  7643.15  ...  7598.79      342.03  2605679.96\n",
              "2019-11-28 07-PM  BTCUSD  7598.79  7628.25  ...  7626.92       90.09   685900.76\n",
              "\n",
              "[21129 rows x 7 columns]"
            ]
          },
          "metadata": {
            "tags": []
          },
          "execution_count": 6
        }
      ]
    },
    {
      "cell_type": "code",
      "metadata": {
        "id": "0eCDAaUc8svF",
        "colab_type": "code",
        "colab": {}
      },
      "source": [
        "def heikin_ashi(df):\n",
        "    heikin_ashi_df = pd.DataFrame(index=df.index.values, columns=['Open', 'High', 'Low', 'Close'])\n",
        "    \n",
        "    heikin_ashi_df['Close'] = (df['Open'] + df['High'] + df['Low'] + df['Close']) / 4\n",
        "    \n",
        "    for i in range(len(df)):\n",
        "        if i == 0:\n",
        "            heikin_ashi_df.iat[0, 0] = df['Open'].iloc[0]\n",
        "        else:\n",
        "            heikin_ashi_df.iat[i, 0] = (heikin_ashi_df.iat[i-1, 0] + heikin_ashi_df.iat[i-1, 3]) / 2\n",
        "        \n",
        "    heikin_ashi_df['High'] = heikin_ashi_df.loc[:, ['Open', 'Close']].join(df['High']).max(axis=1)\n",
        "    \n",
        "    heikin_ashi_df['Low'] = heikin_ashi_df.loc[:, ['Open', 'Close']].join(df['Low']).min(axis=1)\n",
        "    \n",
        "    return heikin_ashi_df"
      ],
      "execution_count": 0,
      "outputs": []
    },
    {
      "cell_type": "code",
      "metadata": {
        "id": "lpS-PQhv9MOt",
        "colab_type": "code",
        "colab": {}
      },
      "source": [
        "ha = heikin_ashi(data)"
      ],
      "execution_count": 0,
      "outputs": []
    },
    {
      "cell_type": "code",
      "metadata": {
        "id": "wCgF8bLz9Wn9",
        "colab_type": "code",
        "outputId": "56dbeaa3-79c9-4d30-ce15-b59077fe49f4",
        "colab": {
          "base_uri": "https://localhost:8080/",
          "height": 419
        }
      },
      "source": [
        "ha"
      ],
      "execution_count": 9,
      "outputs": [
        {
          "output_type": "execute_result",
          "data": {
            "text/html": [
              "<div>\n",
              "<style scoped>\n",
              "    .dataframe tbody tr th:only-of-type {\n",
              "        vertical-align: middle;\n",
              "    }\n",
              "\n",
              "    .dataframe tbody tr th {\n",
              "        vertical-align: top;\n",
              "    }\n",
              "\n",
              "    .dataframe thead th {\n",
              "        text-align: right;\n",
              "    }\n",
              "</style>\n",
              "<table border=\"1\" class=\"dataframe\">\n",
              "  <thead>\n",
              "    <tr style=\"text-align: right;\">\n",
              "      <th></th>\n",
              "      <th>Open</th>\n",
              "      <th>High</th>\n",
              "      <th>Low</th>\n",
              "      <th>Close</th>\n",
              "    </tr>\n",
              "  </thead>\n",
              "  <tbody>\n",
              "    <tr>\n",
              "      <th>2017-07-01 11-AM</th>\n",
              "      <td>2505.56</td>\n",
              "      <td>2513.380000</td>\n",
              "      <td>2495.120000</td>\n",
              "      <td>2505.8075</td>\n",
              "    </tr>\n",
              "    <tr>\n",
              "      <th>2017-07-01 12-PM</th>\n",
              "      <td>2505.68</td>\n",
              "      <td>2512.870000</td>\n",
              "      <td>2484.990000</td>\n",
              "      <td>2498.8650</td>\n",
              "    </tr>\n",
              "    <tr>\n",
              "      <th>2017-07-01 01-PM</th>\n",
              "      <td>2502.27</td>\n",
              "      <td>2502.274375</td>\n",
              "      <td>2454.400000</td>\n",
              "      <td>2471.4225</td>\n",
              "    </tr>\n",
              "    <tr>\n",
              "      <th>2017-07-01 02-PM</th>\n",
              "      <td>2486.85</td>\n",
              "      <td>2486.848437</td>\n",
              "      <td>2450.830000</td>\n",
              "      <td>2459.6350</td>\n",
              "    </tr>\n",
              "    <tr>\n",
              "      <th>2017-07-01 03-PM</th>\n",
              "      <td>2473.24</td>\n",
              "      <td>2475.000000</td>\n",
              "      <td>2450.000000</td>\n",
              "      <td>2463.0450</td>\n",
              "    </tr>\n",
              "    <tr>\n",
              "      <th>...</th>\n",
              "      <td>...</td>\n",
              "      <td>...</td>\n",
              "      <td>...</td>\n",
              "      <td>...</td>\n",
              "    </tr>\n",
              "    <tr>\n",
              "      <th>2019-11-28 03-PM</th>\n",
              "      <td>7470.5</td>\n",
              "      <td>7647.850000</td>\n",
              "      <td>7460.700000</td>\n",
              "      <td>7548.6050</td>\n",
              "    </tr>\n",
              "    <tr>\n",
              "      <th>2019-11-28 04-PM</th>\n",
              "      <td>7509.55</td>\n",
              "      <td>7624.000000</td>\n",
              "      <td>7509.553290</td>\n",
              "      <td>7601.9600</td>\n",
              "    </tr>\n",
              "    <tr>\n",
              "      <th>2019-11-28 05-PM</th>\n",
              "      <td>7555.76</td>\n",
              "      <td>7627.150000</td>\n",
              "      <td>7555.756645</td>\n",
              "      <td>7603.4800</td>\n",
              "    </tr>\n",
              "    <tr>\n",
              "      <th>2019-11-28 06-PM</th>\n",
              "      <td>7579.62</td>\n",
              "      <td>7643.150000</td>\n",
              "      <td>7579.618322</td>\n",
              "      <td>7603.8525</td>\n",
              "    </tr>\n",
              "    <tr>\n",
              "      <th>2019-11-28 07-PM</th>\n",
              "      <td>7591.74</td>\n",
              "      <td>7628.250000</td>\n",
              "      <td>7591.735411</td>\n",
              "      <td>7611.6875</td>\n",
              "    </tr>\n",
              "  </tbody>\n",
              "</table>\n",
              "<p>21129 rows × 4 columns</p>\n",
              "</div>"
            ],
            "text/plain": [
              "                     Open         High          Low      Close\n",
              "2017-07-01 11-AM  2505.56  2513.380000  2495.120000  2505.8075\n",
              "2017-07-01 12-PM  2505.68  2512.870000  2484.990000  2498.8650\n",
              "2017-07-01 01-PM  2502.27  2502.274375  2454.400000  2471.4225\n",
              "2017-07-01 02-PM  2486.85  2486.848437  2450.830000  2459.6350\n",
              "2017-07-01 03-PM  2473.24  2475.000000  2450.000000  2463.0450\n",
              "...                   ...          ...          ...        ...\n",
              "2019-11-28 03-PM   7470.5  7647.850000  7460.700000  7548.6050\n",
              "2019-11-28 04-PM  7509.55  7624.000000  7509.553290  7601.9600\n",
              "2019-11-28 05-PM  7555.76  7627.150000  7555.756645  7603.4800\n",
              "2019-11-28 06-PM  7579.62  7643.150000  7579.618322  7603.8525\n",
              "2019-11-28 07-PM  7591.74  7628.250000  7591.735411  7611.6875\n",
              "\n",
              "[21129 rows x 4 columns]"
            ]
          },
          "metadata": {
            "tags": []
          },
          "execution_count": 9
        }
      ]
    },
    {
      "cell_type": "code",
      "metadata": {
        "id": "XVh9Rkw49yVf",
        "colab_type": "code",
        "colab": {}
      },
      "source": [
        "def cumcnt_indices(v):\n",
        "    v[~v] = pd.np.nan\n",
        "    cumsum = v.cumsum().fillna(method='pad')\n",
        "    reset = -cumsum[v.isnull()].diff().fillna(cumsum)\n",
        "    r = v.where(v.notnull(), reset).cumsum().fillna(0.0)\n",
        "    return r.astype(int)\n",
        "\n",
        "def td_sequential(close):\n",
        "    close4 = close.shift(4)\n",
        "    td = cumcnt_indices(close > close4)\n",
        "    ts = cumcnt_indices(close < close4)\n",
        "    return td, ts\n",
        "\n",
        "def get_technical_indicators(dataset):\n",
        "    # Create 7 and 21 days Moving Average\n",
        "    #dataset['ma7'] = dataset['Close'].rolling(window=7).mean()\n",
        "    #dataset['ma21'] = dataset['Close'].rolling(window=21).mean()\n",
        "    \n",
        "    # Create MACD\n",
        "    dataset['26ema'] = dataset['Close'].ewm(span=26).mean()\n",
        "    dataset['12ema'] = dataset['Close'].ewm(span=12).mean()\n",
        "    dataset['MACD'] = (dataset['12ema']-dataset['26ema'])\n",
        "    \n",
        "    # Create Exponential moving average\n",
        "    #dataset['ema'] = dataset['Close'].ewm(com=0.5).mean()\n",
        "\n",
        "    return dataset\n",
        "\n",
        "tdup,tddn = td_sequential(ha['Close'])\n",
        "ha['tdup'] = [(i if 0<i<10 else 0) for i in tdup]\n",
        "ha['tddn'] = [(i if 0<i<10 else 0) for i in tddn]\n",
        "\n",
        "ha['td'] = ha['tdup'] - ha['tddn']\n",
        "ha = get_technical_indicators(ha)\n",
        "ha = ha.drop(columns = ['tdup', 'tddn'])"
      ],
      "execution_count": 0,
      "outputs": []
    },
    {
      "cell_type": "code",
      "metadata": {
        "id": "54xULgv7-ciu",
        "colab_type": "code",
        "outputId": "31395983-709f-47c2-f889-511f115ee136",
        "colab": {
          "base_uri": "https://localhost:8080/",
          "height": 204
        }
      },
      "source": [
        "ha.head()"
      ],
      "execution_count": 11,
      "outputs": [
        {
          "output_type": "execute_result",
          "data": {
            "text/html": [
              "<div>\n",
              "<style scoped>\n",
              "    .dataframe tbody tr th:only-of-type {\n",
              "        vertical-align: middle;\n",
              "    }\n",
              "\n",
              "    .dataframe tbody tr th {\n",
              "        vertical-align: top;\n",
              "    }\n",
              "\n",
              "    .dataframe thead th {\n",
              "        text-align: right;\n",
              "    }\n",
              "</style>\n",
              "<table border=\"1\" class=\"dataframe\">\n",
              "  <thead>\n",
              "    <tr style=\"text-align: right;\">\n",
              "      <th></th>\n",
              "      <th>Open</th>\n",
              "      <th>High</th>\n",
              "      <th>Low</th>\n",
              "      <th>Close</th>\n",
              "      <th>td</th>\n",
              "      <th>26ema</th>\n",
              "      <th>12ema</th>\n",
              "      <th>MACD</th>\n",
              "    </tr>\n",
              "  </thead>\n",
              "  <tbody>\n",
              "    <tr>\n",
              "      <th>2017-07-01 11-AM</th>\n",
              "      <td>2505.56</td>\n",
              "      <td>2513.380000</td>\n",
              "      <td>2495.12</td>\n",
              "      <td>2505.8075</td>\n",
              "      <td>0</td>\n",
              "      <td>2505.807500</td>\n",
              "      <td>2505.807500</td>\n",
              "      <td>0.000000</td>\n",
              "    </tr>\n",
              "    <tr>\n",
              "      <th>2017-07-01 12-PM</th>\n",
              "      <td>2505.68</td>\n",
              "      <td>2512.870000</td>\n",
              "      <td>2484.99</td>\n",
              "      <td>2498.8650</td>\n",
              "      <td>0</td>\n",
              "      <td>2502.202740</td>\n",
              "      <td>2502.046979</td>\n",
              "      <td>-0.155761</td>\n",
              "    </tr>\n",
              "    <tr>\n",
              "      <th>2017-07-01 01-PM</th>\n",
              "      <td>2502.27</td>\n",
              "      <td>2502.274375</td>\n",
              "      <td>2454.40</td>\n",
              "      <td>2471.4225</td>\n",
              "      <td>0</td>\n",
              "      <td>2491.143699</td>\n",
              "      <td>2490.094238</td>\n",
              "      <td>-1.049461</td>\n",
              "    </tr>\n",
              "    <tr>\n",
              "      <th>2017-07-01 02-PM</th>\n",
              "      <td>2486.85</td>\n",
              "      <td>2486.848437</td>\n",
              "      <td>2450.83</td>\n",
              "      <td>2459.6350</td>\n",
              "      <td>0</td>\n",
              "      <td>2482.335244</td>\n",
              "      <td>2480.479447</td>\n",
              "      <td>-1.855797</td>\n",
              "    </tr>\n",
              "    <tr>\n",
              "      <th>2017-07-01 03-PM</th>\n",
              "      <td>2473.24</td>\n",
              "      <td>2475.000000</td>\n",
              "      <td>2450.00</td>\n",
              "      <td>2463.0450</td>\n",
              "      <td>-1</td>\n",
              "      <td>2477.861757</td>\n",
              "      <td>2475.742570</td>\n",
              "      <td>-2.119187</td>\n",
              "    </tr>\n",
              "  </tbody>\n",
              "</table>\n",
              "</div>"
            ],
            "text/plain": [
              "                     Open         High  ...        12ema      MACD\n",
              "2017-07-01 11-AM  2505.56  2513.380000  ...  2505.807500  0.000000\n",
              "2017-07-01 12-PM  2505.68  2512.870000  ...  2502.046979 -0.155761\n",
              "2017-07-01 01-PM  2502.27  2502.274375  ...  2490.094238 -1.049461\n",
              "2017-07-01 02-PM  2486.85  2486.848437  ...  2480.479447 -1.855797\n",
              "2017-07-01 03-PM  2473.24  2475.000000  ...  2475.742570 -2.119187\n",
              "\n",
              "[5 rows x 8 columns]"
            ]
          },
          "metadata": {
            "tags": []
          },
          "execution_count": 11
        }
      ]
    },
    {
      "cell_type": "code",
      "metadata": {
        "id": "jRR6Z3p5-0H6",
        "colab_type": "code",
        "outputId": "5dee54c9-1185-45a9-f57d-9c03593ae362",
        "colab": {
          "base_uri": "https://localhost:8080/",
          "height": 170
        }
      },
      "source": [
        "ha.isna().any()"
      ],
      "execution_count": 12,
      "outputs": [
        {
          "output_type": "execute_result",
          "data": {
            "text/plain": [
              "Open     False\n",
              "High     False\n",
              "Low      False\n",
              "Close    False\n",
              "td       False\n",
              "26ema    False\n",
              "12ema    False\n",
              "MACD     False\n",
              "dtype: bool"
            ]
          },
          "metadata": {
            "tags": []
          },
          "execution_count": 12
        }
      ]
    },
    {
      "cell_type": "code",
      "metadata": {
        "id": "3z3h9hEWG-4I",
        "colab_type": "code",
        "colab": {}
      },
      "source": [
        "ha = ha.drop(columns=['Open', 'High', 'Low', 'Close', '26ema', '12ema'])"
      ],
      "execution_count": 0,
      "outputs": []
    },
    {
      "cell_type": "code",
      "metadata": {
        "id": "lmlUbAlqiCjD",
        "colab_type": "code",
        "colab": {}
      },
      "source": [
        "reg = pd.DataFrame(data['Close'])"
      ],
      "execution_count": 0,
      "outputs": []
    },
    {
      "cell_type": "code",
      "metadata": {
        "id": "Qt5ErLGYjUR0",
        "colab_type": "code",
        "colab": {}
      },
      "source": [
        "periods = 10\n",
        "thresh_long = .1\n",
        "thresh_short = -.1"
      ],
      "execution_count": 0,
      "outputs": []
    },
    {
      "cell_type": "code",
      "metadata": {
        "id": "a3ffltq7kSGq",
        "colab_type": "code",
        "colab": {}
      },
      "source": [
        "target = reg.pct_change(periods = periods)"
      ],
      "execution_count": 0,
      "outputs": []
    },
    {
      "cell_type": "code",
      "metadata": {
        "id": "6xG_BZVAm2uY",
        "colab_type": "code",
        "colab": {
          "base_uri": "https://localhost:8080/",
          "height": 450
        },
        "outputId": "6c334de8-67b3-4a41-fe72-377ca03f27c5"
      },
      "source": [
        "target"
      ],
      "execution_count": 17,
      "outputs": [
        {
          "output_type": "execute_result",
          "data": {
            "text/html": [
              "<div>\n",
              "<style scoped>\n",
              "    .dataframe tbody tr th:only-of-type {\n",
              "        vertical-align: middle;\n",
              "    }\n",
              "\n",
              "    .dataframe tbody tr th {\n",
              "        vertical-align: top;\n",
              "    }\n",
              "\n",
              "    .dataframe thead th {\n",
              "        text-align: right;\n",
              "    }\n",
              "</style>\n",
              "<table border=\"1\" class=\"dataframe\">\n",
              "  <thead>\n",
              "    <tr style=\"text-align: right;\">\n",
              "      <th></th>\n",
              "      <th>Close</th>\n",
              "    </tr>\n",
              "    <tr>\n",
              "      <th>Date</th>\n",
              "      <th></th>\n",
              "    </tr>\n",
              "  </thead>\n",
              "  <tbody>\n",
              "    <tr>\n",
              "      <th>2017-07-01 11-AM</th>\n",
              "      <td>NaN</td>\n",
              "    </tr>\n",
              "    <tr>\n",
              "      <th>2017-07-01 12-PM</th>\n",
              "      <td>NaN</td>\n",
              "    </tr>\n",
              "    <tr>\n",
              "      <th>2017-07-01 01-PM</th>\n",
              "      <td>NaN</td>\n",
              "    </tr>\n",
              "    <tr>\n",
              "      <th>2017-07-01 02-PM</th>\n",
              "      <td>NaN</td>\n",
              "    </tr>\n",
              "    <tr>\n",
              "      <th>2017-07-01 03-PM</th>\n",
              "      <td>NaN</td>\n",
              "    </tr>\n",
              "    <tr>\n",
              "      <th>...</th>\n",
              "      <td>...</td>\n",
              "    </tr>\n",
              "    <tr>\n",
              "      <th>2019-11-28 03-PM</th>\n",
              "      <td>0.021785</td>\n",
              "    </tr>\n",
              "    <tr>\n",
              "      <th>2019-11-28 04-PM</th>\n",
              "      <td>0.012985</td>\n",
              "    </tr>\n",
              "    <tr>\n",
              "      <th>2019-11-28 05-PM</th>\n",
              "      <td>0.011295</td>\n",
              "    </tr>\n",
              "    <tr>\n",
              "      <th>2019-11-28 06-PM</th>\n",
              "      <td>0.010936</td>\n",
              "    </tr>\n",
              "    <tr>\n",
              "      <th>2019-11-28 07-PM</th>\n",
              "      <td>0.014217</td>\n",
              "    </tr>\n",
              "  </tbody>\n",
              "</table>\n",
              "<p>21129 rows × 1 columns</p>\n",
              "</div>"
            ],
            "text/plain": [
              "                     Close\n",
              "Date                      \n",
              "2017-07-01 11-AM       NaN\n",
              "2017-07-01 12-PM       NaN\n",
              "2017-07-01 01-PM       NaN\n",
              "2017-07-01 02-PM       NaN\n",
              "2017-07-01 03-PM       NaN\n",
              "...                    ...\n",
              "2019-11-28 03-PM  0.021785\n",
              "2019-11-28 04-PM  0.012985\n",
              "2019-11-28 05-PM  0.011295\n",
              "2019-11-28 06-PM  0.010936\n",
              "2019-11-28 07-PM  0.014217\n",
              "\n",
              "[21129 rows x 1 columns]"
            ]
          },
          "metadata": {
            "tags": []
          },
          "execution_count": 17
        }
      ]
    },
    {
      "cell_type": "code",
      "metadata": {
        "id": "pNNRFRuBi579",
        "colab_type": "code",
        "colab": {}
      },
      "source": [
        "target = target[periods:]"
      ],
      "execution_count": 0,
      "outputs": []
    },
    {
      "cell_type": "code",
      "metadata": {
        "id": "ARKrOcZmkiBj",
        "colab_type": "code",
        "colab": {
          "base_uri": "https://localhost:8080/",
          "height": 408
        },
        "outputId": "59cb904d-1783-49ec-92b0-67aa1a8c6c01"
      },
      "source": [
        "target[np.logical_and(target < thresh_long, target > thresh_short)] = 0\n",
        "target[target >= thresh_long] = 1\n",
        "target[target <= thresh_short] = -1"
      ],
      "execution_count": 19,
      "outputs": [
        {
          "output_type": "stream",
          "text": [
            "/usr/local/lib/python3.6/dist-packages/ipykernel_launcher.py:1: SettingWithCopyWarning: \n",
            "A value is trying to be set on a copy of a slice from a DataFrame.\n",
            "Try using .loc[row_indexer,col_indexer] = value instead\n",
            "\n",
            "See the caveats in the documentation: http://pandas.pydata.org/pandas-docs/stable/user_guide/indexing.html#returning-a-view-versus-a-copy\n",
            "  \"\"\"Entry point for launching an IPython kernel.\n",
            "/usr/local/lib/python3.6/dist-packages/pandas/core/frame.py:3530: SettingWithCopyWarning: \n",
            "A value is trying to be set on a copy of a slice from a DataFrame\n",
            "\n",
            "See the caveats in the documentation: http://pandas.pydata.org/pandas-docs/stable/user_guide/indexing.html#returning-a-view-versus-a-copy\n",
            "  self._where(-key, value, inplace=True)\n",
            "/usr/local/lib/python3.6/dist-packages/ipykernel_launcher.py:2: SettingWithCopyWarning: \n",
            "A value is trying to be set on a copy of a slice from a DataFrame.\n",
            "Try using .loc[row_indexer,col_indexer] = value instead\n",
            "\n",
            "See the caveats in the documentation: http://pandas.pydata.org/pandas-docs/stable/user_guide/indexing.html#returning-a-view-versus-a-copy\n",
            "  \n",
            "/usr/local/lib/python3.6/dist-packages/ipykernel_launcher.py:3: SettingWithCopyWarning: \n",
            "A value is trying to be set on a copy of a slice from a DataFrame.\n",
            "Try using .loc[row_indexer,col_indexer] = value instead\n",
            "\n",
            "See the caveats in the documentation: http://pandas.pydata.org/pandas-docs/stable/user_guide/indexing.html#returning-a-view-versus-a-copy\n",
            "  This is separate from the ipykernel package so we can avoid doing imports until\n"
          ],
          "name": "stderr"
        }
      ]
    },
    {
      "cell_type": "code",
      "metadata": {
        "id": "Iab4UGBQhwYb",
        "colab_type": "code",
        "colab": {
          "base_uri": "https://localhost:8080/",
          "height": 235
        },
        "outputId": "3831aa4f-3cee-416e-b570-35322bad5346"
      },
      "source": [
        "target.tail()"
      ],
      "execution_count": 20,
      "outputs": [
        {
          "output_type": "execute_result",
          "data": {
            "text/html": [
              "<div>\n",
              "<style scoped>\n",
              "    .dataframe tbody tr th:only-of-type {\n",
              "        vertical-align: middle;\n",
              "    }\n",
              "\n",
              "    .dataframe tbody tr th {\n",
              "        vertical-align: top;\n",
              "    }\n",
              "\n",
              "    .dataframe thead th {\n",
              "        text-align: right;\n",
              "    }\n",
              "</style>\n",
              "<table border=\"1\" class=\"dataframe\">\n",
              "  <thead>\n",
              "    <tr style=\"text-align: right;\">\n",
              "      <th></th>\n",
              "      <th>Close</th>\n",
              "    </tr>\n",
              "    <tr>\n",
              "      <th>Date</th>\n",
              "      <th></th>\n",
              "    </tr>\n",
              "  </thead>\n",
              "  <tbody>\n",
              "    <tr>\n",
              "      <th>2019-11-28 03-PM</th>\n",
              "      <td>0.0</td>\n",
              "    </tr>\n",
              "    <tr>\n",
              "      <th>2019-11-28 04-PM</th>\n",
              "      <td>0.0</td>\n",
              "    </tr>\n",
              "    <tr>\n",
              "      <th>2019-11-28 05-PM</th>\n",
              "      <td>0.0</td>\n",
              "    </tr>\n",
              "    <tr>\n",
              "      <th>2019-11-28 06-PM</th>\n",
              "      <td>0.0</td>\n",
              "    </tr>\n",
              "    <tr>\n",
              "      <th>2019-11-28 07-PM</th>\n",
              "      <td>0.0</td>\n",
              "    </tr>\n",
              "  </tbody>\n",
              "</table>\n",
              "</div>"
            ],
            "text/plain": [
              "                  Close\n",
              "Date                   \n",
              "2019-11-28 03-PM    0.0\n",
              "2019-11-28 04-PM    0.0\n",
              "2019-11-28 05-PM    0.0\n",
              "2019-11-28 06-PM    0.0\n",
              "2019-11-28 07-PM    0.0"
            ]
          },
          "metadata": {
            "tags": []
          },
          "execution_count": 20
        }
      ]
    },
    {
      "cell_type": "code",
      "metadata": {
        "id": "blo8WvWwlO9F",
        "colab_type": "code",
        "colab": {}
      },
      "source": [
        "# ha -> features\n",
        "# reg -> price\n",
        "\n",
        "single = pd.concat([reg], axis=1)\n",
        "\n",
        "scm = MinMaxScaler(feature_range=(-1, 1))\n",
        "single = scm.fit_transform(single)"
      ],
      "execution_count": 0,
      "outputs": []
    },
    {
      "cell_type": "code",
      "metadata": {
        "id": "KDE5FQW3MsPk",
        "colab_type": "code",
        "colab": {}
      },
      "source": [
        "X = []\n",
        "y = []\n",
        "lookback = 20\n",
        "future = 1\n",
        "\n",
        "for i in range(single.shape[0]-lookback-future):\n",
        "    slice_x = np.array(single[i:lookback+i]) \n",
        "    slice_y = reg['Close'].values[lookback+i+future]\n",
        "    X.append(slice_x)\n",
        "    y.append(slice_y)\n",
        "\n",
        "X = np.array(X)\n",
        "y = np.array(y).reshape(-1,1)\n",
        "y = scm.fit_transform(y)"
      ],
      "execution_count": 0,
      "outputs": []
    },
    {
      "cell_type": "code",
      "metadata": {
        "id": "E9v_X_5noKjU",
        "colab_type": "code",
        "colab": {
          "base_uri": "https://localhost:8080/",
          "height": 34
        },
        "outputId": "b235b07d-88ee-46dd-dc19-27ab0f513551"
      },
      "source": [
        "from sklearn.model_selection import train_test_split\n",
        "\n",
        "X_train, X_test, y_train, y_test = train_test_split(X, y, test_size=0.25)\n",
        "X_train.shape, X_test.shape, reg.shape"
      ],
      "execution_count": 67,
      "outputs": [
        {
          "output_type": "execute_result",
          "data": {
            "text/plain": [
              "((15831, 20, 1), (15831, 1))"
            ]
          },
          "metadata": {
            "tags": []
          },
          "execution_count": 67
        }
      ]
    },
    {
      "cell_type": "code",
      "metadata": {
        "id": "QQs7TriCVQIv",
        "colab_type": "code",
        "colab": {
          "base_uri": "https://localhost:8080/",
          "height": 34
        },
        "outputId": "f23020da-3cd4-4250-d727-6a42acfbefae"
      },
      "source": [
        "y_train.shape, y_test.shape"
      ],
      "execution_count": 69,
      "outputs": [
        {
          "output_type": "execute_result",
          "data": {
            "text/plain": [
              "((15831, 1), (5277, 1))"
            ]
          },
          "metadata": {
            "tags": []
          },
          "execution_count": 69
        }
      ]
    },
    {
      "cell_type": "code",
      "metadata": {
        "id": "m76VtMZgivhc",
        "colab_type": "code",
        "colab": {}
      },
      "source": [
        "weight_decay = 0.00005\n",
        "batch_size = 256\n",
        "\n",
        "UV = tf.keras.models.Sequential([\n",
        "    tf.keras.layers.GRU(32,return_sequences = False, input_shape = X_train.shape[-2:]),\n",
        "    #tf.keras.layers.Dense(32, activation = 'relu'),\n",
        "    tf.keras.layers.Dense(1)\n",
        "])\n",
        "sgd = tf.keras.optimizers.SGD(lr=1e-2, momentum = .8, decay = 1e-6, nesterov = False)\n",
        "UV.compile(optimizer = 'adam',loss='mae')"
      ],
      "execution_count": 0,
      "outputs": []
    },
    {
      "cell_type": "code",
      "metadata": {
        "id": "rjCTB-hLjWNL",
        "colab_type": "code",
        "colab": {
          "base_uri": "https://localhost:8080/",
          "height": 221
        },
        "outputId": "c7ffcab0-1c59-491e-a783-b0f4c98744a4"
      },
      "source": [
        "UV.summary()"
      ],
      "execution_count": 71,
      "outputs": [
        {
          "output_type": "stream",
          "text": [
            "Model: \"sequential_5\"\n",
            "_________________________________________________________________\n",
            "Layer (type)                 Output Shape              Param #   \n",
            "=================================================================\n",
            "gru_5 (GRU)                  (None, 32)                3264      \n",
            "_________________________________________________________________\n",
            "dense_5 (Dense)              (None, 1)                 33        \n",
            "=================================================================\n",
            "Total params: 3,297\n",
            "Trainable params: 3,297\n",
            "Non-trainable params: 0\n",
            "_________________________________________________________________\n"
          ],
          "name": "stdout"
        }
      ]
    },
    {
      "cell_type": "code",
      "metadata": {
        "id": "Bx3FqXiP87WO",
        "colab_type": "code",
        "colab": {}
      },
      "source": [
        "UV.load_weights(os.path.join(path, 'UV.h5'))"
      ],
      "execution_count": 0,
      "outputs": []
    },
    {
      "cell_type": "code",
      "metadata": {
        "id": "I6oM1H4RjYFW",
        "colab_type": "code",
        "colab": {}
      },
      "source": [
        "UV.fit(X_train, y_train, epochs = 100, \n",
        "          validation_data = (X_test, y_test), batch_size = batch_size)"
      ],
      "execution_count": 0,
      "outputs": []
    },
    {
      "cell_type": "code",
      "metadata": {
        "id": "baNF_oeN8Loy",
        "colab_type": "code",
        "colab": {}
      },
      "source": [
        "UV.save_weights(os.path.join(path, 'UV.h5'))"
      ],
      "execution_count": 0,
      "outputs": []
    },
    {
      "cell_type": "code",
      "metadata": {
        "id": "4QTl9JRO37pq",
        "colab_type": "code",
        "colab": {}
      },
      "source": [
        "# Get last 20 entries\n",
        "val = pd.concat([reg], axis=1)\n",
        "val = val.iloc[-lookback:]\n",
        "val = scm.fit_transform(val)\n",
        "val = val.reshape(1,lookback,1)\n",
        "y_pred = scm.inverse_transform(UV.predict(val))"
      ],
      "execution_count": 0,
      "outputs": []
    },
    {
      "cell_type": "code",
      "metadata": {
        "id": "YF5AZQwW8wR-",
        "colab_type": "code",
        "colab": {
          "base_uri": "https://localhost:8080/",
          "height": 34
        },
        "outputId": "13edbf18-54ee-4806-a653-0445f3e9ff7d"
      },
      "source": [
        "y_pred"
      ],
      "execution_count": 78,
      "outputs": [
        {
          "output_type": "execute_result",
          "data": {
            "text/plain": [
              "array([[7617.974]], dtype=float32)"
            ]
          },
          "metadata": {
            "tags": []
          },
          "execution_count": 78
        }
      ]
    },
    {
      "cell_type": "markdown",
      "metadata": {
        "id": "nT85HWNCiBMn",
        "colab_type": "text"
      },
      "source": [
        "### Multivariate"
      ]
    },
    {
      "cell_type": "code",
      "metadata": {
        "id": "r7BNEUKQ_CvW",
        "colab_type": "code",
        "colab": {}
      },
      "source": [
        "multi = pd.concat([ha, reg], axis=1)\n",
        "\n",
        "scm = MinMaxScaler(feature_range=(-1, 1))\n",
        "multi = scm.fit_transform(multi)"
      ],
      "execution_count": 0,
      "outputs": []
    },
    {
      "cell_type": "code",
      "metadata": {
        "id": "Kr7-SioI9K1P",
        "colab_type": "code",
        "colab": {}
      },
      "source": [
        "X = []\n",
        "y = []\n",
        "lookback = 20\n",
        "future = 1\n",
        "\n",
        "for i in range(multi.shape[0]-lookback-future):\n",
        "    slice_x = np.array(multi[i:lookback+i]) \n",
        "    slice_y = reg['Close'].values[lookback+i+future]\n",
        "    X.append(slice_x)\n",
        "    y.append(slice_y)\n",
        "\n",
        "X = np.array(X)\n",
        "y = np.array(y).reshape(-1,1)\n",
        "y = scm.fit_transform(y)"
      ],
      "execution_count": 0,
      "outputs": []
    },
    {
      "cell_type": "code",
      "metadata": {
        "id": "wGjFn1xi9RXe",
        "colab_type": "code",
        "colab": {
          "base_uri": "https://localhost:8080/",
          "height": 34
        },
        "outputId": "5d65199a-76a1-4538-a06f-04a5c22e6194"
      },
      "source": [
        "from sklearn.model_selection import train_test_split\n",
        "\n",
        "X_train, X_test, y_train, y_test = train_test_split(X, y, test_size=0.25)\n",
        "X_train.shape, y_train.shape"
      ],
      "execution_count": 81,
      "outputs": [
        {
          "output_type": "execute_result",
          "data": {
            "text/plain": [
              "((15831, 20, 3), (15831, 1))"
            ]
          },
          "metadata": {
            "tags": []
          },
          "execution_count": 81
        }
      ]
    },
    {
      "cell_type": "code",
      "metadata": {
        "id": "gJDZTlXD9Xqv",
        "colab_type": "code",
        "colab": {}
      },
      "source": [
        "weight_decay = 0.00005\n",
        "batch_size = 256\n",
        "\n",
        "MV = tf.keras.models.Sequential([\n",
        "    tf.keras.layers.GRU(32,return_sequences = False, input_shape = X_train.shape[-2:]),\n",
        "    #tf.keras.layers.Dense(32, activation = 'relu'),\n",
        "    tf.keras.layers.Dense(1)\n",
        "])\n",
        "sgd = tf.keras.optimizers.SGD(lr=1e-2, momentum = .8, decay = 1e-6, nesterov = False)\n",
        "MV.compile(optimizer = 'adam',loss='mae')"
      ],
      "execution_count": 0,
      "outputs": []
    },
    {
      "cell_type": "code",
      "metadata": {
        "id": "GeczAdJ99hWH",
        "colab_type": "code",
        "colab": {
          "base_uri": "https://localhost:8080/",
          "height": 221
        },
        "outputId": "1cd8b698-5cde-44b3-d879-e92c7767ccd1"
      },
      "source": [
        "MV.summary()"
      ],
      "execution_count": 83,
      "outputs": [
        {
          "output_type": "stream",
          "text": [
            "Model: \"sequential_6\"\n",
            "_________________________________________________________________\n",
            "Layer (type)                 Output Shape              Param #   \n",
            "=================================================================\n",
            "gru_6 (GRU)                  (None, 32)                3456      \n",
            "_________________________________________________________________\n",
            "dense_6 (Dense)              (None, 1)                 33        \n",
            "=================================================================\n",
            "Total params: 3,489\n",
            "Trainable params: 3,489\n",
            "Non-trainable params: 0\n",
            "_________________________________________________________________\n"
          ],
          "name": "stdout"
        }
      ]
    },
    {
      "cell_type": "code",
      "metadata": {
        "id": "7D71kpew9uEW",
        "colab_type": "code",
        "colab": {}
      },
      "source": [
        "MV.load_weights(os.path.join(path, 'MV.h5'))"
      ],
      "execution_count": 0,
      "outputs": []
    },
    {
      "cell_type": "code",
      "metadata": {
        "id": "vabmUzZ39id9",
        "colab_type": "code",
        "colab": {}
      },
      "source": [
        "MV.fit(X_train, y_train, epochs = 100, \n",
        "          validation_data = (X_test, y_test), batch_size = batch_size)"
      ],
      "execution_count": 0,
      "outputs": []
    },
    {
      "cell_type": "code",
      "metadata": {
        "id": "SZ1c699P9maW",
        "colab_type": "code",
        "colab": {}
      },
      "source": [
        "MV.save_weights(os.path.join(path, 'MV.h5'))"
      ],
      "execution_count": 0,
      "outputs": []
    },
    {
      "cell_type": "code",
      "metadata": {
        "id": "MuVoxUdk98p6",
        "colab_type": "code",
        "colab": {}
      },
      "source": [
        "# Get last 20 entries\n",
        "val = pd.concat([ha, reg], axis=1)\n",
        "val = val.iloc[-lookback:]\n",
        "val = scm.fit_transform(val)\n",
        "val = val.reshape(1,lookback,3)\n",
        "print(val.shape)\n",
        "y_pred = scm.inverse_transform(MV.predict(val))"
      ],
      "execution_count": 0,
      "outputs": []
    },
    {
      "cell_type": "code",
      "metadata": {
        "id": "3zKsp7U--K-4",
        "colab_type": "code",
        "colab": {}
      },
      "source": [
        "y_pred"
      ],
      "execution_count": 0,
      "outputs": []
    }
  ]
}